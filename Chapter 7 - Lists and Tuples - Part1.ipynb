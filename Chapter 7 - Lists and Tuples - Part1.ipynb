{
 "cells": [
  {
   "cell_type": "markdown",
   "metadata": {},
   "source": [
    "## Sequences"
   ]
  },
  {
   "cell_type": "raw",
   "metadata": {},
   "source": [
    "Sequence = object , multiple items of data, one after another\n",
    "Python operations performed on sequence and can be manipulated.\n",
    "Fundamental sequences are:\n",
    "            1.Lists - mutable, dynamic (add/remove items),indexing,Slicing,Various Methods applied\n",
    "            2.Tuples"
   ]
  },
  {
   "cell_type": "raw",
   "metadata": {},
   "source": [
    "Difference between a list and tuple\n",
    "List = MUTABLE ie programs can change their contents\n",
    "Tuple = imMUTABLE - once created - cannot change its contents"
   ]
  },
  {
   "cell_type": "markdown",
   "metadata": {},
   "source": [
    "### Intro to LISTS"
   ]
  },
  {
   "cell_type": "raw",
   "metadata": {},
   "source": [
    "list made up of elements - SQUARE BRACKETS\n",
    "variable 'odd_numbers' references the LIST object and same for 'names'\n",
    "e.g. odd_numbers = [1,3 ,5 ,7 ,9 ,11 ]\n",
    "names = ['Molly', 'Steven', 'Will', 'Alicia', 'Adriana']\n",
    "info = ['Alicia', 27, 1550.87]"
   ]
  },
  {
   "cell_type": "code",
   "execution_count": null,
   "metadata": {},
   "outputs": [],
   "source": [
    "odd_numbers = [1, 3, 5, 7, 9, 11]\n",
    "names = ['Molly', 'Steven', 'Will', 'Alicia', 'Adriana']\n",
    "info = ['Alicia', 27, 1550.87]"
   ]
  },
  {
   "cell_type": "code",
   "execution_count": null,
   "metadata": {},
   "outputs": [],
   "source": [
    "print(names, odd_numbers, info)"
   ]
  },
  {
   "cell_type": "markdown",
   "metadata": {},
   "source": [
    "### Converting objects to Lists"
   ]
  },
  {
   "cell_type": "code",
   "execution_count": null,
   "metadata": {},
   "outputs": [],
   "source": [
    "# An example\n",
    "\n",
    "numbers = list(range(10))\n",
    "print(numbers)"
   ]
  },
  {
   "cell_type": "code",
   "execution_count": null,
   "metadata": {},
   "outputs": [],
   "source": [
    "# another example\n",
    "\n",
    "even_numbers = list(range( 1, 10, 2))\n",
    "print(even_numbers)"
   ]
  },
  {
   "cell_type": "markdown",
   "metadata": {},
   "source": [
    "#### The Repition Operator"
   ]
  },
  {
   "cell_type": "raw",
   "metadata": {},
   "source": [
    "list * integer => becomes repitition operator and\n",
    "makes multiple copies of a list and joins them together"
   ]
  },
  {
   "cell_type": "code",
   "execution_count": null,
   "metadata": {},
   "outputs": [],
   "source": [
    "# an example\n",
    "\n",
    "zero_list = [0] * 5\n",
    "print(zero_list)"
   ]
  },
  {
   "cell_type": "code",
   "execution_count": null,
   "metadata": {},
   "outputs": [],
   "source": [
    "# another example\n",
    "\n",
    "numbers_list = [1 ,2, 3] * 3\n",
    "print(numbers_list)"
   ]
  },
  {
   "cell_type": "markdown",
   "metadata": {},
   "source": [
    "#### Iterating over a List with for LOOP"
   ]
  },
  {
   "cell_type": "code",
   "execution_count": null,
   "metadata": {},
   "outputs": [],
   "source": [
    "numbers = list(range(99,103,1))\n",
    "print(numbers)"
   ]
  },
  {
   "cell_type": "code",
   "execution_count": null,
   "metadata": {},
   "outputs": [],
   "source": [
    "for num in numbers:\n",
    "    print(num)\n"
   ]
  },
  {
   "cell_type": "markdown",
   "metadata": {},
   "source": [
    "#### Indexing"
   ]
  },
  {
   "cell_type": "raw",
   "metadata": {},
   "source": [
    "Another way to access individual elements - use an INDEX\n",
    "Each element corresponds to index specifying its position\n",
    "Index starts from ZERO\n",
    "Last element is (n-1) where n is number of elements"
   ]
  },
  {
   "cell_type": "code",
   "execution_count": null,
   "metadata": {},
   "outputs": [],
   "source": [
    "my_list = list(range(10,50,10))"
   ]
  },
  {
   "cell_type": "code",
   "execution_count": null,
   "metadata": {},
   "outputs": [],
   "source": [
    "print(my_list)"
   ]
  },
  {
   "cell_type": "code",
   "execution_count": null,
   "metadata": {},
   "outputs": [],
   "source": [
    "print(my_list[0], my_list[1], my_list[2], my_list[3])"
   ]
  },
  {
   "cell_type": "code",
   "execution_count": null,
   "metadata": {},
   "outputs": [],
   "source": [
    "# using a loop to print the list elements\n",
    "\n",
    "i = 0\n",
    "while i < len(my_list):    ## use len(x) prevents IndexError occuring\n",
    "    print(my_list[i])\n",
    "    i += 1\n"
   ]
  },
  {
   "cell_type": "markdown",
   "metadata": {},
   "source": [
    "##### Using NEGATIVE indexing"
   ]
  },
  {
   "cell_type": "code",
   "execution_count": null,
   "metadata": {},
   "outputs": [],
   "source": [
    "my_list = [10, 20, 30, 40]"
   ]
  },
  {
   "cell_type": "code",
   "execution_count": null,
   "metadata": {},
   "outputs": [],
   "source": [
    "# Printing the list backwards using negative indexing\n",
    "\n",
    "print(my_list[-1], my_list[-2], my_list[-3], my_list[-4])"
   ]
  },
  {
   "cell_type": "code",
   "execution_count": null,
   "metadata": {},
   "outputs": [],
   "source": [
    "# IndexError exception raised when invalid index, see bleow example\n",
    "\n",
    "my_list[4]"
   ]
  },
  {
   "cell_type": "markdown",
   "metadata": {},
   "source": [
    "### Lists are MUTABLE - an example"
   ]
  },
  {
   "cell_type": "code",
   "execution_count": null,
   "metadata": {},
   "outputs": [],
   "source": [
    "numbers = list(range(1,6))\n",
    "print(numbers)"
   ]
  },
  {
   "cell_type": "code",
   "execution_count": null,
   "metadata": {},
   "outputs": [],
   "source": [
    "# assigning 99 to element 1\n",
    "numbers[0] = 99\n",
    "print(numbers)"
   ]
  },
  {
   "cell_type": "code",
   "execution_count": null,
   "metadata": {},
   "outputs": [],
   "source": [
    "# Example showing entire list changed to 99\n",
    "numbers = [1, 2, 3, 4, 5]\n",
    "print(numbers)\n",
    "\n",
    "i = 0\n",
    "while i < len(numbers):\n",
    "    numbers[i] = 99\n",
    "    i += 1\n",
    "    \n",
    "print(numbers)"
   ]
  },
  {
   "cell_type": "code",
   "execution_count": null,
   "metadata": {},
   "outputs": [],
   "source": [
    "# Example taking user input to fill a list\n",
    "NUMBER_DAYS = 7\n",
    "\n",
    "def main():\n",
    "    salesFigures = [0] * NUMBER_DAYS\n",
    "    \n",
    "    i=0\n",
    "    \n",
    "    print('Please enter the sales figures for each day')\n",
    "    \n",
    "    while i < NUMBER_DAYS:\n",
    "        print(f'Day #{i+1}'  )\n",
    "        salesFigures[i] = float(input())\n",
    "        i += 1\n",
    "    \n",
    "    print(f'You entered the following:{salesFigures}')\n",
    "    \n",
    "    #for num in salesFigures:\n",
    "        #print(num)\n",
    "main()"
   ]
  },
  {
   "cell_type": "markdown",
   "metadata": {},
   "source": [
    "#### Concatenating Lists"
   ]
  },
  {
   "cell_type": "raw",
   "metadata": {},
   "source": [
    "Use the + operator"
   ]
  },
  {
   "cell_type": "code",
   "execution_count": null,
   "metadata": {},
   "outputs": [],
   "source": [
    "list1 = [1, 2, 3, 4]\n",
    "list2 = [5, 6, 7, 8]\n",
    "list3 = list1 + list2\n",
    "list3"
   ]
  },
  {
   "cell_type": "code",
   "execution_count": null,
   "metadata": {},
   "outputs": [],
   "source": [
    "list1 = [1, 2, 3, 4]\n",
    "list2 = [5, 6, 7, 8]\n",
    "list2 += list1\n",
    "list2 ## list 2 changes but list1 remains the same"
   ]
  },
  {
   "cell_type": "code",
   "execution_count": null,
   "metadata": {},
   "outputs": [],
   "source": [
    "list2"
   ]
  },
  {
   "cell_type": "code",
   "execution_count": null,
   "metadata": {},
   "outputs": [],
   "source": [
    "list2 + 1 ## error if you try to concatenate a list with something NOT a list!!"
   ]
  },
  {
   "cell_type": "markdown",
   "metadata": {},
   "source": [
    "### List Slicing"
   ]
  },
  {
   "cell_type": "raw",
   "metadata": {},
   "source": [
    "list slicing is an expression that slects a range of elements from a sequence\n",
    "ie more than a single element\n",
    "\n",
    "general format:\n",
    "\n",
    "list_name[start: end, step] # start default is o, end default is END of list, default step is 1"
   ]
  },
  {
   "cell_type": "code",
   "execution_count": null,
   "metadata": {},
   "outputs": [],
   "source": [
    "# an example\n",
    "days_of_week = ['Sat', 'Sun', 'Mon', 'Tues', 'Wed', 'Thurs', 'Fri']"
   ]
  },
  {
   "cell_type": "code",
   "execution_count": null,
   "metadata": {},
   "outputs": [],
   "source": [
    "mid_week = days_of_week[4:6]\n",
    "mid_week"
   ]
  },
  {
   "cell_type": "code",
   "execution_count": null,
   "metadata": {},
   "outputs": [],
   "source": [
    "working_week = days_of_week[2: ]\n",
    "working_week"
   ]
  },
  {
   "cell_type": "code",
   "execution_count": null,
   "metadata": {},
   "outputs": [],
   "source": [
    "days_of_week[ : ]"
   ]
  },
  {
   "cell_type": "code",
   "execution_count": null,
   "metadata": {},
   "outputs": [],
   "source": [
    "consecutive_days = days_of_week[::2]\n",
    "consecutive_days"
   ]
  },
  {
   "cell_type": "code",
   "execution_count": null,
   "metadata": {},
   "outputs": [],
   "source": [
    "#### Negative slicing Example"
   ]
  },
  {
   "cell_type": "code",
   "execution_count": null,
   "metadata": {},
   "outputs": [],
   "source": [
    "days_of_week[-7:]"
   ]
  },
  {
   "cell_type": "raw",
   "metadata": {},
   "source": [
    "## Invalid indexes dont raise an IndexError\n",
    "    end index is > len(list) --- still uses end of list value\n",
    "    start index <0, still uses 0 instead\n",
    "    if start > end, returns an EMPTY list"
   ]
  },
  {
   "cell_type": "markdown",
   "metadata": {},
   "source": [
    "## Finding Items in LISTS with in Operator"
   ]
  },
  {
   "cell_type": "raw",
   "metadata": {},
   "source": [
    "Search for items in a list using the 'in' operator\n",
    "ie\n",
    "itemName in listName"
   ]
  },
  {
   "cell_type": "code",
   "execution_count": null,
   "metadata": {},
   "outputs": [],
   "source": [
    "# Example using in operator\n",
    "def main():\n",
    "    product_Numbers = ['V123', 'C234', 'F143', 'R688']\n",
    "    \n",
    "    itemSearched = input('Enter product number: ')\n",
    "    \n",
    "    if itemSearched in product_Numbers:\n",
    "        print(f'{itemSearched} was located')\n",
    "    else:\n",
    "        print(f'{itemSearched} was NOT located')\n",
    "    \n",
    "main()"
   ]
  },
  {
   "cell_type": "code",
   "execution_count": null,
   "metadata": {},
   "outputs": [],
   "source": [
    "# Example using NOT in operator\n",
    "def main():\n",
    "    product_Numbers = ['V123', 'C234', 'F143', 'R688']\n",
    "    \n",
    "    itemSearched = input('Enter product number: ')\n",
    "    \n",
    "    if itemSearched not in product_Numbers:\n",
    "        print(f'{itemSearched} was NOT located')\n",
    "    else:\n",
    "        print(f'{itemSearched} was located')\n",
    "    \n",
    "main()"
   ]
  },
  {
   "cell_type": "markdown",
   "metadata": {},
   "source": [
    "### List Methods and Useful Methods"
   ]
  },
  {
   "cell_type": "raw",
   "metadata": {},
   "source": [
    "Numerous methods to add, remove,change order etc of elements in lists\n",
    "Here are a few methods:"
   ]
  },
  {
   "cell_type": "markdown",
   "metadata": {},
   "source": [
    "    1. .append(item)  - Used for adding items to a list \n",
    "    2. .index(item)  - Returns index of first element whose value is equal to that item\n",
    "                       i.e. where it is located. (ValueError raised if item NOT found)\n",
    "    3. insert(index,item) - inserts item at specified index. List expands.Index positions shift forwards by 1\n",
    "                           incorrect end index = placed at end ( no error) \n",
    "                           incorrect negative index = placed at end of list\n",
    "    4. sort(list_name) - sorts ascending(ie low to High) NOTE; inplace Sort\n",
    "    5. remove(item) - removes first occurence  - ValueError raised if not found.\n",
    "                        Note: index shifted backwards towards beginning and\n",
    "                        ValueError exception raised if item not found in list\n",
    "    6. reverse(list_name) - reverses the order of the list - INPLACE!!\n",
    "    7. del list_name[index] - use remove item at specific index - NOT same as remove!\n",
    "    8. min(list_name) or max(list_name) -- min or max of the list"
   ]
  },
  {
   "cell_type": "code",
   "execution_count": null,
   "metadata": {},
   "outputs": [],
   "source": [
    "# Example using the append method\n",
    "def main():\n",
    "    names_list = []\n",
    "    addMore ='y'\n",
    "    \n",
    "    while addMore == 'y':\n",
    "        name = input('Please enter first name: ')\n",
    "        names_list.append(name)\n",
    "        \n",
    "        print('Type \"y\" to enter another or \"n\" for stop: ')\n",
    "        addMore = input('y or n: ')\n",
    "        print()\n",
    "    \n",
    "    print(f'This is the list you had entered: {names_list}')\n",
    "\n",
    "main()       "
   ]
  },
  {
   "cell_type": "code",
   "execution_count": null,
   "metadata": {},
   "outputs": [],
   "source": [
    "# Using index method to update to a new value\n",
    "\n",
    "def main():\n",
    "    food = ['Pizza' ,'Burgers', 'Chips' ]\n",
    "    print(f'This is the list of food items: {food}')\n",
    "    \n",
    "    item = input('Which item to change?:   ')\n",
    "\n",
    "    try:\n",
    "        items_Index = food.index(item)\n",
    "        new_Item = input('Please enter replacement item: ')\n",
    "        food[items_Index] = new_Item\n",
    "        print(f'This is the revised list: {food}')\n",
    "        \n",
    "    except ValueError:\n",
    "        print('Unable to locate that item')\n",
    "    \n",
    "main()"
   ]
  },
  {
   "cell_type": "code",
   "execution_count": null,
   "metadata": {},
   "outputs": [],
   "source": [
    "# example of using the insert method\n",
    "def main():\n",
    "    food_Menu = ['Pizza' ,'Burgers', 'Chips' ]\n",
    "    print(f'The available menu items are: {food_Menu}')\n",
    "    \n",
    "    inserted_item = input('which item do you wish to insert? ')\n",
    "    food_Menu.insert(0,inserted_item)\n",
    "    \n",
    "    print(f'The updated menu items are now: {food_Menu}')  \n",
    "       \n",
    "main()"
   ]
  },
  {
   "cell_type": "code",
   "execution_count": null,
   "metadata": {},
   "outputs": [],
   "source": [
    "# Example using the .sort() method\n",
    "my_list = [10, 9, -1, 30]\n",
    "print(my_list)"
   ]
  },
  {
   "cell_type": "code",
   "execution_count": null,
   "metadata": {},
   "outputs": [],
   "source": [
    "#my_list.sort(reverse=True)\n",
    "my_list.sort()\n",
    "print(my_list)"
   ]
  },
  {
   "cell_type": "code",
   "execution_count": null,
   "metadata": {},
   "outputs": [],
   "source": [
    "# Using remove method to remove item from list\n",
    "\n",
    "def main():\n",
    "    food = ['Pizza' ,'Burgers', 'Chips' ]\n",
    "    print(f'This is the list of food items: {food}')\n",
    "    \n",
    "    item = input('Which item to remove?:   ')\n",
    "\n",
    "    try:\n",
    "        food.remove(item)\n",
    "        print(f'This is the revised list: {food}')\n",
    "        \n",
    "    except ValueError:\n",
    "        print('Unable to locate that item')\n",
    "    \n",
    "main()"
   ]
  },
  {
   "cell_type": "code",
   "execution_count": null,
   "metadata": {},
   "outputs": [],
   "source": [
    "# Example of Reverse()\n",
    "my_list = [1, 2, 3, 4, 5]\n",
    "print(f'Before Reverse(): {my_list}')\n",
    "my_list.reverse()\n",
    "print(f'AFTER Reverse(): {my_list}') ## inplace reverses the list\n"
   ]
  },
  {
   "cell_type": "code",
   "execution_count": null,
   "metadata": {},
   "outputs": [],
   "source": [
    "#example of del remove list[index]\n",
    "my_list = [198, 20220, 223, 11234, 2982985]\n",
    "print(f'BEFORE removing index location 2 or item: 223: {my_list}')\n",
    "del my_list[2]\n",
    "print(f'AFTER removing index location 2: {my_list}')"
   ]
  },
  {
   "cell_type": "code",
   "execution_count": 1,
   "metadata": {},
   "outputs": [
    {
     "name": "stdout",
     "output_type": "stream",
     "text": [
      "31.5 µs ± 967 ns per loop (mean ± std. dev. of 7 runs, 10000 loops each)\n",
      "The min is 0\n",
      "The max is 100\n"
     ]
    }
   ],
   "source": [
    "#example of min and max\n",
    "%timeit sum(range(1_000))\n",
    "my_list = [98, 0, 23, 78, 100]\n",
    "print(f'The min is {min(my_list)}')\n",
    "print(f'The max is {max(my_list)}')"
   ]
  },
  {
   "cell_type": "markdown",
   "metadata": {},
   "source": [
    "### Copying Lists\n",
    "To copy list - copy lists elements"
   ]
  },
  {
   "cell_type": "code",
   "execution_count": null,
   "metadata": {},
   "outputs": [],
   "source": [
    "# Elegant method (otherwise have to copy ite, by item looped to an empty list)\n",
    "\n",
    "my_list = [98, 0, 23, 78, 100]\n",
    "\n",
    "my_new_copy_list = [] + my_list\n",
    "my_new_copy_list"
   ]
  },
  {
   "cell_type": "code",
   "execution_count": 11,
   "metadata": {},
   "outputs": [
    {
     "name": "stdout",
     "output_type": "stream",
     "text": [
      "Enter hours worked by employee #: 138\n",
      "Enter hours worked by employee #: 239\n",
      "Enter hours worked by employee #: 340\n",
      "Pay for Employee #1 is £484.50\n",
      "Pay for Employee #2 is £497.25\n",
      "Pay for Employee #3 is £510.00\n"
     ]
    }
   ],
   "source": [
    "# Using math expressions on a list\n",
    "\n",
    "NUMBER_EMPLOYEES = 3\n",
    "PAY_RATE = 12.75\n",
    "\n",
    "def main():\n",
    "    hours_worked_list = [] * NUMBER_EMPLOYEES\n",
    "    \n",
    "    \n",
    "    for i in range(NUMBER_EMPLOYEES):\n",
    "        print(f'Enter hours worked by employee #: {i+1}', sep='', end ='')\n",
    "        hours_worked = float(input())\n",
    "        hours_worked_list.append(hours_worked)\n",
    "    for i in range(NUMBER_EMPLOYEES):\n",
    "        pay = hours_worked_list[i] * PAY_RATE\n",
    "        print(f'Pay for Employee #{i+1} is £{pay:.2f}', sep='')\n",
    "main()"
   ]
  },
  {
   "cell_type": "code",
   "execution_count": 15,
   "metadata": {},
   "outputs": [
    {
     "name": "stdout",
     "output_type": "stream",
     "text": [
      "The total of the salaries is: £42001.87\n"
     ]
    }
   ],
   "source": [
    "# Totalling list Value\n",
    "\n",
    "def main():\n",
    "    Salaries = [13000.11, 14000.78, 15000.98]\n",
    "    \n",
    "    total = 0\n",
    "    for i in Salaries:\n",
    "        total += i\n",
    "    print(f'The total of the salaries is: £{total:.2f}')\n",
    "   \n",
    "main()"
   ]
  },
  {
   "cell_type": "code",
   "execution_count": 16,
   "metadata": {},
   "outputs": [
    {
     "name": "stdout",
     "output_type": "stream",
     "text": [
      "The total of the salaries is: £42001.87\n",
      "The Average of the salaries is: £14000.62\n"
     ]
    }
   ],
   "source": [
    "# Averaging Values in a list\n",
    "\n",
    "def main():\n",
    "    Salaries = [13000.11, 14000.78, 15000.98]\n",
    "    \n",
    "    total = 0\n",
    "    for i in Salaries:\n",
    "        total += i\n",
    "        \n",
    "    average = total / (len(Salaries))\n",
    "    print(f'The total of the salaries is: £{total:.2f}')\n",
    "    print(f'The Average of the salaries is: £{average:.2f}')\n",
    "   \n",
    "main()"
   ]
  },
  {
   "cell_type": "code",
   "execution_count": 19,
   "metadata": {},
   "outputs": [
    {
     "name": "stdout",
     "output_type": "stream",
     "text": [
      "The total of the salaries is: £42001.87\n"
     ]
    }
   ],
   "source": [
    "# Passing list as argument to a Function\n",
    "def main():\n",
    "    salaries = [13000.11, 14000.78, 15000.98]\n",
    "    print(f'The total of the salaries is: £{getSumofList(salaries):.2f}')\n",
    "\n",
    "\n",
    "def getSumofList(salaryList):\n",
    "    total = 0\n",
    "    for i in salaryList:\n",
    "        total += i\n",
    "    \n",
    "    return total\n",
    "    #average = total / (len(Salaries))\n",
    "    #print(f'The Average of the salaries is: £{average:.2f}')\n",
    "   \n",
    "main()\n"
   ]
  },
  {
   "cell_type": "code",
   "execution_count": 21,
   "metadata": {},
   "outputs": [
    {
     "name": "stdout",
     "output_type": "stream",
     "text": [
      "Enter a number: 1\n",
      "y for continue else n for stop: y\n",
      "Enter a number: 2\n",
      "y for continue else n for stop: y\n",
      "Enter a number: 3\n",
      "y for continue else n for stop: n\n",
      "The numbers are: [1.0, 2.0, 3.0]\n"
     ]
    }
   ],
   "source": [
    "# Returning a lIST from a FUNCTION\n",
    "def main():\n",
    "    numbers = get_values()\n",
    "    print(f'The numbers are: {numbers}')\n",
    "    \n",
    "def get_values():\n",
    "    values = []\n",
    "    \n",
    "    addMore = 'y'\n",
    "    \n",
    "    while addMore == 'y':\n",
    "        number = float(input('Enter a number: '))\n",
    "        values.append(number)\n",
    "        addMore = input(\"y for continue else n for stop: \")\n",
    "    return values\n",
    "\n",
    "main()\n"
   ]
  },
  {
   "cell_type": "code",
   "execution_count": 22,
   "metadata": {},
   "outputs": [
    {
     "data": {
      "text/plain": [
       "\"\\ndef main():\\n    studentScores = get_scores()\\n    \\n    total = get_total(studentScores)\\n    \\n    lowest_score = min(studentScores)\\n    \\n    new_average = (total -= lowest_score) / (len(studentScores) - 1) ## new total w/o Min and hence len - 1 as 1 less value\\n    \\n    print(f'The new average without lowest score is {new_average}')\\n       \\n    \\nmain()\\n\\n\""
      ]
     },
     "execution_count": 22,
     "metadata": {},
     "output_type": "execute_result"
    }
   ],
   "source": [
    "# Processing a List program\n",
    "'''\n",
    "def main():\n",
    "    studentScores = get_scores()\n",
    "    \n",
    "    total = get_total(studentScores)\n",
    "    \n",
    "    lowest_score = min(studentScores)\n",
    "    \n",
    "    new_average = (total -= lowest_score) / (len(studentScores) - 1) ## new total w/o Min and hence len - 1 as 1 less value\n",
    "    \n",
    "    print(f'The new average without lowest score is {new_average}')\n",
    "       \n",
    "    \n",
    "main()\n",
    "\n",
    "'''"
   ]
  },
  {
   "cell_type": "markdown",
   "metadata": {},
   "source": [
    "#### Reading data from file into a list, sort the list, write back to file the values\n",
    "\n",
    "writelines() -- writes entire file to disk BUT NO '\\n' after each item\n",
    "\n",
    "ALTERNATIVE:\n",
    "\n",
    "use file.write(item + '\\n') and use a FOR loop!!!\n"
   ]
  },
  {
   "cell_type": "markdown",
   "metadata": {},
   "source": [
    "### Reading data from file into a list, sort the list, write back to file the values\n",
    "\n",
    "readlines() -- reads entire file to disk BUT with terminating :'\\n' after each item\n",
    "So you will need to .rstrip('\\n')\n",
    "\n",
    "ALTERNATIVE:\n",
    "\n",
    "use list_name = file.readlines()\n",
    "then use while loop  to remove '\\n' over list[index] with .rstrip('\\n')\n",
    "\n",
    "OR if list of numbers:\n",
    "\n",
    "str(number) before writing\n",
    "or float(listname[index]) conversion before being able to use in a list\n",
    "\n"
   ]
  },
  {
   "cell_type": "raw",
   "metadata": {},
   "source": []
  },
  {
   "cell_type": "code",
   "execution_count": null,
   "metadata": {},
   "outputs": [],
   "source": []
  }
 ],
 "metadata": {
  "kernelspec": {
   "display_name": "Python 3",
   "language": "python",
   "name": "python3"
  },
  "language_info": {
   "codemirror_mode": {
    "name": "ipython",
    "version": 3
   },
   "file_extension": ".py",
   "mimetype": "text/x-python",
   "name": "python",
   "nbconvert_exporter": "python",
   "pygments_lexer": "ipython3",
   "version": "3.7.3"
  }
 },
 "nbformat": 4,
 "nbformat_minor": 2
}
