{
 "cells": [
  {
   "cell_type": "markdown",
   "metadata": {},
   "source": [
    "# Chapter 5"
   ]
  },
  {
   "cell_type": "markdown",
   "metadata": {},
   "source": [
    "# Functions"
   ]
  },
  {
   "cell_type": "code",
   "execution_count": 2,
   "metadata": {},
   "outputs": [],
   "source": [
    "# functions are names using same convention as variables eg. cannnot start with number etc\n",
    "# programmers tend to use verbs in the name of function eg calculate_gross_pay or calculateGrossPay\n",
    "# functions defined as below:-\n",
    "# def function_name():    <-- function header starts with keyword def then ftn name, parentheses, colon\n",
    "#     statement            <-- indented (a tab or 4 spaces) is the Block of code that executed everytime ftn is executed\n",
    "#     statement            <-- indented tells python start and end of code\n",
    "#     etc..."
   ]
  },
  {
   "cell_type": "code",
   "execution_count": 3,
   "metadata": {},
   "outputs": [],
   "source": [
    "# example of a function"
   ]
  },
  {
   "cell_type": "code",
   "execution_count": 2,
   "metadata": {},
   "outputs": [],
   "source": [
    "def message():\n",
    "    print(\"I am Arthur\")\n",
    "    print(\"King of the Britons\") ## The ftn 'returns' at the end of block"
   ]
  },
  {
   "cell_type": "code",
   "execution_count": 3,
   "metadata": {},
   "outputs": [
    {
     "name": "stdout",
     "output_type": "stream",
     "text": [
      "I am Arthur\n",
      "King of the Britons\n"
     ]
    }
   ],
   "source": [
    "message() ## a function is 'called' "
   ]
  },
  {
   "cell_type": "code",
   "execution_count": 4,
   "metadata": {},
   "outputs": [],
   "source": [
    "# a main ftn contains the program's mainline logic ie the overall logic of the program - see below"
   ]
  },
  {
   "cell_type": "code",
   "execution_count": 5,
   "metadata": {},
   "outputs": [
    {
     "name": "stdout",
     "output_type": "stream",
     "text": [
      "I have a message for you\n",
      "I am Arthur\n",
      "King of the Britons\n",
      "\n",
      "Goodbye!\n"
     ]
    }
   ],
   "source": [
    "def main():\n",
    "    print(\"I have a message for you\")\n",
    "    message() ## function within a function\n",
    "    print(\"Goodbye!\")\n",
    "    \n",
    "def message():\n",
    "    print(\"I am Arthur\")\n",
    "    print(\"King of the Britons\")\n",
    "    print()\n",
    "\n",
    "main() ## this calls the main function\n",
    "    "
   ]
  },
  {
   "cell_type": "code",
   "execution_count": 6,
   "metadata": {},
   "outputs": [],
   "source": [
    "# SCOPE and LOCAL VARIABLES\n",
    "# local variable created only WITHIN a ftn and cannot be accessed outside the function\n",
    "# different ftns can have the SAME variable name because only accessable within each ftn\n",
    "# SCOPE is the part of the program in which the variable may be accessed"
   ]
  },
  {
   "cell_type": "code",
   "execution_count": 10,
   "metadata": {},
   "outputs": [],
   "source": [
    "# Passing ARGUMENTS to function\n",
    "# arguments are data passed to a function when it is called to do calcs or other operations\n",
    "# PARAMETER variable or parameter is special variable that receives an argument that is passed to a function\n",
    "# an example"
   ]
  },
  {
   "cell_type": "code",
   "execution_count": 8,
   "metadata": {},
   "outputs": [
    {
     "name": "stdout",
     "output_type": "stream",
     "text": [
      "200\n"
     ]
    }
   ],
   "source": [
    "def double(number):\n",
    "    result = number * 2\n",
    "    print(result)\n",
    "double(number = 100)"
   ]
  },
  {
   "cell_type": "code",
   "execution_count": 14,
   "metadata": {},
   "outputs": [
    {
     "name": "stdout",
     "output_type": "stream",
     "text": [
      "20.0 1200.0\n",
      "3\n",
      "0.2\n"
     ]
    }
   ],
   "source": [
    "GLOBAL_CONSTANT_INTEREST_RATE = 0.20 ## make sure you capitalise GLOBAL Constants them so they are not changed\n",
    "\n",
    "def myFunction(a,b,c):\n",
    "    global variable\n",
    "    variable = 3\n",
    "    avg = (a + b + c)/variable\n",
    "    interest = a * b * c * GLOBAL_CONSTANT_INTEREST_RATE\n",
    "    print(avg, interest)\n",
    "\n",
    "myFunction(10,20,30)\n",
    "print(variable) ## try not to use global variable\n",
    "print(GLOBAL_CONSTANT_INTEREST_RATE)\n"
   ]
  },
  {
   "cell_type": "code",
   "execution_count": 40,
   "metadata": {},
   "outputs": [
    {
     "name": "stdout",
     "output_type": "stream",
     "text": [
      "Please enter fat in grammes: 1\n",
      "Please enter carbs in grammes: 1\n",
      "The total calories from fat was: 9.00\n",
      "The total calories from carbs was: 4.00\n"
     ]
    }
   ],
   "source": [
    "def main():                                                  ## main ftn runs and calls the other two ftns\n",
    "    fat_grammes = input(\"Please enter fat in grammes: \")\n",
    "    carbs_grammes = input(\"Please enter carbs in grammes: \")\n",
    "    a = fat_cals(fat_grammes)\n",
    "    b = carbs_cals(carbs_grammes)\n",
    "\n",
    "def fat_cals(fat_grammes):\n",
    "    fat_calories = float(fat_grammes) * 9\n",
    "    print(f\"The total calories from fat was: {fat_calories:.2f}\")\n",
    "    \n",
    "def carbs_cals(carbs_grammes):\n",
    "    carbs_calories = float(carbs_grammes) * 4\n",
    "    print(f\"The total calories from carbs was: {carbs_calories:.2f}\")\n",
    "    \n",
    "main()"
   ]
  },
  {
   "cell_type": "code",
   "execution_count": 2,
   "metadata": {},
   "outputs": [
    {
     "name": "stdout",
     "output_type": "stream",
     "text": [
      "Please enter number of Class A Tickets Required:10\n",
      "Please enter number of Class B Tickets Required:20\n",
      "Please enter number of Class C Tickets Required:30\n",
      "That will be a total income of £ 660.00\n"
     ]
    }
   ],
   "source": [
    "def ticketTotaller():\n",
    "    class_A_Tickets = input(\"Please enter number of Class A Tickets Required:\")\n",
    "    cost_Class_A_Tickets = int(class_A_Tickets) * 15\n",
    "    class_B_Tickets = input(\"Please enter number of Class B Tickets Required:\")\n",
    "    cost_Class_B_Tickets = int(class_B_Tickets) * 12\n",
    "    class_C_Tickets = input(\"Please enter number of Class C Tickets Required:\")\n",
    "    cost_Class_C_Tickets = int(class_C_Tickets) * 9\n",
    "    total_All_Tickets = cost_Class_A_Tickets + cost_Class_B_Tickets + cost_Class_C_Tickets\n",
    "    print(f\"That will be a total income of £{total_All_Tickets: .2f}\")\n",
    "\n",
    "ticketTotaller()"
   ]
  },
  {
   "cell_type": "code",
   "execution_count": 18,
   "metadata": {},
   "outputs": [
    {
     "name": "stdout",
     "output_type": "stream",
     "text": [
      "Please enter your weight in lbs: 194\n",
      "Please enter your height in in: 71\n",
      "Your BMI is 27.05\n"
     ]
    }
   ],
   "source": [
    "# BMI Calculator\n",
    "def main():\n",
    "    weight = float(input(\"Please enter your weight in lbs: \"))\n",
    "    height = float(input(\"Please enter your height in in: \"))\n",
    "    bodyMassIndex(weight,height)\n",
    "\n",
    "def bodyMassIndex(weight,height):\n",
    "    bmi = (weight * 703) / (height**2)\n",
    "    print(f\"Your BMI is {bmi:.2f}\")\n",
    "main()"
   ]
  },
  {
   "cell_type": "code",
   "execution_count": 1,
   "metadata": {},
   "outputs": [
    {
     "name": "stdout",
     "output_type": "stream",
     "text": [
      "Please enter wall to be painted in sq ft: 1000\n",
      "Please paint cost per gallon: 20\n",
      "You will need 8.70 gallons of paint.\n",
      "You will needed 69.57 hours of labour\n",
      "The paint will cost £ 173.91\n",
      "The labour will cost £1391.30\n",
      "The total project will cost £ 1565.22\n"
     ]
    }
   ],
   "source": [
    "def main():\n",
    "    sqftWall = input(\"Please enter wall to be painted in sq ft: \")\n",
    "    paintCost = input(\"Please paint cost per gallon: \")\n",
    "    \n",
    "    numberGallonsPaintRequired(sqftWall)\n",
    "    hoursLabourRequired(sqftWall)\n",
    "    paintCostTotal(sqftWall,paintCost)\n",
    "    labourCost(sqftWall,20.00)\n",
    "    totalProjectCost = paintCostTotal + labourCost\n",
    "    \n",
    "    print(f\"The total project will cost £{totalProjectCost: .2f}\")\n",
    "    \n",
    "def numberGallonsPaintRequired(sqftWall):\n",
    "    gallonsPaintRequired = (float(sqftWall)/115.00)\n",
    "    print(f\"You will need {gallonsPaintRequired:.2f} gallons of paint.\")\n",
    "\n",
    "def hoursLabourRequired(sqftWall):\n",
    "    hoursLabour = (float(sqftWall)/115.00)*8\n",
    "    print(f\"You will needed {hoursLabour:.2f} hours of labour\")\n",
    "    \n",
    "def paintCostTotal(sqftWall,paintCost):\n",
    "    global paintCostTotal\n",
    "    paintCostTotal = (float(sqftWall)/115.00) * 1 * float(paintCost)\n",
    "    print(f\"The paint will cost £{paintCostTotal: .2f}\")\n",
    "\n",
    "def labourCost(sqftWall,labourHourlyRate):\n",
    "    global labourCost\n",
    "    labourCost = (float(sqftWall)/115.00)* 8 * labourHourlyRate\n",
    "    print(f\"The labour will cost £{labourCost:.2f}\")\n",
    "\n",
    "main()"
   ]
  },
  {
   "cell_type": "code",
   "execution_count": 19,
   "metadata": {},
   "outputs": [
    {
     "name": "stdout",
     "output_type": "stream",
     "text": [
      "Please enter the actual vallue of the land in GBP: 1000\n",
      "The assessment value of the land will be £ 600.00\n",
      "The property tax for the land will be £ 3.84\n"
     ]
    }
   ],
   "source": [
    "def main():\n",
    "    actualValueLand = float(input(\"Please enter the actual vallue of the land in GBP: \"))\n",
    "    assessmentValue = float(actualValueLand) * 0.6\n",
    "    print(f\"The assessment value of the land will be £{assessmentValue: .2f}\")\n",
    "    propertyTaxValue = (0.64/100)*assessmentValue\n",
    "    print(f\"The property tax for the land will be £{propertyTaxValue: .2f}\")\n",
    "    \n",
    "main()"
   ]
  },
  {
   "cell_type": "code",
   "execution_count": 20,
   "metadata": {},
   "outputs": [],
   "source": [
    "## Compound Interest Calculator"
   ]
  },
  {
   "cell_type": "code",
   "execution_count": 36,
   "metadata": {},
   "outputs": [
    {
     "name": "stdout",
     "output_type": "stream",
     "text": [
      "Please enter initial amount: 1000\n",
      "Please enter number of years invested: 1\n",
      "The final balance will be £  1538.05\n"
     ]
    }
   ],
   "source": [
    "def main():\n",
    "    \n",
    "    global INTEREST_RATE_MONTHLY\n",
    "    INTEREST_RATE_MONTHLY = (1.81/100)\n",
    "    \n",
    "    principalBalance = float(input(\"Please enter initial amount: \"))\n",
    "    yearsInvested = int(input(\"Please enter number of years invested: \"))\n",
    "    \n",
    "    total = calculateFinalBalance(principalBalance, yearsInvested)\n",
    "    print(f\"The final balance will be £ {total: .2f}\")\n",
    "\n",
    "def calculateFinalBalance(principalBalance, yearsInvested):\n",
    "    total = principalBalance\n",
    "    interest = 0\n",
    "    for i in range(yearsInvested+1):\n",
    "        for j in range(12):\n",
    "            interest = (total*INTEREST_RATE_MONTHLY)\n",
    "            total += interest\n",
    "    return total\n",
    "\n",
    "main()\n",
    "    "
   ]
  },
  {
   "cell_type": "code",
   "execution_count": null,
   "metadata": {},
   "outputs": [],
   "source": []
  }
 ],
 "metadata": {
  "kernelspec": {
   "display_name": "Python 3",
   "language": "python",
   "name": "python3"
  },
  "language_info": {
   "codemirror_mode": {
    "name": "ipython",
    "version": 3
   },
   "file_extension": ".py",
   "mimetype": "text/x-python",
   "name": "python",
   "nbconvert_exporter": "python",
   "pygments_lexer": "ipython3",
   "version": "3.7.3"
  }
 },
 "nbformat": 4,
 "nbformat_minor": 2
}
