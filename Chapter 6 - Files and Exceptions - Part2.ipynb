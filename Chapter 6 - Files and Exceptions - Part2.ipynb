{
 "cells": [
  {
   "cell_type": "markdown",
   "metadata": {},
   "source": [
    "# Chapter 6 - Files and Exceptions - Part Two"
   ]
  },
  {
   "cell_type": "markdown",
   "metadata": {},
   "source": [
    "### Using Loops to Process Files"
   ]
  },
  {
   "cell_type": "raw",
   "metadata": {},
   "source": [
    "As most files contain a large collection of data, we need a loop to process it when\n",
    "we wish to read or wite to it"
   ]
  },
  {
   "cell_type": "code",
   "execution_count": 14,
   "metadata": {},
   "outputs": [
    {
     "name": "stdout",
     "output_type": "stream",
     "text": [
      "How many days values do you wish to enter? 3\n",
      "Enter the sales total for day #1: 101\n",
      "Enter the sales total for day #2: 201\n",
      "Enter the sales total for day #3: 301\n",
      "All data written to Sales_Figures_Daily.txt\n"
     ]
    }
   ],
   "source": [
    "f = open('./data/Sales_Figures_Daily.txt', 'w')\n",
    "\n",
    "numberDays = int(input('How many days values do you wish to enter? '))\n",
    "\n",
    "for day in range(1, numberDays+1):\n",
    "    sales = float(input('Enter the sales total for day #' + str(day) + ': '))\n",
    "    f.write(str(sales) + '\\n')\n",
    "\n",
    "f.close()\n",
    "print('All data written to Sales_Figures_Daily.txt')\n"
   ]
  },
  {
   "cell_type": "markdown",
   "metadata": {},
   "source": [
    "### Reading a file with a Loop and detecting EOF"
   ]
  },
  {
   "cell_type": "raw",
   "metadata": {},
   "source": [
    "What if the user had entered a value of unknown sales figures? How would you then be able to calculate a total?\n",
    "You can use a loop, but you need a way to know the end of a file.\n",
    "Python returns an empty string i.e. (''), when it has attempted to read\n",
    "beyond the end of a file, so we can use a while loop\n",
    "\n",
    "Below is generic format"
   ]
  },
  {
   "cell_type": "markdown",
   "metadata": {},
   "source": [
    "#### Note we need to use a PRIMING READ to test first line read "
   ]
  },
  {
   "cell_type": "raw",
   "metadata": {},
   "source": [
    "open file\n",
    "readline of first line\n",
    "    while readline is not empty:\n",
    "        process the value of readline\n",
    "        readline of next item\n",
    "close the file"
   ]
  },
  {
   "cell_type": "markdown",
   "metadata": {},
   "source": [
    "### A more elegant way without need for Priming Read: Using a for loop"
   ]
  },
  {
   "cell_type": "raw",
   "metadata": {},
   "source": [
    "for variable in file_object:\n",
    "                statement1\n",
    "                statement2\n",
    "                statement3 etc etc"
   ]
  },
  {
   "cell_type": "code",
   "execution_count": 28,
   "metadata": {},
   "outputs": [
    {
     "name": "stdout",
     "output_type": "stream",
     "text": [
      "1.0\n",
      "2.0\n",
      "3.0\n",
      "4.0\n",
      "5.0\n",
      "6.0\n",
      "7.0\n",
      "8.0\n",
      "9.0\n",
      "10.0\n",
      "11.0\n"
     ]
    }
   ],
   "source": [
    "f = open('./data/Very Long List.txt', 'r')\n",
    "\n",
    "for line in f:\n",
    "    amount = float(line)\n",
    "    print(amount)\n",
    "\n",
    "f.close()"
   ]
  },
  {
   "cell_type": "code",
   "execution_count": 41,
   "metadata": {},
   "outputs": [
    {
     "name": "stdout",
     "output_type": "stream",
     "text": [
      "Lorem ipsum dolor sit amet, consectetur adipiscing elit. Morbi at mauris ac nibh blandit eleifend et vel turpis. Sed dapibus tellus in massa tincidunt varius. Sed blandit diam nisi, in tempor erat accumsan dictum. Mauris vitae tellus luctus dolor accumsan dignissim nec non augue. In hac habitasse platea dictumst. Suspendisse facilisis, lectus ut convallis cursus, lorem metus iaculis velit, eu bibendum leo est ut ligula. Maecenas non mollis mauris. Sed placerat porta dolor ac ornare. Donec a porttitor enim. Maecenas euismod tortor lorem, in vestibulum eros maximus sed.\n",
      "\n",
      "Quisque sed vehicula dolor. Suspendisse potenti. Vestibulum bibendum dapibus magna, in maximus elit facilisis sit amet. Ut maximus erat id turpis sagittis semper. Aliquam nec sapien quis ante commodo blandit et eget elit. Pellentesque bibendum, tellus sit amet pulvinar consectetur, justo turpis convallis augue, aliquet rutrum nibh felis sit amet massa. Vestibulum sed dolor consectetur justo efficitur placerat. Morbi eget feugiat mi, non convallis velit. Integer rhoncus molestie lorem, at mattis lectus accumsan eget. \n",
      "Aliquam ultrices ante eu lorem pellentesque, quis ultrices mi malesuada. Sed tellus arcu, mattis non vehicula vitae, tempor et eros. Donec euismod orci urna, et viverra magna accumsan nec. Sed eget erat nulla. Phasellus commodo quam sit amet luctus porttitor. Duis commodo elit ac accumsan interdum. Vestibulum porta et neque sed hendrerit.\n"
     ]
    }
   ],
   "source": [
    "f = open(\"./data/A long Text File.txt\", 'r')\n",
    "\n",
    "for line in f:\n",
    "    line = line.rstrip('\\n')\n",
    "    print(line)\n",
    "\n",
    "f.close()"
   ]
  },
  {
   "cell_type": "code",
   "execution_count": 43,
   "metadata": {},
   "outputs": [
    {
     "name": "stdout",
     "output_type": "stream",
     "text": [
      "Please enter number of Videos to be entered: 3\n",
      "Please enter the Video's Running Time for video #1: 24.5\n",
      "Please enter the Video's Running Time for video #2: 12.2\n",
      "Please enter the Video's Running Time for video #3: 14.6\n",
      "All files written to disk\n"
     ]
    }
   ],
   "source": [
    "def main():\n",
    "    numberVideos = int(input('Please enter number of Videos to be entered: '))\n",
    "    \n",
    "    f = open('./data/Video Running Times.txt', 'w')\n",
    "    \n",
    "    for video in range(1,numberVideos+1):\n",
    "        videoRunTime = float(input( 'Please enter the Video\\'s Running Time for video #' + str(video) + ': ' ))\n",
    "        f.write(str(videoRunTime) + '\\n')\n",
    "    f.close()\n",
    "    \n",
    "    print(\"All files written to disk\")\n",
    "    \n",
    "main()"
   ]
  },
  {
   "cell_type": "code",
   "execution_count": 56,
   "metadata": {},
   "outputs": [
    {
     "name": "stdout",
     "output_type": "stream",
     "text": [
      "The running time for video # 1 is: 24.5\n",
      "The running time for video # 2 is: 12.2\n",
      "The running time for video # 3 is: 14.6\n",
      "The total running time is 51.30 minutes\n"
     ]
    }
   ],
   "source": [
    "## This program reads the running times and calculates the total\n",
    "\n",
    "def main():\n",
    "    totalRunningTime = 0\n",
    "    count = 0\n",
    "    \n",
    "    f = open('./data/Video Running Times.txt', 'r')\n",
    "    \n",
    "    for line in f:\n",
    "        videoRunTime = float(line)\n",
    "        count += 1\n",
    "        print('The running time for video # ' + str(count) + ' is: ' + str(videoRunTime))\n",
    "        totalRunningTime += videoRunTime\n",
    "    \n",
    "    f.close()\n",
    "    print(f\"The total running time is {totalRunningTime:.2f} minutes\")\n",
    "    \n",
    "main()"
   ]
  },
  {
   "cell_type": "code",
   "execution_count": 65,
   "metadata": {},
   "outputs": [],
   "source": [
    "# This writes 1-10 to a file using for loop#\n",
    "\n",
    "f = open('./data/NumbersUptoTen.txt', 'w')\n",
    "\n",
    "for num in range(1,11):\n",
    "    f.write(str(num) + '\\n')\n",
    "\n",
    "f.close()\n"
   ]
  },
  {
   "cell_type": "code",
   "execution_count": 70,
   "metadata": {},
   "outputs": [
    {
     "name": "stdout",
     "output_type": "stream",
     "text": [
      "Ziaur Rahman\n",
      "jdsndjksfh\n",
      "a\n",
      "d';asd\n",
      "\n"
     ]
    }
   ],
   "source": [
    "# using while loop to read a file called data.txt\n",
    "\n",
    "f = open('./data/data.txt', 'r')\n",
    "\n",
    "line = f.readline()\n",
    "\n",
    "while line !='':\n",
    "    print(line.rstrip('\\n'))\n",
    "    line = f.readline()\n",
    "\n",
    "f.close()\n"
   ]
  },
  {
   "cell_type": "code",
   "execution_count": 73,
   "metadata": {},
   "outputs": [
    {
     "name": "stdout",
     "output_type": "stream",
     "text": [
      "Ziaur Rahman\n",
      "jdsndjksfh\n",
      "a\n",
      "d';asd\n",
      "\n"
     ]
    }
   ],
   "source": [
    "# using for loop to read a file called data.txt\n",
    "\n",
    "f = open('./data/data.txt', 'r')\n",
    "\n",
    "for line in f:\n",
    "    print(line.rstrip('\\n'))\n",
    "\n",
    "f.close()\n"
   ]
  },
  {
   "cell_type": "code",
   "execution_count": null,
   "metadata": {},
   "outputs": [],
   "source": []
  }
 ],
 "metadata": {
  "kernelspec": {
   "display_name": "Python 3",
   "language": "python",
   "name": "python3"
  },
  "language_info": {
   "codemirror_mode": {
    "name": "ipython",
    "version": 3
   },
   "file_extension": ".py",
   "mimetype": "text/x-python",
   "name": "python",
   "nbconvert_exporter": "python",
   "pygments_lexer": "ipython3",
   "version": "3.7.3"
  }
 },
 "nbformat": 4,
 "nbformat_minor": 2
}
