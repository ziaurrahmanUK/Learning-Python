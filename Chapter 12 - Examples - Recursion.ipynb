{
 "cells": [
  {
   "cell_type": "code",
   "execution_count": 7,
   "metadata": {},
   "outputs": [
    {
     "name": "stdout",
     "output_type": "stream",
     "text": [
      "21\n"
     ]
    }
   ],
   "source": [
    "# This function is find the greatest common divisor\n",
    "\n",
    "def func(x,y):\n",
    "    if(x==y or x==0 or y==0):\n",
    "        return max(x,y)\n",
    "    return func(min(x,y),max(x,y)-min(x,y))\n",
    "\n",
    "def main():\n",
    "    print(func(315,147))\n",
    "\n",
    "main()"
   ]
  },
  {
   "cell_type": "code",
   "execution_count": 21,
   "metadata": {},
   "outputs": [
    {
     "name": "stdout",
     "output_type": "stream",
     "text": [
      "120\n"
     ]
    }
   ],
   "source": [
    "def main():\n",
    "    print(func(5))\n",
    "    \n",
    "def func(i, current_ans=1):\n",
    "    if i == 1:\n",
    "        return current_ans\n",
    "    else:\n",
    "        return func(i - 1, current_ans* i)\n",
    "\n",
    "main()"
   ]
  },
  {
   "cell_type": "code",
   "execution_count": 33,
   "metadata": {},
   "outputs": [],
   "source": [
    "def traffic_sign(n):\n",
    "    while n > 0:\n",
    "        print('No Parking')\n",
    "        n = n>1"
   ]
  },
  {
   "cell_type": "code",
   "execution_count": 34,
   "metadata": {},
   "outputs": [
    {
     "name": "stdout",
     "output_type": "stream",
     "text": [
      "No Parking\n",
      "No Parking\n"
     ]
    }
   ],
   "source": [
    "traffic_sign(3)"
   ]
  },
  {
   "cell_type": "raw",
   "metadata": {},
   "source": [
    "1. Recursive Printing\n",
    "Design a recursive function that accepts an integer argument, n\n",
    "and prints the numbers 1 up through n."
   ]
  },
  {
   "cell_type": "code",
   "execution_count": 40,
   "metadata": {},
   "outputs": [],
   "source": [
    "def print_up_to(n):\n",
    "    n = 1\n",
    "    if n > 1:\n",
    "        print(1)\n",
    "    elif n == 1:\n",
    "        print(1)"
   ]
  },
  {
   "cell_type": "code",
   "execution_count": 41,
   "metadata": {},
   "outputs": [
    {
     "name": "stdout",
     "output_type": "stream",
     "text": [
      "1\n"
     ]
    }
   ],
   "source": [
    "print_up_to(2)"
   ]
  },
  {
   "cell_type": "code",
   "execution_count": null,
   "metadata": {},
   "outputs": [],
   "source": []
  }
 ],
 "metadata": {
  "kernelspec": {
   "display_name": "Python 3",
   "language": "python",
   "name": "python3"
  },
  "language_info": {
   "codemirror_mode": {
    "name": "ipython",
    "version": 3
   },
   "file_extension": ".py",
   "mimetype": "text/x-python",
   "name": "python",
   "nbconvert_exporter": "python",
   "pygments_lexer": "ipython3",
   "version": "3.7.3"
  }
 },
 "nbformat": 4,
 "nbformat_minor": 2
}
