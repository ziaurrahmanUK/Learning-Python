{
 "cells": [
  {
   "cell_type": "markdown",
   "metadata": {},
   "source": [
    "A repetition structure causes a statement or set of statements to execute repeatedly.\n",
    "    2 broad types: CONDITION-CONTROLLED LOOPS (uses True/False condition) AND COUNT-CONTROLLED LOOP"
   ]
  },
  {
   "cell_type": "code",
   "execution_count": null,
   "metadata": {},
   "outputs": [],
   "source": [
    "# While Loop - statements run if the condition is True\n",
    "# while boolean condition:\n",
    "#    statement1\n",
    "#    statement2\n",
    "#    statement3 etc ##"
   ]
  },
  {
   "cell_type": "code",
   "execution_count": null,
   "metadata": {},
   "outputs": [],
   "source": [
    "# example of using while loop\n",
    "keepGoing = \"y\"\n",
    "while keepGoing == \"y\":\n",
    "    sales = float(input(\"Enter total sales: \"))\n",
    "    comm_rate = float(input(\"Enter the commission rate:\"))\n",
    "    commission = sales * comm_rate\n",
    "    print(f\"The commission is £{commission:.2f}\" )\n",
    "    keepGoing = input(\"Do you wish to enter another? \")\n"
   ]
  },
  {
   "cell_type": "code",
   "execution_count": null,
   "metadata": {},
   "outputs": [],
   "source": [
    "# while loop is a PRETEST loop ie condition is testes BEFORE an iteration\n",
    "# sometimes you may wish to go through loop the first time\n",
    "# sometimes you may not wish this to occur"
   ]
  },
  {
   "cell_type": "code",
   "execution_count": null,
   "metadata": {},
   "outputs": [],
   "source": [
    "# This program assists a technician in the process\n",
    "# of checking a substance ' s temperature.\n",
    "\n",
    "# Create a variable to represent the maximum\n",
    "# temperature.\n",
    "MAX_TEMP = 102.5\n",
    "\n",
    "# Get the substance ' s temperature.\n",
    "temperature = float(input(\"Enter the substance ' s Celsius temperature: \"))\n",
    "\n",
    "# As long as necessary, instruct the user to\n",
    "# adjust the thermostat.\n",
    "while temperature > MAX_TEMP:\n",
    "    print( ' The temperature is too high. ' )\n",
    "    print( ' Turn the thermostat down and wait ' )\n",
    "    print( ' 5 minutes. Then take the temperature ' )\n",
    "    print( ' again and enter it. ' )\n",
    "    temperature = float(input( ' Enter the new Celsius temperature: ' ))\n",
    "# Remind the user to check the temperature again in 15 minutes.\n",
    "print( ' The temperature is acceptable. ' + \n",
    "      'Check it again in 15 minutes. ' )"
   ]
  },
  {
   "cell_type": "code",
   "execution_count": null,
   "metadata": {},
   "outputs": [],
   "source": [
    "# An exmaple of an infinite Loop"
   ]
  },
  {
   "cell_type": "code",
   "execution_count": null,
   "metadata": {},
   "outputs": [],
   "source": [
    "# an infinite Loop exmaple - use ctrl-C to exit it!!\n",
    "# example of using while loop\n",
    "\n",
    "'''while True:\n",
    "    sales = float(input(\"Enter total sales: \"))\n",
    "    comm_rate = float(input(\"Enter the commission rate:\"))\n",
    "    commission = sales * comm_rate\n",
    "    print(f\"The commission is £{commission:.2f}\" )\n",
    "    '''\n"
   ]
  },
  {
   "cell_type": "code",
   "execution_count": null,
   "metadata": {},
   "outputs": [],
   "source": [
    "# For Loop: A count-controlled Loop\n",
    "# A count-controlled loop iterates a specific number of times.\n",
    "# In Python you use the 'for' statement to write a count-controlled loop.\n",
    "# general form:\n",
    "\n",
    "'''for variable in [value1, value2, value3]:\n",
    "    statement1\n",
    "    statement2\n",
    "    statement3 etc '''\n",
    "\n",
    "# range() function creates an iterable object\n",
    "# a list that can be iterated over with a loop\n",
    "\n",
    "# range(start,stop,step)\n",
    "\n",
    "    \n"
   ]
  },
  {
   "cell_type": "code",
   "execution_count": null,
   "metadata": {},
   "outputs": [],
   "source": [
    "# example program\n",
    "# print(\"I will display the odd numbers 1 to 100:\")\n",
    "# for num in range(1,100,2):\n",
    "#       print(num)\n",
    "\n",
    "print(\"I will display the even numbers 1 to 20:\")\n",
    "for num in range(2,20,2):\n",
    "      print(num)\n"
   ]
  },
  {
   "cell_type": "code",
   "execution_count": null,
   "metadata": {},
   "outputs": [],
   "source": [
    "shopping_list = ['Apples','Pears','Bananas']\n",
    "\n",
    "print(\"I will display your shopping list:\")\n",
    "for item in shopping_list:\n",
    "      print(item)"
   ]
  },
  {
   "cell_type": "code",
   "execution_count": null,
   "metadata": {},
   "outputs": [],
   "source": [
    "print('Number\\tsquared')\n",
    "print('~~~~~~~~~~~~~~~')\n",
    "\n",
    "for num in range(1,11):\n",
    "    num_squared = num**2\n",
    "    print(num, '\\t' , num_squared)\n"
   ]
  },
  {
   "cell_type": "code",
   "execution_count": null,
   "metadata": {},
   "outputs": [],
   "source": [
    "print('KmPerHour\\tMilesPerHour')\n",
    "print('~~~~~~~~~~~~~~~~~~~~~~~~~~~~')\n",
    "\n",
    "for kilometres in range(60,140,10):\n",
    "    miles = kilometres * 0.6214\n",
    "    print(kilometres, '\\t',  format(miles, '.1f'))"
   ]
  },
  {
   "cell_type": "code",
   "execution_count": null,
   "metadata": {},
   "outputs": [],
   "source": [
    "# Usually we know how many to iterate over for example, squared number\n",
    "# from 1 to 10, other times we ask the user to find out how many \n",
    "# to iterate the loop over"
   ]
  },
  {
   "cell_type": "code",
   "execution_count": null,
   "metadata": {},
   "outputs": [],
   "source": [
    "# ask user for input and generate squared numbers up to that value\n",
    "\n",
    "end = int(input(\"please enter up to which value you want squared:\"))\n",
    "print()\n",
    "print('number \\t squared')\n",
    "print('~~~~~~~~~~~~~~~~~')\n",
    "\n",
    "for number in range(1,end+1):\n",
    "    squared = number**2\n",
    "    print(number,'\\t',squared)\n"
   ]
  },
  {
   "cell_type": "code",
   "execution_count": null,
   "metadata": {},
   "outputs": [],
   "source": [
    "# using range function to count backwards\n",
    "# range(10,0,-1) ## counts backwards from 10 by 1\n",
    "# range(100,0,-10) ## counts backwards from 100 in steps of 10\n",
    "\n",
    "# for i in range(100,0,-10):\n",
    "#     print(i)"
   ]
  },
  {
   "cell_type": "code",
   "execution_count": null,
   "metadata": {},
   "outputs": [],
   "source": [
    "for i in range(0,501,100):\n",
    "     print(i)"
   ]
  },
  {
   "cell_type": "code",
   "execution_count": null,
   "metadata": {},
   "outputs": [],
   "source": [
    "# A running total is a sum of numbers that accumulates with each\n",
    "# iteration of a loop. The variable used to keep the running total \n",
    "# is called an accumulator.\n"
   ]
  },
  {
   "cell_type": "code",
   "execution_count": null,
   "metadata": {},
   "outputs": [],
   "source": [
    "total = 0\n",
    "max = int(input(\"Please enter max numbers you will enter: \"))\n",
    "for counter in range(max):\n",
    "    number = int(input(\"Please enter a number: \"))\n",
    "    total = total + number\n",
    "print(\"The running Total is: \", total)\n"
   ]
  },
  {
   "cell_type": "code",
   "execution_count": null,
   "metadata": {},
   "outputs": [],
   "source": [
    "# augmented operators:\n",
    "# x += 5 ie x = x + 5\n",
    "# y -= 2 ie y = y - 2\n",
    "# z *= 10 ie z = z * 10\n",
    "# a /= b ie  a = a / b\n",
    "# c %= 3 ie c = c % 3\n"
   ]
  },
  {
   "cell_type": "code",
   "execution_count": null,
   "metadata": {},
   "outputs": [],
   "source": [
    "# total += number  ie total = total + number\n",
    "# balance -= withdrawal  ie balance = balance - withdrawal\n"
   ]
  },
  {
   "cell_type": "code",
   "execution_count": null,
   "metadata": {},
   "outputs": [],
   "source": [
    "'''\n",
    "quantity += 1\n",
    "days_left -= 5\n",
    "price *= 10\n",
    "price /= 2\n",
    "\n",
    "'''"
   ]
  },
  {
   "cell_type": "markdown",
   "metadata": {},
   "source": [
    "# A sentinel is a special value that marks the end of a sequence of values, so you do not need to specify or count the number of values in the list"
   ]
  },
  {
   "cell_type": "code",
   "execution_count": null,
   "metadata": {},
   "outputs": [],
   "source": [
    "# example you enter a long list of weights and when a zero is entered\n",
    "# then the program interprets that as the end of the list.\n",
    "# Zero is a good choice for this example as nobody has a zero weight\n",
    "# The sentinal needs to be distinctive\n",
    "# so you use a while != 0: do the totalling"
   ]
  },
  {
   "cell_type": "markdown",
   "metadata": {},
   "source": [
    "# Input Validation Loops"
   ]
  },
  {
   "cell_type": "code",
   "execution_count": null,
   "metadata": {},
   "outputs": [],
   "source": [
    "#  Input validation is the process of inspecting data\n",
    "# that has been input to a program, to make sure it is valid \n",
    "# before it is used in a computation. \n",
    "# Input validation is commonly done with a loop that iterates\n",
    "# as long as an input variable references bad data.\n",
    "# An input validation loop is sometimes called an error trap.\n",
    "# or an error handler.\n"
   ]
  },
  {
   "cell_type": "code",
   "execution_count": null,
   "metadata": {},
   "outputs": [],
   "source": [
    "# program to validate data and then pretest before running again\n",
    "\n",
    "wholesalePrice = float(input(\"Please enter a price : \"))\n",
    "\n",
    "while wholesalePrice < 0 or wholesalePrice > 100:\n",
    "    print(\"Error! Wholesale price cannot be negative or greater than 100\")\n",
    "    wholesalePrice = float(input(\"Please enter a CORRECT price: \"))\n"
   ]
  },
  {
   "cell_type": "markdown",
   "metadata": {},
   "source": [
    "# nested Loops"
   ]
  },
  {
   "cell_type": "code",
   "execution_count": null,
   "metadata": {},
   "outputs": [],
   "source": [
    "# A loop that is inside another loop is called a nested loop"
   ]
  },
  {
   "cell_type": "code",
   "execution_count": null,
   "metadata": {},
   "outputs": [],
   "source": [
    "for hours in range(12):\n",
    "    for minutes in range(60):\n",
    "        for seconds in range(60):\n",
    "            print(hours, ':', minutes , ':', seconds)\n"
   ]
  },
  {
   "cell_type": "code",
   "execution_count": null,
   "metadata": {},
   "outputs": [],
   "source": [
    "columns = int(input(\"Please enter column numbers: \"))\n",
    "rows = int(input(\"Please enter rows numbers: \"))\n",
    "\n",
    "for row in range(rows):\n",
    "    for col in range(columns):\n",
    "        print(\"*\", end = \"\")\n",
    "    print()\n"
   ]
  },
  {
   "cell_type": "code",
   "execution_count": null,
   "metadata": {},
   "outputs": [],
   "source": [
    "#baseSize = int(input(\"Please enter Base Size of triangle: \"))\n",
    "baseSize = 4\n",
    "for row in range(baseSize):  ## range(0,4,1) == [0,1,2,3]\n",
    "    for col in range(row + 1):  ### range (0,5,1) == [0,1,2,3,4]\n",
    "        print(\"*\", end = \"\")\n",
    "    print()\n"
   ]
  },
  {
   "cell_type": "code",
   "execution_count": null,
   "metadata": {},
   "outputs": [],
   "source": [
    "#baseSize = int(input(\"Please enter Base Size of triangle: \"))\n",
    "numSpaces = 6\n",
    "\n",
    "for r in range(numSpaces):  ## range(0,4,1) == [0,1,2,3]\n",
    "    for c in range(r + 1):  ### range (0,5,1) == [0,1,2,3,4]\n",
    "        print(\" \", end = \"\")\n",
    "    print('#')\n"
   ]
  },
  {
   "cell_type": "markdown",
   "metadata": {},
   "source": [
    "# Practice questions"
   ]
  },
  {
   "cell_type": "markdown",
   "metadata": {},
   "source": [
    "Q1 - Write a while loop that lets the user enter a number. The number should be multiplied\n",
    "by 10, and the result assigned to a variable named product . The loop should iterate as\n",
    "long as product is less than 100."
   ]
  },
  {
   "cell_type": "code",
   "execution_count": null,
   "metadata": {},
   "outputs": [],
   "source": [
    "number = int(input(\"Please enter an larger integer between 1 and 10 inclusive: \"))\n",
    "product = number * 10\n",
    "\n",
    "while product < 100:\n",
    "    number = int(input(\"Please enter an larger integer between 1 and 10 inclusive: \"))\n",
    "    \n",
    "print(\"The product is greater than or equal to 100\")"
   ]
  },
  {
   "cell_type": "markdown",
   "metadata": {},
   "source": [
    " # Write a program that accepts two numbers by the user, checks if the denominator is zero, divides them and then prints their division. If the denominator is zero, it should prompt the user “Division is not possible”."
   ]
  },
  {
   "cell_type": "code",
   "execution_count": null,
   "metadata": {},
   "outputs": [],
   "source": [
    "numerator = float(input(\"Please enter numerator: \"))\n",
    "denominator = float(input(\"Please enter denominator: \"))\n",
    "\n",
    "while denominator ==0:\n",
    "    print(\"ERROR: denominator is zero\")\n",
    "    denominator = float(input(\"Please enter a non-zero denominator: \"))\n",
    "\n",
    "division = numerator/denominator\n",
    "print(f\"The division is {division:.2f}\" )"
   ]
  },
  {
   "cell_type": "code",
   "execution_count": null,
   "metadata": {},
   "outputs": [],
   "source": [
    "# Write a for loop that displays the following set of numbers:\n",
    "# 0, 10, 20, 30, 40, 50 . . . 1000\n",
    "\n",
    "for num in range(0,1010,10):\n",
    "    print(num, end = \",\")\n"
   ]
  },
  {
   "cell_type": "code",
   "execution_count": null,
   "metadata": {},
   "outputs": [],
   "source": [
    "# Write a loop that asks the user to enter a number. The loop should iterate 10 times and\n",
    "# keep a running total of the numbers entered."
   ]
  },
  {
   "cell_type": "code",
   "execution_count": null,
   "metadata": {},
   "outputs": [],
   "source": [
    "total = 0\n",
    "maxIteration = 3\n",
    "\n",
    "for n in range(maxIteration):\n",
    "    number = float(input(\"Please enter number \"))\n",
    "    total +=number\n",
    "    \n",
    "print(f\"The total is: {total}\")"
   ]
  },
  {
   "cell_type": "code",
   "execution_count": null,
   "metadata": {},
   "outputs": [],
   "source": [
    "# Write a program that accepts a number entered by the user and prints its Fibonacci\n",
    "# series up to 10 times"
   ]
  },
  {
   "cell_type": "code",
   "execution_count": null,
   "metadata": {},
   "outputs": [],
   "source": [
    "num = 10\n",
    " \n",
    "first = 0\n",
    "second = 1\n",
    " \n",
    "print(\"\\nfibonacci series is:\")\n",
    "print(first, \",\", second, end=\", \")\n",
    " \n",
    "for i in range(2, num):\n",
    "    next = first + second\n",
    "    print(next, end=\", \")\n",
    "    first = second\n",
    "    second = next\n"
   ]
  },
  {
   "cell_type": "markdown",
   "metadata": {},
   "source": [
    "Write a program that accepts a number entered by the user and validates if it is odd or\n",
    "even. If it is even, print a series up to 4 using range() and if it’s odd print a series up to 7"
   ]
  },
  {
   "cell_type": "code",
   "execution_count": null,
   "metadata": {},
   "outputs": [],
   "source": [
    "number = int(input(\"Please enter a number: \"))\n",
    "\n",
    "if number % 2 == 0:\n",
    "    for i in range(5):\n",
    "        print(i)\n",
    "        \n",
    "else:\n",
    "    for i in range(8):\n",
    "        print(i)\n"
   ]
  },
  {
   "cell_type": "code",
   "execution_count": null,
   "metadata": {},
   "outputs": [],
   "source": [
    "# Write code that prompts the user to enter a positive nonzero number and validates the input"
   ]
  },
  {
   "cell_type": "code",
   "execution_count": null,
   "metadata": {},
   "outputs": [],
   "source": [
    "number1 = int(input(\"Please enter a positive non-zero number: \"))\n",
    "\n",
    "while number1 == 0 or number1 < 0:\n",
    "    print(\"ERROR: please try again non-zero positive number: \")\n",
    "    number1 = int(input(\": \"))\n",
    "print(\"That number is validated!\")"
   ]
  },
  {
   "cell_type": "code",
   "execution_count": null,
   "metadata": {},
   "outputs": [],
   "source": [
    "'''A bug collector collects bugs every day for five days. Write a program that keeps a running\n",
    "total of the number of bugs collected during the five days. The loop should ask for the\n",
    "number of bugs collected for each day, and when the loop is finished, the program should\n",
    "display the total number of bugs collected '''"
   ]
  },
  {
   "cell_type": "code",
   "execution_count": null,
   "metadata": {},
   "outputs": [],
   "source": [
    "total = 0\n",
    "\n",
    "for i in range(5):\n",
    "    num = int(input(\"please enter the bugs collected today: \"))\n",
    "    total += num\n",
    "print(f\"The total bugs collected were: {total}\")"
   ]
  },
  {
   "cell_type": "markdown",
   "metadata": {},
   "source": [
    "2. Calories Burned\n",
    "Running on a particular treadmill you burn 4.2 calories per minute. Write a program that\n",
    "uses a loop to display the number of calories burned after 10, 15, 20, 25, and 30 minutes."
   ]
  },
  {
   "cell_type": "code",
   "execution_count": null,
   "metadata": {},
   "outputs": [],
   "source": [
    "print('mins\\tcalories')\n",
    "\n",
    "for mins in range(10,35,5):\n",
    "    cals = mins * 4.2\n",
    "    print(mins,'\\t' , cals )\n"
   ]
  },
  {
   "cell_type": "markdown",
   "metadata": {},
   "source": [
    "3. Budget Analysis\n",
    "Write a program that asks the user to enter the amount that he or she has budgeted for\n",
    "a month. A loop should then prompt the user to enter each of his or her expenses for the\n",
    "month and keep a running total. When the loop finishes, the program should display the\n",
    "amount that the user is over or under budget."
   ]
  },
  {
   "cell_type": "code",
   "execution_count": null,
   "metadata": {},
   "outputs": [],
   "source": [
    "runningTotal = 0\n",
    "budget = float(input(\"Please enter your monthly budget: \"))\n",
    "expenses = float(input(\"Please enter the expenses: \"))\n",
    "\n",
    "while expenses !=0:\n",
    "    runningTotal += expenses\n",
    "\n",
    "print(\"Your total is:\", runningTotal)\n",
    "excess = (budget - runningTotal)\n",
    "\n",
    "print(\"Your excess is:\", excess)\n",
    "\n",
    "\n",
    "\n",
    "if excess < 0:\n",
    "    print(\"You are over budget by:\", -(excess))\n",
    "elif excess > 0:\n",
    "     print(\"You are under budget by:\", excess )\n",
    "else:\n",
    "      print(\"You met your budget exactly\" )\n",
    "\n",
    "\n",
    "\n"
   ]
  },
  {
   "cell_type": "raw",
   "metadata": {},
   "source": [
    "Average Rainfall\n",
    "Write a program that uses nested loops to collect data and calculate the average rainfall\n",
    "over a period of years. The program should first ask for the number of years. The outer loop\n",
    "will iterate once for each year. The inner loop will iterate twelve times, once for each month.\n",
    "Each iteration of the inner loop will ask the user for the inches of rainfall for that month.\n",
    "After all iterations, the program should display the number of months, the total inches of\n",
    "rainfall, and the average rainfall per month for the entire period."
   ]
  },
  {
   "cell_type": "code",
   "execution_count": 6,
   "metadata": {},
   "outputs": [
    {
     "name": "stdin",
     "output_type": "stream",
     "text": [
      "Please enter number of years worth of data:  1\n",
      "Please enter the monthly rainfall in mm:  1\n",
      "Please enter the monthly rainfall in mm:  2\n",
      "Please enter the monthly rainfall in mm:  3\n",
      "Please enter the monthly rainfall in mm:  4\n",
      "Please enter the monthly rainfall in mm:  5\n",
      "Please enter the monthly rainfall in mm:  6\n",
      "Please enter the monthly rainfall in mm:  7\n",
      "Please enter the monthly rainfall in mm:  8\n",
      "Please enter the monthly rainfall in mm:  9\n",
      "Please enter the monthly rainfall in mm:  10\n",
      "Please enter the monthly rainfall in mm:  11\n",
      "Please enter the monthly rainfall in mm:  12\n"
     ]
    },
    {
     "name": "stdout",
     "output_type": "stream",
     "text": [
      "The total number of months is: 12\n",
      "The total rainfall is: 78.0 mm\n",
      "The average rainfall is: 6.5 mm\n"
     ]
    }
   ],
   "source": [
    "numberYears = int(input(\"Please enter number of years worth of data: \"))\n",
    "totalRainfall = 0\n",
    "\n",
    "for year in range(numberYears):\n",
    "    for month in range(0,12,1):\n",
    "        monthlyRainfall = float(input(\"Please enter the monthly rainfall in mm: \"))\n",
    "        totalRainfall +=monthlyRainfall\n",
    "print(f\"The total number of months is: {numberYears*12}\")\n",
    "print(f\"The total rainfall is: {totalRainfall} mm\")\n",
    "print(f\"The average rainfall is: {totalRainfall/(numberYears*12)} mm\")\n",
    "\n",
    "\n",
    "        "
   ]
  },
  {
   "cell_type": "raw",
   "metadata": {},
   "source": [
    "Celsius to Fahrenheit table\n",
    "Write a program that displays a table of the Celsius temperatures 0 through 10 and\n",
    "their Fahrenheit equivalents. The formula for converting a temperature from Celsius to\n",
    "Fahrenheit is\n",
    "F = 9/5 * C + 32\n",
    "where F is the Fahrenheit temperature and C is the Celsius temperature. Your program must\n",
    "use a loop to display the table."
   ]
  },
  {
   "cell_type": "code",
   "execution_count": 1,
   "metadata": {},
   "outputs": [
    {
     "name": "stdout",
     "output_type": "stream",
     "text": [
      "Celsius\tFahrenheit\n",
      "-------------------\n",
      "0\t 32.0\n",
      "1\t 33.8\n",
      "2\t 35.6\n",
      "3\t 37.4\n",
      "4\t 39.2\n",
      "5\t 41.0\n",
      "6\t 42.8\n",
      "7\t 44.6\n",
      "8\t 46.4\n",
      "9\t 48.2\n"
     ]
    }
   ],
   "source": [
    "print(f\"Celsius\\tFahrenheit\")\n",
    "print(f\"-------------------\")\n",
    "\n",
    "for tempCelsius in range(10):\n",
    "    tempFahrenheit = float((tempCelsius*(9/5)+ 32))\n",
    "    print(f\"{tempCelsius}\\t{tempFahrenheit: .1f}\")\n",
    "\n"
   ]
  },
  {
   "cell_type": "raw",
   "metadata": {},
   "source": [
    "Calculating the Factorial of a number\n",
    "In mathematics, the notation n! represents the factorial of the nonnegative integer n . The\n",
    "factorial of n is the product of all the nonnegative integers from 1 to n. For example,\n",
    "7! 5 1 3 2 3 3 3 4 3 5 3 6 3 7 5 5,040 and\n",
    "4! 5 1 3 2 3 3 3 4 5 24\n",
    "Write a program that lets the user enter a nonnegative integer and then uses a loop to cal-\n",
    "culate the factorial of that number. Display the factorial."
   ]
  },
  {
   "cell_type": "code",
   "execution_count": 1,
   "metadata": {},
   "outputs": [
    {
     "name": "stdout",
     "output_type": "stream",
     "text": [
      "Please enter a Positive Number: 9\n",
      "362880\n"
     ]
    }
   ],
   "source": [
    "num = int(input(\"Please enter a Positive Number: \"))\n",
    "fact = 1\n",
    "\n",
    "for i in range(1,num+1):\n",
    "    fact = fact*i\n",
    "print(f\"{fact}\")\n",
    "\n",
    "    "
   ]
  },
  {
   "cell_type": "code",
   "execution_count": 1,
   "metadata": {},
   "outputs": [],
   "source": [
    "# Calculate sum product of an array"
   ]
  },
  {
   "cell_type": "code",
   "execution_count": 24,
   "metadata": {},
   "outputs": [
    {
     "ename": "NameError",
     "evalue": "name 'listOne' is not defined",
     "output_type": "error",
     "traceback": [
      "\u001b[1;31m---------------------------------------------------------------------------\u001b[0m",
      "\u001b[1;31mNameError\u001b[0m                                 Traceback (most recent call last)",
      "\u001b[1;32m<ipython-input-24-a43b4128349d>\u001b[0m in \u001b[0;36m<module>\u001b[1;34m\u001b[0m\n\u001b[0;32m     18\u001b[0m         \u001b[0mprint\u001b[0m\u001b[1;33m(\u001b[0m\u001b[1;34m\"Please provide two lists of equal length\"\u001b[0m\u001b[1;33m)\u001b[0m\u001b[1;33m\u001b[0m\u001b[1;33m\u001b[0m\u001b[0m\n\u001b[0;32m     19\u001b[0m \u001b[1;33m\u001b[0m\u001b[0m\n\u001b[1;32m---> 20\u001b[1;33m \u001b[0mmain\u001b[0m\u001b[1;33m(\u001b[0m\u001b[1;33m)\u001b[0m\u001b[1;33m\u001b[0m\u001b[1;33m\u001b[0m\u001b[0m\n\u001b[0m",
      "\u001b[1;32m<ipython-input-24-a43b4128349d>\u001b[0m in \u001b[0;36mmain\u001b[1;34m()\u001b[0m\n\u001b[0;32m      2\u001b[0m     \u001b[0mlistOne\u001b[0m \u001b[1;33m=\u001b[0m \u001b[1;33m(\u001b[0m \u001b[1;36m2_000_000\u001b[0m\u001b[1;33m,\u001b[0m \u001b[1;36m23_000_000\u001b[0m\u001b[1;33m,\u001b[0m \u001b[1;36m33_000_000\u001b[0m\u001b[1;33m,\u001b[0m \u001b[1;36m889_000_000\u001b[0m\u001b[1;33m,\u001b[0m \u001b[1;36m9829_000_000\u001b[0m\u001b[1;33m)\u001b[0m\u001b[1;33m\u001b[0m\u001b[1;33m\u001b[0m\u001b[0m\n\u001b[0;32m      3\u001b[0m     \u001b[0mlistTwo\u001b[0m \u001b[1;33m=\u001b[0m \u001b[1;33m(\u001b[0m \u001b[1;36m2\u001b[0m \u001b[1;33m,\u001b[0m \u001b[1;36m2\u001b[0m \u001b[1;33m,\u001b[0m \u001b[1;36m3\u001b[0m \u001b[1;33m,\u001b[0m \u001b[1;36m89\u001b[0m \u001b[1;33m,\u001b[0m \u001b[1;36m0\u001b[0m\u001b[1;33m)\u001b[0m\u001b[1;33m\u001b[0m\u001b[1;33m\u001b[0m\u001b[0m\n\u001b[1;32m----> 4\u001b[1;33m     \u001b[0mcheck_lists_equal\u001b[0m\u001b[1;33m(\u001b[0m\u001b[0mlistOne\u001b[0m\u001b[1;33m,\u001b[0m \u001b[0mlistTwo\u001b[0m\u001b[1;33m)\u001b[0m\u001b[1;33m\u001b[0m\u001b[1;33m\u001b[0m\u001b[0m\n\u001b[0m\u001b[0;32m      5\u001b[0m     \u001b[0msumproduct\u001b[0m\u001b[1;33m(\u001b[0m\u001b[0mlistOne\u001b[0m\u001b[1;33m,\u001b[0m\u001b[0mlistTwo\u001b[0m\u001b[1;33m)\u001b[0m\u001b[1;33m\u001b[0m\u001b[1;33m\u001b[0m\u001b[0m\n\u001b[0;32m      6\u001b[0m \u001b[1;33m\u001b[0m\u001b[0m\n",
      "\u001b[1;32m<ipython-input-24-a43b4128349d>\u001b[0m in \u001b[0;36mcheck_lists_equal\u001b[1;34m(a, b)\u001b[0m\n\u001b[0;32m     13\u001b[0m \u001b[1;33m\u001b[0m\u001b[0m\n\u001b[0;32m     14\u001b[0m \u001b[1;32mdef\u001b[0m \u001b[0mcheck_lists_equal\u001b[0m\u001b[1;33m(\u001b[0m\u001b[0ma\u001b[0m\u001b[1;33m,\u001b[0m\u001b[0mb\u001b[0m\u001b[1;33m)\u001b[0m\u001b[1;33m:\u001b[0m\u001b[1;33m\u001b[0m\u001b[1;33m\u001b[0m\u001b[0m\n\u001b[1;32m---> 15\u001b[1;33m     \u001b[1;32mif\u001b[0m \u001b[0mlen\u001b[0m\u001b[1;33m(\u001b[0m\u001b[0mlistOne\u001b[0m\u001b[1;33m)\u001b[0m \u001b[1;33m==\u001b[0m \u001b[0mlen\u001b[0m\u001b[1;33m(\u001b[0m\u001b[0mlistTwo\u001b[0m\u001b[1;33m)\u001b[0m\u001b[1;33m:\u001b[0m\u001b[1;33m\u001b[0m\u001b[1;33m\u001b[0m\u001b[0m\n\u001b[0m\u001b[0;32m     16\u001b[0m         \u001b[0msumproduct\u001b[0m\u001b[1;33m(\u001b[0m\u001b[0mlistOne\u001b[0m\u001b[1;33m,\u001b[0m\u001b[0mlistTwo\u001b[0m\u001b[1;33m)\u001b[0m\u001b[1;33m\u001b[0m\u001b[1;33m\u001b[0m\u001b[0m\n\u001b[0;32m     17\u001b[0m     \u001b[1;32melse\u001b[0m\u001b[1;33m:\u001b[0m\u001b[1;33m\u001b[0m\u001b[1;33m\u001b[0m\u001b[0m\n",
      "\u001b[1;31mNameError\u001b[0m: name 'listOne' is not defined"
     ]
    }
   ],
   "source": [
    "def main():\n",
    "    listOne = ( 2_000_000, 23_000_000, 33_000_000, 889_000_000, 9829_000_000)\n",
    "    listTwo = ( 2 , 2 , 3 , 89 , 0)\n",
    "    check_lists_equal(listOne, listTwo)\n",
    "    sumproduct(listOne,listTwo)\n",
    "    \n",
    "def sumproduct(listOne, listTwo):\n",
    "    total = 0\n",
    "    for i in range(len(listOne)):\n",
    "        product = int(listOne[i]*listTwo[i])\n",
    "        total +=product\n",
    "    print(f\"The sumproduct is {total}\")\n",
    "\n",
    "def check_lists_equal(a,b):\n",
    "    if len(listOne) == len(listTwo):\n",
    "        sumproduct(listOne,listTwo)\n",
    "    else:\n",
    "        print(\"Please provide two lists of equal length\")\n",
    "        \n",
    "main()\n"
   ]
  },
  {
   "cell_type": "code",
   "execution_count": 20,
   "metadata": {},
   "outputs": [
    {
     "data": {
      "text/plain": [
       "\u001b[1;31mSignature:\u001b[0m \u001b[0msumproduct\u001b[0m\u001b[1;33m(\u001b[0m\u001b[0mlistOne\u001b[0m\u001b[1;33m,\u001b[0m \u001b[0mlistTwo\u001b[0m\u001b[1;33m)\u001b[0m\u001b[1;33m\u001b[0m\u001b[1;33m\u001b[0m\u001b[0m\n",
       "\u001b[1;31mDocstring:\u001b[0m <no docstring>\n",
       "\u001b[1;31mSource:\u001b[0m   \n",
       "\u001b[1;32mdef\u001b[0m \u001b[0msumproduct\u001b[0m\u001b[1;33m(\u001b[0m\u001b[0mlistOne\u001b[0m\u001b[1;33m,\u001b[0m \u001b[0mlistTwo\u001b[0m\u001b[1;33m)\u001b[0m\u001b[1;33m:\u001b[0m\u001b[1;33m\n",
       "\u001b[0m    \u001b[0mtotal\u001b[0m \u001b[1;33m=\u001b[0m \u001b[1;36m0\u001b[0m\u001b[1;33m\n",
       "\u001b[0m    \u001b[1;32mfor\u001b[0m \u001b[0mi\u001b[0m \u001b[1;32min\u001b[0m \u001b[0mrange\u001b[0m\u001b[1;33m(\u001b[0m\u001b[0mlen\u001b[0m\u001b[1;33m(\u001b[0m\u001b[0mlistOne\u001b[0m\u001b[1;33m)\u001b[0m\u001b[1;33m)\u001b[0m\u001b[1;33m:\u001b[0m\u001b[1;33m\n",
       "\u001b[0m        \u001b[0mproduct\u001b[0m \u001b[1;33m=\u001b[0m \u001b[0mint\u001b[0m\u001b[1;33m(\u001b[0m\u001b[0mlistOne\u001b[0m\u001b[1;33m[\u001b[0m\u001b[0mi\u001b[0m\u001b[1;33m]\u001b[0m\u001b[1;33m*\u001b[0m\u001b[0mlistTwo\u001b[0m\u001b[1;33m[\u001b[0m\u001b[0mi\u001b[0m\u001b[1;33m]\u001b[0m\u001b[1;33m)\u001b[0m\u001b[1;33m\n",
       "\u001b[0m        \u001b[0mtotal\u001b[0m \u001b[1;33m+=\u001b[0m\u001b[0mproduct\u001b[0m\u001b[1;33m\n",
       "\u001b[0m    \u001b[0mprint\u001b[0m\u001b[1;33m(\u001b[0m\u001b[1;34mf\"The sumproduct is {total}\"\u001b[0m\u001b[1;33m)\u001b[0m\u001b[1;33m\u001b[0m\u001b[1;33m\u001b[0m\u001b[0m\n",
       "\u001b[1;31mFile:\u001b[0m      c:\\users\\ziaur\\google drive\\starting out with python\\<ipython-input-18-6fda0eca4252>\n",
       "\u001b[1;31mType:\u001b[0m      function\n"
      ]
     },
     "metadata": {},
     "output_type": "display_data"
    }
   ],
   "source": []
  }
 ],
 "metadata": {
  "kernelspec": {
   "display_name": "Python 3",
   "language": "python",
   "name": "python3"
  },
  "language_info": {
   "codemirror_mode": {
    "name": "ipython",
    "version": 3
   },
   "file_extension": ".py",
   "mimetype": "text/x-python",
   "name": "python",
   "nbconvert_exporter": "python",
   "pygments_lexer": "ipython3",
   "version": "3.7.3"
  }
 },
 "nbformat": 4,
 "nbformat_minor": 2
}
