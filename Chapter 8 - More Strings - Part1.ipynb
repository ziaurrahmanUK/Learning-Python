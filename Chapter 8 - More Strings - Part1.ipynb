{
 "cells": [
  {
   "cell_type": "markdown",
   "metadata": {},
   "source": [
    "# Basic String Operations"
   ]
  },
  {
   "cell_type": "raw",
   "metadata": {},
   "source": [
    "Many python ways to access individual characters of a string\n",
    "Strings have their own methods too (not just input ie read from\n",
    "keyboard/files and output ie to screen/files ones)\n",
    "Many programs work with strings e.g Word Processors, Search engines & email programs.\n",
    "strings are actually a sequence of chars! so sequencing works on them"
   ]
  },
  {
   "cell_type": "markdown",
   "metadata": {},
   "source": [
    "### Accessing Individual Characters\n",
    "\n",
    "Some programs require individual chars in a string eg password checker on websites.\n",
    "Two Python Techniques to access individual char's:\n",
    "    1. for loop\n",
    "    2. indexing"
   ]
  },
  {
   "cell_type": "markdown",
   "metadata": {},
   "source": [
    "### for Loop"
   ]
  },
  {
   "cell_type": "raw",
   "metadata": {},
   "source": [
    "for variable in string:    ### string is str literal or var that references a string\n",
    "    statement1\n",
    "    statement2\n",
    "    statement3 etc         ### the loop iterates over the characters in the string"
   ]
  },
  {
   "cell_type": "code",
   "execution_count": 11,
   "metadata": {},
   "outputs": [
    {
     "name": "stdout",
     "output_type": "stream",
     "text": [
      "Z-i-a-u-r- -R-a-h-m-a-n-"
     ]
    }
   ],
   "source": [
    "# an example using for LOOP\n",
    "\n",
    "name = \"Ziaur Rahman\"\n",
    "\n",
    "for char in name:\n",
    "    print(char, end = '-')\n"
   ]
  },
  {
   "cell_type": "code",
   "execution_count": 17,
   "metadata": {},
   "outputs": [
    {
     "name": "stdout",
     "output_type": "stream",
     "text": [
      "Ziaur Rahman\n",
      "Ziaur Rahman\n",
      "Ziaur Rahman\n",
      "Ziaur Rahman\n",
      "Ziaur Rahman\n",
      "Ziaur Rahman\n",
      "Ziaur Rahman\n",
      "Ziaur Rahman\n",
      "Ziaur Rahman\n",
      "Ziaur Rahman\n",
      "Ziaur Rahman\n",
      "Ziaur Rahman\n"
     ]
    }
   ],
   "source": [
    "##  char references a character from the variable,\n",
    "##  Hence, if we change the referenced char, the original variable doesnt change\n",
    "\n",
    "name = \"Ziaur Rahman\"\n",
    "\n",
    "for char in name:\n",
    "    char = 'ZZ'\n",
    "    print(name)\n"
   ]
  },
  {
   "cell_type": "code",
   "execution_count": 3,
   "metadata": {},
   "outputs": [
    {
     "name": "stdout",
     "output_type": "stream",
     "text": [
      "Type a sentence: yyyyyyyyyyyyyy\n",
      "The letter y or Y occured 14 time(s)\n"
     ]
    }
   ],
   "source": [
    "# Count occurence of a specific char ie e or E\n",
    "\n",
    "def main():\n",
    "    count = 0\n",
    "    string = input(\"Type a sentence: \")\n",
    "    \n",
    "    for char in string:\n",
    "        if char == 'y' or char == 'Y':\n",
    "            count += 1\n",
    "            \n",
    "    print(f'The letter y or Y occured {count} time(s)')\n",
    "    \n",
    "main()"
   ]
  },
  {
   "cell_type": "markdown",
   "metadata": {},
   "source": [
    "### Indexing\n",
    "Can also use index to access part5icular char. the string has index starting\n",
    "at zero up to [len(string)] - 1"
   ]
  },
  {
   "cell_type": "code",
   "execution_count": 7,
   "metadata": {},
   "outputs": [
    {
     "data": {
      "text/plain": [
       "'s'"
      ]
     },
     "execution_count": 7,
     "metadata": {},
     "output_type": "execute_result"
    }
   ],
   "source": [
    "# An example\n",
    "\n",
    "string = 'Roses are Red'\n",
    "characterFive = string[4]\n",
    "characterFive"
   ]
  },
  {
   "cell_type": "code",
   "execution_count": 9,
   "metadata": {},
   "outputs": [
    {
     "name": "stdout",
     "output_type": "stream",
     "text": [
      "R*e*d\n"
     ]
    }
   ],
   "source": [
    "string = 'Roses are Red'\n",
    "print(string[0], string[3], string[-1], sep = \"*\")"
   ]
  },
  {
   "cell_type": "code",
   "execution_count": 11,
   "metadata": {},
   "outputs": [
    {
     "ename": "IndexError",
     "evalue": "string index out of range",
     "output_type": "error",
     "traceback": [
      "\u001b[1;31m---------------------------------------------------------------------------\u001b[0m",
      "\u001b[1;31mIndexError\u001b[0m                                Traceback (most recent call last)",
      "\u001b[1;32m<ipython-input-11-dd6785187c7c>\u001b[0m in \u001b[0;36m<module>\u001b[1;34m\u001b[0m\n\u001b[0;32m      1\u001b[0m \u001b[0mlen\u001b[0m\u001b[1;33m(\u001b[0m\u001b[0mstring\u001b[0m\u001b[1;33m)\u001b[0m\u001b[1;33m\u001b[0m\u001b[1;33m\u001b[0m\u001b[0m\n\u001b[1;32m----> 2\u001b[1;33m \u001b[0mstring\u001b[0m\u001b[1;33m[\u001b[0m\u001b[1;36m13\u001b[0m\u001b[1;33m]\u001b[0m\u001b[1;33m\u001b[0m\u001b[1;33m\u001b[0m\u001b[0m\n\u001b[0m",
      "\u001b[1;31mIndexError\u001b[0m: string index out of range"
     ]
    }
   ],
   "source": [
    "len(string)\n",
    "string[13]"
   ]
  },
  {
   "cell_type": "raw",
   "metadata": {},
   "source": [
    "IndexError:  string index out of range \n",
    "Usually occur when a loop incorrectly oterates beyond the end of s string.\n",
    "Use the len() to prevent this from happening"
   ]
  },
  {
   "cell_type": "markdown",
   "metadata": {},
   "source": [
    "### String Concatenation ie append one string to another"
   ]
  },
  {
   "cell_type": "code",
   "execution_count": 14,
   "metadata": {},
   "outputs": [
    {
     "name": "stdout",
     "output_type": "stream",
     "text": [
      "Ziaur_Rahman\n"
     ]
    }
   ],
   "source": [
    "# example of concatenation\n",
    "full_name = \"Ziaur\" + \"_\" + \"Rahman\"\n",
    "print(full_name)"
   ]
  },
  {
   "cell_type": "code",
   "execution_count": 16,
   "metadata": {},
   "outputs": [
    {
     "name": "stdout",
     "output_type": "stream",
     "text": [
      "abcdef_GHIJKL\n"
     ]
    }
   ],
   "source": [
    "# another example\n",
    "\n",
    "letters = 'abcdef'\n",
    "letters += '_GHIJKL'\n",
    "print(letters)"
   ]
  },
  {
   "cell_type": "code",
   "execution_count": 17,
   "metadata": {},
   "outputs": [
    {
     "name": "stdout",
     "output_type": "stream",
     "text": [
      "Ziaur_Rahman_is_Studying_at_ABS\n"
     ]
    }
   ],
   "source": [
    "# Final example\n",
    "\n",
    "sentence = 'Ziaur'\n",
    "sentence += '_Rahman'\n",
    "sentence += '_is_'\n",
    "sentence += 'Studying_at_ABS'\n",
    "print(sentence)"
   ]
  },
  {
   "cell_type": "markdown",
   "metadata": {},
   "source": [
    "## Strings are Immutable\n",
    "    Therfore they cannot be changed after creation. But we can use concatenation\n",
    "    which appears to make them mutable (BUT they are not!)\n",
    "    we are just referencing the variable to a new concatenated version.\n",
    "   Therfore we cannot do string(index)  = 'something else'\n",
    "   We will raise an TypeError: 'str' object does... exception"
   ]
  },
  {
   "cell_type": "code",
   "execution_count": 18,
   "metadata": {},
   "outputs": [
    {
     "ename": "TypeError",
     "evalue": "'str' object does not support item assignment",
     "output_type": "error",
     "traceback": [
      "\u001b[1;31m---------------------------------------------------------------------------\u001b[0m",
      "\u001b[1;31mTypeError\u001b[0m                                 Traceback (most recent call last)",
      "\u001b[1;32m<ipython-input-18-b5e0de5f0f38>\u001b[0m in \u001b[0;36m<module>\u001b[1;34m\u001b[0m\n\u001b[0;32m      1\u001b[0m \u001b[1;31m# example\u001b[0m\u001b[1;33m\u001b[0m\u001b[1;33m\u001b[0m\u001b[1;33m\u001b[0m\u001b[0m\n\u001b[0;32m      2\u001b[0m \u001b[0mname\u001b[0m \u001b[1;33m=\u001b[0m \u001b[1;34m\"Ziaur\"\u001b[0m\u001b[1;33m\u001b[0m\u001b[1;33m\u001b[0m\u001b[0m\n\u001b[1;32m----> 3\u001b[1;33m \u001b[0mname\u001b[0m\u001b[1;33m[\u001b[0m\u001b[1;36m0\u001b[0m\u001b[1;33m]\u001b[0m \u001b[1;33m=\u001b[0m \u001b[1;34m'X'\u001b[0m\u001b[1;33m\u001b[0m\u001b[1;33m\u001b[0m\u001b[0m\n\u001b[0m",
      "\u001b[1;31mTypeError\u001b[0m: 'str' object does not support item assignment"
     ]
    }
   ],
   "source": [
    "# example\n",
    "name = \"Ziaur\"\n",
    "name[0] = 'X'"
   ]
  },
  {
   "cell_type": "markdown",
   "metadata": {},
   "source": [
    "### String Slicing"
   ]
  },
  {
   "cell_type": "raw",
   "metadata": {},
   "source": [
    "Slicing expression to select range of char's of a string\n",
    "string[start : end: STEP]  ## up to the end but not incuding the end character!\n",
    "\n",
    "invalid indexes dont cause exception to be raised - as before for sequences"
   ]
  },
  {
   "cell_type": "code",
   "execution_count": 21,
   "metadata": {},
   "outputs": [],
   "source": [
    "# an example\n",
    "\n",
    "alphabet = 'ABCDEFGHIJKLMNOPQRSTUVWXYZ'"
   ]
  },
  {
   "cell_type": "code",
   "execution_count": 22,
   "metadata": {},
   "outputs": [
    {
     "data": {
      "text/plain": [
       "'ACEGIKMOQSUWY'"
      ]
     },
     "execution_count": 22,
     "metadata": {},
     "output_type": "execute_result"
    }
   ],
   "source": [
    "alphabet[::2]"
   ]
  },
  {
   "cell_type": "code",
   "execution_count": 23,
   "metadata": {},
   "outputs": [
    {
     "name": "stdout",
     "output_type": "stream",
     "text": [
      "Please enter your firstname: Ziaur\n",
      "Please enter your surname: Rahman\n",
      "Please enter your studentID: 180191912\n",
      "Your system login name is: \n",
      "ZiaRah912\n"
     ]
    }
   ],
   "source": [
    "# Password Generator\n",
    "def main():\n",
    "    firstname = input(\"Please enter your firstname: \")\n",
    "    surname = input(\"Please enter your surname: \")\n",
    "    studentID = input(\"Please enter your studentID: \")\n",
    "    \n",
    "    print('Your system login name is: ')\n",
    "    print(password_Generator(firstname, surname, studentID))   \n",
    "\n",
    "def password_Generator(firstname, surname, studentID):\n",
    "    firstPart = firstname[0 : 3]\n",
    "    secondPart = surname[0 : 3]\n",
    "    thirdPart = studentID[-3: ]\n",
    "    \n",
    "    loginName = firstPart + secondPart + thirdPart\n",
    "    \n",
    "    return loginName\n",
    "    \n",
    "main()"
   ]
  },
  {
   "cell_type": "markdown",
   "metadata": {},
   "source": [
    "## Testing. Searching and Manipulating Strings"
   ]
  },
  {
   "cell_type": "raw",
   "metadata": {},
   "source": [
    "Python has operators & methods on strings:\n",
    "    1. testing \n",
    "    2. searching contents\n",
    "    3. getting modified copies"
   ]
  },
  {
   "cell_type": "markdown",
   "metadata": {},
   "source": [
    "#### Testing strings with 'in' and 'not in'"
   ]
  },
  {
   "cell_type": "raw",
   "metadata": {},
   "source": [
    "string1 in string2 ## returns True or False"
   ]
  },
  {
   "cell_type": "code",
   "execution_count": 37,
   "metadata": {},
   "outputs": [
    {
     "name": "stdout",
     "output_type": "stream",
     "text": [
      "False True\n"
     ]
    }
   ],
   "source": [
    "print('heven' in 'there is seven', 'seven' in 'there is seven')"
   ]
  },
  {
   "cell_type": "raw",
   "metadata": {},
   "source": [
    "string1 not in string2 ## returns True or False"
   ]
  },
  {
   "cell_type": "code",
   "execution_count": 39,
   "metadata": {},
   "outputs": [
    {
     "name": "stdout",
     "output_type": "stream",
     "text": [
      "True False\n"
     ]
    }
   ],
   "source": [
    "print('heven' not in 'there is seven', 'seven' not in 'there is seven')"
   ]
  },
  {
   "cell_type": "markdown",
   "metadata": {},
   "source": [
    "#### String methods"
   ]
  },
  {
   "cell_type": "raw",
   "metadata": {},
   "source": [
    "Re: method belongs to the object and performs operations on that object\n",
    "Below are just SOME string methods - (see python docs for more!)\n",
    "        1. testing values\n",
    "        2. verious modifications\n",
    "        3. searching substrings\n",
    "        4. replacing sequences of characters"
   ]
  },
  {
   "cell_type": "raw",
   "metadata": {},
   "source": [
    "general format:\n",
    "\n",
    "stringvar.method(arguments)"
   ]
  },
  {
   "cell_type": "markdown",
   "metadata": {},
   "source": [
    "# String Testing Methods"
   ]
  },
  {
   "cell_type": "raw",
   "metadata": {},
   "source": [
    "# below return True or False:\n",
    "1 - isalnum() -- checks if string len >=1 and alphabetic or numeric\n",
    "2 - isalpha() -- checks if string len >=1 and alphabetic only\n",
    "3 - isdigit() -- checks if string len >=1 and numeric only\n",
    "4 - islower() -- checks if string len >=1 aphabetic and lowercase\n",
    "5 - isupper() -- checks if string len >=1 alphabetic and UPPERCASE\n",
    "6 - isspace() -- checks if string contains at least 1 char and whitespace ONLY (ie space, \\n, \\t"
   ]
  },
  {
   "cell_type": "code",
   "execution_count": 45,
   "metadata": {},
   "outputs": [
    {
     "name": "stdout",
     "output_type": "stream",
     "text": [
      "Please enter a string to check: abc\n",
      "alphanumeric\n",
      "alphabetic chars only\n",
      "lower case only\n",
      "Please enter a string to check: 123\n",
      "alphanumeric\n",
      "numeric only\n",
      "Please enter a string to check: 123ABC\n",
      "alphanumeric\n",
      "Upper case only \n",
      "Please enter a string to check: 123abc\n",
      "alphanumeric\n",
      "lower case only\n",
      "Please enter a string to check:    \n",
      "contains only whitespace\n"
     ]
    }
   ],
   "source": [
    "# An example\n",
    "def main():\n",
    "    \n",
    "    user_string = input('Please enter a string to check: ')\n",
    "    \n",
    "    if user_string.isalnum():\n",
    "        print('alphanumeric')\n",
    "    if user_string.isalpha():\n",
    "        print('alphabetic chars only')\n",
    "    if user_string.isdigit():\n",
    "        print('numeric only')\n",
    "    if user_string.islower():\n",
    "        print('lower case only')\n",
    "    if user_string.isupper():\n",
    "        print('Upper case only ')\n",
    "    if user_string.isspace():\n",
    "        print('contains only whitespace')\n",
    "\n",
    "main()\n",
    "main()\n",
    "main()\n",
    "main()\n",
    "main()"
   ]
  },
  {
   "cell_type": "markdown",
   "metadata": {},
   "source": [
    "# Modification Methods "
   ]
  },
  {
   "cell_type": "raw",
   "metadata": {},
   "source": [
    "Strings are immutablem but some methods that return modified versions\n",
    "Below are some:-\n",
    "\n",
    "1 - lower() --- copy of string with letters coverted to lowercase, if already lower - does nothing\n",
    "2 - upper() --- copy of string with letters coverted to uppercase, if already upper - does nothing\n",
    "\n",
    "3 - lstrip(char) --- returns string with all instances of char at beginning removed\n",
    "4 - rstrip(char) --- returns string with all instances of char at end removed\n",
    "5 - strip(char)  --- returns string with all instances of char at beginning & end removed\n",
    "\n",
    "6 - lstrip()  --- returns string with all instances of whitespace chars at beginning removed\n",
    "7 - rstrip()  --- returns string with all instances of whitespace chars at end removed\n",
    "8 - strip()   --- returns string with all instances of whitespace chars at beginning & end removed\n"
   ]
  },
  {
   "cell_type": "code",
   "execution_count": 52,
   "metadata": {},
   "outputs": [
    {
     "name": "stdout",
     "output_type": "stream",
     "text": [
      "123abcd efghijkl 45678\n",
      "123ABCD EFGHIJKL 45678\n",
      "123ABCD efghijkl 45678\n",
      "123ABCD efghijkl 45678\n",
      "123ABCD efghijkl 45678\n",
      "123ABCD efghijkl 45678\n",
      "123ABCD efghijkl 45678\n",
      "123ABCD efghijkl 45678\n"
     ]
    }
   ],
   "source": [
    "# example using the above:\n",
    "string = '123ABCD efghijkl 45678'\n",
    "print(string.lower())\n",
    "print(string.upper())\n",
    "print(string.lstrip())\n",
    "print(string.rstrip())\n",
    "print(string.strip())\n",
    "print(string.lstrip('B'))\n",
    "print(string.rstrip('e'))\n",
    "print(string.strip('A'))"
   ]
  },
  {
   "cell_type": "markdown",
   "metadata": {},
   "source": [
    "# Searching and Replacing"
   ]
  },
  {
   "cell_type": "raw",
   "metadata": {},
   "source": [
    "Common to search for substrings, or string within a string\n",
    "## note below are all strings given as arguments\n",
    "\n",
    "1 - endswith(substring) --- True if string ends with substring\n",
    "2 - find(substring) --- returns lowest index where substring found. if not found returns -1\n",
    "3 - replace(old, new) --- returns copy of string with all instances of old replaced with new\n",
    "4 - startswith(substring) --- True if string starts with substring"
   ]
  },
  {
   "cell_type": "code",
   "execution_count": 2,
   "metadata": {},
   "outputs": [
    {
     "name": "stdout",
     "output_type": "stream",
     "text": [
      "Enter full filename to search: spreadsheet.xls\n",
      "That is an unknown file type\n"
     ]
    }
   ],
   "source": [
    "# testing endswith(substring)\n",
    "\n",
    "filename = input('Enter full filename to search: ')\n",
    "\n",
    "if filename.endswith('.txt'):\n",
    "    print('That is a text file')\n",
    "elif filename.endswith('.py'):\n",
    "    print('That is a Python file')\n",
    "elif filename.endswith('.doc'):\n",
    "    print('That is a word doc file')\n",
    "else:\n",
    "    print('That is an unknown file type')"
   ]
  },
  {
   "cell_type": "code",
   "execution_count": 61,
   "metadata": {},
   "outputs": [
    {
     "name": "stdout",
     "output_type": "stream",
     "text": [
      "The word \"seven\" found at position 15\n"
     ]
    }
   ],
   "source": [
    "string = 'Four score and seven years ago'\n",
    "\n",
    "position = string.find('seven')\n",
    "\n",
    "if position !=-1:\n",
    "    print(f'The word \"seven\" found at position {position}')\n",
    "else:\n",
    "    print('Sorry not found')\n",
    "    "
   ]
  },
  {
   "cell_type": "markdown",
   "metadata": {},
   "source": [
    "## Repetition Operator"
   ]
  },
  {
   "cell_type": "raw",
   "metadata": {},
   "source": [
    "if you wish to repeat a string you can do:"
   ]
  },
  {
   "cell_type": "raw",
   "metadata": {},
   "source": [
    "string_to_copy * n   ## n is an integer"
   ]
  },
  {
   "cell_type": "code",
   "execution_count": 63,
   "metadata": {},
   "outputs": [
    {
     "name": "stdout",
     "output_type": "stream",
     "text": [
      "|\n",
      "||\n",
      "|||\n",
      "||||\n",
      "|||||\n",
      "||||||\n",
      "|||||||\n",
      "||||||||\n",
      "|||||||||\n",
      "||||||||||\n",
      "|||||||||\n",
      "||||||||\n",
      "|||||||\n",
      "||||||\n",
      "|||||\n",
      "||||\n",
      "|||\n",
      "||\n"
     ]
    }
   ],
   "source": [
    "def main():\n",
    "    for count in range(1,10):\n",
    "        print('|' * count )\n",
    "    for count in range( 10, 1, -1):\n",
    "        print('|' * count )\n",
    "main()\n",
    "    "
   ]
  },
  {
   "cell_type": "markdown",
   "metadata": {},
   "source": [
    "## Splitting a String"
   ]
  },
  {
   "cell_type": "raw",
   "metadata": {},
   "source": [
    "If you need a list back from splitting a string, use the .split(argument) method\n",
    "By default split on space, but if wish to split on different seperator - pass\n",
    "it as an argument. Below is an example:"
   ]
  },
  {
   "cell_type": "code",
   "execution_count": 65,
   "metadata": {},
   "outputs": [
    {
     "name": "stdout",
     "output_type": "stream",
     "text": [
      "['Once', 'Upon', 'A', 'Time']\n"
     ]
    }
   ],
   "source": [
    "def main():\n",
    "    sentence = 'Once Upon A Time'\n",
    "    \n",
    "    word_list = sentence.split()\n",
    "    print(word_list)\n",
    "main()"
   ]
  },
  {
   "cell_type": "code",
   "execution_count": 69,
   "metadata": {},
   "outputs": [
    {
     "name": "stdout",
     "output_type": "stream",
     "text": [
      "The Day is: 14\n",
      "The Month is: 05\n",
      "The Year is: 2019\n"
     ]
    }
   ],
   "source": [
    "date_string = '14/05/2019'\n",
    "date_split = date_string.split('/')\n",
    "print(f'The Day is: {date_split[0]}')\n",
    "print(f'The Month is: {date_split[1]}')\n",
    "print(f'The Year is: {date_split[2]}')"
   ]
  },
  {
   "cell_type": "markdown",
   "metadata": {},
   "source": [
    "### examples"
   ]
  },
  {
   "cell_type": "code",
   "execution_count": 70,
   "metadata": {},
   "outputs": [
    {
     "data": {
      "text/plain": [
       "False"
      ]
     },
     "execution_count": 70,
     "metadata": {},
     "output_type": "execute_result"
    }
   ],
   "source": [
    "'d' in 'my_string'"
   ]
  },
  {
   "cell_type": "code",
   "execution_count": 72,
   "metadata": {},
   "outputs": [
    {
     "name": "stdout",
     "output_type": "stream",
     "text": [
      "hi there! Hi there!\n"
     ]
    }
   ],
   "source": [
    "big = 'Hi there!'\n",
    "little = big.lower()\n",
    "print(little, big)"
   ]
  },
  {
   "cell_type": "code",
   "execution_count": 74,
   "metadata": {},
   "outputs": [
    {
     "name": "stdout",
     "output_type": "stream",
     "text": [
      "Digit\n"
     ]
    }
   ],
   "source": [
    "ch = '123'\n",
    "if ch.isdigit():\n",
    "    print('Digit')\n",
    "else:\n",
    "    print('No Digit')"
   ]
  },
  {
   "cell_type": "code",
   "execution_count": 77,
   "metadata": {},
   "outputs": [
    {
     "name": "stdout",
     "output_type": "stream",
     "text": [
      "$\n"
     ]
    }
   ],
   "source": [
    "var = '$'\n",
    "print(var.upper())"
   ]
  },
  {
   "cell_type": "code",
   "execution_count": 79,
   "metadata": {},
   "outputs": [
    {
     "data": {
      "text/plain": [
       "['Monday', 'Tuesday', 'Wednesday']"
      ]
     },
     "execution_count": 79,
     "metadata": {},
     "output_type": "execute_result"
    }
   ],
   "source": [
    "days = 'Monday Tuesday Wednesday'\n",
    "days_list = days.split()\n",
    "days_list"
   ]
  },
  {
   "cell_type": "code",
   "execution_count": 80,
   "metadata": {},
   "outputs": [
    {
     "data": {
      "text/plain": [
       "['one', 'two', 'three']"
      ]
     },
     "execution_count": 80,
     "metadata": {},
     "output_type": "execute_result"
    }
   ],
   "source": [
    "values = 'one$two$three'\n",
    "values_list = values.split('$')\n",
    "values_list"
   ]
  },
  {
   "cell_type": "code",
   "execution_count": null,
   "metadata": {},
   "outputs": [],
   "source": []
  }
 ],
 "metadata": {
  "kernelspec": {
   "display_name": "Python 3",
   "language": "python",
   "name": "python3"
  },
  "language_info": {
   "codemirror_mode": {
    "name": "ipython",
    "version": 3
   },
   "file_extension": ".py",
   "mimetype": "text/x-python",
   "name": "python",
   "nbconvert_exporter": "python",
   "pygments_lexer": "ipython3",
   "version": "3.7.3"
  }
 },
 "nbformat": 4,
 "nbformat_minor": 2
}
