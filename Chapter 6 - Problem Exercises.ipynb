{
 "cells": [
  {
   "cell_type": "code",
   "execution_count": null,
   "metadata": {},
   "outputs": [],
   "source": [
    "file = open('./data/my_name.txt', 'a')\n",
    "file.write('Ziaur Rahman\\n')\n",
    "file.close()"
   ]
  },
  {
   "cell_type": "code",
   "execution_count": null,
   "metadata": {},
   "outputs": [],
   "source": [
    "def main():\n",
    "    try:\n",
    "        fileSearch = input('Please enter the filename to be found')\n",
    "        fileOpen = open(fileSearch, 'r')\n",
    "        fileOpen.close()\n",
    "    except FileNotFoundError:\n",
    "        print('That file could not be found')\n",
    "\n",
    "main()"
   ]
  },
  {
   "cell_type": "code",
   "execution_count": null,
   "metadata": {},
   "outputs": [],
   "source": [
    "def main():\n",
    "    fileToOpen = input('Please enter filename: ')\n",
    "    \n",
    "    try:\n",
    "        f = open(fileToOpen, 'r')\n",
    "        contents = f.read()\n",
    "        print(contents)\n",
    "        f.close()\n",
    "    except FileNotFoundError:\n",
    "        \n",
    "        f = open(fileToOpen,'w')\n",
    "        f.write('File is opened in write mode\\n')\n",
    "        f.close()\n",
    "\n",
    "main()"
   ]
  },
  {
   "cell_type": "raw",
   "metadata": {},
   "source": [
    "Write code that does the following: opens the number_list.txt file that was created by the code you wrote in question 3, reads all of the numbers from the file and displays them, and then closes the file. "
   ]
  },
  {
   "cell_type": "code",
   "execution_count": null,
   "metadata": {},
   "outputs": [],
   "source": [
    "def main():\n",
    "    f = open('./data/Numbers_List.txt', 'r')\n",
    "    \n",
    "    for line in f:\n",
    "        line = line.rstrip('\\n')\n",
    "        print(line)\n",
    "    f.close()\n",
    "    \n",
    "main()"
   ]
  },
  {
   "cell_type": "raw",
   "metadata": {},
   "source": [
    "Modify the code that you wrote in question 4 so it adds all of the numbers read from the file and displays their total"
   ]
  },
  {
   "cell_type": "code",
   "execution_count": null,
   "metadata": {},
   "outputs": [],
   "source": [
    "def main():\n",
    "    f = open('./data/Numbers_List.txt', 'r')\n",
    "    total = 0\n",
    "    \n",
    "    for line in f:\n",
    "        line = float(line)\n",
    "        total += line\n",
    "    print(f'The total is {total:.2f}')\n",
    "    f.close()\n",
    "    \n",
    "main()"
   ]
  },
  {
   "cell_type": "raw",
   "metadata": {},
   "source": [
    "Write code that opens an output file with the filename number_list.txt, but does not erase the file’s contents if it already exists. "
   ]
  },
  {
   "cell_type": "code",
   "execution_count": null,
   "metadata": {},
   "outputs": [],
   "source": [
    "def main():\n",
    "    try:\n",
    "        f = open('./data/Numbers_List.txt', 'r')\n",
    "        \n",
    "    except FileNotFoundError:       \n",
    "        f = open('./data/Numbers_List.txt', 'a')\n",
    "        \n",
    "    finally:\n",
    "        f.close()\n",
    "    \n",
    "main()"
   ]
  },
  {
   "cell_type": "raw",
   "metadata": {},
   "source": [
    "A file exists on the disk named students.txt. The file contains several records, \n",
    "and each record contains two fields: (1) the student’s name, and (2) the student’s \n",
    "score for the final exam. Write code that deletes the record containing “John Perz”\n",
    "as the student name."
   ]
  },
  {
   "cell_type": "code",
   "execution_count": null,
   "metadata": {},
   "outputs": [],
   "source": [
    "import os\n",
    "\n",
    "def main():\n",
    "    found = False\n",
    "    \n",
    "    searchItem = input('Please enter name of record to delete: ')\n",
    "    f = open('./data/students.txt', 'r')\n",
    "    temp = open('./data/tempfile.txt', 'w')\n",
    "    \n",
    "    studentName = f.readline()\n",
    "\n",
    "    while studentName !='':\n",
    "        studentScore = f.readline()\n",
    "        studentName = studentName.rstrip('\\n')\n",
    "\n",
    "        if studentName !=searchItem:\n",
    "            temp.write(studentName + '\\n')\n",
    "            temp.write(str(studentScore + '\\n'))\n",
    "        else:\n",
    "            found = True\n",
    "\n",
    "        studentName = f.readline()\n",
    "    \n",
    "    f.close()\n",
    "    temp.close()\n",
    "\n",
    "    os.remove('./data/students.txt')\n",
    "    os.rename('./data/tempfile.txt', './data/students.txt')\n",
    "    \n",
    "    if found:\n",
    "        print('The file has been updated')\n",
    "    else:\n",
    "        print('The name was not found')\n",
    "\n",
    "main()"
   ]
  },
  {
   "cell_type": "raw",
   "metadata": {},
   "source": [
    "A file exists on the disk named students.txt. The file contains several records, and each record contains two fields: (1) the student’s name, and (2) the student’s score for the final exam. Write code that changes Ziaur Rahman’s score to 100"
   ]
  },
  {
   "cell_type": "code",
   "execution_count": null,
   "metadata": {},
   "outputs": [],
   "source": [
    "import os\n",
    "\n",
    "def main():\n",
    "    found = False\n",
    "    searchItem = input('Please enter name of record to delete: ')\n",
    "    newScore = float(input('Please enter the score for them'))\n",
    "    \n",
    "    f = open('./data/students.txt', 'r')\n",
    "    temp = open('./data/tempfile.txt', 'w')\n",
    "    \n",
    "    studentName = f.readline()\n",
    "    \n",
    "    while studentName !='':\n",
    "        studentName = studentName.rstrip('\\n')\n",
    "        studentScore = f.readline()\n",
    "        \n",
    "        if studentName == searchItem:\n",
    "            found = True\n",
    "            temp.write(searchItem + '\\n')\n",
    "            temp.write(str(newScore + '\\n')\n",
    "        else:\n",
    "            temp.write(studentName + '\\n')\n",
    "            temp.write(str(studentScore + '\\n')))\n",
    "        \n",
    "    studentName = f.readline()\n",
    "    \n",
    "    f.close()\n",
    "    temp.close()\n",
    "\n",
    "    os.remove('./data/students.txt')\n",
    "    os.rename('./data/tempfile.txt', './data/students.txt')\n",
    "    \n",
    "    if foundName:\n",
    "        print('The file has been updated')\n",
    "    else:\n",
    "        print('The name was not found')\n",
    "\n",
    "import os\n",
    "main()"
   ]
  },
  {
   "cell_type": "raw",
   "metadata": {},
   "source": [
    "File Head Display\n",
    "Write a program that asks the user for the name of a file. The program should display only\n",
    "the first five lines of the file’s contents. If the file contains less than five lines, it should\n",
    "display the file’s entire contents."
   ]
  },
  {
   "cell_type": "code",
   "execution_count": 10,
   "metadata": {},
   "outputs": [
    {
     "name": "stdout",
     "output_type": "stream",
     "text": [
      "Enter the file name: Sales_Figures\n",
      "-10\n",
      "20\n",
      "30\n",
      "100\n",
      "200\n"
     ]
    }
   ],
   "source": [
    "def main():\n",
    "    file = input('Enter the file name: ')\n",
    "    f = open('./data/' + file + '.txt', 'r')\n",
    "           \n",
    "    for count in range(1,6):\n",
    "        line = f.readline()\n",
    "        line = line.rstrip('\\n')\n",
    "        print(line)\n",
    "    \n",
    "    f.close()\n",
    "   \n",
    "main()"
   ]
  },
  {
   "cell_type": "raw",
   "metadata": {},
   "source": [
    "Line numbers\n",
    "Write a program that asks the user for the name of a file. The program should display the\n",
    "contents of the file with each line preceded with a line number followed by a colon. The\n",
    "line numbering should start at 1."
   ]
  },
  {
   "cell_type": "code",
   "execution_count": 29,
   "metadata": {},
   "outputs": [
    {
     "name": "stdout",
     "output_type": "stream",
     "text": [
      "Enter the file name: Sales_figures\n",
      "0:-10\n",
      "\n",
      "1:20\n",
      "\n",
      "2:30\n",
      "\n",
      "3:100\n",
      "\n",
      "4:200\n",
      "\n",
      "5:300\n",
      "\n",
      "6:101\n",
      "\n",
      "7:201\n",
      "\n",
      "8:301\n",
      "\n"
     ]
    }
   ],
   "source": [
    "def main():\n",
    "    file = input('Enter the file name: ')\n",
    "    f = open('./data/' + file + '.txt', 'r')\n",
    "    \n",
    "    count = 0\n",
    "    line = f.readline()\n",
    "    \n",
    "    while line !='':\n",
    "        print( str(count) + ':' + line )\n",
    "        count +=1\n",
    "        line = f.readline()\n",
    "    \n",
    "    f.close()\n",
    "   \n",
    "main()"
   ]
  },
  {
   "cell_type": "raw",
   "metadata": {},
   "source": [
    "Item Counter\n",
    "Assume that a file containing a series of names (as strings) is named names.txt and exists\n",
    "on the computer’s disk. Write a program that displays the number of names that are stored\n",
    "in the file. (Hint: Open the file and read every string stored in it. Use a variable to keep a\n",
    "count of the number of items that are read from the file.)"
   ]
  },
  {
   "cell_type": "code",
   "execution_count": 33,
   "metadata": {},
   "outputs": [
    {
     "name": "stdout",
     "output_type": "stream",
     "text": [
      "The file contains 8 names\n"
     ]
    }
   ],
   "source": [
    "def main():\n",
    "    filename = './data/names.txt'\n",
    "    f = open(filename, 'r')\n",
    "    \n",
    "    count = 0\n",
    "    while f.readline() !='':\n",
    "        count +=1\n",
    "    \n",
    "    f.close()\n",
    "    \n",
    "    print(f'The file contains {count} names')\n",
    "    \n",
    "    \n",
    "main()"
   ]
  },
  {
   "cell_type": "raw",
   "metadata": {},
   "source": [
    "sum of numbers\n",
    "Assume that a file containing a series of integers is named numbers.txt and exists on the\n",
    "computer’s disk. Write a program that reads all of the numbers stored in the file and cal-\n",
    "culates their total."
   ]
  },
  {
   "cell_type": "code",
   "execution_count": 49,
   "metadata": {},
   "outputs": [
    {
     "name": "stdout",
     "output_type": "stream",
     "text": [
      "The sum is 0\n"
     ]
    }
   ],
   "source": [
    "def main():\n",
    "    filename = './data/Numbers.txt'\n",
    "    f = open(filename, 'r')\n",
    "    \n",
    "    sum = 0\n",
    "    for value in f:\n",
    "        value = int(value)\n",
    "        sum += value\n",
    "    \n",
    "    f.close()\n",
    "    \n",
    "    print(f'The sum is {sum}')\n",
    "    \n",
    "    \n",
    "main()"
   ]
  },
  {
   "cell_type": "code",
   "execution_count": null,
   "metadata": {},
   "outputs": [],
   "source": []
  }
 ],
 "metadata": {
  "kernelspec": {
   "display_name": "Python 3",
   "language": "python",
   "name": "python3"
  },
  "language_info": {
   "codemirror_mode": {
    "name": "ipython",
    "version": 3
   },
   "file_extension": ".py",
   "mimetype": "text/x-python",
   "name": "python",
   "nbconvert_exporter": "python",
   "pygments_lexer": "ipython3",
   "version": "3.7.3"
  }
 },
 "nbformat": 4,
 "nbformat_minor": 2
}
