{
 "cells": [
  {
   "cell_type": "markdown",
   "metadata": {},
   "source": [
    "# Exceptions"
   ]
  },
  {
   "cell_type": "raw",
   "metadata": {},
   "source": [
    "An exception is an error while program is running - causes abrupt halt.\n",
    "You can use try/except statements to handle them"
   ]
  },
  {
   "cell_type": "code",
   "execution_count": 11,
   "metadata": {},
   "outputs": [
    {
     "name": "stdout",
     "output_type": "stream",
     "text": [
      "enter num1: 10\n",
      "enter num2: 0\n"
     ]
    },
    {
     "ename": "ZeroDivisionError",
     "evalue": "division by zero",
     "output_type": "error",
     "traceback": [
      "\u001b[1;31m---------------------------------------------------------------------------\u001b[0m",
      "\u001b[1;31mZeroDivisionError\u001b[0m                         Traceback (most recent call last)",
      "\u001b[1;32m<ipython-input-11-c73a203ce1a2>\u001b[0m in \u001b[0;36m<module>\u001b[1;34m\u001b[0m\n\u001b[0;32m      6\u001b[0m     \u001b[0mprint\u001b[0m\u001b[1;33m(\u001b[0m\u001b[1;34mf\"The result is {result}\"\u001b[0m\u001b[1;33m)\u001b[0m\u001b[1;33m\u001b[0m\u001b[1;33m\u001b[0m\u001b[0m\n\u001b[0;32m      7\u001b[0m \u001b[1;33m\u001b[0m\u001b[0m\n\u001b[1;32m----> 8\u001b[1;33m \u001b[0mmain\u001b[0m\u001b[1;33m(\u001b[0m\u001b[1;33m)\u001b[0m\u001b[1;33m\u001b[0m\u001b[1;33m\u001b[0m\u001b[0m\n\u001b[0m",
      "\u001b[1;32m<ipython-input-11-c73a203ce1a2>\u001b[0m in \u001b[0;36mmain\u001b[1;34m()\u001b[0m\n\u001b[0;32m      3\u001b[0m     \u001b[0mnum2\u001b[0m \u001b[1;33m=\u001b[0m \u001b[0mint\u001b[0m\u001b[1;33m(\u001b[0m\u001b[0minput\u001b[0m\u001b[1;33m(\u001b[0m\u001b[1;34m\"enter num2: \"\u001b[0m\u001b[1;33m)\u001b[0m\u001b[1;33m)\u001b[0m\u001b[1;33m\u001b[0m\u001b[1;33m\u001b[0m\u001b[0m\n\u001b[0;32m      4\u001b[0m \u001b[1;33m\u001b[0m\u001b[0m\n\u001b[1;32m----> 5\u001b[1;33m     \u001b[0mresult\u001b[0m \u001b[1;33m=\u001b[0m \u001b[0mnum1\u001b[0m \u001b[1;33m/\u001b[0m \u001b[0mnum2\u001b[0m\u001b[1;33m\u001b[0m\u001b[1;33m\u001b[0m\u001b[0m\n\u001b[0m\u001b[0;32m      6\u001b[0m     \u001b[0mprint\u001b[0m\u001b[1;33m(\u001b[0m\u001b[1;34mf\"The result is {result}\"\u001b[0m\u001b[1;33m)\u001b[0m\u001b[1;33m\u001b[0m\u001b[1;33m\u001b[0m\u001b[0m\n\u001b[0;32m      7\u001b[0m \u001b[1;33m\u001b[0m\u001b[0m\n",
      "\u001b[1;31mZeroDivisionError\u001b[0m: division by zero"
     ]
    }
   ],
   "source": [
    "def main():\n",
    "    num1 = int(input(\"enter num1: \"))\n",
    "    num2 = int(input(\"enter num2: \"))\n",
    "    \n",
    "    result = num1 / num2\n",
    "    print(f\"The result is {result}\")\n",
    "\n",
    "main()"
   ]
  },
  {
   "cell_type": "raw",
   "metadata": {},
   "source": [
    "The error above is called a traceback\n",
    "Gives info regarding line number that caused it\n",
    "An exception was raised\n",
    "The exception raised was : ZeroDivisionError: division by zero\n",
    "        exception name: ZeroDivisionError and brief description: division by zero\n",
    " \n",
    "Coding better programs can prevent exceptions, see below of revised program\n"
   ]
  },
  {
   "cell_type": "code",
   "execution_count": 12,
   "metadata": {},
   "outputs": [
    {
     "name": "stdout",
     "output_type": "stream",
     "text": [
      "enter num1: 10\n",
      "enter num2: 0\n",
      "Cannot divide by zero\n"
     ]
    }
   ],
   "source": [
    "def main():\n",
    "    num1 = int(input(\"enter num1: \"))\n",
    "    num2 = int(input(\"enter num2: \"))\n",
    "    \n",
    "    if num2 !=0:\n",
    "        result = num1 / num2\n",
    "        print(f\"The result is {result}\")\n",
    "    else:\n",
    "        print(f\"Cannot divide by zero\")\n",
    "\n",
    "main()"
   ]
  },
  {
   "cell_type": "raw",
   "metadata": {},
   "source": [
    "Some exceptions cannot be avoided - no matter how well you program the code\n",
    "See example below:"
   ]
  },
  {
   "cell_type": "code",
   "execution_count": 15,
   "metadata": {},
   "outputs": [
    {
     "name": "stdout",
     "output_type": "stream",
     "text": [
      "How many hours worked? fourty\n"
     ]
    },
    {
     "ename": "ValueError",
     "evalue": "invalid literal for int() with base 10: 'fourty'",
     "output_type": "error",
     "traceback": [
      "\u001b[1;31m---------------------------------------------------------------------------\u001b[0m",
      "\u001b[1;31mValueError\u001b[0m                                Traceback (most recent call last)",
      "\u001b[1;32m<ipython-input-15-556addff342f>\u001b[0m in \u001b[0;36m<module>\u001b[1;34m\u001b[0m\n\u001b[0;32m      6\u001b[0m \u001b[1;33m\u001b[0m\u001b[0m\n\u001b[0;32m      7\u001b[0m \u001b[1;33m\u001b[0m\u001b[0m\n\u001b[1;32m----> 8\u001b[1;33m \u001b[0mmain\u001b[0m\u001b[1;33m(\u001b[0m\u001b[1;33m)\u001b[0m\u001b[1;33m\u001b[0m\u001b[1;33m\u001b[0m\u001b[0m\n\u001b[0m",
      "\u001b[1;32m<ipython-input-15-556addff342f>\u001b[0m in \u001b[0;36mmain\u001b[1;34m()\u001b[0m\n\u001b[0;32m      1\u001b[0m \u001b[1;32mdef\u001b[0m \u001b[0mmain\u001b[0m\u001b[1;33m(\u001b[0m\u001b[1;33m)\u001b[0m\u001b[1;33m:\u001b[0m\u001b[1;33m\u001b[0m\u001b[1;33m\u001b[0m\u001b[0m\n\u001b[1;32m----> 2\u001b[1;33m     \u001b[0mhoursWorked\u001b[0m \u001b[1;33m=\u001b[0m \u001b[0mint\u001b[0m\u001b[1;33m(\u001b[0m\u001b[0minput\u001b[0m\u001b[1;33m(\u001b[0m\u001b[1;34m\"How many hours worked? \"\u001b[0m\u001b[1;33m)\u001b[0m\u001b[1;33m)\u001b[0m\u001b[1;33m\u001b[0m\u001b[1;33m\u001b[0m\u001b[0m\n\u001b[0m\u001b[0;32m      3\u001b[0m     \u001b[0mhourlyRate\u001b[0m \u001b[1;33m=\u001b[0m \u001b[0mfloat\u001b[0m\u001b[1;33m(\u001b[0m\u001b[0minput\u001b[0m\u001b[1;33m(\u001b[0m\u001b[1;34m'What is the hourly rate? '\u001b[0m\u001b[1;33m)\u001b[0m\u001b[1;33m)\u001b[0m\u001b[1;33m\u001b[0m\u001b[1;33m\u001b[0m\u001b[0m\n\u001b[0;32m      4\u001b[0m \u001b[1;33m\u001b[0m\u001b[0m\n\u001b[0;32m      5\u001b[0m     \u001b[0mprint\u001b[0m\u001b[1;33m(\u001b[0m\u001b[1;34mf'Gross Pay is £{hourlyRate*hourlyRate:.2f}'\u001b[0m\u001b[1;33m)\u001b[0m\u001b[1;33m\u001b[0m\u001b[1;33m\u001b[0m\u001b[0m\n",
      "\u001b[1;31mValueError\u001b[0m: invalid literal for int() with base 10: 'fourty'"
     ]
    }
   ],
   "source": [
    "def main():\n",
    "    hoursWorked = int(input(\"How many hours worked? \"))\n",
    "    hourlyRate = float(input('What is the hourly rate? '))\n",
    "    \n",
    "    print(f'Gross Pay is £{hourlyRate*hourlyRate:.2f}')\n",
    "    \n",
    "    \n",
    "main()"
   ]
  },
  {
   "cell_type": "raw",
   "metadata": {},
   "source": [
    "Error name: ValueError\n",
    "Description is : invalid literal for int() with base 10: 'fourty'\n",
    "Python allows code called exception handler  using try/except statements to handle exceptions raised"
   ]
  },
  {
   "cell_type": "raw",
   "metadata": {},
   "source": [
    "the general format is\n",
    "\n",
    "    try:                       ## The try suite\n",
    "        statement1\n",
    "        statement2\n",
    "        etc\n",
    "    except ExceptionName:      ## except clause followed by handlers below it\n",
    "        statement1\n",
    "        statement2\n",
    "        etc\n",
    "\n",
    "\n",
    "If a try suite raises an exception specified by ExceptionName in except clause, then handlers are executed. Program resumes\n",
    "\n",
    "If try suite statement raises exception not in ExceptioName in except clause, program Halts with traceback error\n",
    "\n",
    "If try suite executes without raising exception - except clauses skipped= program resumes after try/except statements"
   ]
  },
  {
   "cell_type": "code",
   "execution_count": 16,
   "metadata": {},
   "outputs": [
    {
     "name": "stdout",
     "output_type": "stream",
     "text": [
      "How many hours worked? fourty\n",
      "You need to enter valid numbers for hoursWorked and hourlyRate\n"
     ]
    }
   ],
   "source": [
    "def main():\n",
    "    try:\n",
    "        hoursWorked = int(input(\"How many hours worked? \"))\n",
    "        hourlyRate = float(input('What is the hourly rate? '))\n",
    "        grossPay  = hourlyRate*hoursWorked\n",
    "        print(f'Gross Pay is £{grossPay:.2f}')\n",
    "    except ValueError:\n",
    "        print('You need to enter valid numbers for hoursWorked and hourlyRate')\n",
    "\n",
    "main()"
   ]
  },
  {
   "cell_type": "code",
   "execution_count": 19,
   "metadata": {},
   "outputs": [
    {
     "ename": "FileNotFoundError",
     "evalue": "[Errno 2] No such file or directory: 'dddd'",
     "output_type": "error",
     "traceback": [
      "\u001b[1;31m---------------------------------------------------------------------------\u001b[0m",
      "\u001b[1;31mFileNotFoundError\u001b[0m                         Traceback (most recent call last)",
      "\u001b[1;32m<ipython-input-19-b61771eee1be>\u001b[0m in \u001b[0;36m<module>\u001b[1;34m\u001b[0m\n\u001b[0;32m      1\u001b[0m \u001b[1;31m# error not finding a file\u001b[0m\u001b[1;33m\u001b[0m\u001b[1;33m\u001b[0m\u001b[1;33m\u001b[0m\u001b[0m\n\u001b[0;32m      2\u001b[0m \u001b[1;31m#file = input('filename to be opened: ')\u001b[0m\u001b[1;33m\u001b[0m\u001b[1;33m\u001b[0m\u001b[1;33m\u001b[0m\u001b[0m\n\u001b[1;32m----> 3\u001b[1;33m \u001b[0mf\u001b[0m \u001b[1;33m=\u001b[0m \u001b[0mopen\u001b[0m\u001b[1;33m(\u001b[0m\u001b[0mfile\u001b[0m\u001b[1;33m,\u001b[0m \u001b[1;34m'r'\u001b[0m\u001b[1;33m)\u001b[0m\u001b[1;33m\u001b[0m\u001b[1;33m\u001b[0m\u001b[0m\n\u001b[0m",
      "\u001b[1;31mFileNotFoundError\u001b[0m: [Errno 2] No such file or directory: 'dddd'"
     ]
    }
   ],
   "source": [
    "# error not finding a file\n",
    "#file = input('filename to be opened: ')\n",
    "f = open(file, 'r')"
   ]
  },
  {
   "cell_type": "code",
   "execution_count": 28,
   "metadata": {},
   "outputs": [
    {
     "name": "stdout",
     "output_type": "stream",
     "text": [
      "filename to be opened: NotExist.txt\n",
      "An error occured trying to read NotExist.txt filename\n"
     ]
    }
   ],
   "source": [
    "# Modified version\n",
    "def main():\n",
    "    fileToBeFound = input('filename to be opened: ')\n",
    "    file = './data/' + fileToBeFound \n",
    "    try:\n",
    "        f = open(file, 'r')\n",
    "        contents = f.read()\n",
    "        print(contents)\n",
    "        f.close()\n",
    "    except FileNotFoundError:\n",
    "        print(f'An error occured trying to read {fileToBeFound} filename')\n",
    "\n",
    "main()\n"
   ]
  },
  {
   "cell_type": "markdown",
   "metadata": {},
   "source": [
    "### Handling Multiple Exceptions"
   ]
  },
  {
   "cell_type": "raw",
   "metadata": {},
   "source": [
    "Sometimes the code can produce more than one type of exception\n",
    "Hence need except clause for every type of exception\n",
    "# multiple exceptions for your code"
   ]
  },
  {
   "cell_type": "raw",
   "metadata": {},
   "source": [
    "    try:\n",
    "        something1\n",
    "        something2\n",
    "        something3 etc\n",
    "\n",
    "    except FileNotFoundError:\n",
    "        print('An error occured trying to read the filename')\n",
    "    except ValueError:\n",
    "        print('You need to enter valid numbers')\n",
    "    except:\n",
    "        print('An error Occured!')    \n",
    "    "
   ]
  },
  {
   "cell_type": "markdown",
   "metadata": {},
   "source": [
    "### Using One except clause for ALL exceptions"
   ]
  },
  {
   "cell_type": "code",
   "execution_count": 29,
   "metadata": {},
   "outputs": [],
   "source": [
    "# multiple exceptions handled by a SINGLE except clause"
   ]
  },
  {
   "cell_type": "raw",
   "metadata": {},
   "source": [
    "    try:\n",
    "        something1\n",
    "        something2\n",
    "        something3 etc\n",
    "    except:\n",
    "        print('An error Occured!') "
   ]
  },
  {
   "cell_type": "markdown",
   "metadata": {},
   "source": [
    "### Displaying the Exceptions Default Error Message"
   ]
  },
  {
   "cell_type": "raw",
   "metadata": {},
   "source": [
    "If exception is raised then exception object created in memory\n",
    "Ie the default error messagedisplayed at the end of the traceback\n",
    "The below will allow you to print the error message:"
   ]
  },
  {
   "cell_type": "raw",
   "metadata": {},
   "source": [
    "except ValueError as theNameYouWishToDefineForTheError:\n",
    "\n",
    "    \n",
    "print(theNameYouWishToDefineForTheError)"
   ]
  },
  {
   "cell_type": "raw",
   "metadata": {},
   "source": [
    "If you wish to display the error message for ALL different types of \n",
    "exceptions that could be raised then do the following code:"
   ]
  },
  {
   "cell_type": "raw",
   "metadata": {},
   "source": [
    "except Exception as errorMessages:\n",
    "    print(errorMessages)\n"
   ]
  },
  {
   "cell_type": "markdown",
   "metadata": {},
   "source": [
    "### Else clause  suite"
   ]
  },
  {
   "cell_type": "raw",
   "metadata": {},
   "source": [
    "If try suite doesnt raise an error - runs the else suite \n",
    "general format\n",
    "\n",
    "        try:\n",
    "            statement1\n",
    "            statement2 etc\n",
    "        except ExceptionName:\n",
    "            statement1\n",
    "            statement1 etc\n",
    "        else:\n",
    "            statement1\n",
    "            statement1 etc\n"
   ]
  },
  {
   "cell_type": "raw",
   "metadata": {},
   "source": [
    "You can put the final print statement in the else suite so you know that no exceptions were raised!"
   ]
  },
  {
   "cell_type": "markdown",
   "metadata": {},
   "source": [
    "### The finally Clause"
   ]
  },
  {
   "cell_type": "raw",
   "metadata": {},
   "source": [
    "The finally suite is run regardless if exception is found or not after the try suite \n",
    "general format:\n",
    "\n",
    "        try:\n",
    "            statement1\n",
    "            statement2 etc\n",
    "        except ExceptionName:\n",
    "            statement1\n",
    "            statement1 etc\n",
    "        finally:\n",
    "            statement1\n",
    "            statement1 etc\n"
   ]
  },
  {
   "cell_type": "raw",
   "metadata": {},
   "source": [
    "Consult the python docs for detailed info about possible exceptions\n",
    "and the type of errors that cause them.\n",
    "Another way is through experimentation. ie testing and finding errors, and then when looking at \n",
    "traceback errors - create necessary except clauses"
   ]
  },
  {
   "cell_type": "code",
   "execution_count": null,
   "metadata": {},
   "outputs": [],
   "source": []
  },
  {
   "cell_type": "code",
   "execution_count": null,
   "metadata": {},
   "outputs": [],
   "source": []
  }
 ],
 "metadata": {
  "celltoolbar": "Raw Cell Format",
  "kernelspec": {
   "display_name": "Python 3",
   "language": "python",
   "name": "python3"
  },
  "language_info": {
   "codemirror_mode": {
    "name": "ipython",
    "version": 3
   },
   "file_extension": ".py",
   "mimetype": "text/x-python",
   "name": "python",
   "nbconvert_exporter": "python",
   "pygments_lexer": "ipython3",
   "version": "3.7.3"
  }
 },
 "nbformat": 4,
 "nbformat_minor": 2
}
