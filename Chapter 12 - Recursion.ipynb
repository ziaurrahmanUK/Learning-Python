{
 "cells": [
  {
   "cell_type": "markdown",
   "metadata": {},
   "source": [
    "# Chapter 12 - Recursion"
   ]
  },
  {
   "cell_type": "raw",
   "metadata": {},
   "source": [
    "A RECURSIVE function is one that calls itself (we have seen before function A calling another Function B).\n",
    "Like a LOOP, we need a way to control number of times it repeats."
   ]
  },
  {
   "cell_type": "code",
   "execution_count": null,
   "metadata": {},
   "outputs": [],
   "source": [
    "# an example of recursive function\n",
    "def main():\n",
    "    message()\n",
    "    \n",
    "def message():\n",
    "    print('This is a Recursive function!')\n",
    "    #message()  ## remove this comment and it repeats forever!!!\n",
    "    \n",
    "main()"
   ]
  },
  {
   "cell_type": "code",
   "execution_count": null,
   "metadata": {},
   "outputs": [],
   "source": [
    "# This is recursive function with some control\n",
    "def main():\n",
    "    message(5)\n",
    "    \n",
    "def message(times):  # times = 5 from above call\n",
    "    if times > 0:\n",
    "        print('This is a Recursive function!')\n",
    "        message(times - 1)  ## Time is reduced each time after being called by One\n",
    "    \n",
    "main()\n"
   ]
  },
  {
   "cell_type": "raw",
   "metadata": {},
   "source": [
    "The number of times a function calls itself is called DEPTH OF RECURSION.\n",
    "Above it is called 6 times (once in main and then 5 times in messge function)"
   ]
  },
  {
   "cell_type": "markdown",
   "metadata": {},
   "source": [
    "# Problem solving with Recursion"
   ]
  },
  {
   "cell_type": "raw",
   "metadata": {},
   "source": [
    "If you can break down a problem into smaller problem and each identical in structure to overall problem\n",
    "then we can use RECURSION"
   ]
  },
  {
   "cell_type": "markdown",
   "metadata": {},
   "source": [
    "Recursion does have some OVERHEAD when compared to loops. Hence can be less effecient then Loops.\n",
    "Some repetitive problems, more easily solved with recursion than Loops. If loops are faster,\n",
    "designing the recursive algorithm to be faster.\n",
    "In General:-\n",
    "    - Problem can be solved now, without recursion - use function to solve\n",
    "    - Problem cannot be solved now - function reduces it to smaller similar problems and calls itself to solve the smaller problems"
   ]
  },
  {
   "cell_type": "markdown",
   "metadata": {},
   "source": [
    "To use above method - Identify one case in which problem can be solved without recursion - The BASE CASE.\n",
    "Then determine way to solve problem in all other circumstances using recursion - RECURSIVE CASE\n",
    "(we do this by reducing probklem with each recursive call until the base case is eventually reached\n",
    "and the recursion will stop)"
   ]
  },
  {
   "cell_type": "markdown",
   "metadata": {},
   "source": [
    "## Recursion to calculate Factorial"
   ]
  },
  {
   "cell_type": "raw",
   "metadata": {},
   "source": [
    "n = 0, then fact(n) = 1                                ** <-- Base Case **\n",
    "if n >0, then fact(n) = n * (n-1) * ... * 3 * 2 *  1   ** <-- Recursive Case ie fact(n) = n * fact(n-1)"
   ]
  },
  {
   "cell_type": "code",
   "execution_count": null,
   "metadata": {},
   "outputs": [],
   "source": [
    "# Factorial of a number\n",
    "\n",
    "def main():\n",
    "    num = int(input('Please enter positive integer: '))\n",
    "    \n",
    "    fact = factorial(num)\n",
    "    print(f'The factorial of {num} is {fact}')\n",
    "def factorial(num):\n",
    "    if num == 0:\n",
    "        return 1\n",
    "    else:\n",
    "        return num * factorial(num - 1)\n",
    "main()"
   ]
  },
  {
   "cell_type": "markdown",
   "metadata": {},
   "source": [
    "## Direct and Indirect Recursion"
   ]
  },
  {
   "cell_type": "raw",
   "metadata": {},
   "source": [
    "When a afunction calls itself - called DIRECT Recursion.\n",
    "But we could also have INDIRECT Recursion e.g. ftn A calls Ftn B calls ftn C which calls ftn A"
   ]
  },
  {
   "cell_type": "markdown",
   "metadata": {},
   "source": [
    "# Examples of Recursive Algorithms"
   ]
  },
  {
   "cell_type": "markdown",
   "metadata": {},
   "source": [
    "#### 1. Summing a Range of List Elements with Recursion"
   ]
  },
  {
   "cell_type": "code",
   "execution_count": null,
   "metadata": {},
   "outputs": [],
   "source": [
    "def main():\n",
    "    numbers = [1, 2, 3, 4, 5, 6, 7, 8, 9 ]\n",
    "    \n",
    "    start = int(input('Start: '))\n",
    "    stop = int(input('End: '))\n",
    "    my_sum = range_sum(numbers, start, stop )\n",
    "    print(f'The sum of the list from {start} to {stop} is {my_sum}')\n",
    "    \n",
    "def range_sum(num_list, start, stop):\n",
    "    if start > stop:      ## This is the Base case \n",
    "        return 0\n",
    "    else:\n",
    "        return num_list[start] + range_sum(num_list, start + 1, stop)  ## this is the recursive part\n",
    "main()"
   ]
  },
  {
   "cell_type": "markdown",
   "metadata": {},
   "source": [
    "#### 2. Fibonacci Series"
   ]
  },
  {
   "cell_type": "code",
   "execution_count": null,
   "metadata": {},
   "outputs": [],
   "source": [
    "# if n== 0, fib(0) = 0\n",
    "# if n==1, fib(1) = 1\n",
    "# if n>1, fib(n) = fib(n-1) + fib(n-2)\n",
    "\n",
    "def fib(n):\n",
    "    if n == 0:\n",
    "        return 0\n",
    "    elif n == 1:\n",
    "        return 1\n",
    "    else:\n",
    "        return fib(n - 1) + fib(n - 1)"
   ]
  },
  {
   "cell_type": "code",
   "execution_count": null,
   "metadata": {},
   "outputs": [],
   "source": [
    "print(fib(1), fib(2), fib(3) ,fib(10))"
   ]
  },
  {
   "cell_type": "markdown",
   "metadata": {},
   "source": [
    "#### Greatest Common Divisor"
   ]
  },
  {
   "cell_type": "raw",
   "metadata": {},
   "source": [
    "GCD(num1, num2)\n",
    "\n",
    "if num1 % num2 = 0, then GCD = num2\n",
    "else, GCD = GCD(num1, (num1 % num2)"
   ]
  },
  {
   "cell_type": "code",
   "execution_count": 14,
   "metadata": {},
   "outputs": [
    {
     "name": "stdout",
     "output_type": "stream",
     "text": [
      "The greatest common divisor is 10\n"
     ]
    }
   ],
   "source": [
    "def gcd(x, y):\n",
    "    if x % y == 0:\n",
    "        return y\n",
    "    else:\n",
    "        return gcd(x, (x % y))\n",
    "\n",
    "print(f'The greatest common divisor is {gcd(490, 20)}')"
   ]
  },
  {
   "cell_type": "markdown",
   "metadata": {},
   "source": [
    "#### Towers of Hanoi"
   ]
  },
  {
   "cell_type": "raw",
   "metadata": {},
   "source": [
    "Only one disk can be moved at a time, disk cannot be placed on top of smaller disk\n",
    "all disks must be stored on a disk while being moved"
   ]
  },
  {
   "cell_type": "raw",
   "metadata": {},
   "source": [
    "Peg A = A, Peg B = B, Peg C = C\n",
    "if n>0:\n",
    "    Move (n-1) from A to B, use C as temp\n",
    "    Move remaining from A to C\n",
    "    Move (n-1) from B to C, use A as temp\n",
    "    \n",
    "Base case reached when no more discs to move"
   ]
  },
  {
   "cell_type": "code",
   "execution_count": 19,
   "metadata": {},
   "outputs": [
    {
     "name": "stdout",
     "output_type": "stream",
     "text": [
      "Move a disc from peg 1 to peg 3\n",
      "Move a disc from peg 2 to peg 3\n",
      "Move a disc from peg 1 to peg 3\n",
      "All pegs are moved!\n"
     ]
    }
   ],
   "source": [
    "def main():\n",
    "    num_discs = 3\n",
    "    from_peg = 1\n",
    "    to_peg = 3\n",
    "    temp_peg = 2\n",
    "    move_disc(num_discs, from_peg, to_peg, temp_peg)\n",
    "    print('All pegs are moved!')\n",
    "\n",
    "def move_disc(num, from_peg, to_peg, temp_peg):\n",
    "    if num>0:\n",
    "        print(f'Move a disc from peg {from_peg} to peg {to_peg}')\n",
    "        move_disc(num -1, temp_peg, to_peg, from_peg)\n",
    "main()"
   ]
  },
  {
   "cell_type": "markdown",
   "metadata": {},
   "source": [
    "# Recursion Vs. Looping"
   ]
  },
  {
   "cell_type": "raw",
   "metadata": {},
   "source": [
    "Which is best Recursion or Looping?\n",
    "1. Recursive function calls are less efficient than loops - due to Overhead!!!\n",
    "2. Most repetitive tasks are best done with Loops\n",
    "3. Certain problems are easily solved with recursion than a loop. e.g. GCD\n",
    "\n",
    "How to choose?\n",
    "If recursion doesnt slow system - then use it \n",
    "Otherwise if loop is easier to use - then use a Loop"
   ]
  },
  {
   "cell_type": "code",
   "execution_count": null,
   "metadata": {},
   "outputs": [],
   "source": []
  }
 ],
 "metadata": {
  "kernelspec": {
   "display_name": "Python 3",
   "language": "python",
   "name": "python3"
  },
  "language_info": {
   "codemirror_mode": {
    "name": "ipython",
    "version": 3
   },
   "file_extension": ".py",
   "mimetype": "text/x-python",
   "name": "python",
   "nbconvert_exporter": "python",
   "pygments_lexer": "ipython3",
   "version": "3.7.3"
  }
 },
 "nbformat": 4,
 "nbformat_minor": 2
}
