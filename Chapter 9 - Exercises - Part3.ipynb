{
 "cells": [
  {
   "cell_type": "markdown",
   "metadata": {},
   "source": [
    "# Exercises"
   ]
  },
  {
   "cell_type": "raw",
   "metadata": {},
   "source": [
    "Write a statement that creates a dictionary containing the following key-value pairs:\n",
    "'a' : 1\n",
    "'b' : 2\n",
    "'c' : 3"
   ]
  },
  {
   "cell_type": "code",
   "execution_count": null,
   "metadata": {},
   "outputs": [],
   "source": [
    "dict1 = {'a' : 1, 'b' : 2, 'c' : 3}"
   ]
  },
  {
   "cell_type": "code",
   "execution_count": null,
   "metadata": {},
   "outputs": [],
   "source": [
    "emptyDict1 = {}\n",
    "emptyDict1"
   ]
  },
  {
   "cell_type": "code",
   "execution_count": null,
   "metadata": {},
   "outputs": [],
   "source": [
    "emptyDict2 = dict()\n",
    "emptyDict2"
   ]
  },
  {
   "cell_type": "raw",
   "metadata": {},
   "source": [
    "Assume the variable dct references a dictionary. Write an if statement that deter-\n",
    "mines whether the key 'James' exists in the dictionary. If so, display the value that is\n",
    "associated with that key. If the key is not in the dictionary, display a message indicat-\n",
    "ing so."
   ]
  },
  {
   "cell_type": "code",
   "execution_count": null,
   "metadata": {},
   "outputs": [],
   "source": [
    "dct = {'James' : 1}\n",
    "\n",
    "if 'James' in dct:\n",
    "    print('James\\' exists in dictionary')"
   ]
  },
  {
   "cell_type": "raw",
   "metadata": {},
   "source": [
    "Create a set named fruit1 and fruit2."
   ]
  },
  {
   "cell_type": "code",
   "execution_count": null,
   "metadata": {},
   "outputs": [],
   "source": [
    "set1 = set(['apples', 'oranges', 'bananas', 'cherries' ])\n",
    "set2 = set(['oranges', 'pineapples', 'guavas', 'bananas'])"
   ]
  },
  {
   "cell_type": "raw",
   "metadata": {},
   "source": [
    "Write a code to find the union of fruit1 and fruit2"
   ]
  },
  {
   "cell_type": "code",
   "execution_count": null,
   "metadata": {},
   "outputs": [],
   "source": [
    "set1.union(set2)"
   ]
  },
  {
   "cell_type": "raw",
   "metadata": {},
   "source": [
    "Assume each of the variables set1 and set2 references a set. Write code that creates another set containing all the elements of set1 and set2 and assigns the resulting set to the variable set3."
   ]
  },
  {
   "cell_type": "code",
   "execution_count": null,
   "metadata": {},
   "outputs": [],
   "source": [
    "set3 = set1.union(set2)\n",
    "# set3 = set1.update(set2)\n",
    "set3"
   ]
  },
  {
   "cell_type": "raw",
   "metadata": {},
   "source": [
    "Assume each of the variables set1 and set2 references a set. Write code that creates\n",
    "another set containing only the elements that are found in both set1 and set2 and\n",
    "assigns the resulting set to the variable set3 ."
   ]
  },
  {
   "cell_type": "code",
   "execution_count": null,
   "metadata": {},
   "outputs": [],
   "source": [
    "set3 = set1.intersection(set2)\n",
    "set3"
   ]
  },
  {
   "cell_type": "raw",
   "metadata": {},
   "source": [
    "Assume each of the variables set1 and set2 references a set. Write code that creates\n",
    "another set containing the elements that appear in set1 but not in set2 and assigns\n",
    "the resulting set to the variable set3 ."
   ]
  },
  {
   "cell_type": "code",
   "execution_count": null,
   "metadata": {},
   "outputs": [],
   "source": [
    "set3 = set1.difference(set2)\n",
    "set3"
   ]
  },
  {
   "cell_type": "raw",
   "metadata": {},
   "source": [
    " Assume each of the variables set1 and set2 references a set. Write code that creates\n",
    "another set containing the elements that appear in set2 but not in set1 and assigns\n",
    "the resulting set to the variable set3"
   ]
  },
  {
   "cell_type": "code",
   "execution_count": null,
   "metadata": {},
   "outputs": [],
   "source": [
    "set3 = set2.difference(set1)\n",
    "set3"
   ]
  },
  {
   "cell_type": "raw",
   "metadata": {},
   "source": [
    "Assume the variable dictionary employee = {'Andrew':8806, 'Emily‘:67846, 'Peter':7654} \n",
    "references a dictionary. Write a code that prints all the key-value pairs"
   ]
  },
  {
   "cell_type": "code",
   "execution_count": null,
   "metadata": {},
   "outputs": [],
   "source": [
    "employee = {'Andrew':8806, 'Emily':67846, 'Peter':7654}\n",
    "for item in employee.items():\n",
    "    print(item, sep='', end = '***')\n"
   ]
  },
  {
   "cell_type": "raw",
   "metadata": {},
   "source": [
    "Write code that pickles the dictionary and saves it to a file named employee.dat"
   ]
  },
  {
   "cell_type": "code",
   "execution_count": null,
   "metadata": {},
   "outputs": [],
   "source": [
    "import pickle\n",
    "\n",
    "outfile = open('./data/employeeBinary.dat', 'wb')\n",
    "\n",
    "pickle.dump(employee, outfile)\n",
    "\n",
    "outfile.close()\n"
   ]
  },
  {
   "cell_type": "raw",
   "metadata": {},
   "source": [
    " Write code that retrieves and unpickles the dictionary that you pickled."
   ]
  },
  {
   "cell_type": "code",
   "execution_count": null,
   "metadata": {},
   "outputs": [],
   "source": [
    "import pickle\n",
    "infile = open('./data/employeeBinary.dat', 'rb')\n",
    "data = pickle.load(infile)\n",
    "infile.close()\n",
    "\n",
    "print(data)"
   ]
  },
  {
   "cell_type": "raw",
   "metadata": {},
   "source": [
    "1. Course information\n",
    "Write a program that creates a dictionary containing course numbers and the room numbers of the rooms where the courses meet.\n",
    "The dictionary should have the following key-value pairs:"
   ]
  },
  {
   "cell_type": "code",
   "execution_count": null,
   "metadata": {},
   "outputs": [],
   "source": [
    "courseRoom = {'CS101' : 3004, 'CS102'  : 4501,  'CS103' : 6755,  'NT110' : 1244, 'CM241' : 1411}"
   ]
  },
  {
   "cell_type": "raw",
   "metadata": {},
   "source": [
    "The program should also create a dictionary containing course numbers and the names of the instructors\n",
    "that teach each course. The dictionary should have the following key-value pairs"
   ]
  },
  {
   "cell_type": "code",
   "execution_count": null,
   "metadata": {},
   "outputs": [],
   "source": [
    "courseInstructors = {'CS101' : 'Haynes', 'CS102' : 'Alvarado', 'CS103' : 'Rich', 'NT110' : 'Burke', 'CM241' : 'Lee' }"
   ]
  },
  {
   "cell_type": "raw",
   "metadata": {},
   "source": [
    "The program should also create a dictionary containing course numbers and the meeting times of each course.\n",
    "The dictionary should have the following key-value pairs:"
   ]
  },
  {
   "cell_type": "code",
   "execution_count": null,
   "metadata": {},
   "outputs": [],
   "source": [
    "courseMeeting = {'CS101' : '8:00 a.m.', 'CS102' : '9:00 a.m.', 'CS103' : '10:00 a.m.', 'NT110' : '11:00 a.m.', 'CM241' : '1:00 p.m.'}"
   ]
  },
  {
   "cell_type": "raw",
   "metadata": {},
   "source": [
    "The program should let the user enter a course number, and then it should display the course’s room number, instructor, and meeting time."
   ]
  },
  {
   "cell_type": "code",
   "execution_count": null,
   "metadata": {},
   "outputs": [],
   "source": [
    "def main():\n",
    "    print('Please enter a course number: ', end = '')\n",
    "    course = input('')\n",
    "    try: \n",
    "        roomNumber = courseRoom[course]\n",
    "        instructor = courseInstructors[course]\n",
    "        meetingTime  = courseMeeting[course]\n",
    "        print(f'Course {course} will be in room number: {roomNumber} with {instructor} at {meetingTime}')\n",
    "    except:\n",
    "        validCourses = courseRoom.keys()\n",
    "        print(f'Please enter a valid course from: {validCourses}')\n",
    "    \n",
    "main()"
   ]
  },
  {
   "cell_type": "raw",
   "metadata": {},
   "source": [
    "2. Capital Quiz\n",
    "Write a program that creates a dictionary containing the U.S. states as keys and their\n",
    "capitals as values. The program should then randomly quiz the user by displaying the name of a state\n",
    "and asking the user to enter that state’s capital. The program should keep a count of the number of\n",
    "correct and incorrect responses."
   ]
  },
  {
   "cell_type": "code",
   "execution_count": null,
   "metadata": {},
   "outputs": [],
   "source": []
  },
  {
   "cell_type": "code",
   "execution_count": null,
   "metadata": {},
   "outputs": [],
   "source": []
  },
  {
   "cell_type": "code",
   "execution_count": null,
   "metadata": {},
   "outputs": [],
   "source": [
    "def main():\n",
    "    numberQuestions = int(input('How many questions do you wish to answer: '))\n",
    "    \n",
    "    statesCapitals = {\"Alabama\" : \"Montgomery\", \n",
    "            \"Alaska\" : \"Juneau\", \n",
    "            \"Arizona\" : \"Phoenix\", \n",
    "            \"Arkansas\" : \"Little Rock\", \n",
    "            \"California\" : \"Sacramento\", \n",
    "            \"Colorado\" : \"Denver\", \n",
    "            \"Connecticut\" : \"Hartford\", \n",
    "            \"Delaware\" : \"Dover\", \n",
    "            \"Florida\" : \"Tallahassee\", \n",
    "            \"Georgia\" : \"Atlanta\", \n",
    "            \"Hawaii\" : \"Honolulu\", \n",
    "            \"Idaho\" : \"Boise\", \n",
    "            \"Illinois\" : \"Springfield\", \n",
    "            \"Indiana\" : \"Indianapolis\", \n",
    "            \"Iowa\" : \"Des Moines\", \n",
    "            \"Kansas\" : \"Topeka\", \n",
    "            \"Kentucky\" : \"Frankfort\", \n",
    "            \"Louisiana\" : \"Baton Rouge\", \n",
    "            \"Maine\" : \"Augusta\", \n",
    "            \"Maryland\" : \"Annapolis\", \n",
    "            \"Massachusetts\" : \"Boston\", \n",
    "            \"Michigan\" : \"Lansing\", \n",
    "            \"Minnesota\" : \"Saint Paul\", \n",
    "            \"Mississippi\" : \"Jackson\", \n",
    "            \"Missouri\" : \"Jefferson City\", \n",
    "            \"Montana\" : \"Helena\", \n",
    "            \"Nebraska\" : \"Lincoln\", \n",
    "            \"Nevada\" : \"Carson City\", \n",
    "            \"New Hampshire\" : \"Concord\", \n",
    "            \"New Jersey\" : \"Trenton\", \n",
    "            \"New Mexico\" : \"Santa Fe\", \n",
    "            \"New York\" : \"Albany\", \n",
    "            \"North Carolina\" : \"Raleigh\", \n",
    "            \"North Dakota\" : \"Bismarck\", \n",
    "            \"Ohio\" : \"Columbus\", \n",
    "            \"Oklahoma\" : \"Oklahoma City\", \n",
    "           \n",
    "                      \"Oregon\" : \"Salem\", \n",
    "            \"Pennsylvania\" : \"Harrisburg\", \n",
    "            \"Rhode Island\" : \"Providence\", \n",
    "            \"South Carolina\" : \"Columbia\", \n",
    "            \"South Dakota\" : \"Pierre\", \n",
    "            \"Tennessee\" : \"Nashville\", \n",
    "            \"Texas\" : \"Austin\", \n",
    "            \"Utah\" : \"Salt Lake City\", \n",
    "            \"Vermont\" : \"Montpelier\", \n",
    "            \"Virginia\" : \"Richmond\", \n",
    "            \"Washington\" : \"Olympia\", \n",
    "            \"West Virginia\" : \"Charleston\", \n",
    "            \"Wisconsin\" : \"Madison\", \n",
    "            \"Wyoming\" : \"Cheyenne\" }\n",
    "    \n",
    "    for i in range(numberQuestions):\n",
    "        \n",
    "        \n",
    "        k, v = statesCapitals.popitem()\n",
    "    \n",
    "        print(f'What is the capital of {k} state?: ')\n",
    "        correctAnswer = input('Answer: ')\n",
    "\n",
    "        if correctAnswer == v:\n",
    "            print('That is correct!')\n",
    "\n",
    "        else:\n",
    "            print('Please try again!!!')\n",
    "            correctAnswer = input('Answer: ')\n",
    "   \n",
    "    \n",
    "main()"
   ]
  },
  {
   "cell_type": "raw",
   "metadata": {},
   "source": [
    "File encryption and Decryption\n",
    "Write a program that uses a dictionary to assign “codes” to each letter of the alphabet.\n",
    "For example:  codes = { 'A' : '%', 'a' : '9', 'B' : '@', 'b' : '#', etc . . .}\n",
    "\n",
    "Using this example, the letter A would be assigned the symbol % , the letter a would be\n",
    "assigned the number 9, the letter B would be assigned the symbol @ , and so forth.\n",
    "The program should open a specified text file, read its contents\n",
    "and then use the dictionary to write an encrypted version of the file’s contents to a second file.\n",
    "Each character in the second file should contain the code for the corresponding character in the first file.\n",
    "Write a second program that opens an encrypted file and displays its decrypted contents\n",
    "on the screen."
   ]
  },
  {
   "cell_type": "code",
   "execution_count": null,
   "metadata": {},
   "outputs": [],
   "source": [
    "def main():\n",
    "    codes = { 'A' : '%', 'a' : '9', 'B' : '@', 'b' : '#'}\n",
    "    \n",
    "    fileToOpen = input('Please enter text file to be converted: ')\n",
    "    f = open('./data/' + fileToOpen, 'r')\n",
    "    \n",
    "    for line in f:\n",
    "        contents = f.readlines()\n",
    "        contents = contents.rstrip('\\n')\n",
    "\n",
    "    print(contents)\n",
    "    \n",
    "    \n",
    "main()"
   ]
  },
  {
   "cell_type": "raw",
   "metadata": {},
   "source": [
    "Unique Words\n",
    "Write a program that opens a specified text file and then displays a list of all the unique\n",
    "words found in the file.\n",
    "Hint: Store each word as an element of a set."
   ]
  },
  {
   "cell_type": "code",
   "execution_count": 11,
   "metadata": {},
   "outputs": [
    {
     "name": "stdin",
     "output_type": "stream",
     "text": [
      "Enter filename.txt Saved_File.txt\n"
     ]
    },
    {
     "name": "stdout",
     "output_type": "stream",
     "text": [
      "{'Khalida Rahman\\n', '180191612\\n', '180191912\\n', 'MSc Strategic Marketing\\n', 'MSc Business Analytics\\n'}\n"
     ]
    }
   ],
   "source": [
    "def main():\n",
    "    file = input('Enter filename.txt')\n",
    "    f = open('./data/' + file, 'r')\n",
    "    uniqueWords = set()\n",
    "    \n",
    "    while f.readline() != '':\n",
    "        line = f.readlines()\n",
    "        uniqueWords.update(line)\n",
    "    \n",
    "    f.close()\n",
    "    print(uniqueWords)\n",
    "    \n",
    "main()"
   ]
  },
  {
   "cell_type": "raw",
   "metadata": {},
   "source": [
    "Word Frequency\n",
    "Write a program that reads the contents of a text file. The program should create a dictio-\n",
    "nary in which the keys are the individual words found in the file and the values are the\n",
    "number of times each word appears. For example, if the word “the” appears 128 times,\n",
    "the dictionary would contain an element with 'the' as the key and 128 as the value.\n",
    "The program should either display the frequency of each word or create a second file containing\n",
    "a list of each word and its frequency."
   ]
  },
  {
   "cell_type": "code",
   "execution_count": null,
   "metadata": {},
   "outputs": [],
   "source": []
  },
  {
   "cell_type": "code",
   "execution_count": null,
   "metadata": {},
   "outputs": [],
   "source": []
  },
  {
   "cell_type": "code",
   "execution_count": null,
   "metadata": {},
   "outputs": [],
   "source": []
  },
  {
   "cell_type": "code",
   "execution_count": null,
   "metadata": {},
   "outputs": [],
   "source": []
  },
  {
   "cell_type": "code",
   "execution_count": null,
   "metadata": {},
   "outputs": [],
   "source": []
  }
 ],
 "metadata": {
  "kernelspec": {
   "display_name": "Python 3",
   "language": "python",
   "name": "python3"
  },
  "language_info": {
   "codemirror_mode": {
    "name": "ipython",
    "version": 3
   },
   "file_extension": ".py",
   "mimetype": "text/x-python",
   "name": "python",
   "nbconvert_exporter": "python",
   "pygments_lexer": "ipython3",
   "version": "3.7.3"
  }
 },
 "nbformat": 4,
 "nbformat_minor": 2
}
