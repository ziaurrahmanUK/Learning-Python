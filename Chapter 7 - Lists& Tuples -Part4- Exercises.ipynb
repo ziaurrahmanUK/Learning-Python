{
 "cells": [
  {
   "cell_type": "raw",
   "metadata": {},
   "source": [
    "Write a statement that will print the first letter of each element of the following list:\n",
    "list1 = [‘Galileo’,‘Oliver’,’Ostwald’,’Descartes’] "
   ]
  },
  {
   "cell_type": "code",
   "execution_count": null,
   "metadata": {},
   "outputs": [],
   "source": [
    "list1 = ['Galileo','Oliver', 'Ostwald', 'Descartes']\n",
    "print(list1[0][0], list1[1][0], list1[2][0], list1[3][0])\n",
    "\n",
    "#for i in range(len(list1)):\n",
    "#    print(list1[i][0])\n"
   ]
  },
  {
   "cell_type": "raw",
   "metadata": {},
   "source": [
    "Write a function that accepts a list as an argument and calculates the sum of each ele-\n",
    "ment of the list."
   ]
  },
  {
   "cell_type": "code",
   "execution_count": null,
   "metadata": {},
   "outputs": [],
   "source": [
    "def sum(listname):\n",
    "    sum = 0\n",
    "    for i in range(len(listname)):\n",
    "        value = float(listname[i])\n",
    "        sum += value\n",
    "        \n",
    "    print(f'The sum of the list is {sum:.2f}')\n",
    "\n",
    "    \n",
    "nums = [1, 2, 3, 4, 5]\n",
    "sum(nums)"
   ]
  },
  {
   "cell_type": "raw",
   "metadata": {},
   "source": [
    "Assume the list numbers1 has 100 elements and numbers2 is an empty list. Write code\n",
    "that copies the values in numbers1 to numbers2 ."
   ]
  },
  {
   "cell_type": "code",
   "execution_count": 11,
   "metadata": {},
   "outputs": [
    {
     "name": "stdout",
     "output_type": "stream",
     "text": [
      "[1, 2, 3, 4, 5, 6, 7, 8, 9, 10, 11, 12, 13, 14, 15, 16, 17, 18, 19, 20, 21, 22, 23, 24, 25, 26, 27, 28, 29, 30, 31, 32, 33, 34, 35, 36, 37, 38, 39, 40, 41, 42, 43, 44, 45, 46, 47, 48, 49, 50, 51, 52, 53, 54, 55, 56, 57, 58, 59, 60, 61, 62, 63, 64, 65, 66, 67, 68, 69, 70, 71, 72, 73, 74, 75, 76, 77, 78, 79, 80, 81, 82, 83, 84, 85, 86, 87, 88, 89, 90, 91, 92, 93, 94, 95, 96, 97, 98, 99, 100]\n"
     ]
    }
   ],
   "source": [
    "numbers1 = list(range(1,101))\n",
    "numbers2 = []\n",
    "\n",
    "for i in range(len(numbers1)):\n",
    "    numbers2.append(numbers1[i])\n",
    "print(numbers2)"
   ]
  },
  {
   "cell_type": "raw",
   "metadata": {},
   "source": [
    "Assume the names variable references a list of strings. Write code that determines\n",
    "whether 'Ruby' is in the names list. If it is, display the message 'Hello Ruby' .\n",
    "Otherwise, display the message 'No Ruby' "
   ]
  },
  {
   "cell_type": "code",
   "execution_count": 13,
   "metadata": {},
   "outputs": [
    {
     "name": "stdout",
     "output_type": "stream",
     "text": [
      "What do you want to search for: Zed\n",
      "No Zed\n"
     ]
    }
   ],
   "source": [
    "names = ['Ruby', 'Ziaur']\n",
    "\n",
    "searchItem = input(\"What do you want to search for: \")\n",
    "\n",
    "if searchItem in names:\n",
    "    print(f'Hello {searchItem}')\n",
    "else:\n",
    "    print(f'No {searchItem}')"
   ]
  },
  {
   "cell_type": "raw",
   "metadata": {},
   "source": [
    "Write a statement that creates a two-dimensional list with 5 rows and 3 columns.#\n",
    "Then write nested loops that get an integer value from the user for each element in the list"
   ]
  },
  {
   "cell_type": "code",
   "execution_count": 19,
   "metadata": {},
   "outputs": [
    {
     "name": "stdout",
     "output_type": "stream",
     "text": [
      "Enter Value: 1\n",
      "Enter Value: 1\n",
      "Enter Value: 1\n",
      "Enter Value: 2\n",
      "Enter Value: 2\n",
      "Enter Value: 2\n",
      "Enter Value: 3\n",
      "Enter Value: 3\n",
      "Enter Value: 3\n",
      "Enter Value: 4\n",
      "Enter Value: 4\n",
      "Enter Value: 4\n",
      "Enter Value: 5\n",
      "Enter Value: 5\n",
      "Enter Value: 5\n",
      "[['1', '1', '1'], ['2', '2', '2'], ['3', '3', '3'], ['4', '4', '4'], ['5', '5', '5']]\n"
     ]
    }
   ],
   "source": [
    "two_dims_list = [[0, 0, 0],\n",
    "                [0, 0, 0],\n",
    "                [0, 0, 0],\n",
    "                [0, 0, 0],\n",
    "                [0, 0, 0]]\n",
    "ROWS = 5\n",
    "COLS = 3\n",
    "\n",
    "for row in range(ROWS):\n",
    "    for col in range(COLS):\n",
    "        two_dims_list[row][col] = input(\"Enter Value: \")\n",
    "\n",
    "print(two_dims_list)\n"
   ]
  },
  {
   "cell_type": "markdown",
   "metadata": {},
   "source": [
    "## Programming Exercises"
   ]
  },
  {
   "cell_type": "raw",
   "metadata": {},
   "source": [
    "Total sales\n",
    "Design a program that asks the user to enter a store’s sales for each day of the week.\n",
    "The amounts should be stored in a list.\n",
    "Use a loop to calculate the total sales for the week and display the result."
   ]
  },
  {
   "cell_type": "code",
   "execution_count": 27,
   "metadata": {},
   "outputs": [
    {
     "name": "stdout",
     "output_type": "stream",
     "text": [
      "Enter the sales for Day #1 : 1\n",
      "Enter the sales for Day #2 : 1\n",
      "Enter the sales for Day #3 : 1\n",
      "Enter the sales for Day #4 : 1\n",
      "Enter the sales for Day #5 : 1\n",
      "Enter the sales for Day #6 : 1\n",
      "Enter the sales for Day #7 : 1\n",
      "Weekly sales total is: 7.0\n"
     ]
    }
   ],
   "source": [
    "DAYS = 7\n",
    "weekly_sales = []\n",
    "\n",
    "totalSales = 0\n",
    "\n",
    "for i in range(DAYS):\n",
    "    print(f\"Enter the sales for Day #{i+1} \", sep = '', end = '')\n",
    "    sales = input(\": \")\n",
    "    weekly_sales.append(sales)\n",
    "    totalSales += float(weekly_sales[i])\n",
    "\n",
    "print(f\"Weekly sales total is: {totalSales}\")"
   ]
  },
  {
   "cell_type": "raw",
   "metadata": {},
   "source": [
    "Lottery number Generator\n",
    "Design a program that generates a seven-digit lottery number.\n",
    "The program should generate seven random numbers, each in the range of 0 through 9,\n",
    "and assign each number to a list element.\n",
    "Then write another loop that displays the contents of the list."
   ]
  },
  {
   "cell_type": "code",
   "execution_count": 38,
   "metadata": {},
   "outputs": [
    {
     "name": "stdout",
     "output_type": "stream",
     "text": [
      "7-9-2-4-8-5-3-"
     ]
    }
   ],
   "source": [
    "import random as rn\n",
    "lotteryNumber = []\n",
    "\n",
    "for j in range(7):\n",
    "    lotteryNumber.append(rn.randint(0,9))\n",
    "\n",
    "\n",
    "for i in range(len(lotteryNumber)):\n",
    "    print(lotteryNumber[i],end = '-')\n"
   ]
  },
  {
   "cell_type": "raw",
   "metadata": {},
   "source": [
    "Rainfall statistics\n",
    "Design a program that lets the user enter the total rainfall for each of 12 months into a\n",
    "list. The program should calculate and display the total rainfall for the year, the average\n",
    "monthly rainfall, and the months with the highest and lowest amounts."
   ]
  },
  {
   "cell_type": "code",
   "execution_count": 2,
   "metadata": {},
   "outputs": [
    {
     "name": "stdout",
     "output_type": "stream",
     "text": [
      "Please enter the values for Month #1: 100\n",
      "Please enter the values for Month #2: 1\n",
      "Please enter the values for Month #3: 1\n",
      "Please enter the values for Month #4: 1\n",
      "Please enter the values for Month #5: 1\n",
      "Please enter the values for Month #6: 1\n",
      "Please enter the values for Month #7: 1\n",
      "Please enter the values for Month #8: 1\n",
      "Please enter the values for Month #9: 1\n",
      "Please enter the values for Month #10: 1\n",
      "Please enter the values for Month #11: 0\n",
      "Please enter the values for Month #12: 1\n",
      "The total annual rainfall is 110.0\n",
      "The average annual rainfall is 9.17\n",
      "The month with the lowest rainfall is Month:11\n",
      "The month with the highest rainfall is Month:1\n"
     ]
    }
   ],
   "source": [
    "NUMBER_MONTHS = 12\n",
    "\n",
    "monthlyRainfall = [] * NUMBER_MONTHS\n",
    "total = 0\n",
    "for month in range(NUMBER_MONTHS):\n",
    "    print(f'Please enter the values for Month #{month+1}: ', end= '')\n",
    "    rain = input('')\n",
    "    monthlyRainfall.append(rain)\n",
    "    total += float(monthlyRainfall[month])\n",
    "\n",
    "average = total/NUMBER_MONTHS\n",
    "lowest = min(monthlyRainfall)\n",
    "lowestMonth = monthlyRainfall.index(lowest)\n",
    "highest = max(monthlyRainfall)\n",
    "highestMonth = monthlyRainfall.index(highest)\n",
    "    \n",
    "print(f'The total annual rainfall is {total}')\n",
    "print(f'The average annual rainfall is {average:.2f}')\n",
    "print(f'The month with the lowest rainfall is Month:{lowestMonth+1}')\n",
    "print(f'The month with the highest rainfall is Month:{highestMonth+1}')\n"
   ]
  },
  {
   "cell_type": "raw",
   "metadata": {},
   "source": [
    "charge Account Validation - charge_accounts.txt\n",
    "This file has a list of a company’s valid charge account numbers.\n",
    "Each account number is a seven-digit number, such as 5658845.\n",
    "Write a program that reads the contents of the file into a list.\n",
    "The program should then ask the user to enter a charge account number. \n",
    "The program should determine whether the number is valid by searching for it\n",
    "in the list. If the number is in the list, the program should display a message\n",
    "indicating the number is valid. If the number is not in the list, the\n",
    "program should display a message indicating the number is invalid."
   ]
  },
  {
   "cell_type": "code",
   "execution_count": 21,
   "metadata": {},
   "outputs": [
    {
     "name": "stdout",
     "output_type": "stream",
     "text": [
      "Enter Account Number to search for: 154\n",
      "154 is valid\n"
     ]
    }
   ],
   "source": [
    "f = open('./data/charge_accounts.txt', 'r')\n",
    "accounts_list = []\n",
    "\n",
    "while f.readline() !='':\n",
    "    line = f.readline()\n",
    "    line = line.rstrip('\\n')\n",
    "    #line = int(line)\n",
    "    accounts_list.append(line)\n",
    "\n",
    "#print(f'The following were read: {accounts_list}')\n",
    "\n",
    "searchAccountNum = input('Enter Account Number to search for: ')\n",
    "if searchAccountNum in accounts_list:\n",
    "    print(f'{searchAccountNum} is valid')\n",
    "else:\n",
    "    print(f'{searchAccountNum} is NOT valid')\n",
    "\n"
   ]
  },
  {
   "cell_type": "raw",
   "metadata": {},
   "source": [
    "Larger Than n\n",
    "In a program, write a function that accepts two arguments: a list, and a number n. Assume\n",
    "that the list contains numbers. The function should display all of the numbers in the list\n",
    "that are greater than the number n."
   ]
  },
  {
   "cell_type": "code",
   "execution_count": 27,
   "metadata": {},
   "outputs": [
    {
     "name": "stdout",
     "output_type": "stream",
     "text": [
      "These are all the numbers greater than or equal to 2\n",
      " 2 3"
     ]
    }
   ],
   "source": [
    "def greaterThan(listToCheck, n):\n",
    "    print(f'These are all the numbers greater than or equal to {n}')\n",
    "    for num in range(len(listToCheck)):\n",
    "        if listToCheck[num] >= n:\n",
    "            print(f' {listToCheck[num]}', end = '')\n",
    "        else:\n",
    "            pass\n",
    "\n",
    "greaterThan([1, 2, 3], 2)"
   ]
  },
  {
   "cell_type": "raw",
   "metadata": {},
   "source": [
    "Driver’s License exam\n",
    "The local driver’s license office has asked you to create an application that grades the writ-\n",
    "ten portion of the driver’s license exam. The exam has 20 multiple-choice questions. Here\n",
    "are the correct answers:\n",
    "1. A\n",
    "2. C\n",
    "3. A\n",
    "4. A\n",
    "5. D\n",
    "6. B\n",
    "7. C\n",
    "8. A\n",
    "9. C\n",
    "10. B\n",
    "11. A\n",
    "12. D\n",
    "13. C\n",
    "14. A\n",
    "15. D\n",
    "16. C\n",
    "17. B\n",
    "18. B\n",
    "19. D\n",
    "20. A\n",
    "Your program should store these correct answers in a list. The program should read the\n",
    "student’s answers for each of the 20 questions from a text file and store the answers in\n",
    "another list. (Create your own text file to test the application.) After the student’s answers\n",
    "have been read from the file, the program should display a message indicating whether the\n",
    "student passed or failed the exam. (A student must correctly answer 15 of the 20 questions\n",
    "to pass the exam.) It should then display the total number of correctly answered questions,\n",
    "the total number of incorrectly answered questions, and a list showing the question num-\n",
    "bers of the incorrectly answered questions."
   ]
  },
  {
   "cell_type": "code",
   "execution_count": null,
   "metadata": {},
   "outputs": [],
   "source": []
  },
  {
   "cell_type": "raw",
   "metadata": {},
   "source": [
    "name search\n",
    "If you have downloaded the source code from this book’s companion Web site, you will find\n",
    "the following files in the Chapter 07 folder:\n",
    "• GirlNames.txt—This file contains a list of the 200 most popular names given to girls\n",
    "born in the United States from the year 2000 through 2009.\n",
    "• BoyNames.txt—This file contains a list of the 200 most popular names given to boys\n",
    "born in the United States from the year 2000 through 2009.\n",
    "Write a program that reads the contents of the two files into two separate lists. The user\n",
    "should be able to enter a boy’s name, a girl’s name, or both, and the application will display\n",
    "messages indicating whether the names were among the most popular."
   ]
  },
  {
   "cell_type": "code",
   "execution_count": null,
   "metadata": {},
   "outputs": [],
   "source": []
  },
  {
   "cell_type": "raw",
   "metadata": {},
   "source": [
    "Population Data\n",
    "If you have downloaded the source code from this book’s companion Web site, you will\n",
    "find a file named USPopulation.txt in the Chapter 07 folder. The file contains the midyear\n",
    "population of the United States, in thousands, during the years 1950 through 1990. The\n",
    "first line in the file contains the population for 1950, the second line contains the popula-\n",
    "tion for 1951, and so forth.\n",
    "Write a program that reads the file’s contents into a list. The program should display the\n",
    "following data:\n",
    "• The average annual change in population during the time period\n",
    "• The year with the greatest increase in population during the time period\n",
    "• The year with the smallest increase in population during the time period"
   ]
  },
  {
   "cell_type": "code",
   "execution_count": null,
   "metadata": {},
   "outputs": [],
   "source": []
  },
  {
   "cell_type": "raw",
   "metadata": {},
   "source": [
    "World series champions\n",
    "If you have downloaded the source code from this book’s companion Web site, you will find\n",
    "a file named WorldSeriesWinners.txt in the Chapter 07 folder. This file contains a chrono-\n",
    "logical list of the World Series winning teams from 1903 through 2009. (The first line in\n",
    "the file is the name of the team that won in 1903, and the last line is the name of the team\n",
    "that won in 2009. Note that the World Series was not played in 1904 or 1994.)\n",
    "Write a program that lets the user enter the name of a team and then displays the number\n",
    "of times that team has won the World Series in the time period from 1903 through 2009"
   ]
  },
  {
   "cell_type": "code",
   "execution_count": null,
   "metadata": {},
   "outputs": [],
   "source": []
  }
 ],
 "metadata": {
  "kernelspec": {
   "display_name": "Python 3",
   "language": "python",
   "name": "python3"
  },
  "language_info": {
   "codemirror_mode": {
    "name": "ipython",
    "version": 3
   },
   "file_extension": ".py",
   "mimetype": "text/x-python",
   "name": "python",
   "nbconvert_exporter": "python",
   "pygments_lexer": "ipython3",
   "version": "3.7.3"
  }
 },
 "nbformat": 4,
 "nbformat_minor": 2
}
