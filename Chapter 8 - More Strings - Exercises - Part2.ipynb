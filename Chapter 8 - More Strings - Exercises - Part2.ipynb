{
 "cells": [
  {
   "cell_type": "markdown",
   "metadata": {},
   "source": [
    "# Problems"
   ]
  },
  {
   "cell_type": "raw",
   "metadata": {},
   "source": [
    "Assume choice references a string. The following if statement determines whether\n",
    "choice is equal to ‘Y’ or ‘y’:\n",
    "if choice == 'Y' or choice == 'y':\n",
    "Rewrite this statement so it only makes one comparison and does not use the or opera-\n",
    "tor. (Hint: use either the upper or lower methods.)"
   ]
  },
  {
   "cell_type": "code",
   "execution_count": null,
   "metadata": {},
   "outputs": [],
   "source": [
    "choice = \"y\"\n",
    "if choice.upper() == 'Y':\n",
    "    print(\"continue\")"
   ]
  },
  {
   "cell_type": "raw",
   "metadata": {},
   "source": [
    "Write a loop that counts the number of space characters that appear\n",
    "in the string referenced by mystring"
   ]
  },
  {
   "cell_type": "code",
   "execution_count": 6,
   "metadata": {},
   "outputs": [
    {
     "name": "stdout",
     "output_type": "stream",
     "text": [
      "The number of space characters is 8\n"
     ]
    }
   ],
   "source": [
    "mystring = ' Roses are Red and Violets are Blue '\n",
    "count = 0\n",
    "\n",
    "for char in mystring:\n",
    "    if char == ' ':\n",
    "        count += 1\n",
    "    else:\n",
    "        pass\n",
    "\n",
    "print(f'The number of space characters is {count}')\n",
    "    "
   ]
  },
  {
   "cell_type": "raw",
   "metadata": {},
   "source": [
    "Write a program to input a string and print the number of lowercase and uppercase\n",
    "characters in the string."
   ]
  },
  {
   "cell_type": "code",
   "execution_count": 9,
   "metadata": {},
   "outputs": [
    {
     "name": "stdout",
     "output_type": "stream",
     "text": [
      "Enter a string: 123BCbc\n",
      "The number lowercase characters is 2 and The number uppercase characters is 2\n"
     ]
    }
   ],
   "source": [
    "mystringOne = input(\"Enter a string: \")\n",
    "mystringOne = mystringOne.strip()\n",
    "lowerCount = 0\n",
    "upperCount = 0\n",
    "\n",
    "for i in range(len(mystringOne)):\n",
    "    char = mystringOne[i]\n",
    "    if char.islower():\n",
    "        lowerCount += 1\n",
    "    elif char.isupper():\n",
    "            upperCount += 1\n",
    "            \n",
    "print(f'The number lowercase characters is {lowerCount} and The number uppercase characters is {upperCount}')"
   ]
  },
  {
   "cell_type": "raw",
   "metadata": {},
   "source": [
    "Write a program that asks the user to input five numbers in the form of a string,\n",
    "and then prints the sum of those numbers."
   ]
  },
  {
   "cell_type": "code",
   "execution_count": 27,
   "metadata": {},
   "outputs": [
    {
     "name": "stdout",
     "output_type": "stream",
     "text": [
      "Enter 5 numbers seperated by a space: 1.1 2.1 \n",
      "3.2\n"
     ]
    }
   ],
   "source": [
    "myNumbers = input('Enter 5 numbers seperated by a space: ')\n",
    "myNumbers = myNumbers.strip()\n",
    "myNumbers = myNumbers.split(' ')\n",
    "\n",
    "sum = 0\n",
    "for num in myNumbers:\n",
    "    num = float(num)\n",
    "    sum += num\n",
    "\n",
    "print(sum)\n",
    "    "
   ]
  },
  {
   "cell_type": "raw",
   "metadata": {},
   "source": [
    "Write a function that accepts a string as an argument and returns true if the argument\n",
    "ends with the substring '.com' . Otherwise, the function should return false."
   ]
  },
  {
   "cell_type": "code",
   "execution_count": 29,
   "metadata": {},
   "outputs": [
    {
     "name": "stdout",
     "output_type": "stream",
     "text": [
      "Please enter full web address:www.hello.com\n",
      "True\n"
     ]
    }
   ],
   "source": [
    "websiteAddress = input('Please enter full web address:')\n",
    "websiteAddress = websiteAddress[-4: ]\n",
    "\n",
    "if '.com' in websiteAddress:\n",
    "    print(True)\n",
    "else:\n",
    "    print(False)\n"
   ]
  },
  {
   "cell_type": "raw",
   "metadata": {},
   "source": [
    "Write a program to input a string. Print ‘valid’ if it\n",
    "contains the ‘@’ character, else print ‘invalid’ "
   ]
  },
  {
   "cell_type": "code",
   "execution_count": 30,
   "metadata": {},
   "outputs": [
    {
     "name": "stdout",
     "output_type": "stream",
     "text": [
      "Enter full email address: ziaurrahman@aston.ac.uk\n",
      "True\n"
     ]
    }
   ],
   "source": [
    "emailAddress = input('Enter full email address: ')\n",
    "\n",
    "if '@' in emailAddress:\n",
    "    print(True)\n",
    "else:\n",
    "    print(False)\n"
   ]
  },
  {
   "cell_type": "raw",
   "metadata": {},
   "source": [
    "Write a program to find the location of the first occurrence of a vowel and replace it\n",
    "with ‘X’. Assume that the string will contain at least one vowel."
   ]
  },
  {
   "cell_type": "code",
   "execution_count": 45,
   "metadata": {},
   "outputs": [
    {
     "name": "stdout",
     "output_type": "stream",
     "text": [
      "bcdfgX\n"
     ]
    }
   ],
   "source": [
    "mystring = 'bcdfge'\n",
    "mystring = mystring.lower()\n",
    "\n",
    "if mystring.find('a') !=-1:\n",
    "    mystring = mystring.replace('a', 'X')\n",
    "elif mystring.find('e') != -1:\n",
    "    mystring = mystring.replace('e', 'X')\n",
    "elif mystring.find('i') !=-1:\n",
    "    mystring = mystring.replace('i', 'X')\n",
    "else:\n",
    "    pass\n",
    "\n",
    "print(mystring)\n",
    "    "
   ]
  },
  {
   "cell_type": "raw",
   "metadata": {},
   "source": [
    "Assume mystring references a string. Write a statement that uses a slicing expression\n",
    "and displays the first 3 characters in the string."
   ]
  },
  {
   "cell_type": "code",
   "execution_count": 12,
   "metadata": {},
   "outputs": [
    {
     "name": "stdout",
     "output_type": "stream",
     "text": [
      "Tob\n"
     ]
    }
   ],
   "source": [
    "mystring = 'Tobe or not to be'\n",
    "\n",
    "print(mystring[ :3])"
   ]
  },
  {
   "cell_type": "raw",
   "metadata": {},
   "source": [
    "Write a program that will input a string from the user and \n",
    "remove all consonants from it. \n",
    "Display the final string and number of characters deleted"
   ]
  },
  {
   "cell_type": "code",
   "execution_count": 21,
   "metadata": {},
   "outputs": [
    {
     "name": "stdout",
     "output_type": "stream",
     "text": [
      "The new string is:aeiou11 and 5 consonants were removed\n"
     ]
    }
   ],
   "source": [
    "mystring = 'bcdfgaeiou11'\n",
    "mystring = mystring.lower()\n",
    "consonants = 'bcdfghjklmnpqrstvwxyz'\n",
    "removed = 0\n",
    "\n",
    "for i in range(len(consonants)):\n",
    "    if consonants[i] in mystring:\n",
    "        removed += 1\n",
    "        mystring = mystring.replace(consonants[i], '')\n",
    "\n",
    "print(f'The new string is:{mystring} and {removed} consonants were removed')\n",
    "\n",
    "    "
   ]
  },
  {
   "cell_type": "code",
   "execution_count": 22,
   "metadata": {},
   "outputs": [
    {
     "data": {
      "text/plain": [
       "['cookies', 'milk', 'fudge', 'cake', 'ice cream']"
      ]
     },
     "execution_count": 22,
     "metadata": {},
     "output_type": "execute_result"
    }
   ],
   "source": [
    "mystring = 'cookies>milk>fudge>cake>ice cream'\n",
    "mylist = mystring.split('>')\n",
    "mylist"
   ]
  },
  {
   "cell_type": "markdown",
   "metadata": {},
   "source": [
    "### Programming Exercises"
   ]
  },
  {
   "cell_type": "raw",
   "metadata": {},
   "source": [
    "Initials\n",
    "Write a program that gets a string containing a person’s first, middle, and last names,\n",
    "and then display their first, middle, and last initials. For example, if the user enters John\n",
    "William Smith the program should display J. W. S."
   ]
  },
  {
   "cell_type": "code",
   "execution_count": 25,
   "metadata": {},
   "outputs": [
    {
     "name": "stdout",
     "output_type": "stream",
     "text": [
      "Please enter first,middle and surname: Zia Ur Rahman\n",
      "Your initials are: Z. U. R.\n"
     ]
    }
   ],
   "source": [
    "name = input('Please enter first,middle and surname: ')\n",
    "\n",
    "nameList = name.split()\n",
    "\n",
    "print(f'Your initials are: {nameList[0][0]}. {nameList[1][0]}. {nameList[2][0]}.')"
   ]
  },
  {
   "cell_type": "raw",
   "metadata": {},
   "source": [
    "Sum of Digits in a String\n",
    "Write a program that asks the user to enter a series of single-digit numbers with nothing\n",
    "separating them. The program should display the sum of all the single digit numbers in the\n",
    "string. For example, if the user enters 2514, the method should return 12, which is the sum\n",
    "of 2, 5, 1, and 4"
   ]
  },
  {
   "cell_type": "code",
   "execution_count": 27,
   "metadata": {},
   "outputs": [
    {
     "name": "stdout",
     "output_type": "stream",
     "text": [
      "Please enter list of integers from 0 to 9 w/o spaces: 01234\n",
      "The sum is: 10\n"
     ]
    }
   ],
   "source": [
    "numbers = input('Please enter list of integers from 0 to 9 w/o spaces: ')\n",
    "sum = 0\n",
    "\n",
    "for i in range(len(numbers)):\n",
    "    num = int(numbers[i])\n",
    "    sum += num\n",
    "\n",
    "print(f'The sum is: {sum}')"
   ]
  },
  {
   "cell_type": "raw",
   "metadata": {},
   "source": [
    "Date printer\n",
    "Write a program that reads a string from the user containing a date in the form \n",
    "mm/dd/yyyy. It should print the date in the form March 12, 2014."
   ]
  },
  {
   "cell_type": "code",
   "execution_count": 34,
   "metadata": {},
   "outputs": [
    {
     "name": "stdout",
     "output_type": "stream",
     "text": [
      "Enter date in dd/mm/yyyy format: 01/05/2019\n",
      "the date is:May 01, 2019   \n"
     ]
    }
   ],
   "source": [
    "date = input('Enter date in dd/mm/yyyy format: ')\n",
    "date = date.split('/')\n",
    "\n",
    "months = ['Jan', 'Feb', 'Mar', 'Apr', 'May']\n",
    "\n",
    "if date[1] == '01':\n",
    "    date[1] = 'Jan'\n",
    "elif date[1] == '05':\n",
    "    date[1] = 'May'\n",
    "    '''Do for each and very month!!'''\n",
    "    \n",
    "newdate = date[1] + ' ' + date[0] + ', ' + date[2]\n",
    "print(f'the date is:{newdate}   ')"
   ]
  },
  {
   "cell_type": "raw",
   "metadata": {},
   "source": [
    "Alphabetic telephone number translator\n",
    "Many companies use telephone numbers like 555-GET-FOOD so the number is easier for\n",
    "their customers to remember. On a standard telephone, the alphabetic letters are mapped\n",
    "to numbers in the following fashion:\n",
    "A, B, and C 2\n",
    "D, E, and F 3\n",
    "G, H, and I 4\n",
    "J, K, and L 5\n",
    "M, N, and O 6\n",
    "P, Q, R, and S 7\n",
    "T, U, and V 8\n",
    "W, X, Y, and Z 9\n",
    "Write a program that asks the user to enter a 10-character telephone number in the for-\n",
    "mat XXX-XXX-XXXX. The application should display the telephone number with any\n",
    "alphabetic characters that appeared in the original translated to their numeric equiva-\n",
    "lent. For example, if the user enters 555-GET-FOOD the application should display\n",
    "555-438-3663."
   ]
  },
  {
   "cell_type": "code",
   "execution_count": null,
   "metadata": {},
   "outputs": [],
   "source": [
    "'''phoneNumber = input('Please enter phone number in the format: XXX-XXX-XXXX')\n",
    "\n",
    "for i in range(len(phoneNumber)):\n",
    "    if phoneNumber[i]\n",
    "    \n",
    "'''"
   ]
  },
  {
   "cell_type": "raw",
   "metadata": {},
   "source": [
    "Average number of Words\n",
    "If you have downloaded the source code from this book’s companion Web site, you will\n",
    "find a file named text.txt in the Chapter 08 folder. The text that is in the file is stored\n",
    "as one sentence per line. Write a program that reads the file’s contents and calculates the\n",
    "average number of words per sentence."
   ]
  },
  {
   "cell_type": "code",
   "execution_count": null,
   "metadata": {},
   "outputs": [],
   "source": []
  }
 ],
 "metadata": {
  "kernelspec": {
   "display_name": "Python 3",
   "language": "python",
   "name": "python3"
  },
  "language_info": {
   "codemirror_mode": {
    "name": "ipython",
    "version": 3
   },
   "file_extension": ".py",
   "mimetype": "text/x-python",
   "name": "python",
   "nbconvert_exporter": "python",
   "pygments_lexer": "ipython3",
   "version": "3.7.3"
  }
 },
 "nbformat": 4,
 "nbformat_minor": 2
}
