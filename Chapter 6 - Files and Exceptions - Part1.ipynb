{
 "cells": [
  {
   "cell_type": "markdown",
   "metadata": {},
   "source": [
    "# Chapter 6 - Files and Exceptions - Part One"
   ]
  },
  {
   "cell_type": "markdown",
   "metadata": {},
   "source": [
    "### Files and Exceptions"
   ]
  },
  {
   "cell_type": "markdown",
   "metadata": {},
   "source": [
    "When a program needs to save data for later use, it writes the data in a\n",
    "file. The data can be read from the file at a later time."
   ]
  },
  {
   "cell_type": "markdown",
   "metadata": {},
   "source": [
    "e.g. word processors, Image editors, spreadsheets, Games and Web Browsers"
   ]
  },
  {
   "cell_type": "markdown",
   "metadata": {},
   "source": [
    "The process of saving data in a file is called “writing data to” the file, it is copied from a variable in RAM to\n",
    "the file. The term output file is used to describe a file that data is written to. \n",
    "It is called an output file because the program stores output in it."
   ]
  },
  {
   "cell_type": "markdown",
   "metadata": {},
   "source": [
    "The process of retrieving data from a file is known as “reading data from” the file.\n",
    "It is copied from the file into RAM and referenced by a variable. \n",
    "It is called an input file because the program gets input from the file"
   ]
  },
  {
   "cell_type": "markdown",
   "metadata": {},
   "source": [
    "### 3 Step Process when File used by a Program"
   ]
  },
  {
   "cell_type": "markdown",
   "metadata": {},
   "source": [
    "1. OPEN FILE — Opening a file creates a connection between the file and the program.\n",
    " Opening an output file usually creates the file on the disk and allows the program to\n",
    "write data to it.\n",
    "Opening an input file allows the program to read data from the file.\n",
    "2. PROCESS FILE — In this step data is either written to the file (if it is an output file) or\n",
    "read from the file (if it is an input file).\n",
    "3. CLOSE FILE — When the program is finished using the file, the file must be closed.\n",
    "Closing a file disconnects the file from the program."
   ]
  },
  {
   "cell_type": "markdown",
   "metadata": {},
   "source": [
    "### 2 Types of File"
   ]
  },
  {
   "cell_type": "markdown",
   "metadata": {},
   "source": [
    "TEXT - A text file contains data that has been encoded as text, using a scheme such as ASCII or Unicode.\n",
    "Opened and viewed in a text editor e.g. Notepad. numbers and words stored in the file as a series of characters.\n",
    "\n",
    "BINARY - Contains data that has not been converted to text. Only for program to read and cannot use text editor to view.\n"
   ]
  },
  {
   "cell_type": "markdown",
   "metadata": {},
   "source": [
    "### File Access Methods"
   ]
  },
  {
   "cell_type": "markdown",
   "metadata": {},
   "source": [
    "#### Sequential access file \n",
    "Accessed from beginning to end. if data is at the end - still \n",
    "need to read from beginning til the end. ie cannot jumpt to it. Cassette player analogy\n",
    "\n",
    "#### Direct Access File/ Random Access File \n",
    "Jump directly to it - like a CD"
   ]
  },
  {
   "cell_type": "markdown",
   "metadata": {},
   "source": [
    "### Filenames and File Objects"
   ]
  },
  {
   "cell_type": "markdown",
   "metadata": {},
   "source": [
    "Each OS has own naming conventions for naming files. They mainly use filename extensions e.g. cat.jpg, wordfile.doc\n",
    "In order for a program to work with a file on the computer’s disk, the program must create\n",
    "a file object in memory. A file object is an object that is associated with a specific file and\n",
    "provides a way for the program to work with that file. In the program, a variable references the file object.\n",
    "This variable is used to carry out any operations that are performed on the file."
   ]
  },
  {
   "cell_type": "markdown",
   "metadata": {},
   "source": [
    "### Opening a File"
   ]
  },
  {
   "cell_type": "markdown",
   "metadata": {},
   "source": [
    "Use Open Python function to create a file object associated with file on disk. General Format:"
   ]
  },
  {
   "cell_type": "markdown",
   "metadata": {},
   "source": [
    "file_variable = open(filename, mode)\n",
    "\n",
    "- file_variable = name of var ref obj\n",
    "- filename = string specifying file\n",
    "- mode = string that specficies: \n",
    " 1. r = Read (cant change file)\n",
    " 2. w = Write (if file exists then erasde else create it)\n",
    " 3. a = Append ( append to end of file , else create file)\n",
    " 4. r+ = read and write - beginning of file\n",
    " 5. a+ = read and append - end of file"
   ]
  },
  {
   "cell_type": "markdown",
   "metadata": {},
   "source": [
    " e.g. customer_file = open('customers.txt', 'r')"
   ]
  },
  {
   "cell_type": "markdown",
   "metadata": {},
   "source": [
    "e.g. sales_file = open('sales.txt', 'w')           \n",
    "This erases the file if already exists!!!"
   ]
  },
  {
   "cell_type": "markdown",
   "metadata": {},
   "source": [
    "1. r - Opens a file for reading only. The file pointer is placed at the beginning of the file. This is the default mode.\n",
    "2. rb - Opens a file for reading only in binary format. The file pointer is placed at the beginning of the file. This is the default mode.\n",
    "3. r+ - Opens a file for both reading and writing. The file pointer will be at the beginning of the file.\n",
    "4. rb+ - Opens a file for both reading and writing in binary format. The file pointer will be at the beginning of the file.\n",
    "5. w - Opens a file for writing only. Overwrites the file if the file exists. If the file does not exist, creates a new file for writing.\n",
    "6. wb - Opens a file for writing only in binary format. Overwrites the file if the file exists. If the file does not exist, creates a new file for writing.\n",
    "7. w+ - Opens a file for both writing and reading. Overwrites the existing file if the file exists. If the file does not exist, creates a new file for reading and writing.\n",
    "8. wb+ - Opens a file for both writing and reading in binary format. Overwrites the existing file if the file exists. If the file does not exist, creates a new file for reading and writing.\n",
    "9. a - Opens a file for appending. The file pointer is at the end of the file if the file exists. That is, the file is in the append mode. If the file does not exist, it creates a new file for writing.\n",
    "10. ab - Opens a file for appending in binary format. The file pointer is at the end of the file if the file exists. That is, the file is in the append mode. If the file does not exist, it creates a new file for writing.\n",
    "11. a+ - Opens a file for both appending and reading. The file pointer is at the end of the file if the file exists. The file opens in the append mode. If the file does not exist, it creates a new file for reading and writing.\n",
    "12. ab+ - Opens a file for both appending and reading in binary format. The file pointer is at the end of the file if the file exists. The file opens in the append mode. If the file does not exist, it creates a new file for reading and writing."
   ]
  },
  {
   "cell_type": "markdown",
   "metadata": {},
   "source": [
    "### Specifying the Location"
   ]
  },
  {
   "cell_type": "markdown",
   "metadata": {},
   "source": [
    "In general python looks/creates the file in current directory, else you need to specify.\n",
    "Note: Use r = raw string else interpreter will interpret \\ incorrectly\n",
    "\n",
    "e.g. test_file = open(r\"C:\\Users\\Blake\\temp\\test.txt\", \"w\")"
   ]
  },
  {
   "cell_type": "code",
   "execution_count": 21,
   "metadata": {},
   "outputs": [],
   "source": [
    "input_file = open(r'./data/Testing_Out_File.txt', 'r')\n",
    "my_file = input_file.read()\n",
    "input_file.close()"
   ]
  },
  {
   "cell_type": "code",
   "execution_count": 22,
   "metadata": {},
   "outputs": [
    {
     "name": "stdout",
     "output_type": "stream",
     "text": [
      "Hello World!\n",
      "I am Ziaur\n",
      "\n"
     ]
    }
   ],
   "source": [
    "print(my_file)"
   ]
  },
  {
   "cell_type": "markdown",
   "metadata": {},
   "source": [
    "## Writing Data to a File"
   ]
  },
  {
   "cell_type": "markdown",
   "metadata": {},
   "source": [
    "A method is a function that belongs to an object. Performs operation on that object.\n",
    "e.g. open a file and perform operations on that object"
   ]
  },
  {
   "cell_type": "markdown",
   "metadata": {},
   "source": [
    "file objects have methods like write(). You must open in 'w' or 'a' mode to do following:"
   ]
  },
  {
   "cell_type": "raw",
   "metadata": {},
   "source": [
    "e.g.\n",
    "    input_file.write('some string') ## input_file references object and write method writes 'some string' to that object"
   ]
  },
  {
   "cell_type": "code",
   "execution_count": 32,
   "metadata": {},
   "outputs": [],
   "source": [
    "# An exmaple of writing\n",
    "write_this1 = 'Khalida Rahman'    ## writes this variable string\n",
    "write_this2 = '14'\n",
    "\n",
    "input_file = open(r'./data/Testing_Out_File.txt', 'a') # open file in w or a mode\n",
    "my_file = input_file.write(write_this1 + '\\n') # writes the variable\n",
    "my_file = input_file.write(write_this2 + '\\n') # writes the variable\n",
    "\n",
    "input_file.close() # closes the file"
   ]
  },
  {
   "cell_type": "raw",
   "metadata": {},
   "source": [
    "If you do not close the file then the data in the buffer will not be written to the file and lost\n",
    "The buffer is in memory and when it gets full it is written to the file. The file objects .close() method is used \n",
    "to close a file"
   ]
  },
  {
   "cell_type": "code",
   "execution_count": 34,
   "metadata": {},
   "outputs": [],
   "source": [
    "f = open(r'./data/Test_File2.txt', 'w')\n",
    "\n",
    "f.write('1. is Ziaur Rahman\\n')\n",
    "f.write('2. is Khatam Rahman\\n')\n",
    "f.write('3. is Khalida Rahman\\n')\n",
    "f.close()"
   ]
  },
  {
   "cell_type": "code",
   "execution_count": 35,
   "metadata": {},
   "outputs": [],
   "source": [
    "f = open(r'./data/Test_File2.txt', 'a')\n",
    "\n",
    "f.write('Ages are: \\n')\n",
    "f.write('43, 39, 38 \\n')\n",
    "\n",
    "f.close()"
   ]
  },
  {
   "cell_type": "markdown",
   "metadata": {},
   "source": [
    "## Reading Data from a File"
   ]
  },
  {
   "cell_type": "raw",
   "metadata": {},
   "source": [
    "When file opened in 'r' mode, you can use the .read() method\n",
    "Returns the file's content as a string"
   ]
  },
  {
   "cell_type": "code",
   "execution_count": 38,
   "metadata": {},
   "outputs": [
    {
     "name": "stdout",
     "output_type": "stream",
     "text": [
      "1. is Ziaur Rahman\n",
      "2. is Khatam Rahman\n",
      "3. is Khalida Rahman\n",
      "Ages are: \n",
      "43, 39, 38 \n",
      "\n"
     ]
    }
   ],
   "source": [
    "# Exammple of reading the test_File2.txt File\n",
    "f = open(r'./data/Test_File2.txt', 'r') # opens file obect in r-mode and assigned to the f object\n",
    "\n",
    "f_contents = f.read() # read method called and assigned to variable f_contents as a string\n",
    "f.close() # file object closed\n",
    "\n",
    "print(f_contents) # variable f_contents is printed"
   ]
  },
  {
   "cell_type": "raw",
   "metadata": {},
   "source": [
    "Sometimes you need to read a single line,\n",
    "e.g sales figures and then use an accumaltor to e.g, add them all up\n",
    "use the .readline() method to read a single line"
   ]
  },
  {
   "cell_type": "code",
   "execution_count": 44,
   "metadata": {},
   "outputs": [
    {
     "name": "stdout",
     "output_type": "stream",
     "text": [
      "10\n",
      "\n",
      "20\n",
      "\n",
      "30\n"
     ]
    }
   ],
   "source": [
    "f = open(r'./data/Sales_Figures.txt', 'r') # opens file obect in r-mode and assigned to the f object\n",
    "\n",
    "line1 = f.readline()  ## reads a single line from start of file and assigned to variable\n",
    "line2 = f.readline()  ## read position internally assigned to end of first \\n\n",
    "line3 = f.readline()  ## read position internally assigned to end of next \\n\n",
    "\n",
    "f.close() # close the file\n",
    "\n",
    "print(line1)  # printing the strings read into memory\n",
    "print(line2)  # note as the string has a \\n then it too is printed\n",
    "print(line3)  # note if tlast line doesnt end with a \\n then readline() will not print one too!"
   ]
  },
  {
   "cell_type": "markdown",
   "metadata": {},
   "source": [
    "## Concatenating a Newline to a string"
   ]
  },
  {
   "cell_type": "raw",
   "metadata": {},
   "source": [
    "When you ask the user to enter data then a \\n is required and needs to be concatenated.\n",
    "This will ensure aeach piece of data is written to sperate line.\n",
    "Below is example of how to do this:"
   ]
  },
  {
   "cell_type": "code",
   "execution_count": 46,
   "metadata": {},
   "outputs": [
    {
     "name": "stdout",
     "output_type": "stream",
     "text": [
      "Please enter sales figures: 100\n",
      "Please enter sales figures: 200\n",
      "Please enter sales figures: 300\n",
      "All data was written to Sales_Figures.txt\n"
     ]
    }
   ],
   "source": [
    "def main():\n",
    "    sales1 = input('Please enter sales figures: ')\n",
    "    sales2 = input('Please enter sales figures: ')\n",
    "    sales3 = input('Please enter sales figures: ')\n",
    "    \n",
    "    f = open('./data/Sales_Figures.txt', 'a')\n",
    "    \n",
    "    f.write(sales1 + '\\n')\n",
    "    f.write(sales2+ '\\n')\n",
    "    f.write(sales3+ '\\n')\n",
    "    \n",
    "    f.close()\n",
    "    print('All data was written to Sales_Figures.txt')\n",
    "\n",
    "main()\n"
   ]
  },
  {
   "cell_type": "markdown",
   "metadata": {},
   "source": [
    "### Reading a string and stripping newline from it"
   ]
  },
  {
   "cell_type": "raw",
   "metadata": {},
   "source": [
    "Sometimes we need to remove the \\n when reading from a file\n",
    "we use the string method called .rstrip('\\n) ie right strip the \\n character\n",
    "Here is an example"
   ]
  },
  {
   "cell_type": "code",
   "execution_count": 54,
   "metadata": {},
   "outputs": [
    {
     "name": "stdout",
     "output_type": "stream",
     "text": [
      "Hello World!\n",
      "I am Ziaur\n",
      "Khalida Rahman\n"
     ]
    }
   ],
   "source": [
    "def main():\n",
    "    f = open('./data/Testing_Out_File.txt', 'r')\n",
    "    \n",
    "    line1 = f.readline()  ## reads the first line\n",
    "    line2 = f.readline()\n",
    "    line3 = f.readline()\n",
    "    \n",
    "    line1 = line1.rstrip('\\n')   ## strips the \\n and assigned back to line1 variable\n",
    "    line2 = line2.rstrip('\\n')\n",
    "    line3 = line3.rstrip('\\n')\n",
    "\n",
    "    \n",
    "    f.close()\n",
    "    \n",
    "    print(line1)  # prints the newly stripped line1 variable\n",
    "    print(line2)\n",
    "    print(line3)\n",
    "    \n",
    "main()"
   ]
  },
  {
   "cell_type": "markdown",
   "metadata": {},
   "source": [
    "### Appending Data to Existing File"
   ]
  },
  {
   "cell_type": "raw",
   "metadata": {},
   "source": [
    "Do the following:\n",
    "    \n",
    "    f.open('file.text', 'a')  ## open file in append mode\n",
    "    \n",
    "    f.write('data to be written\\n') ## write data with \\n\n",
    "    \n",
    "    f.close()  # close the file object\n"
   ]
  },
  {
   "cell_type": "markdown",
   "metadata": {},
   "source": [
    "### Writing and Reading Numeric Data"
   ]
  },
  {
   "cell_type": "raw",
   "metadata": {},
   "source": [
    "strings from input() can be written straightaway\n",
    "But to store numeric - needs to be converted\n",
    "    e.g. num = 99\n",
    "    use str to convert from numeric to sring\n",
    "    e.g. str(num)\n",
    "    \n",
    "Here is an example:"
   ]
  },
  {
   "cell_type": "code",
   "execution_count": 55,
   "metadata": {},
   "outputs": [
    {
     "name": "stdout",
     "output_type": "stream",
     "text": [
      "Please enter sales figures: 101\n",
      "Please enter sales figures: 201\n",
      "Please enter sales figures: 301\n",
      "All data was written to Sales_Figures.txt\n"
     ]
    }
   ],
   "source": [
    "def main():\n",
    "    sales1 = int(input('Please enter sales figures: '))\n",
    "    sales2 = int(input('Please enter sales figures: '))\n",
    "    sales3 = int(input('Please enter sales figures: '))\n",
    "    \n",
    "    f = open('./data/Sales_Figures.txt', 'a')\n",
    "    \n",
    "    f.write(str(sales1) + '\\n')\n",
    "    f.write(str(sales2) + '\\n')\n",
    "    f.write(str(sales3) + '\\n')\n",
    "    \n",
    "    f.close()\n",
    "    print('All data was written to Sales_Figures.txt')\n",
    "\n",
    "main()"
   ]
  },
  {
   "cell_type": "code",
   "execution_count": null,
   "metadata": {},
   "outputs": [],
   "source": [
    "# An example that will convert read values to int "
   ]
  },
  {
   "cell_type": "code",
   "execution_count": 58,
   "metadata": {},
   "outputs": [
    {
     "name": "stdout",
     "output_type": "stream",
     "text": [
      "The numbers are -10, 20, 30\n",
      "The total is 40\n"
     ]
    }
   ],
   "source": [
    "def main():\n",
    "    f = open('./data/Sales_Figures.txt', 'r')\n",
    "    \n",
    "    num1 = int(f.readline())  ## reads the first line and converts to int\n",
    "    num2 = int(f.readline())\n",
    "    num3 = int(f.readline())\n",
    "       \n",
    "    f.close()\n",
    "    \n",
    "    total = num1 + num2 + num3\n",
    "    print(f'The numbers are {num1}, {num2}, {num3}')  # prints the newly stripped line1 variable\n",
    "    print(f'The total is {total}')\n",
    "    \n",
    "main()"
   ]
  },
  {
   "cell_type": "code",
   "execution_count": null,
   "metadata": {},
   "outputs": [],
   "source": []
  }
 ],
 "metadata": {
  "kernelspec": {
   "display_name": "Python 3",
   "language": "python",
   "name": "python3"
  },
  "language_info": {
   "codemirror_mode": {
    "name": "ipython",
    "version": 3
   },
   "file_extension": ".py",
   "mimetype": "text/x-python",
   "name": "python",
   "nbconvert_exporter": "python",
   "pygments_lexer": "ipython3",
   "version": "3.7.3"
  }
 },
 "nbformat": 4,
 "nbformat_minor": 2
}
