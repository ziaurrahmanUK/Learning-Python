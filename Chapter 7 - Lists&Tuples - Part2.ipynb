{
 "cells": [
  {
   "cell_type": "markdown",
   "metadata": {},
   "source": [
    "# Lists of Lists - 2D Lists"
   ]
  },
  {
   "cell_type": "raw",
   "metadata": {},
   "source": [
    "aka nested or 2D lists, Rows:0-n, Cols: 0-m\n",
    "Useful for working with multiple sets of data\n",
    "NEED two subscripts for locating elements"
   ]
  },
  {
   "cell_type": "code",
   "execution_count": 3,
   "metadata": {},
   "outputs": [
    {
     "data": {
      "text/plain": [
       "[[0, 0, 0], [0, 0, 0], [0, 0, 0]]"
      ]
     },
     "execution_count": 3,
     "metadata": {},
     "output_type": "execute_result"
    }
   ],
   "source": [
    "scores = [[0, 0, 0],\n",
    "          [0, 0, 0],\n",
    "          [0, 0, 0]]\n",
    "scores"
   ]
  },
  {
   "cell_type": "code",
   "execution_count": 7,
   "metadata": {},
   "outputs": [
    {
     "data": {
      "text/plain": [
       "0"
      ]
     },
     "execution_count": 7,
     "metadata": {},
     "output_type": "execute_result"
    }
   ],
   "source": [
    "# Records for 1st Row and all 3 columns\n",
    "\n",
    "# Row 0\n",
    "scores[0][0]\n",
    "scores[0][1]\n",
    "scores[0][2]\n",
    "# Row 1\n",
    "scores[1][0]\n",
    "scores[1][1]\n",
    "scores[1][2]\n",
    "# row 2\n",
    "scores[2][0]\n",
    "scores[2][1]\n",
    "scores[2][2]\n"
   ]
  },
  {
   "cell_type": "code",
   "execution_count": 18,
   "metadata": {},
   "outputs": [
    {
     "name": "stdout",
     "output_type": "stream",
     "text": [
      "481\n",
      "584\n",
      "532\n",
      "652\n",
      "995\n",
      "620\n",
      "694\n",
      "75\n",
      "655\n",
      "263\n",
      "877\n",
      "281\n"
     ]
    }
   ],
   "source": [
    "# Example of 2-d list populated with random function\n",
    "\n",
    "import random as rm\n",
    "\n",
    "ROWS = 3\n",
    "COLS = 4\n",
    "\n",
    "def main():\n",
    "    values = [[0, 0, 0 , 0],\n",
    "             [0, 0, 0 , 0],\n",
    "             [0, 0, 0 , 0]]\n",
    "    \n",
    "    for row in range(ROWS):\n",
    "        for col in range(COLS):\n",
    "            values[row][col] = rm.randint(1,1000)\n",
    "            \n",
    "    for row in range(ROWS):    ### this code prints list differently to normal method\n",
    "        for col in range(COLS):\n",
    "                print(values[row][col])  \n",
    "\n",
    "main()"
   ]
  },
  {
   "cell_type": "code",
   "execution_count": 24,
   "metadata": {},
   "outputs": [],
   "source": [
    "list = [[0], [0], [0], [0]\n",
    "       [0], [0], [0], [0],\n",
    "       [0], [0], [0], [0]]"
   ]
  },
  {
   "cell_type": "code",
   "execution_count": null,
   "metadata": {},
   "outputs": [],
   "source": []
  },
  {
   "cell_type": "code",
   "execution_count": null,
   "metadata": {},
   "outputs": [],
   "source": []
  }
 ],
 "metadata": {
  "kernelspec": {
   "display_name": "Python 3",
   "language": "python",
   "name": "python3"
  },
  "language_info": {
   "codemirror_mode": {
    "name": "ipython",
    "version": 3
   },
   "file_extension": ".py",
   "mimetype": "text/x-python",
   "name": "python",
   "nbconvert_exporter": "python",
   "pygments_lexer": "ipython3",
   "version": "3.7.3"
  }
 },
 "nbformat": 4,
 "nbformat_minor": 2
}
