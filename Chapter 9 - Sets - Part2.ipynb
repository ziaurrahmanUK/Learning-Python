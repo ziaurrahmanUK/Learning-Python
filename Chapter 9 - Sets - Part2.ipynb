{
 "cells": [
  {
   "cell_type": "markdown",
   "metadata": {},
   "source": [
    "# Sets"
   ]
  },
  {
   "cell_type": "raw",
   "metadata": {},
   "source": [
    "A set contains ONLY unique values - same as a a mathematical set\n",
    "- all elements MUST be unique\n",
    "- unordered - ie have no order\n",
    "- elements casn be of different data types"
   ]
  },
  {
   "cell_type": "markdown",
   "metadata": {},
   "source": [
    "### Creating A Set"
   ]
  },
  {
   "cell_type": "code",
   "execution_count": 23,
   "metadata": {},
   "outputs": [
    {
     "data": {
      "text/plain": [
       "{'e', 'h', 'l', 'p'}"
      ]
     },
     "execution_count": 23,
     "metadata": {},
     "output_type": "execute_result"
    }
   ],
   "source": [
    "# myset = set()\n",
    "\n",
    "myset1 = set(['a', 'b', 'c' ])   # passing a list\n",
    "myset2 = set('help')              # passing a string\n",
    "myset2"
   ]
  },
  {
   "cell_type": "code",
   "execution_count": 21,
   "metadata": {},
   "outputs": [
    {
     "data": {
      "text/plain": [
       "{'a', 'b', 'c'}"
      ]
     },
     "execution_count": 21,
     "metadata": {},
     "output_type": "execute_result"
    }
   ],
   "source": [
    "myset3 = set('aabbcc') ## contains duplicate but after set function applied only unique values\n",
    "myset3"
   ]
  },
  {
   "cell_type": "code",
   "execution_count": 25,
   "metadata": {},
   "outputs": [
    {
     "ename": "TypeError",
     "evalue": "set expected at most 1 arguments, got 3",
     "output_type": "error",
     "traceback": [
      "\u001b[1;31m---------------------------------------------------------------------------\u001b[0m",
      "\u001b[1;31mTypeError\u001b[0m                                 Traceback (most recent call last)",
      "\u001b[1;32m<ipython-input-25-7ed2f687215c>\u001b[0m in \u001b[0;36m<module>\u001b[1;34m\u001b[0m\n\u001b[0;32m      1\u001b[0m \u001b[1;31m# Cannot do the following as can only pass ONE argument!!!\u001b[0m\u001b[1;33m\u001b[0m\u001b[1;33m\u001b[0m\u001b[1;33m\u001b[0m\u001b[0m\n\u001b[1;32m----> 2\u001b[1;33m \u001b[0mmyset4\u001b[0m \u001b[1;33m=\u001b[0m \u001b[0mset\u001b[0m\u001b[1;33m(\u001b[0m\u001b[1;34m'one'\u001b[0m\u001b[1;33m,\u001b[0m \u001b[1;34m'two'\u001b[0m\u001b[1;33m,\u001b[0m \u001b[1;34m'three'\u001b[0m\u001b[1;33m)\u001b[0m\u001b[1;33m\u001b[0m\u001b[1;33m\u001b[0m\u001b[0m\n\u001b[0m",
      "\u001b[1;31mTypeError\u001b[0m: set expected at most 1 arguments, got 3"
     ]
    }
   ],
   "source": [
    "# Cannot do the following as can only pass ONE argument!!!\n",
    "myset4 = set('one', 'two', 'three')"
   ]
  },
  {
   "cell_type": "code",
   "execution_count": 27,
   "metadata": {},
   "outputs": [
    {
     "data": {
      "text/plain": [
       "{' ', 'e', 'h', 'n', 'o', 'r', 't', 'w'}"
      ]
     },
     "execution_count": 27,
     "metadata": {},
     "output_type": "execute_result"
    }
   ],
   "source": [
    "# This converts it as one string!!!\n",
    "myset4 = set('one two three')\n",
    "myset4"
   ]
  },
  {
   "cell_type": "code",
   "execution_count": 30,
   "metadata": {},
   "outputs": [
    {
     "data": {
      "text/plain": [
       "{'one', 'three', 'two'}"
      ]
     },
     "execution_count": 30,
     "metadata": {},
     "output_type": "execute_result"
    }
   ],
   "source": [
    "# This will work - Use a List or tuple:\n",
    "myset4 = set(('one', 'two', 'three')) # or do myset4 = set(['one', 'two', 'three'])\n",
    "myset4"
   ]
  },
  {
   "cell_type": "markdown",
   "metadata": {},
   "source": [
    "## Getting Number Elements in a SET"
   ]
  },
  {
   "cell_type": "code",
   "execution_count": 32,
   "metadata": {},
   "outputs": [
    {
     "data": {
      "text/plain": [
       "3"
      ]
     },
     "execution_count": 32,
     "metadata": {},
     "output_type": "execute_result"
    }
   ],
   "source": [
    "NumberElements = len(myset4)\n",
    "NumberElements"
   ]
  },
  {
   "cell_type": "markdown",
   "metadata": {},
   "source": [
    "## Adding or Removing Elements"
   ]
  },
  {
   "cell_type": "code",
   "execution_count": 38,
   "metadata": {},
   "outputs": [],
   "source": [
    "# To add:\n",
    "my_set = set()\n",
    "my_set.add(1)\n",
    "my_set.add(2)\n",
    "my_set.add(3)\n",
    "my_set.add(3)  ## no exception raised when adding duplicate item!!"
   ]
  },
  {
   "cell_type": "code",
   "execution_count": 39,
   "metadata": {},
   "outputs": [
    {
     "data": {
      "text/plain": [
       "{1, 2, 3}"
      ]
     },
     "execution_count": 39,
     "metadata": {},
     "output_type": "execute_result"
    }
   ],
   "source": [
    "my_set"
   ]
  },
  {
   "cell_type": "code",
   "execution_count": 41,
   "metadata": {},
   "outputs": [
    {
     "data": {
      "text/plain": [
       "{1, 2, 3, 4, 5, 6}"
      ]
     },
     "execution_count": 41,
     "metadata": {},
     "output_type": "execute_result"
    }
   ],
   "source": [
    "my_set.update([4, 5, 6, 4, 5, 6])  ## we can add multiple items in one go - even if contains duplicates\n",
    "my_set"
   ]
  },
  {
   "cell_type": "code",
   "execution_count": 49,
   "metadata": {},
   "outputs": [
    {
     "name": "stdout",
     "output_type": "stream",
     "text": [
      "None\n"
     ]
    }
   ],
   "source": [
    "# adding set to existing set using update method\n",
    "set1 = set([1, 2, 3])\n",
    "set2 = set([4, 5, 6])\n",
    "set1 = set1.update(set2)\n",
    "print(set1)  # note it does not return anything- but set1 has been modified"
   ]
  },
  {
   "cell_type": "code",
   "execution_count": null,
   "metadata": {},
   "outputs": [],
   "source": [
    "# remove method will raise KeyError exception if item not found"
   ]
  },
  {
   "cell_type": "code",
   "execution_count": 60,
   "metadata": {},
   "outputs": [
    {
     "ename": "KeyError",
     "evalue": "44",
     "output_type": "error",
     "traceback": [
      "\u001b[1;31m---------------------------------------------------------------------------\u001b[0m",
      "\u001b[1;31mKeyError\u001b[0m                                  Traceback (most recent call last)",
      "\u001b[1;32m<ipython-input-60-c65eebeaeb27>\u001b[0m in \u001b[0;36m<module>\u001b[1;34m\u001b[0m\n\u001b[0;32m      1\u001b[0m \u001b[0mset1\u001b[0m \u001b[1;33m=\u001b[0m \u001b[0mset\u001b[0m\u001b[1;33m(\u001b[0m\u001b[1;33m[\u001b[0m\u001b[1;36m1\u001b[0m\u001b[1;33m,\u001b[0m \u001b[1;36m2\u001b[0m\u001b[1;33m,\u001b[0m \u001b[1;36m3\u001b[0m\u001b[1;33m]\u001b[0m\u001b[1;33m)\u001b[0m\u001b[1;33m\u001b[0m\u001b[1;33m\u001b[0m\u001b[0m\n\u001b[1;32m----> 2\u001b[1;33m \u001b[0mset1\u001b[0m\u001b[1;33m.\u001b[0m\u001b[0mremove\u001b[0m\u001b[1;33m(\u001b[0m\u001b[1;36m44\u001b[0m\u001b[1;33m)\u001b[0m\u001b[1;33m\u001b[0m\u001b[1;33m\u001b[0m\u001b[0m\n\u001b[0m\u001b[0;32m      3\u001b[0m \u001b[0mset1\u001b[0m\u001b[1;33m\u001b[0m\u001b[1;33m\u001b[0m\u001b[0m\n",
      "\u001b[1;31mKeyError\u001b[0m: 44"
     ]
    }
   ],
   "source": [
    "set1 = set([1, 2, 3])\n",
    "set1.remove(44)\n",
    "set1"
   ]
  },
  {
   "cell_type": "code",
   "execution_count": null,
   "metadata": {},
   "outputs": [],
   "source": [
    "# discard method DOES NOT raise KeyError exception if item not found!!"
   ]
  },
  {
   "cell_type": "code",
   "execution_count": 61,
   "metadata": {},
   "outputs": [
    {
     "data": {
      "text/plain": [
       "{1, 2, 3}"
      ]
     },
     "execution_count": 61,
     "metadata": {},
     "output_type": "execute_result"
    }
   ],
   "source": [
    "set1 = set([1, 2, 3])\n",
    "set1.discard(44)\n",
    "set1"
   ]
  },
  {
   "cell_type": "markdown",
   "metadata": {},
   "source": [
    "## Clearing a SET to make it empty"
   ]
  },
  {
   "cell_type": "code",
   "execution_count": 62,
   "metadata": {},
   "outputs": [
    {
     "data": {
      "text/plain": [
       "{1, 2, 3}"
      ]
     },
     "execution_count": 62,
     "metadata": {},
     "output_type": "execute_result"
    }
   ],
   "source": [
    "set1 = set([1, 2, 3])\n",
    "set1"
   ]
  },
  {
   "cell_type": "code",
   "execution_count": 63,
   "metadata": {},
   "outputs": [
    {
     "data": {
      "text/plain": [
       "set()"
      ]
     },
     "execution_count": 63,
     "metadata": {},
     "output_type": "execute_result"
    }
   ],
   "source": [
    "set1.clear()\n",
    "set1"
   ]
  },
  {
   "cell_type": "markdown",
   "metadata": {},
   "source": [
    "## Using a 'for' Loop to iterate over a set"
   ]
  },
  {
   "cell_type": "raw",
   "metadata": {},
   "source": [
    "for var in set_name:\n",
    "    statement1\n",
    "    statement2 etc etc"
   ]
  },
  {
   "cell_type": "code",
   "execution_count": 73,
   "metadata": {},
   "outputs": [],
   "source": [
    "set1 = set('Help!')"
   ]
  },
  {
   "cell_type": "code",
   "execution_count": 74,
   "metadata": {},
   "outputs": [
    {
     "name": "stdout",
     "output_type": "stream",
     "text": [
      "!\n",
      "l\n",
      "H\n",
      "e\n",
      "p\n"
     ]
    }
   ],
   "source": [
    "for value in set1:\n",
    "    print(value)\n"
   ]
  },
  {
   "cell_type": "markdown",
   "metadata": {},
   "source": [
    "## Using 'in' and 'not in' - Testing for value in a set"
   ]
  },
  {
   "cell_type": "code",
   "execution_count": 75,
   "metadata": {},
   "outputs": [
    {
     "name": "stdout",
     "output_type": "stream",
     "text": [
      "Value 1 is in the set\n"
     ]
    }
   ],
   "source": [
    "set1 = set([1, 2, 3])\n",
    "\n",
    "if 1 in set1:\n",
    "    print('Value 1 is in the set')"
   ]
  },
  {
   "cell_type": "code",
   "execution_count": 76,
   "metadata": {},
   "outputs": [
    {
     "name": "stdout",
     "output_type": "stream",
     "text": [
      "Value 99 is NOT IN the set\n"
     ]
    }
   ],
   "source": [
    "set1 = set([1, 2, 3])\n",
    "\n",
    "if 99 not in set1:\n",
    "    print('Value 99 is NOT IN the set')"
   ]
  },
  {
   "cell_type": "markdown",
   "metadata": {},
   "source": [
    "# UNION of two sets"
   ]
  },
  {
   "cell_type": "raw",
   "metadata": {},
   "source": [
    "ie all the elements of BOTH sets\n",
    "\n",
    "set1.union(set2) or\n",
    "set1 | set2"
   ]
  },
  {
   "cell_type": "code",
   "execution_count": 84,
   "metadata": {},
   "outputs": [
    {
     "data": {
      "text/plain": [
       "{1, 2, 3, 4, 5, 6, 7, 8, 9}"
      ]
     },
     "execution_count": 84,
     "metadata": {},
     "output_type": "execute_result"
    }
   ],
   "source": [
    "set1 = set([1, 2 , 3, 4, 5])\n",
    "set2 = set([4, 5, 6, 7, 8, 9 ])\n",
    "\n",
    "#unionSet = set1.union(set2)    ## note that 4 and 5 are in bith sets and will be dropped!\n",
    "unionSet = set1 | set2\n",
    "unionSet"
   ]
  },
  {
   "cell_type": "code",
   "execution_count": 86,
   "metadata": {},
   "outputs": [
    {
     "data": {
      "text/plain": [
       "{1, 2, 3, 4, 5, 6, 7, 8, 9}"
      ]
     },
     "execution_count": 86,
     "metadata": {},
     "output_type": "execute_result"
    }
   ],
   "source": [
    "set1 = set([1, 2 , 3, 4, 5])\n",
    "set2 = set([4, 5, 6, 7, 8, 9 ])\n",
    "\n",
    "#unionSet = set2.union(set1)    ## We can do the otherway around - commutative\n",
    "unionSet = set2 | set1\n",
    "unionSet"
   ]
  },
  {
   "cell_type": "markdown",
   "metadata": {},
   "source": [
    "## Intersection of Sets"
   ]
  },
  {
   "cell_type": "raw",
   "metadata": {},
   "source": [
    "ie contains elements found ONLY in both sets"
   ]
  },
  {
   "cell_type": "code",
   "execution_count": 91,
   "metadata": {},
   "outputs": [
    {
     "data": {
      "text/plain": [
       "{4, 5}"
      ]
     },
     "execution_count": 91,
     "metadata": {},
     "output_type": "execute_result"
    }
   ],
   "source": [
    "set1 = set([1, 2 , 3, 4, 5])\n",
    "set2 = set([4, 5, 6, 7, 8, 9 ])\n",
    "\n",
    "unionSet = set1.intersection(set2)    ## note that 4 and 5 are in both sets and will be dropped!\n",
    "#unionSet = set1 & set2\n",
    "unionSet"
   ]
  },
  {
   "cell_type": "markdown",
   "metadata": {},
   "source": [
    "## Difference of Sets -- Elements in Set1 that DON'T APPEAR in set2"
   ]
  },
  {
   "cell_type": "raw",
   "metadata": {},
   "source": [
    "set1.difference(set2)  NOT NECESSARILY EQUAL TO set2.difference(set1)\n",
    "or:\n",
    "set1 - set2  or set2 - set1"
   ]
  },
  {
   "cell_type": "code",
   "execution_count": 100,
   "metadata": {},
   "outputs": [
    {
     "data": {
      "text/plain": [
       "{1, 2, 3}"
      ]
     },
     "execution_count": 100,
     "metadata": {},
     "output_type": "execute_result"
    }
   ],
   "source": [
    "set1 = set([1, 2 , 3, 4, 5])\n",
    "set2 = set([4, 5, 6, 7, 8, 9 ])\n",
    "\n",
    "# elementsInOneButNotTwo = set1.difference(set2)  ## LEFT OUTER JOIN\n",
    "elementsInOneButNotTwo = set1 - set2\n",
    "elementsInOneButNotTwo"
   ]
  },
  {
   "cell_type": "code",
   "execution_count": 101,
   "metadata": {},
   "outputs": [
    {
     "data": {
      "text/plain": [
       "{6, 7, 8, 9}"
      ]
     },
     "execution_count": 101,
     "metadata": {},
     "output_type": "execute_result"
    }
   ],
   "source": [
    "set1 = set([1, 2 , 3, 4, 5])\n",
    "set2 = set([4, 5, 6, 7, 8, 9 ])\n",
    "\n",
    "# elementsInTwoButNotOne = set2.difference(set1)  ## Right Outer JOIN\n",
    "elementsInTwoButNotOne = set2 - set1\n",
    "elementsInTwoButNotOne"
   ]
  },
  {
   "cell_type": "markdown",
   "metadata": {},
   "source": [
    "## Symmetric Difference of SETS -- Full OUTER JOIN????"
   ]
  },
  {
   "cell_type": "raw",
   "metadata": {},
   "source": [
    "set of elements which are in either of the sets and not in their intersection.\n",
    "ie A(X)B\n",
    "\n",
    "set1.symmetric_difference(set2)\n",
    "set1 ^ set2"
   ]
  },
  {
   "cell_type": "code",
   "execution_count": 102,
   "metadata": {},
   "outputs": [
    {
     "data": {
      "text/plain": [
       "{1, 2, 3, 6, 7, 8, 9}"
      ]
     },
     "execution_count": 102,
     "metadata": {},
     "output_type": "execute_result"
    }
   ],
   "source": [
    "set1.symmetric_difference(set2)"
   ]
  },
  {
   "cell_type": "code",
   "execution_count": 103,
   "metadata": {},
   "outputs": [
    {
     "data": {
      "text/plain": [
       "{1, 2, 3, 6, 7, 8, 9}"
      ]
     },
     "execution_count": 103,
     "metadata": {},
     "output_type": "execute_result"
    }
   ],
   "source": [
    "set1 ^ set2"
   ]
  },
  {
   "cell_type": "code",
   "execution_count": 104,
   "metadata": {},
   "outputs": [
    {
     "data": {
      "text/plain": [
       "{1, 2, 3, 6, 7, 8, 9}"
      ]
     },
     "execution_count": 104,
     "metadata": {},
     "output_type": "execute_result"
    }
   ],
   "source": [
    "set2 ^ set1"
   ]
  },
  {
   "cell_type": "markdown",
   "metadata": {},
   "source": [
    "## Finding Subsets and Supersets"
   ]
  },
  {
   "cell_type": "code",
   "execution_count": 110,
   "metadata": {},
   "outputs": [
    {
     "data": {
      "text/plain": [
       "True"
      ]
     },
     "execution_count": 110,
     "metadata": {},
     "output_type": "execute_result"
    }
   ],
   "source": [
    "set1 = set([1, 2, 3, 4, 5, 6, 7, 8, 9])\n",
    "set2 = set([2, 3 ])\n",
    "\n",
    "# clearly set2 is a subset of set1\n",
    "# set2.issubset(set1)    # returns True or False\n",
    "\n",
    "# alternative method\n",
    "\n",
    "set2 <= set1"
   ]
  },
  {
   "cell_type": "code",
   "execution_count": 112,
   "metadata": {},
   "outputs": [
    {
     "data": {
      "text/plain": [
       "True"
      ]
     },
     "execution_count": 112,
     "metadata": {},
     "output_type": "execute_result"
    }
   ],
   "source": [
    "# is one a superset of another\n",
    "\n",
    "# set1.issuperset(set2)\n",
    "\n",
    "# alternative method\n",
    "\n",
    "set1 >= set2"
   ]
  },
  {
   "cell_type": "markdown",
   "metadata": {},
   "source": [
    "## You can use the set functions for doing - You can have two lists of people and check :"
   ]
  },
  {
   "cell_type": "raw",
   "metadata": {},
   "source": [
    "1 - print those that are in each group\n",
    "2 - which are in both groups (ir belong to both groups)\n",
    "3 - which are in either or both groups (full intersection)\n",
    "4 - which are in group1 but not group2 and vice versa (left outer join)\n",
    "5 - which only belong to a single group only (??)"
   ]
  },
  {
   "cell_type": "markdown",
   "metadata": {},
   "source": [
    "## Serializing Objects"
   ]
  },
  {
   "cell_type": "raw",
   "metadata": {},
   "source": [
    "This is the process of converting an object to a stream of bytes. To later save to a file or for retreival.\n",
    "Python calls this process 'pickling'. we use a standard library :pickle"
   ]
  },
  {
   "cell_type": "raw",
   "metadata": {},
   "source": [
    "1. import pickle\n",
    "2. open file for binary writing\n",
    "3. Call pickles dump method and write specified file\n",
    "4. After all pickling done, close file"
   ]
  },
  {
   "cell_type": "code",
   "execution_count": 125,
   "metadata": {},
   "outputs": [
    {
     "data": {
      "text/plain": [
       "\"import pickle\\n\\noutputfile = open('./data/myoutputdata.dat', 'wb')     ## note it is *.dat file and wb for binary write\\npickle.dump(objectvariable, outputfile)                              ## object = var ref's object to be pickled; file ref's file object\\n\\noutputfile.close() \""
      ]
     },
     "execution_count": 125,
     "metadata": {},
     "output_type": "execute_result"
    }
   ],
   "source": [
    "'''import pickle\n",
    "\n",
    "outputfile = open('./data/myoutputdata.dat', 'wb')     ## note it is *.dat file and wb for binary write\n",
    "pickle.dump(objectvariable, outputfile)                ## object = var ref's object to be pickled; file ref's file object\n",
    "\n",
    "outputfile.close() '''"
   ]
  },
  {
   "cell_type": "code",
   "execution_count": 124,
   "metadata": {},
   "outputs": [
    {
     "data": {
      "text/plain": [
       "\"\\nimport pickle\\ninputfile = open('./data/myoutputdata.dat', 'rb')\\nobject = pickle.load(file)\\ninputfile.close()\\n\\n\""
      ]
     },
     "execution_count": 124,
     "metadata": {},
     "output_type": "execute_result"
    }
   ],
   "source": [
    "# To retreive or unpickle\n",
    "'''\n",
    "import pickle\n",
    "inputfile = open('./data/myoutputdata.dat', 'rb')   ## note: rad and binary mode\n",
    "objectVariable = pickle.load(inputfile)             ## assigned to objectVariable\n",
    "inputfile.close()\n",
    "\n",
    "'''"
   ]
  },
  {
   "cell_type": "code",
   "execution_count": null,
   "metadata": {},
   "outputs": [],
   "source": []
  }
 ],
 "metadata": {
  "kernelspec": {
   "display_name": "Python 3",
   "language": "python",
   "name": "python3"
  },
  "language_info": {
   "codemirror_mode": {
    "name": "ipython",
    "version": 3
   },
   "file_extension": ".py",
   "mimetype": "text/x-python",
   "name": "python",
   "nbconvert_exporter": "python",
   "pygments_lexer": "ipython3",
   "version": "3.7.3"
  }
 },
 "nbformat": 4,
 "nbformat_minor": 2
}
