{
 "cells": [
  {
   "cell_type": "markdown",
   "metadata": {},
   "source": [
    "# Chapter 3.2 - Decision Structures and Boolean Logic"
   ]
  },
  {
   "cell_type": "code",
   "execution_count": 1,
   "metadata": {},
   "outputs": [],
   "source": [
    "# The if Statement - used to create a decision structure ie more than one path of execution\n",
    "# if Statement executes ONLY when Boolean expression is TRUE"
   ]
  },
  {
   "cell_type": "code",
   "execution_count": 2,
   "metadata": {},
   "outputs": [],
   "source": [
    "# Control Structure = ie controls the order of set of statements (ie has an if statement in it)\n",
    "# Useful e.g. if hoursWorked > 40, then bonus = £500, otherwise bonus = 0\n",
    "# [Sequence Structure = set of statements that execute in order they appear eg functions]"
   ]
  },
  {
   "cell_type": "code",
   "execution_count": 3,
   "metadata": {},
   "outputs": [],
   "source": [
    "## General form\n",
    "# if condition:       <-- The if clause, followed by a colon\n",
    "#     statement1      <-- statement block that are run if statement is True\n",
    "#     statement2      <-- note code indented by 4 spaces or a tab\n",
    "#     statement3"
   ]
  },
  {
   "cell_type": "code",
   "execution_count": 4,
   "metadata": {},
   "outputs": [],
   "source": [
    "# Boolean Expressions that are tested:\n",
    "# > < >= <= == !=    e.g. hoursWorked > 40\n",
    "# Note that == is not the same as assignment operator (=)\n",
    "\n",
    "## if sales > 50000:\n",
    "#     bonus = 500.00\n",
    "##\n",
    "# if y == 20:\n",
    "#   x = 0\n",
    "## if sales >= 10000:\n",
    "#       commission = 0.2"
   ]
  },
  {
   "cell_type": "code",
   "execution_count": 5,
   "metadata": {},
   "outputs": [],
   "source": [
    "# An example which contains an (if) block inside a block (main)"
   ]
  },
  {
   "cell_type": "code",
   "execution_count": 6,
   "metadata": {},
   "outputs": [
    {
     "name": "stdout",
     "output_type": "stream",
     "text": [
      "Please enter the first test score: 99\n",
      "Please enter the second test score: 99\n",
      "Please enter the third test score: 99\n",
      "The average score was 99.00\n",
      "Congratulations on a achieving such a great mark!\n"
     ]
    }
   ],
   "source": [
    "def main():\n",
    "    testScoreOne = float(input(\"Please enter the first test score: \"))\n",
    "    testScoreTwo = float(input(\"Please enter the second test score: \"))\n",
    "    testScoreThree = float(input(\"Please enter the third test score: \"))\n",
    "    sumScore = testScoreOne + testScoreTwo + testScoreThree\n",
    "    averageScore = sumScore/3.0\n",
    "    print(f\"The average score was {averageScore:.2f}\")\n",
    "    if averageScore >= 95:\n",
    "        print(\"Congratulations on a achieving such a great mark!\")\n",
    "    \n",
    "main()"
   ]
  },
  {
   "cell_type": "markdown",
   "metadata": {},
   "source": [
    "##### if-else Statements -- Dual Alternative Decision Structure"
   ]
  },
  {
   "cell_type": "code",
   "execution_count": null,
   "metadata": {},
   "outputs": [],
   "source": [
    "# if-else statement will execute block of statements if condition is True or another\n",
    "# block if the statement is False"
   ]
  },
  {
   "cell_type": "code",
   "execution_count": null,
   "metadata": {},
   "outputs": [],
   "source": [
    "## if condition:\n",
    "#     statement1\n",
    "#     statement2\n",
    "#     statement3\n",
    "# else:\n",
    "#     statement1\n",
    "#     statement2\n",
    "#     statement3"
   ]
  },
  {
   "cell_type": "code",
   "execution_count": 8,
   "metadata": {},
   "outputs": [
    {
     "name": "stdout",
     "output_type": "stream",
     "text": [
      "Please enter the temperature in degrees celcius: 10\n",
      "A little nippy?\n",
      "Please enter the temperature in degrees celcius: 37\n",
      "Nice weather isn't it?\n"
     ]
    }
   ],
   "source": [
    "# An example using if-else\n",
    "\n",
    "temp = float(input(\"Please enter the temperature in degrees celcius: \"))\n",
    "if temp <= 27:\n",
    "    print(\"A little nippy?\")\n",
    "else:\n",
    "    print(\"Nice weather isn't it?\")\n",
    "    \n",
    "temp = float(input(\"Please enter the temperature in degrees celcius: \"))\n",
    "if temp <= 27:\n",
    "    print(\"A little nippy?\")\n",
    "else:\n",
    "    print(\"Nice weather isn't it?\")"
   ]
  },
  {
   "cell_type": "code",
   "execution_count": 11,
   "metadata": {},
   "outputs": [
    {
     "name": "stdout",
     "output_type": "stream",
     "text": [
      "Please enter the number of hours worked last week: 40\n",
      "Please enter the hourly pay rate: 9.35\n",
      "Your Gross Pay is £374.00\n",
      "Please enter the number of hours worked last week: 44\n",
      "Please enter the hourly pay rate: 9.35\n",
      "Your Gross Pay is £467.50\n"
     ]
    }
   ],
   "source": [
    "BASE_HOURS = 40  ## Global Constant\n",
    "OT_MULTIPLIER = 1.5 ## Global Constant\n",
    "\n",
    "def main():\n",
    "    hoursWorked = float(input(\"Please enter the number of hours worked last week: \"))\n",
    "    hourlyRate = float(input(\"Please enter the hourly pay rate: \"))\n",
    "    if hoursWorked > BASE_HOURS:\n",
    "        grossPay = hoursWorked * hourlyRate + (hoursWorked-40.0) * OT_MULTIPLIER * hourlyRate\n",
    "    else:\n",
    "        grossPay = hoursWorked * hourlyRate\n",
    "    print(f\"Your Gross Pay is £{grossPay:.2f}\")\n",
    "main()\n",
    "main()"
   ]
  },
  {
   "cell_type": "code",
   "execution_count": 12,
   "metadata": {},
   "outputs": [
    {
     "name": "stdout",
     "output_type": "stream",
     "text": [
      "Please enter the number of hours worked last week: 50\n",
      "Please enter the hourly pay rate: 9.35\n",
      "Your Gross Pay is £607.75\n"
     ]
    }
   ],
   "source": [
    "BASE_HOURS = 40  ## Global Constant\n",
    "OT_MULTIPLIER = 1.5 ## Global Constant\n",
    "\n",
    "def main():\n",
    "    hoursWorked = float(input(\"Please enter the number of hours worked last week: \"))\n",
    "    hourlyRate = float(input(\"Please enter the hourly pay rate: \"))\n",
    "    \n",
    "    if hoursWorked > BASE_HOURS:\n",
    "        grossPayOT(hoursWorked,hourlyRate)\n",
    "    else:\n",
    "        grossPayNormal(hoursWorked,hourlyRate)\n",
    "\n",
    "def grossPayOT(hoursWorked,hourlyRate):\n",
    "    grossPayOT= hoursWorked * hourlyRate + (hoursWorked-40) * OT_MULTIPLIER * hourlyRate\n",
    "    print(f\"Your Gross Pay is £{grossPayOT:.2f}\")\n",
    "\n",
    "def grossPayNormal(hoursWorked,hourlyRate):\n",
    "    grossPayNormal= hoursWorked * hourlyRate\n",
    "    print(f\"Your Gross Pay is £{grossPayNormal:.2f}\")\n",
    "    \n",
    "main()"
   ]
  },
  {
   "cell_type": "code",
   "execution_count": 24,
   "metadata": {},
   "outputs": [
    {
     "name": "stdout",
     "output_type": "stream",
     "text": [
      "x: 40 y:20\n"
     ]
    }
   ],
   "source": [
    "x=101\n",
    "\n",
    "if x > 100:\n",
    "    y = 20\n",
    "    x= 40\n",
    "\n",
    "print(f'x: {x} y:{y}')"
   ]
  },
  {
   "cell_type": "code",
   "execution_count": 30,
   "metadata": {},
   "outputs": [
    {
     "name": "stdout",
     "output_type": "stream",
     "text": [
      "5 0 1\n"
     ]
    }
   ],
   "source": [
    "a= 5\n",
    "\n",
    "if a < 10:\n",
    "    b = 0\n",
    "    c = 1\n",
    "    print(a,b,c)\n",
    "\n",
    "else:\n",
    "    print(a)"
   ]
  },
  {
   "cell_type": "code",
   "execution_count": 31,
   "metadata": {},
   "outputs": [
    {
     "name": "stdout",
     "output_type": "stream",
     "text": [
      "11 99\n"
     ]
    }
   ],
   "source": [
    "a=11\n",
    "\n",
    "if a < 10:\n",
    "    b = 0\n",
    "else:\n",
    "    b=99\n",
    "\n",
    "print(a,b)"
   ]
  },
  {
   "cell_type": "code",
   "execution_count": 34,
   "metadata": {},
   "outputs": [
    {
     "name": "stdout",
     "output_type": "stream",
     "text": [
      "Your grade is F\n"
     ]
    }
   ],
   "source": [
    "score = 59\n",
    "\n",
    "if score <60:\n",
    "    print(\"Your grade is F\")\n",
    "else:\n",
    "    if score <70:\n",
    "        print(\"Your grade is D\")\n",
    "    else:\n",
    "        if score <80:\n",
    "            print(\"Your grade is C\")\n",
    "        else:\n",
    "            if score <90:\n",
    "                print(\"Your grade is B\")\n",
    "            else:\n",
    "                if score <90:\n",
    "                    print(\"Your grade is A\")"
   ]
  },
  {
   "cell_type": "code",
   "execution_count": 33,
   "metadata": {},
   "outputs": [
    {
     "name": "stdout",
     "output_type": "stream",
     "text": [
      "Your score is A\n"
     ]
    }
   ],
   "source": [
    "score = 91\n",
    "\n",
    "if score <60:\n",
    "    print(\"Your grade is F\")\n",
    "else:\n",
    "    if score <70:\n",
    "        print(\"Your Grade is D\")\n",
    "    else:\n",
    "        if score <80:\n",
    "            print(\"Your Grade is C\")\n",
    "        else:\n",
    "            if score <90:\n",
    "                print(\"Your score is B\")\n",
    "            else:\n",
    "                print(\"Your score is A\")"
   ]
  },
  {
   "cell_type": "code",
   "execution_count": 38,
   "metadata": {},
   "outputs": [
    {
     "name": "stdout",
     "output_type": "stream",
     "text": [
      "99\n"
     ]
    }
   ],
   "source": [
    "amount1 = 11\n",
    "amount2 = 99\n",
    "\n",
    "if amount1 > 10:\n",
    "    if amount1 < amount2:\n",
    "        print(amount2)\n",
    "    elif amount2 < 99:\n",
    "        print(amount1)\n",
    "    else:\n",
    "        print(amount2)"
   ]
  },
  {
   "cell_type": "code",
   "execution_count": 43,
   "metadata": {},
   "outputs": [
    {
     "name": "stdout",
     "output_type": "stream",
     "text": [
      "Please enter a number between 1 and 10: 9\n",
      "IX\n"
     ]
    }
   ],
   "source": [
    "# Roman Numerals Calculator\n",
    "value = int(input(\"Please enter a number between 1 and 10: \"))\n",
    "\n",
    "if value <1 or value >10:\n",
    "    print(\"Sorry that was not between 1 and 10\")\n",
    "elif value == 1:\n",
    "    print (\"I\")\n",
    "elif value == 2:\n",
    "    print(\"II\")\n",
    "elif value == 3:\n",
    "    print(\"III\")\n",
    "elif value == 4:\n",
    "    print(\"IV\")\n",
    "elif value == 5:\n",
    "    print(\"V\")\n",
    "elif value == 6:\n",
    "    print(\"VI\")\n",
    "elif value == 7:\n",
    "    print(\"VII\")\n",
    "elif value == 8:\n",
    "    print(\"VIII\")\n",
    "elif value == 9:\n",
    "    print(\"IX\")\n",
    "else:\n",
    "    print(\"X\")"
   ]
  },
  {
   "cell_type": "code",
   "execution_count": 44,
   "metadata": {},
   "outputs": [
    {
     "name": "stdout",
     "output_type": "stream",
     "text": [
      "Please enter rectangle 1 width: 1\n",
      "Please enter rectangle 1 height: 2\n",
      "Please enter rectangle 2 width: 2\n",
      "Please enter rectangle 2 height: 1\n",
      "Both rectangles have the same area\n"
     ]
    }
   ],
   "source": [
    "# Area of Rectangles\n",
    "rect_width_1 = float(input(\"Please enter rectangle 1 width: \"))\n",
    "rect_height_1 = float(input(\"Please enter rectangle 1 height: \"))\n",
    "rect_width_2 = float(input(\"Please enter rectangle 2 width: \"))\n",
    "rect_height_2 = float(input(\"Please enter rectangle 2 height: \"))\n",
    "rect_1_area = rect_width_1 * rect_height_1\n",
    "rect_2_area = rect_width_2 * rect_height_2\n",
    "\n",
    "if rect_1_area > rect_2_area:\n",
    "    print(\"Rectangle 1 has the larger area\")\n",
    "elif rect_1_area == rect_2_area:\n",
    "    print(\"Both rectangles have the same area\")\n",
    "else:\n",
    "    print(\"Rectangle 2 has the larger area\")\n"
   ]
  },
  {
   "cell_type": "code",
   "execution_count": 49,
   "metadata": {},
   "outputs": [
    {
     "name": "stdout",
     "output_type": "stream",
     "text": [
      "Please enter your driving speed: 60\n",
      "Speed is within Limit\n"
     ]
    }
   ],
   "source": [
    "speed = int(input(\"Please enter your driving speed: \"))\n",
    "\n",
    "if speed <=60:\n",
    "    print(\"Speed is within Limit\")\n",
    "else:\n",
    "    print(\"Speed should be reduced to 60 mph\")"
   ]
  },
  {
   "cell_type": "code",
   "execution_count": 53,
   "metadata": {},
   "outputs": [
    {
     "name": "stdout",
     "output_type": "stream",
     "text": [
      "Please enter your driving speed: 61\n",
      "Speed is abnormal\n"
     ]
    }
   ],
   "source": [
    "speed = int(input(\"Please enter your driving speed: \"))\n",
    "\n",
    "if speed in range(20,60):\n",
    "    print(\"Speed is Normal\")\n",
    "else:\n",
    "    print(\"Speed is abnormal\")"
   ]
  },
  {
   "cell_type": "code",
   "execution_count": 72,
   "metadata": {},
   "outputs": [
    {
     "name": "stdout",
     "output_type": "stream",
     "text": [
      "Please enter your points: 1\n",
      "Valid Points\n"
     ]
    }
   ],
   "source": [
    "points = int(input(\"Please enter your points: \"))\n",
    "\n",
    "if points <=9 or points>=51:\n",
    "    print(\"Valid Points\")\n",
    "else:\n",
    "    print(\"Invalid Points\")"
   ]
  },
  {
   "cell_type": "code",
   "execution_count": 75,
   "metadata": {},
   "outputs": [
    {
     "name": "stdout",
     "output_type": "stream",
     "text": [
      "Please enter a number between 1 and 7 inclusive: 4\n",
      "Thursday\n"
     ]
    }
   ],
   "source": [
    "numberDay = int(input(\"Please enter a number between\" + \\\n",
    "                        \" 1 and 7 inclusive: \"))\n",
    "\n",
    "if numberDay<1 or numberDay>7:\n",
    "    print(\"That number is outside the range of 1 and 7\")\n",
    "else:\n",
    "    if numberDay == 1:\n",
    "        print(\"Monday\")\n",
    "    else:\n",
    "        if numberDay ==2:\n",
    "            print(\"Tuesday\")\n",
    "        else:\n",
    "            if numberDay ==3:\n",
    "                print(\"Wednesday\")\n",
    "            else:\n",
    "                if numberDay ==4:\n",
    "                    print(\"Thursday\")\n"
   ]
  },
  {
   "cell_type": "code",
   "execution_count": 77,
   "metadata": {},
   "outputs": [
    {
     "name": "stdout",
     "output_type": "stream",
     "text": [
      "Please enter an age in years: 43\n",
      "Adult\n"
     ]
    }
   ],
   "source": [
    "# age classifier\n",
    "age = int(input(\"Please enter an age in years: \"))\n",
    "\n",
    "if age<=1:\n",
    "    print(\"Infant\")\n",
    "elif age>1 and age<13:\n",
    "    print(\"Child\")\n",
    "elif age>=13 and age <20:\n",
    "    print(\"Teenager\")\n",
    "else:\n",
    "    print(\"Adult\")"
   ]
  },
  {
   "cell_type": "code",
   "execution_count": 83,
   "metadata": {},
   "outputs": [
    {
     "name": "stdout",
     "output_type": "stream",
     "text": [
      "Please enter the objects mass in kg: 344\n",
      "The object is too heavy\n"
     ]
    }
   ],
   "source": [
    "# Mass and weight calculator\n",
    "mass = float(input(\"Please enter the objects mass in kg: \"))\n",
    "weight = mass * 9.8\n",
    "\n",
    "if weight <100:\n",
    "    print(\"The object is too light\")\n",
    "else:\n",
    "    if weight>=100 and weight<=500:\n",
    "        print(\"The object is within 100 and 500\")\n",
    "    else:\n",
    "        print(\"The object is too heavy\")"
   ]
  },
  {
   "cell_type": "code",
   "execution_count": 87,
   "metadata": {},
   "outputs": [
    {
     "name": "stdout",
     "output_type": "stream",
     "text": [
      "Please enter month in numeric format: 2\n",
      "Please enter day in numeric format: 6\n",
      "please enter 2 digit year in numeric format: 12\n",
      "That date is magic!\n"
     ]
    }
   ],
   "source": [
    "# Magic Dates\n",
    "month = int(input(\"Please enter month in numeric format: \"))\n",
    "day = int(input(\"Please enter day in numeric format: \"))\n",
    "year = int(input(\"please enter 2 digit year in numeric format: \"))\n",
    "\n",
    "monthDay = month*day\n",
    "\n",
    "if monthDay == year:\n",
    "    print(\"That date is magic!\")\n",
    "else:\n",
    "    print(\"The date is not magic\")\n"
   ]
  },
  {
   "cell_type": "code",
   "execution_count": 88,
   "metadata": {},
   "outputs": [
    {
     "name": "stdout",
     "output_type": "stream",
     "text": [
      "Please enter a colour from red,blue or yellow: red\n",
      "Please enter a colour from red,blue or yellow: yellow\n",
      "You have orange!\n"
     ]
    }
   ],
   "source": [
    "# Colour Mixer\n",
    "colour1 = input(\"Please enter a colour from red,blue or yellow: \")\n",
    "colour2 = input(\"Please enter a colour from red,blue or yellow: \")\n",
    "\n",
    "if (colour1==\"red\" and colour2==\"blue\") or (colour1==\"blue\" and colour2==\"red\"):\n",
    "    print(\"You have purple!\")\n",
    "elif (colour1==\"red\" and colour2==\"yellow\") or (colour1==\"yellow\" and colour2==\"red\"):\n",
    "    print(\"You have orange!\")\n",
    "elif (colour1==\"blue\" and colour2==\"yellow\") or (colour1==\"yellow\" and colour2==\"blue\"):\n",
    "    print(\"You have green!\")\n",
    "else:\n",
    "    print(\"Sorry that was not red, blue or yellow\")"
   ]
  },
  {
   "cell_type": "raw",
   "metadata": {},
   "source": [
    "# Money counting Game\n",
    "Create a change-counting game that gets the user to enter the number of coins required\n",
    "to make exactly one dollar. The program should prompt the user to enter the number of\n",
    "pennies, nickels, dimes, and quarters. If the total value of the coins entered is equal to one\n",
    "dollar, the program should congratulate the user for winning the game. Otherwise, the\n",
    "program should display a message indicating whether the amount entered was more than\n",
    "or less than one dollar."
   ]
  },
  {
   "cell_type": "code",
   "execution_count": 91,
   "metadata": {},
   "outputs": [
    {
     "name": "stdout",
     "output_type": "stream",
     "text": [
      "Please enter no. of Pennies needed to make one dollar: 10\n",
      "Please enter no. of Nickels needed to make one dollar: 2\n",
      "Please enter no. of Dimes needed to make one dollar: 3\n",
      "Please enter no. of Quarters needed to make one dollar: 2\n",
      "Congratulations you won!\n"
     ]
    }
   ],
   "source": [
    "def main():\n",
    "    numberPennies = int(input(\"Please enter no. of Pennies needed to make one dollar: \"))\n",
    "    numberNickels = int(input(\"Please enter no. of Nickels needed to make one dollar: \"))\n",
    "    numberDimes = int(input(\"Please enter no. of Dimes needed to make one dollar: \"))\n",
    "    numberQuarters = int(input(\"Please enter no. of Quarters needed to make one dollar: \"))\n",
    "    \n",
    "    totalValue = (numberPennies * 0.01) + (numberNickels * 0.05) + \\\n",
    "                    + (numberDimes * 0.10) + (numberQuarters * 0.25)\n",
    "    if totalValue == 1.0:\n",
    "        print('Congratulations you won!')\n",
    "    elif totalValue <1.0:\n",
    "        print('Unfortunately you were under a dollar')\n",
    "    else:\n",
    "        print('Unfortunately you were Over a dollar')\n",
    "\n",
    "main()"
   ]
  },
  {
   "cell_type": "raw",
   "metadata": {},
   "source": [
    "Population\n",
    "Write a program\tthat predicts the approximate size of a\tpopulation of organisms.\n",
    "The\tapplication should use text boxes to allow the user to enter the starting number of organisms, \n",
    "the average daily population increase (as a percentage), and the number of days the organisms will be \n",
    "left to multiply. For example, assume the user enters the following values:\n",
    "Starting number of organisms: 2 Average daily increase: 30% Number of days to multiply: 10\n",
    "\n",
    "The program should display the following table of data: \n",
    "Day Approximate & Population:-\n",
    "1 2 2 2.6 3 3.38 4 4.394 5 5.7122 6 7.42586 7 9.653619 8 12.5497 9 16.31462 10 21.209"
   ]
  },
  {
   "cell_type": "code",
   "execution_count": 93,
   "metadata": {},
   "outputs": [
    {
     "name": "stdout",
     "output_type": "stream",
     "text": [
      "Please enter starting number of organisms: 2\n",
      "Enter % daily pop increase: 30\n",
      "Please enter number of days to simulate: 10\n",
      "The population on day #1 is 2\n",
      "The population on day #2 is 2.600000\n",
      "The population on day #3 is 3.380000\n",
      "The population on day #4 is 4.394000\n",
      "The population on day #5 is 5.712200\n",
      "The population on day #6 is 7.425860\n",
      "The population on day #7 is 9.653618\n",
      "The population on day #8 is 12.549703\n",
      "The population on day #9 is 16.314614\n",
      "The population on day #10 is 21.208999\n"
     ]
    }
   ],
   "source": [
    "# population predicter\n",
    "def main():\n",
    "    startNumber = int(input('Please enter starting number of organisms: '))\n",
    "    avgDailyPopIncrease = float(input('Enter % daily pop increase: '))\n",
    "    numDays = int(input('Please enter number of days to simulate: '))\n",
    "    print(f'The population on day #1 is {startNumber}')\n",
    "    \n",
    "    population = startNumber\n",
    "    \n",
    "    for i in range(2, numDays+1):\n",
    "        population *= (1+(avgDailyPopIncrease/100))\n",
    "        print(f'The population on day #{i} is {population:2f}')\n",
    "        \n",
    "main()"
   ]
  },
  {
   "cell_type": "code",
   "execution_count": 94,
   "metadata": {},
   "outputs": [
    {
     "name": "stdout",
     "output_type": "stream",
     "text": [
      "Please enter starting number of organisms: 2\n",
      "Enter % daily pop increase: 30\n",
      "Please enter number of days to simulate: 365\n",
      "The population on day #1 is 2\n",
      "The population on day #100 is 381436170917.843567\n",
      "The population on day #200 is 94570809114903097376768.000000\n",
      "The population on day #300 is 23447272751104085699947149840613376.000000\n"
     ]
    }
   ],
   "source": [
    "# population predicter\n",
    "def main():\n",
    "    startNumber = int(input('Please enter starting number of organisms: '))\n",
    "    avgDailyPopIncrease = float(input('Enter % daily pop increase: '))\n",
    "    numDays = int(input('Please enter number of days to simulate: '))\n",
    "    print(f'The population on day #1 is {startNumber}')\n",
    "    \n",
    "    population = startNumber\n",
    "    \n",
    "    for i in range(2, numDays+1):\n",
    "        population *= (1+(avgDailyPopIncrease/100))\n",
    "        if i % 100 == 0:\n",
    "            print(f'The population on day #{i} is {population:3f}')\n",
    "main()"
   ]
  },
  {
   "cell_type": "code",
   "execution_count": null,
   "metadata": {},
   "outputs": [],
   "source": [
    "%time main()"
   ]
  },
  {
   "cell_type": "code",
   "execution_count": null,
   "metadata": {},
   "outputs": [],
   "source": []
  }
 ],
 "metadata": {
  "kernelspec": {
   "display_name": "Python 3",
   "language": "python",
   "name": "python3"
  },
  "language_info": {
   "codemirror_mode": {
    "name": "ipython",
    "version": 3
   },
   "file_extension": ".py",
   "mimetype": "text/x-python",
   "name": "python",
   "nbconvert_exporter": "python",
   "pygments_lexer": "ipython3",
   "version": "3.7.3"
  }
 },
 "nbformat": 4,
 "nbformat_minor": 2
}
