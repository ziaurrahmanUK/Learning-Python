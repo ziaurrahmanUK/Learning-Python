{
 "cells": [
  {
   "cell_type": "markdown",
   "metadata": {},
   "source": [
    "# Dictionaries"
   ]
  },
  {
   "cell_type": "raw",
   "metadata": {},
   "source": [
    "Dictionary object (aka key-value pairs or mappings bcuz key is mapped to value) - stores a collection of data.\n",
    "Each element is made of:\n",
    "Key and Value\n",
    "We use the key to locate specific value"
   ]
  },
  {
   "cell_type": "raw",
   "metadata": {},
   "source": [
    "An example - use the 'name' as the key and 'mobile number' as the value\n",
    "Lookup 'name' and we return the 'mobile phone' as the value"
   ]
  },
  {
   "cell_type": "raw",
   "metadata": {},
   "source": [
    "to create a dictionary use dict_name = {key: value, etc}\n",
    "\n",
    "e.g phonebook = {'Ziaur' : '07742-603258',\n",
    "                   'Khalida': '0121-322-2089'}\n",
    "\n",
    "1. First element is 'Ziaur' : '07742-603258'\n",
    "2. Key for first element is 'Ziaur'\n",
    "3. Value for first element is '07742-603258'\n",
    "4. Second element is 'Khalida': '0121-322-2089' etc etc\n",
    "\n",
    "The VALUES are strings - but they can be any type of MUTABLE objects.\n",
    "\n",
    "The KEYS can be any object - but must be IMMUTABLE and UNIQUE! e.g. int, float, tuple - but not LISTS (bcuz lists are mutable)"
   ]
  },
  {
   "cell_type": "markdown",
   "metadata": {},
   "source": [
    "## Retreiving a Value from a Dictionary"
   ]
  },
  {
   "cell_type": "raw",
   "metadata": {},
   "source": [
    "Dictionaries are NOT like sequences (list,tuple,string) - they have no order or INDEX!!!\n",
    "Therefore CAN'T use index - only can use the KEY\n",
    "\n",
    "Retreiving a value from a dictionary:\n",
    "\n",
    "dictionary_name[key_name]    ## NOTE: if key doesnt exist - raises a KeyError exception"
   ]
  },
  {
   "cell_type": "code",
   "execution_count": 4,
   "metadata": {},
   "outputs": [],
   "source": [
    "phonebook = {'Ziaur' : '07742-603218',\n",
    "                   'Khalida': '0121-322-2089'}"
   ]
  },
  {
   "cell_type": "code",
   "execution_count": 5,
   "metadata": {},
   "outputs": [
    {
     "data": {
      "text/plain": [
       "'07742-603218'"
      ]
     },
     "execution_count": 5,
     "metadata": {},
     "output_type": "execute_result"
    }
   ],
   "source": [
    "phonebook['Ziaur']  # this key exists and returns the value"
   ]
  },
  {
   "cell_type": "code",
   "execution_count": 6,
   "metadata": {},
   "outputs": [
    {
     "ename": "KeyError",
     "evalue": "'Pam'",
     "output_type": "error",
     "traceback": [
      "\u001b[1;31m---------------------------------------------------------------------------\u001b[0m",
      "\u001b[1;31mKeyError\u001b[0m                                  Traceback (most recent call last)",
      "\u001b[1;32m<ipython-input-6-a0eb647cb531>\u001b[0m in \u001b[0;36m<module>\u001b[1;34m\u001b[0m\n\u001b[1;32m----> 1\u001b[1;33m \u001b[0mphonebook\u001b[0m\u001b[1;33m[\u001b[0m\u001b[1;34m'Pam'\u001b[0m\u001b[1;33m]\u001b[0m \u001b[1;31m## this key doesnt exist!\u001b[0m\u001b[1;33m\u001b[0m\u001b[1;33m\u001b[0m\u001b[0m\n\u001b[0m",
      "\u001b[1;31mKeyError\u001b[0m: 'Pam'"
     ]
    }
   ],
   "source": [
    "phonebook['Pam'] ## this key doesnt exist!"
   ]
  },
  {
   "cell_type": "markdown",
   "metadata": {},
   "source": [
    "  ### string comparisons are Case SENSITIVE !"
   ]
  },
  {
   "cell_type": "code",
   "execution_count": 7,
   "metadata": {},
   "outputs": [
    {
     "ename": "KeyError",
     "evalue": "'ZIAUR'",
     "output_type": "error",
     "traceback": [
      "\u001b[1;31m---------------------------------------------------------------------------\u001b[0m",
      "\u001b[1;31mKeyError\u001b[0m                                  Traceback (most recent call last)",
      "\u001b[1;32m<ipython-input-7-2ee2120c9d59>\u001b[0m in \u001b[0;36m<module>\u001b[1;34m\u001b[0m\n\u001b[1;32m----> 1\u001b[1;33m \u001b[0mphonebook\u001b[0m\u001b[1;33m[\u001b[0m\u001b[1;34m'ZIAUR'\u001b[0m\u001b[1;33m]\u001b[0m  \u001b[1;31m#  Ziaur not equal ZIAUR or ziaur!!! get KeyError\u001b[0m\u001b[1;33m\u001b[0m\u001b[1;33m\u001b[0m\u001b[0m\n\u001b[0m",
      "\u001b[1;31mKeyError\u001b[0m: 'ZIAUR'"
     ]
    }
   ],
   "source": [
    "phonebook['ZIAUR']  #  Ziaur not equal ZIAUR or ziaur!!! get KeyError"
   ]
  },
  {
   "cell_type": "markdown",
   "metadata": {},
   "source": [
    "## Using 'in' and 'not in' to test for Value in Dictionary"
   ]
  },
  {
   "cell_type": "code",
   "execution_count": 8,
   "metadata": {},
   "outputs": [
    {
     "name": "stdout",
     "output_type": "stream",
     "text": [
      "07742-603218\n"
     ]
    }
   ],
   "source": [
    "# an exmaple using 'in' operator\n",
    "if 'Ziaur' in phonebook:\n",
    "    print(phonebook['Ziaur'])\n",
    "else:\n",
    "    print('It is not in the phonebook!')"
   ]
  },
  {
   "cell_type": "code",
   "execution_count": 9,
   "metadata": {},
   "outputs": [
    {
     "name": "stdout",
     "output_type": "stream",
     "text": [
      "It is not in the phonebook!\n"
     ]
    }
   ],
   "source": [
    "# an exmaple using 'not in' operator\n",
    "if 'Zed' in phonebook:\n",
    "    print(phonebook['Ziaur'])\n",
    "else:\n",
    "    print('It is not in the phonebook!')"
   ]
  },
  {
   "cell_type": "code",
   "execution_count": 10,
   "metadata": {},
   "outputs": [],
   "source": [
    "### NOTE Case-sensitive when using these comparison operators!"
   ]
  },
  {
   "cell_type": "markdown",
   "metadata": {},
   "source": [
    "## Adding elements to a Dictionary"
   ]
  },
  {
   "cell_type": "raw",
   "metadata": {},
   "source": [
    "dictionary_name[key_name] = value     ## if key already exists - then value replaced else: added to dictionary!!"
   ]
  },
  {
   "cell_type": "code",
   "execution_count": 11,
   "metadata": {},
   "outputs": [
    {
     "data": {
      "text/plain": [
       "{'Ziaur': '07756 123456',\n",
       " 'Khalida': '0121-322-2089',\n",
       " 'Khatam': '0121 327 7455'}"
      ]
     },
     "execution_count": 11,
     "metadata": {},
     "output_type": "execute_result"
    }
   ],
   "source": [
    "# example adding to dictionary\n",
    "phonebook = {'Ziaur' : '07742-603258',\n",
    "                   'Khalida': '0121-322-2089'}\n",
    "\n",
    "phonebook['Ziaur'] = '07756 123456' ## updates existing value\n",
    "phonebook['Khatam'] = '0121 327 7455'  ## adds new entry\n",
    "phonebook"
   ]
  },
  {
   "cell_type": "raw",
   "metadata": {},
   "source": [
    "NOTE: You cannot have a duplicate key in a dictionary!\n",
    "If you assign new value to existing key - it will be replaced"
   ]
  },
  {
   "cell_type": "markdown",
   "metadata": {},
   "source": [
    "### Deleting Elements"
   ]
  },
  {
   "cell_type": "raw",
   "metadata": {},
   "source": [
    "del dictionary_name(key_name)    # deletes key-value pair!!"
   ]
  },
  {
   "cell_type": "code",
   "execution_count": 12,
   "metadata": {},
   "outputs": [
    {
     "ename": "KeyError",
     "evalue": "'Khatam'",
     "output_type": "error",
     "traceback": [
      "\u001b[1;31m---------------------------------------------------------------------------\u001b[0m",
      "\u001b[1;31mKeyError\u001b[0m                                  Traceback (most recent call last)",
      "\u001b[1;32m<ipython-input-12-e007c3b1a49a>\u001b[0m in \u001b[0;36m<module>\u001b[1;34m\u001b[0m\n\u001b[0;32m      2\u001b[0m              'Khalida': '0121-322-2089'}\n\u001b[0;32m      3\u001b[0m \u001b[1;33m\u001b[0m\u001b[0m\n\u001b[1;32m----> 4\u001b[1;33m \u001b[1;32mdel\u001b[0m \u001b[0mphonebook\u001b[0m\u001b[1;33m[\u001b[0m\u001b[1;34m'Khatam'\u001b[0m\u001b[1;33m]\u001b[0m    \u001b[1;31m## if this key doesnt exit - KeyError exception raised\u001b[0m\u001b[1;33m\u001b[0m\u001b[1;33m\u001b[0m\u001b[0m\n\u001b[0m\u001b[0;32m      5\u001b[0m \u001b[0mphonebook\u001b[0m\u001b[1;33m\u001b[0m\u001b[1;33m\u001b[0m\u001b[0m\n",
      "\u001b[1;31mKeyError\u001b[0m: 'Khatam'"
     ]
    }
   ],
   "source": [
    "phonebook = {'Ziaur' : '07742-603258',\n",
    "             'Khalida': '0121-322-2089'}\n",
    "\n",
    "del phonebook['Khatam']    ## if this key doesnt exit - KeyError exception raised\n",
    "phonebook"
   ]
  },
  {
   "cell_type": "code",
   "execution_count": 13,
   "metadata": {},
   "outputs": [
    {
     "name": "stdout",
     "output_type": "stream",
     "text": [
      "That key is not present or may have been deleted!\n"
     ]
    }
   ],
   "source": [
    "# Better to use the 'in' operator method\n",
    "phonebook = {'Ziaur' : '07742-603258',\n",
    "            'Khalida': '0121-322-2089'}\n",
    "\n",
    "if 'Khatam' in phonebook:\n",
    "    del phonebook['Khatam']\n",
    "else:\n",
    "    print('That key is not present or may have been deleted!')\n"
   ]
  },
  {
   "cell_type": "markdown",
   "metadata": {},
   "source": [
    "## Getting Number of Elements in Dictionary"
   ]
  },
  {
   "cell_type": "raw",
   "metadata": {},
   "source": [
    "len(dictionary_name)"
   ]
  },
  {
   "cell_type": "code",
   "execution_count": 14,
   "metadata": {},
   "outputs": [
    {
     "data": {
      "text/plain": [
       "2"
      ]
     },
     "execution_count": 14,
     "metadata": {},
     "output_type": "execute_result"
    }
   ],
   "source": [
    "phonebook = {'Ziaur' : '07742-603258',\n",
    "                   'Khalida': '0121-322-2089'}\n",
    "len(phonebook)"
   ]
  },
  {
   "cell_type": "markdown",
   "metadata": {},
   "source": [
    "### Mixed Data Types in a Dictionary"
   ]
  },
  {
   "cell_type": "code",
   "execution_count": 15,
   "metadata": {},
   "outputs": [],
   "source": [
    "test_scores = {'Ziaur' : [84, 76, 94],\n",
    "               'Tom' :[64, 61, 49]}"
   ]
  },
  {
   "cell_type": "code",
   "execution_count": 16,
   "metadata": {},
   "outputs": [
    {
     "data": {
      "text/plain": [
       "{'Ziaur': [84, 76, 94], 'Tom': [64, 61, 49]}"
      ]
     },
     "execution_count": 16,
     "metadata": {},
     "output_type": "execute_result"
    }
   ],
   "source": [
    "test_scores"
   ]
  },
  {
   "cell_type": "code",
   "execution_count": 17,
   "metadata": {},
   "outputs": [
    {
     "data": {
      "text/plain": [
       "[64, 61, 49]"
      ]
     },
     "execution_count": 17,
     "metadata": {},
     "output_type": "execute_result"
    }
   ],
   "source": [
    "test_scores['Tom']"
   ]
  },
  {
   "cell_type": "code",
   "execution_count": 18,
   "metadata": {},
   "outputs": [
    {
     "name": "stdout",
     "output_type": "stream",
     "text": [
      "[84, 76, 94]\n"
     ]
    }
   ],
   "source": [
    "ziaurs_grades = test_scores['Ziaur']\n",
    "print(ziaurs_grades)"
   ]
  },
  {
   "cell_type": "code",
   "execution_count": 19,
   "metadata": {},
   "outputs": [],
   "source": [
    "mixed_dict = { 'abc' : 1,\n",
    "             999 : 'blah blah',\n",
    "              (2, 4, 6 ): [1, 3, 5 ]}"
   ]
  },
  {
   "cell_type": "code",
   "execution_count": 20,
   "metadata": {},
   "outputs": [
    {
     "data": {
      "text/plain": [
       "{'abc': 1, 999: 'blah blah', (2, 4, 6): [1, 3, 5]}"
      ]
     },
     "execution_count": 20,
     "metadata": {},
     "output_type": "execute_result"
    }
   ],
   "source": [
    "mixed_dict"
   ]
  },
  {
   "cell_type": "code",
   "execution_count": 21,
   "metadata": {},
   "outputs": [],
   "source": [
    "# More useful dictionary\n",
    "student = {'name': 'Ziaur Rahman',\n",
    "          'student ID' : 180191912,\n",
    "          'course': 'MSc Business Analytics'}"
   ]
  },
  {
   "cell_type": "code",
   "execution_count": 25,
   "metadata": {},
   "outputs": [
    {
     "name": "stdout",
     "output_type": "stream",
     "text": [
      "Ziaur Rahman:  180191912:  MSc Business Analytics\n"
     ]
    }
   ],
   "source": [
    "print(student['name'] +': ', str(student['student ID']) +': ', student['course'])"
   ]
  },
  {
   "cell_type": "markdown",
   "metadata": {},
   "source": [
    "## Creating an empty Dictionary - for adding to later"
   ]
  },
  {
   "cell_type": "raw",
   "metadata": {},
   "source": [
    "dictionary_name = {}           #### This creates an empty dictionary\n",
    "or dictionary_name = dict()    #### This creates an empty dictionary\n",
    "\n",
    "e.g. phonebook = {}\n",
    "or:  phonebook = dict()"
   ]
  },
  {
   "cell_type": "markdown",
   "metadata": {},
   "source": [
    "## Using a for Loop to iterate over a dictionary"
   ]
  },
  {
   "cell_type": "raw",
   "metadata": {},
   "source": [
    "for var in dictionary_name:\n",
    "    statement1\n",
    "    statement2\n",
    "    statement3 etc etc "
   ]
  },
  {
   "cell_type": "code",
   "execution_count": 26,
   "metadata": {},
   "outputs": [
    {
     "name": "stdout",
     "output_type": "stream",
     "text": [
      "name Khalida Rahman\n",
      "student ID 180191612\n",
      "course MSc Strategic Marketing\n"
     ]
    }
   ],
   "source": [
    "# an example\n",
    "student_dict = {'name': 'Ziaur Rahman',\n",
    "          'student ID' : 180191912,\n",
    "          'course': 'MSc Business Analytics',\n",
    "            'name': 'Khalida Rahman',\n",
    "          'student ID' : 180191612,\n",
    "          'course': 'MSc Strategic Marketing'}\n",
    "\n",
    "for key in student_dict:\n",
    "    print(key, student_dict[key])"
   ]
  },
  {
   "cell_type": "markdown",
   "metadata": {},
   "source": [
    "### Useful Dictionary Methods"
   ]
  },
  {
   "cell_type": "raw",
   "metadata": {},
   "source": [
    "dict.clear() ---  clears dict\n",
    "dict.get(key, default) -- gets value for specified key - NO KeyError raised - returns default value instead\n",
    "\n",
    "items() -- Returns all the keys AND value as a tuple\n",
    "keys() --  Returns all the keys in a dict as a tuple\n",
    "\n",
    "pop(key_name, DefaultValue) -- returns value for specified key, then removes that key-value pair from dictionary.\n",
    "              if not found returns default value\n",
    "              \n",
    "popitem() -- returns randomly selected key-value pair as TUPLE (k,v) then removes that key-value pair\n",
    "\n",
    "values()  --- returns all values in dict as a tuple"
   ]
  },
  {
   "cell_type": "code",
   "execution_count": 30,
   "metadata": {},
   "outputs": [],
   "source": [
    "student_dict = {'name': 'Ziaur Rahman',\n",
    "          'student ID' : 180191912,\n",
    "          'course': 'MSc Business Analytics',\n",
    "            'name1': 'Khalida Rahman',\n",
    "          'student ID1' : 180191612,\n",
    "          'course1': 'MSc Strategic Marketing'}"
   ]
  },
  {
   "cell_type": "code",
   "execution_count": 31,
   "metadata": {},
   "outputs": [
    {
     "data": {
      "text/plain": [
       "{'name': 'Ziaur Rahman',\n",
       " 'student ID': 180191912,\n",
       " 'course': 'MSc Business Analytics',\n",
       " 'name1': 'Khalida Rahman',\n",
       " 'student ID1': 180191612,\n",
       " 'course1': 'MSc Strategic Marketing'}"
      ]
     },
     "execution_count": 31,
     "metadata": {},
     "output_type": "execute_result"
    }
   ],
   "source": [
    "student_dict"
   ]
  },
  {
   "cell_type": "code",
   "execution_count": 37,
   "metadata": {},
   "outputs": [
    {
     "data": {
      "text/plain": [
       "{}"
      ]
     },
     "execution_count": 37,
     "metadata": {},
     "output_type": "execute_result"
    }
   ],
   "source": [
    "student_dict.clear()     ## clears the dictionary\n",
    "student_dict"
   ]
  },
  {
   "cell_type": "code",
   "execution_count": 41,
   "metadata": {},
   "outputs": [],
   "source": [
    "student_dict = {'name': 'Ziaur Rahman',\n",
    "          'student ID' : 180191912,\n",
    "          'course': 'MSc Business Analytics',\n",
    "            'name1': 'Khalida Rahman',\n",
    "          'student ID1' : 180191612,\n",
    "          'course1': 'MSc Strategic Marketing'}"
   ]
  },
  {
   "cell_type": "code",
   "execution_count": 42,
   "metadata": {},
   "outputs": [
    {
     "data": {
      "text/plain": [
       "'not found'"
      ]
     },
     "execution_count": 42,
     "metadata": {},
     "output_type": "execute_result"
    }
   ],
   "source": [
    "student_dict.get('non-existent Key', 'not found')   ## return value or default message if not found"
   ]
  },
  {
   "cell_type": "code",
   "execution_count": 43,
   "metadata": {},
   "outputs": [
    {
     "data": {
      "text/plain": [
       "dict_items([('name', 'Ziaur Rahman'), ('student ID', 180191912), ('course', 'MSc Business Analytics'), ('name1', 'Khalida Rahman'), ('student ID1', 180191612), ('course1', 'MSc Strategic Marketing')])"
      ]
     },
     "execution_count": 43,
     "metadata": {},
     "output_type": "execute_result"
    }
   ],
   "source": [
    "student_dict.items()   # returns TUPLE of keys and values"
   ]
  },
  {
   "cell_type": "code",
   "execution_count": 44,
   "metadata": {},
   "outputs": [
    {
     "data": {
      "text/plain": [
       "dict_keys(['name', 'student ID', 'course', 'name1', 'student ID1', 'course1'])"
      ]
     },
     "execution_count": 44,
     "metadata": {},
     "output_type": "execute_result"
    }
   ],
   "source": [
    "student_dict.keys()"
   ]
  },
  {
   "cell_type": "code",
   "execution_count": 46,
   "metadata": {},
   "outputs": [
    {
     "data": {
      "text/plain": [
       "'not found key'"
      ]
     },
     "execution_count": 46,
     "metadata": {},
     "output_type": "execute_result"
    }
   ],
   "source": [
    "student_dict.pop('non-existent Key', 'not found key' )  # returns value and then deletes that key-value pair\n",
    "# else default error message if cannot locate that key"
   ]
  },
  {
   "cell_type": "code",
   "execution_count": 47,
   "metadata": {},
   "outputs": [
    {
     "name": "stdout",
     "output_type": "stream",
     "text": [
      "course1 MSc Strategic Marketing\n"
     ]
    }
   ],
   "source": [
    "k, v = student_dict.popitem()  ## an example of MULTIPLE ASSIGNMENT\n",
    "# randomly chooses a key-value pair and then deletes them\n",
    "print(k,v)"
   ]
  },
  {
   "cell_type": "code",
   "execution_count": 48,
   "metadata": {},
   "outputs": [
    {
     "name": "stdout",
     "output_type": "stream",
     "text": [
      "student ID1 180191612\n"
     ]
    }
   ],
   "source": [
    "k, v = student_dict.popitem()  ## an example of MULTIPLE ASSIGNMENT\n",
    "print(k,v)"
   ]
  },
  {
   "cell_type": "code",
   "execution_count": 49,
   "metadata": {},
   "outputs": [
    {
     "name": "stdout",
     "output_type": "stream",
     "text": [
      "name1 Khalida Rahman\n"
     ]
    }
   ],
   "source": [
    "k, v = student_dict.popitem()   ## an example of MULTIPLE ASSIGNMENT\n",
    "print(k,v)"
   ]
  },
  {
   "cell_type": "code",
   "execution_count": 50,
   "metadata": {},
   "outputs": [
    {
     "data": {
      "text/plain": [
       "{'name': 'Ziaur Rahman',\n",
       " 'student ID': 180191912,\n",
       " 'course': 'MSc Business Analytics'}"
      ]
     },
     "execution_count": 50,
     "metadata": {},
     "output_type": "execute_result"
    }
   ],
   "source": [
    "student_dict"
   ]
  },
  {
   "cell_type": "code",
   "execution_count": 51,
   "metadata": {},
   "outputs": [],
   "source": [
    "student_dict = {'name': 'Ziaur Rahman',\n",
    "          'student ID' : 180191912,\n",
    "          'course': 'MSc Business Analytics',\n",
    "            'name1': 'Khalida Rahman',\n",
    "          'student ID1' : 180191612,\n",
    "          'course1': 'MSc Strategic Marketing'}"
   ]
  },
  {
   "cell_type": "code",
   "execution_count": 53,
   "metadata": {},
   "outputs": [
    {
     "data": {
      "text/plain": [
       "dict_values(['Ziaur Rahman', 180191912, 'MSc Business Analytics', 'Khalida Rahman', 180191612, 'MSc Strategic Marketing'])"
      ]
     },
     "execution_count": 53,
     "metadata": {},
     "output_type": "execute_result"
    }
   ],
   "source": [
    "student_dict.values()  # returns list of values"
   ]
  },
  {
   "cell_type": "code",
   "execution_count": 54,
   "metadata": {},
   "outputs": [
    {
     "name": "stdout",
     "output_type": "stream",
     "text": [
      "Ziaur Rahman\n",
      "180191912\n",
      "MSc Business Analytics\n",
      "Khalida Rahman\n",
      "180191612\n",
      "MSc Strategic Marketing\n"
     ]
    }
   ],
   "source": [
    "# making use of .values() method, saving each line to a file and printing to the screen\n",
    "\n",
    "student_dict = {'name': 'Ziaur Rahman',\n",
    "          'student ID' : 180191912,\n",
    "          'course': 'MSc Business Analytics',\n",
    "            'name1': 'Khalida Rahman',\n",
    "          'student ID1' : 180191612,\n",
    "          'course1': 'MSc Strategic Marketing'}\n",
    "\n",
    "savedFile = open('./data/Saved_File.txt', 'w')\n",
    "\n",
    "for values in student_dict.values():\n",
    "    savedFile.write(str(values) + '\\n')\n",
    "    print(values)\n",
    "    \n",
    "savedFile.close()\n"
   ]
  },
  {
   "cell_type": "raw",
   "metadata": {},
   "source": [
    "# Example using Dictionary to Simulate Card Deck\n",
    "\n",
    "Use dictionary to simulate all the cards e.g. deck = {'QHearts' : 10, '8D' :8 etc}\n",
    "ask user for number of cards to randomly pick and use function that creates the above deck (as a dictionary)\n",
    "and then uses the dictionary.popitem() to return the card and value from the deck a set number of times as specified by the user\n",
    "Finally print the cards 'popped' and use an accumlator to total the value of all cards"
   ]
  },
  {
   "cell_type": "raw",
   "metadata": {},
   "source": [
    "# Using menu based system that allows you to from a user generated dictionary.\n",
    "Initially dictionary is empty\n",
    "\n",
    "lookup -- use birthdaysDict.get(name,'Notfound')   -- Type 1\n",
    "add    -- use birthdaysDict[name] = birthday       -- Type 2\n",
    "change -- -- use birthdaysDict[name] = birthday_new-Value -- Type 3\n",
    "delete Birthdays -- use del birthdaysDict[name]    -- Type 4\n",
    "exit -- Type 0\n"
   ]
  },
  {
   "cell_type": "code",
   "execution_count": null,
   "metadata": {},
   "outputs": [],
   "source": []
  }
 ],
 "metadata": {
  "kernelspec": {
   "display_name": "Python 3",
   "language": "python",
   "name": "python3"
  },
  "language_info": {
   "codemirror_mode": {
    "name": "ipython",
    "version": 3
   },
   "file_extension": ".py",
   "mimetype": "text/x-python",
   "name": "python",
   "nbconvert_exporter": "python",
   "pygments_lexer": "ipython3",
   "version": "3.7.3"
  }
 },
 "nbformat": 4,
 "nbformat_minor": 2
}
