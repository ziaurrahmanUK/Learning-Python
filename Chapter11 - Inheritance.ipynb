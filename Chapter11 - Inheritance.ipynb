{
 "cells": [
  {
   "cell_type": "markdown",
   "metadata": {},
   "source": [
    "# Inheritance"
   ]
  },
  {
   "cell_type": "raw",
   "metadata": {},
   "source": [
    "INHERITANCE allows a new class to extend an existing class\n",
    "The new class will inherit the members of the class it extends"
   ]
  },
  {
   "cell_type": "raw",
   "metadata": {},
   "source": [
    "Real world, specialised version of a general object.\n",
    "e.g. INSECT class = bees, grasshoppers etc\n",
    "each with own special characteristics e.g. bee = fly, grassphopper = jumps\n",
    "So we can say there is an 'is a' relationship between them and it hs special characteristics of the more general object.\n",
    "More examples ( poodle is a dog, car is a vehicle, flower is a plant etc etc)\n",
    "Inheritance involves superclass and sublass (SUPERCLASS is the GENERAL class; SUBCLASS is the SPECIALISED class)\n"
   ]
  },
  {
   "cell_type": "raw",
   "metadata": {},
   "source": [
    "In practice, subclass inherits attributes and methods of its superclass - no need to be re-written,\n",
    "and we can add new attributes and methods to the subclass.\n",
    "aka: SUPERCLASS = BASE CLASSES , SUBCLASSES = DERIVED CLASSES"
   ]
  },
  {
   "cell_type": "markdown",
   "metadata": {},
   "source": [
    "## An Example"
   ]
  },
  {
   "cell_type": "raw",
   "metadata": {},
   "source": [
    "instead of writing 3 classes e.g. Car, Truck, SUV - because they all have similar data attributes of\n",
    "make, year, model, milage, price with extra (car = #doors, truck = driveType, SUV = CapacityPassengers"
   ]
  },
  {
   "cell_type": "raw",
   "metadata": {},
   "source": [
    "In efficien to do the above, as all share number of similar attributes and if we have later more\n",
    "common attributes then we need to add to all 3 classes!"
   ]
  },
  {
   "cell_type": "raw",
   "metadata": {},
   "source": [
    "Better Approach, one superclass = Automobile, with subclasses for each type"
   ]
  },
  {
   "cell_type": "code",
   "execution_count": 1,
   "metadata": {},
   "outputs": [],
   "source": [
    "# General ie Superclass or Base Class\n",
    "class Automobile:\n",
    "    def __init__(self, make, model, mileage, price):\n",
    "        self.__make = make\n",
    "        self.__model = model\n",
    "        self.__mileage = mileage\n",
    "        self.__price = price\n",
    "        \n",
    "    # Mutator Methods\n",
    "    def set_make(self, make):\n",
    "        self.__make = make\n",
    "        \n",
    "    def set_model(self, model):\n",
    "        self.__model = model\n",
    "        \n",
    "    def set_mileage(self, mileage):\n",
    "        self.__mileage = mileage\n",
    "        \n",
    "    def set_price(self, price):\n",
    "        self.__price = price\n",
    "        \n",
    "    # accessor methods\n",
    "    \n",
    "    def get_make(self):\n",
    "        return self.__make\n",
    "        \n",
    "    def get_model(self):\n",
    "        return self.__model\n",
    "        \n",
    "    def get_mileage(self):\n",
    "        return self.__mileage\n",
    "        \n",
    "    def get_price(self):\n",
    "        return self.__price\n",
    " "
   ]
  },
  {
   "cell_type": "code",
   "execution_count": 2,
   "metadata": {},
   "outputs": [],
   "source": [
    "# Now we need to add additional classes for the various subclasses\n",
    "\n",
    "class Car(Automobile):  ## we are defining a subclass named Car and it inherits from Automobile superclass\n",
    "    def __init__(self, make, model, mileage, price, doors):   ## some inherited\n",
    "        Automobile.__init__(self, make, model, mileage, price)   # this inherits them from Autombile class\n",
    "        self.__doors = doors   # this created the specialsed attribute for Car class\n",
    "        \n",
    "    def set_doors(self):\n",
    "        self.__doors = doors\n",
    "        \n",
    "    def get_doors(self):\n",
    "        return self.__doors\n"
   ]
  },
  {
   "cell_type": "code",
   "execution_count": 3,
   "metadata": {},
   "outputs": [
    {
     "name": "stdout",
     "output_type": "stream",
     "text": [
      "#Doors:4\n"
     ]
    }
   ],
   "source": [
    "def main():\n",
    "    used_car = Car('Audi', 2007, 12500, 21500.00, 4)\n",
    "    \n",
    "    print(f'#Doors:{used_car.get_doors() }')\n",
    "    \n",
    "main()"
   ]
  },
  {
   "cell_type": "code",
   "execution_count": 4,
   "metadata": {},
   "outputs": [],
   "source": [
    "class Truck(Automobile):\n",
    "    def __init__(self, make, model, mileage, price, drive_type):\n",
    "        Automobile.__init__(self, make, model, mileage, price )\n",
    "        self.__drive_type = drive_type\n",
    "        \n",
    "        def set_drive_type(self, drive_type):\n",
    "            self.__drive_type = drive_type\n",
    "        \n",
    "        def get_drive_type(self):\n",
    "            return self.__drive_type\n"
   ]
  },
  {
   "cell_type": "code",
   "execution_count": 5,
   "metadata": {},
   "outputs": [],
   "source": [
    "class SUV(Automobile):\n",
    "    def __init__(self, make, model, mileage, price, pass_cap):\n",
    "        Automobile.__init__(self, make, model, mileage, price )\n",
    "        self.__pass_cap = pass_cap\n",
    "        \n",
    "        def set_pass_cap(self, pass_cap):\n",
    "            self.__pass_cap = pass_cap\n",
    "        \n",
    "        def get_pass_cap(self):\n",
    "            return self.__pass_cap\n"
   ]
  },
  {
   "cell_type": "code",
   "execution_count": 9,
   "metadata": {},
   "outputs": [
    {
     "name": "stdout",
     "output_type": "stream",
     "text": [
      "Make:  BMW\n",
      "Make:  Toyota\n",
      "Make:  Volvo\n"
     ]
    }
   ],
   "source": [
    "def main():\n",
    "    car = Car('BMW', 2001, 70000, 15000.00, 4)\n",
    "    truck = Truck('Toyota', 2002, 40000, 12000.00, '4WD')\n",
    "    suv = SUV('Volvo', 2000, 30000, 18500.00, 5)\n",
    "    \n",
    "    print('Make: ', car.get_make() )\n",
    "    print('Make: ', truck.get_make() )\n",
    "    print('Make: ', suv.get_make() )\n",
    "    \n",
    "main()"
   ]
  },
  {
   "cell_type": "code",
   "execution_count": 25,
   "metadata": {},
   "outputs": [],
   "source": [
    "# An example using inheritance\n",
    "class Account:\n",
    "    def __init__(self, acc_num, int_rate, balance):\n",
    "        self.__acc_num = acc_num\n",
    "        self.__int_rate = int_rate\n",
    "        self.__balance = balance\n",
    "    \n",
    "    def set_acc_num(self, acc_num):\n",
    "        self.__acc_num = acc_num\n",
    "        \n",
    "    def set_int_rate(self, int_rate):\n",
    "        self.__int_rate = int_rate\n",
    "    \n",
    "    def set_balance(self, balance):\n",
    "        self.__balance = balance\n",
    "        \n",
    "    def get_acc_num(self):\n",
    "        return self.__acc_num\n",
    "        \n",
    "    def get_int_rate(self):\n",
    "        return self.__int_rate\n",
    "    \n",
    "    def get_balance(self):\n",
    "        return self.__balance\n",
    "    \n",
    "class CD(Account):\n",
    "    \n",
    "    def __init__(self, acc_num, int_rate, balance, mat_date):\n",
    "        Account.__init__(self, acc_num, int_rate, balance)\n",
    "        self.__mat_date = mat_date\n",
    "        \n",
    "    def set_mat_date(self, mat_date):\n",
    "        self.__mat_date = mat_date\n",
    "    \n",
    "    def get_mat_date(self):\n",
    "        return self.__mat_date\n"
   ]
  },
  {
   "cell_type": "code",
   "execution_count": 26,
   "metadata": {},
   "outputs": [
    {
     "name": "stdin",
     "output_type": "stream",
     "text": [
      "Acc No,:  100\n",
      "Interest Rate:  3.1\n",
      "Balance:  2000.34\n",
      "Acc No,:  101\n",
      "Interest Rate:  7\n",
      "Balance:  2983.33\n",
      "Maturity Date dd/mm/yyy:  01/01/2020\n"
     ]
    },
    {
     "ename": "TypeError",
     "evalue": "__init__() takes 4 positional arguments but 5 were given",
     "output_type": "error",
     "traceback": [
      "\u001b[1;31m---------------------------------------------------------------------------\u001b[0m",
      "\u001b[1;31mTypeError\u001b[0m                                 Traceback (most recent call last)",
      "\u001b[1;32m<ipython-input-26-464162b9698b>\u001b[0m in \u001b[0;36m<module>\u001b[1;34m\u001b[0m\n\u001b[0;32m     22\u001b[0m     \u001b[0mprint\u001b[0m\u001b[1;33m(\u001b[0m\u001b[0mCD\u001b[0m\u001b[1;33m.\u001b[0m\u001b[0mget_mat_date\u001b[0m\u001b[1;33m(\u001b[0m\u001b[1;33m)\u001b[0m \u001b[1;33m)\u001b[0m\u001b[1;33m\u001b[0m\u001b[1;33m\u001b[0m\u001b[0m\n\u001b[0;32m     23\u001b[0m \u001b[1;33m\u001b[0m\u001b[0m\n\u001b[1;32m---> 24\u001b[1;33m \u001b[0mmain\u001b[0m\u001b[1;33m(\u001b[0m\u001b[1;33m)\u001b[0m\u001b[1;33m\u001b[0m\u001b[1;33m\u001b[0m\u001b[0m\n\u001b[0m",
      "\u001b[1;32m<ipython-input-26-464162b9698b>\u001b[0m in \u001b[0;36mmain\u001b[1;34m()\u001b[0m\n\u001b[0;32m     11\u001b[0m     \u001b[0mmaturity\u001b[0m \u001b[1;33m=\u001b[0m \u001b[0minput\u001b[0m\u001b[1;33m(\u001b[0m\u001b[1;34m'Maturity Date dd/mm/yyy: '\u001b[0m\u001b[1;33m)\u001b[0m\u001b[1;33m\u001b[0m\u001b[1;33m\u001b[0m\u001b[0m\n\u001b[0;32m     12\u001b[0m \u001b[1;33m\u001b[0m\u001b[0m\n\u001b[1;32m---> 13\u001b[1;33m     \u001b[0mCD\u001b[0m \u001b[1;33m=\u001b[0m \u001b[0mAccount\u001b[0m\u001b[1;33m(\u001b[0m\u001b[0macccountNumber\u001b[0m\u001b[1;33m,\u001b[0m \u001b[0minterestRate\u001b[0m\u001b[1;33m,\u001b[0m \u001b[0mbal\u001b[0m\u001b[1;33m,\u001b[0m \u001b[0mmaturity\u001b[0m\u001b[1;33m)\u001b[0m\u001b[1;33m\u001b[0m\u001b[1;33m\u001b[0m\u001b[0m\n\u001b[0m\u001b[0;32m     14\u001b[0m \u001b[1;33m\u001b[0m\u001b[0m\n\u001b[0;32m     15\u001b[0m     \u001b[0mprint\u001b[0m\u001b[1;33m(\u001b[0m\u001b[0msavings\u001b[0m\u001b[1;33m.\u001b[0m\u001b[0mget_acc_num\u001b[0m\u001b[1;33m(\u001b[0m\u001b[1;33m)\u001b[0m \u001b[1;33m)\u001b[0m\u001b[1;33m\u001b[0m\u001b[1;33m\u001b[0m\u001b[0m\n",
      "\u001b[1;31mTypeError\u001b[0m: __init__() takes 4 positional arguments but 5 were given"
     ]
    }
   ],
   "source": [
    "def main():\n",
    "    acccountNumber = input('Acc No,: ')\n",
    "    interestRate = float(input('Interest Rate: '))\n",
    "    bal = float(input('Balance: '))\n",
    "    \n",
    "    savings = Account(acccountNumber, interestRate, bal)\n",
    "    \n",
    "    acccountNumber = input('Acc No,: ')\n",
    "    interestRate = float(input('Interest Rate: '))\n",
    "    bal = float(input('Balance: '))\n",
    "    maturity = input('Maturity Date dd/mm/yyy: ') \n",
    "    \n",
    "    CD = Account(acccountNumber, interestRate, bal, maturity)\n",
    "    \n",
    "    print(savings.get_acc_num() )\n",
    "    print(savings.get_int_rate() )\n",
    "    print(savings.get_balance() )\n",
    "    \n",
    "    print(CD.get_acc_num() )\n",
    "    print(CD.get_int_rate() )\n",
    "    print(CD.get_balance() )\n",
    "    print(CD.get_mat_date() )\n",
    "    \n",
    "main()  "
   ]
  },
  {
   "cell_type": "markdown",
   "metadata": {},
   "source": [
    "# Polymorphism"
   ]
  },
  {
   "cell_type": "raw",
   "metadata": {},
   "source": [
    "POLYMORPHISM = many forms. \n",
    "1. Allows subclasses to have the same method names as the superclass we say that the subclass method OVERRIDES the superclass method.\n",
    "2. A program can call the correct method depending upon the type of object that is used to call it,\n",
    "if the subclass method is used then it will execute ans similaryly for superclass."
   ]
  },
  {
   "cell_type": "raw",
   "metadata": {},
   "source": [
    "In previous examples - we saw that the subclass's __init__ overides the superclass's __init__\n",
    "Method overiding works for other class methods too. see below for an example:"
   ]
  },
  {
   "cell_type": "code",
   "execution_count": 36,
   "metadata": {},
   "outputs": [],
   "source": [
    "# Mammal class is generic mammal\n",
    "\n",
    "class Mammal:\n",
    "    def __init__(self, species):\n",
    "        self.__species = species\n",
    "        \n",
    "    def show_species(self):\n",
    "        print(f'I am a {self.__species}')\n",
    "        \n",
    "    def make_sound(self):\n",
    "        print('Grrrr!')\n",
    "\n",
    "# dog class is subclass of Mammal\n",
    "\n",
    "class Dog(Mammal):\n",
    "    def __init__(self):\n",
    "        Mammal.__init__(self, 'Dog')  ## This method override the __init from the superclass above\n",
    "    \n",
    "    def make_sound(self):   ## This method overides the one in the superclass above\n",
    "        print('Woof!')\n",
    "        \n",
    "class Cat(Mammal):\n",
    "    def __init__(self):\n",
    "        Mammal.__init__(self, 'Cat')  ## This method override the __init from the superclass above\n",
    "    \n",
    "    def make_sound(self):   ## This method overides the one in the superclass above\n",
    "        print('Meow!')"
   ]
  },
  {
   "cell_type": "code",
   "execution_count": 40,
   "metadata": {},
   "outputs": [
    {
     "name": "stdout",
     "output_type": "stream",
     "text": [
      "I am a Regular Mammal\n",
      "Grrrr!\n"
     ]
    }
   ],
   "source": [
    "mammal = Mammal('Regular Mammal')\n",
    "mammal.show_species()\n",
    "mammal.make_sound()"
   ]
  },
  {
   "cell_type": "code",
   "execution_count": 41,
   "metadata": {},
   "outputs": [
    {
     "name": "stdout",
     "output_type": "stream",
     "text": [
      "I am a Dog\n",
      "Woof!\n"
     ]
    }
   ],
   "source": [
    "dog = Dog()\n",
    "dog.show_species()\n",
    "dog.make_sound()"
   ]
  },
  {
   "cell_type": "code",
   "execution_count": 42,
   "metadata": {},
   "outputs": [
    {
     "name": "stdout",
     "output_type": "stream",
     "text": [
      "I am a Cat\n",
      "Meow!\n"
     ]
    }
   ],
   "source": [
    "dog = Cat()\n",
    "dog.show_species()\n",
    "dog.make_sound()"
   ]
  },
  {
   "cell_type": "markdown",
   "metadata": {},
   "source": [
    "# The 'isinstance' Function"
   ]
  },
  {
   "cell_type": "raw",
   "metadata": {},
   "source": [
    "Polymorphism gives us flexibility when designing programs \n",
    "e.g. depending on object passed, we get different methods applied - above make_sound() method\n",
    "would give different output depending upon the object class it belonged to."
   ]
  },
  {
   "cell_type": "code",
   "execution_count": 44,
   "metadata": {},
   "outputs": [
    {
     "name": "stdout",
     "output_type": "stream",
     "text": [
      "I am a Regular Animal\n",
      "Grrrr!\n",
      "None\n",
      "\n",
      "I am a Dog\n",
      "Woof!\n",
      "None\n",
      "\n",
      "I am a Cat\n",
      "Meow!\n",
      "None\n",
      "\n"
     ]
    }
   ],
   "source": [
    "# This example demonstrates how we can use a single function that will run correct method the object belongs to\n",
    "def main():\n",
    "    \n",
    "    mammal = Mammal('Regular Animal')\n",
    "    dog = Dog()\n",
    "    cat = Cat()\n",
    "    \n",
    "    print(show_mammal_info(mammal))\n",
    "    print()\n",
    "    print(show_mammal_info(dog))\n",
    "    print()\n",
    "    print(show_mammal_info(cat))\n",
    "    print()\n",
    "    \n",
    "    \n",
    "def show_mammal_info(creature):\n",
    "    creature.show_species()\n",
    "    creature.make_sound()\n",
    "    \n",
    "main()"
   ]
  },
  {
   "cell_type": "code",
   "execution_count": 45,
   "metadata": {},
   "outputs": [
    {
     "ename": "AttributeError",
     "evalue": "'str' object has no attribute 'show_species'",
     "output_type": "error",
     "traceback": [
      "\u001b[1;31m---------------------------------------------------------------------------\u001b[0m",
      "\u001b[1;31mAttributeError\u001b[0m                            Traceback (most recent call last)",
      "\u001b[1;32m<ipython-input-45-09c68ecb9d1e>\u001b[0m in \u001b[0;36m<module>\u001b[1;34m\u001b[0m\n\u001b[1;32m----> 1\u001b[1;33m \u001b[0mprint\u001b[0m\u001b[1;33m(\u001b[0m\u001b[0mshow_mammal_info\u001b[0m\u001b[1;33m(\u001b[0m\u001b[1;34m'some other string'\u001b[0m\u001b[1;33m)\u001b[0m\u001b[1;33m)\u001b[0m \u001b[1;31m## what happens when not a subclass?\u001b[0m\u001b[1;33m\u001b[0m\u001b[1;33m\u001b[0m\u001b[0m\n\u001b[0m",
      "\u001b[1;32m<ipython-input-44-5491d500690a>\u001b[0m in \u001b[0;36mshow_mammal_info\u001b[1;34m(creature)\u001b[0m\n\u001b[0;32m     15\u001b[0m \u001b[1;33m\u001b[0m\u001b[0m\n\u001b[0;32m     16\u001b[0m \u001b[1;32mdef\u001b[0m \u001b[0mshow_mammal_info\u001b[0m\u001b[1;33m(\u001b[0m\u001b[0mcreature\u001b[0m\u001b[1;33m)\u001b[0m\u001b[1;33m:\u001b[0m\u001b[1;33m\u001b[0m\u001b[1;33m\u001b[0m\u001b[0m\n\u001b[1;32m---> 17\u001b[1;33m     \u001b[0mcreature\u001b[0m\u001b[1;33m.\u001b[0m\u001b[0mshow_species\u001b[0m\u001b[1;33m(\u001b[0m\u001b[1;33m)\u001b[0m\u001b[1;33m\u001b[0m\u001b[1;33m\u001b[0m\u001b[0m\n\u001b[0m\u001b[0;32m     18\u001b[0m     \u001b[0mcreature\u001b[0m\u001b[1;33m.\u001b[0m\u001b[0mmake_sound\u001b[0m\u001b[1;33m(\u001b[0m\u001b[1;33m)\u001b[0m\u001b[1;33m\u001b[0m\u001b[1;33m\u001b[0m\u001b[0m\n\u001b[0;32m     19\u001b[0m \u001b[1;33m\u001b[0m\u001b[0m\n",
      "\u001b[1;31mAttributeError\u001b[0m: 'str' object has no attribute 'show_species'"
     ]
    }
   ],
   "source": [
    "print(show_mammal_info('some other string')) ## what happens when not a subclass?\n"
   ]
  },
  {
   "cell_type": "raw",
   "metadata": {},
   "source": [
    "# we get:\n",
    "AttributeError: 'str' object has no attribute 'show_species\n",
    "\n",
    "This is because strings do not have a method named show_species()\n",
    "To prevent this happening, we can use the isinstance function to checkthe object is\n",
    "and instance of a specific subclass or class"
   ]
  },
  {
   "cell_type": "raw",
   "metadata": {},
   "source": [
    "general format:\n",
    "    \n",
    "isinstance(object, ClassName)\n",
    "\n",
    "object reference to an object and ClassName is an instance of class or subclass\n",
    "This function returns True or False\n",
    "\n",
    "Below is an exmaple of how to use it:--\n"
   ]
  },
  {
   "cell_type": "code",
   "execution_count": 50,
   "metadata": {},
   "outputs": [
    {
     "name": "stdout",
     "output_type": "stream",
     "text": [
      "I am a Regular Animal\n",
      "Grrrr!\n",
      "None\n",
      "I am a Dog\n",
      "Woof!\n",
      "None\n",
      "I am a Cat\n",
      "Meow!\n",
      "None\n",
      "That is not a mammal!\n",
      "None\n"
     ]
    }
   ],
   "source": [
    "def main():\n",
    "    \n",
    "    mammal = Mammal('Regular Animal')\n",
    "    dog = Dog()\n",
    "    cat = Cat()\n",
    "    \n",
    "    print(show_mammal_info(mammal))\n",
    "    print(show_mammal_info(dog))\n",
    "    print(show_mammal_info(cat))\n",
    "    print(show_mammal_info('something else!!'))\n",
    "    \n",
    "def show_mammal_info(creature):\n",
    "    if isinstance (creature, Mammal):\n",
    "        creature.show_species()\n",
    "        creature.make_sound()\n",
    "    else:\n",
    "        print('That is not a mammal!')\n",
    "    \n",
    "main()"
   ]
  },
  {
   "cell_type": "code",
   "execution_count": null,
   "metadata": {},
   "outputs": [],
   "source": []
  }
 ],
 "metadata": {
  "kernelspec": {
   "display_name": "Python 3",
   "language": "python",
   "name": "python3"
  },
  "language_info": {
   "codemirror_mode": {
    "name": "ipython",
    "version": 3
   },
   "file_extension": ".py",
   "mimetype": "text/x-python",
   "name": "python",
   "nbconvert_exporter": "python",
   "pygments_lexer": "ipython3",
   "version": "3.7.3"
  }
 },
 "nbformat": 4,
 "nbformat_minor": 2
}
