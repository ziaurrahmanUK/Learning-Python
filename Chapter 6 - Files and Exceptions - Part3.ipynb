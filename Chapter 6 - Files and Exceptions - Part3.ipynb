{
 "cells": [
  {
   "cell_type": "markdown",
   "metadata": {},
   "source": [
    "# Chapter 6 - Files and Exceptions - Part Three"
   ]
  },
  {
   "cell_type": "markdown",
   "metadata": {},
   "source": [
    "### Processing Records"
   ]
  },
  {
   "cell_type": "raw",
   "metadata": {},
   "source": [
    "Data is usually stored in records ie a complete set of data describing one item\n",
    "A field is an individual piece of data within a record \n",
    "e.g. Students : File contains a record for each student\n",
    "Each record has following fields: {StudentID., StudentName, Dept}"
   ]
  },
  {
   "cell_type": "raw",
   "metadata": {},
   "source": [
    "'180191912\\n''Ziaur Rahman\\n''ABS\\n''180191912\\n''Ziaur Rahman\\n''ABS\\n''180191912\\n''Ziaur Rahman\\n''ABS\\n'\n",
    " RECORD 1                            RECORD 2                            RECORD 3                "
   ]
  },
  {
   "cell_type": "code",
   "execution_count": 1,
   "metadata": {},
   "outputs": [
    {
     "name": "stdout",
     "output_type": "stream",
     "text": [
      "Please enter number of records you wish to store: 3\n",
      "Please enter details for student # 1: \n",
      "Please enter student ID number: 180191912\n",
      "Please enter student Name: Ziaur Rahman\n",
      "Please enter student's department: ABS1\n",
      "Please enter details for student # 2: \n",
      "Please enter student ID number: 180191913\n",
      "Please enter student Name: Ziaur Rahman2\n",
      "Please enter student's department: ABS2\n",
      "Please enter details for student # 3: \n",
      "Please enter student ID number: 180191914\n",
      "Please enter student Name: Ziaur Rahman3\n",
      "Please enter student's department: ABS3\n",
      "All records written to disk\n"
     ]
    }
   ],
   "source": [
    "# example program that stores records\n",
    "\n",
    "def main():\n",
    "    \n",
    "    numberRecords = int(input('Please enter number of records you wish to store: '))\n",
    "    \n",
    "    f = open('./data/Student Records.txt', 'w')\n",
    "    \n",
    "    for num in range(1,numberRecords+1):\n",
    "        print(f\"Please enter details for student # {num}: \")\n",
    "        studentID = input('Please enter student ID number: ')\n",
    "        studentName = input('Please enter student Name: ')\n",
    "        studentDept = input('Please enter student\\'s department: ')\n",
    "        \n",
    "        f.write(studentID + '\\n')\n",
    "        f.write(studentName + '\\n')\n",
    "        f.write(studentDept + '\\n')\n",
    "        \n",
    "    f.close()\n",
    "    print('All records written to disk')\n",
    "    \n",
    "    \n",
    "main()"
   ]
  },
  {
   "cell_type": "code",
   "execution_count": 6,
   "metadata": {},
   "outputs": [
    {
     "name": "stdout",
     "output_type": "stream",
     "text": [
      "180191912\n",
      "Ziaur Rahman\n",
      "ABS1\n",
      "180191913\n",
      "Ziaur Rahman2\n",
      "ABS2\n",
      "180191914\n",
      "Ziaur Rahman3\n",
      "ABS3\n"
     ]
    }
   ],
   "source": [
    "# This reads teh records from student records.txt\n",
    "\n",
    "def main():\n",
    "    f = open('./data/Student Records.txt', 'r')  \n",
    "    \n",
    "    for line in f:\n",
    "        value = line.rstrip('\\n')\n",
    "        print(value)\n",
    "    \n",
    "    f.close()\n",
    "\n",
    "main()"
   ]
  },
  {
   "cell_type": "code",
   "execution_count": 8,
   "metadata": {},
   "outputs": [
    {
     "name": "stdout",
     "output_type": "stream",
     "text": [
      "Student ID: 180191912\n",
      "\n",
      "Student Name: Ziaur Rahman\n",
      "Student Dept: ABS1\n",
      "\n",
      "Student ID: 180191913\n",
      "\n",
      "Student Name: Ziaur Rahman2\n",
      "Student Dept: ABS2\n",
      "\n",
      "Student ID: 180191914\n",
      "\n",
      "Student Name: Ziaur Rahman3\n",
      "Student Dept: ABS3\n",
      "\n"
     ]
    }
   ],
   "source": [
    "# This reads the records from student records.txt\n",
    "\n",
    "def main():\n",
    "    f = open('./data/Student Records.txt', 'r')  \n",
    "    \n",
    "    studentID = f.readline()\n",
    "    \n",
    "    while studentID !='':\n",
    "        studentName = f.readline()\n",
    "        studentDept = f.readline()\n",
    "        \n",
    "        studentName = studentName.rstrip('\\n')\n",
    "        studentDept = studentDept.rstrip('\\n')\n",
    "        \n",
    "        print(f'Student ID: {studentID}')\n",
    "        print(f'Student Name: {studentName}')\n",
    "        print(f'Student Dept: {studentDept}')\n",
    "        print()\n",
    "        \n",
    "        studentID = f.readline()\n",
    "    \n",
    "    f.close()\n",
    "\n",
    "main()"
   ]
  },
  {
   "cell_type": "code",
   "execution_count": 12,
   "metadata": {},
   "outputs": [
    {
     "name": "stdout",
     "output_type": "stream",
     "text": [
      "Please enter the data below \n",
      "Description: Aldi Medium Roast\n",
      "Quantity (pounds): 2.2\n",
      "Do you wisj to add another record? \n",
      "y or Y for Yes, or n or N for Non\n",
      "All data was saved to disk\n"
     ]
    }
   ],
   "source": [
    "# Adding and displaying record\n",
    "\n",
    "def main():\n",
    "    addMore = 'y'\n",
    "    \n",
    "    file = open('./data/Coffee.txt', 'a')\n",
    "    \n",
    "    while addMore == 'y' or addMore == \"Y\":\n",
    "        print('Please enter the data below ')\n",
    "        \n",
    "        description = input('Description: ')\n",
    "        quantity = float(input('Quantity (pounds): '))\n",
    "        \n",
    "        file.write(description + '\\n')\n",
    "        file.write(str(quantity) + '\\n')\n",
    "        \n",
    "        print('Do you wisj to add another record? ')\n",
    "        addMore = input('y or Y for Yes, or n or N for No')\n",
    "        \n",
    "    file.close()\n",
    "    \n",
    "    print('All data was saved to disk')\n",
    "    \n",
    "main()"
   ]
  },
  {
   "cell_type": "code",
   "execution_count": 15,
   "metadata": {},
   "outputs": [
    {
     "name": "stdout",
     "output_type": "stream",
     "text": [
      "Description: Brazilian Dark Road\n",
      "Quantity: 18.0\n",
      "Description: Sumatra Medium Roast\n",
      "Quantity: 25.3\n",
      "Description: Aldi Medium Roast\n",
      "Quantity: 2.2\n"
     ]
    }
   ],
   "source": [
    "# this program will display contents of coffee.txt\n",
    "\n",
    "def main():\n",
    "    file = open('./data/Coffee.txt', 'r')\n",
    "    \n",
    "    description = file.readline()\n",
    "    \n",
    "    while description != '':\n",
    "        \n",
    "        quantity = float(file.readline())\n",
    "        \n",
    "        description = description.rstrip('\\n') \n",
    "        #quantity = quantity.rstrip('\\n')   ## No need rstrip on numerics int or float!!\n",
    "        \n",
    "        print(f'Description: {description}')\n",
    "        print(f'Quantity: {quantity}')\n",
    "        \n",
    "        description = file.readline()   \n",
    "    file.close()\n",
    "    \n",
    "main()"
   ]
  },
  {
   "cell_type": "code",
   "execution_count": 30,
   "metadata": {},
   "outputs": [
    {
     "name": "stdout",
     "output_type": "stream",
     "text": [
      "Enter items description to be searched: sdsds;ldmk\n",
      "Unable to locate item in Coffee.txt\n"
     ]
    }
   ],
   "source": [
    "# Searching for a Record\n",
    "\n",
    "def main():\n",
    "    foundItem = False\n",
    "    \n",
    "    searchRequest = input('Enter items description to be searched: ')\n",
    "    \n",
    "    file = open('./data/Coffee.txt', 'r')\n",
    "    \n",
    "    description = file.readline()\n",
    "    \n",
    "    while description !='':\n",
    "        quantity = file.readline()\n",
    "    \n",
    "        description = description.rstrip('\\n')\n",
    "        \n",
    "        if description == searchRequest:\n",
    "            print(f'Description: {description}')\n",
    "            print(f'Quantity: {quantity}')\n",
    "            print()\n",
    "            \n",
    "            foundItem = True\n",
    "        description = file.readline()\n",
    "        \n",
    "    file.close()\n",
    "    \n",
    "    if not(foundItem):\n",
    "        print('Unable to locate item in Coffee.txt')\n",
    "    \n",
    "main()"
   ]
  },
  {
   "cell_type": "code",
   "execution_count": 22,
   "metadata": {},
   "outputs": [],
   "source": [
    "import os"
   ]
  },
  {
   "cell_type": "code",
   "execution_count": 25,
   "metadata": {},
   "outputs": [],
   "source": [
    "os.remove('./data/DeleteMe.txt') ## removing a file"
   ]
  },
  {
   "cell_type": "code",
   "execution_count": 26,
   "metadata": {},
   "outputs": [],
   "source": [
    "os.rename('./data/Test_File2.txt', './data/Renamed Test_File.txt') ## renaming files"
   ]
  },
  {
   "cell_type": "code",
   "execution_count": 27,
   "metadata": {},
   "outputs": [],
   "source": [
    "os.rename('./data/Renamed Test_File.txt', './data/Test_File2.txt') ### swithcing names back"
   ]
  },
  {
   "cell_type": "code",
   "execution_count": null,
   "metadata": {},
   "outputs": [],
   "source": []
  }
 ],
 "metadata": {
  "kernelspec": {
   "display_name": "Python 3",
   "language": "python",
   "name": "python3"
  },
  "language_info": {
   "codemirror_mode": {
    "name": "ipython",
    "version": 3
   },
   "file_extension": ".py",
   "mimetype": "text/x-python",
   "name": "python",
   "nbconvert_exporter": "python",
   "pygments_lexer": "ipython3",
   "version": "3.7.3"
  }
 },
 "nbformat": 4,
 "nbformat_minor": 2
}
