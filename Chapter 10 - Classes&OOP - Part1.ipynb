{
 "cells": [
  {
   "cell_type": "markdown",
   "metadata": {
    "colab_type": "text",
    "id": "YieL-naSk448"
   },
   "source": [
    "# Procedural & OOP"
   ]
  },
  {
   "cell_type": "markdown",
   "metadata": {
    "colab_type": "raw",
    "id": "QIIGOoKKk44-"
   },
   "source": [
    "PP or Procedural Programming = Earliest prog lang's, a method of writing software, centred on procedures/actions (ie function that performs specific task e.g. gather input, perform calculations, read or write files. Programs up to chp 9 are all procedural.\n",
    "A procedure operates on data items that are seperated from the procedure. The data items are passed from procedure to procedure. Hence PP focused on procedures that operate on the program's data. Seperating the data from the codes leads to problems, when the program is complex or large.\n",
    "e.g. Team writing customer database program - previousy used 3 variables - but change to a list now - this means lots of code modifications and possibility for errors!"
   ]
  },
  {
   "cell_type": "markdown",
   "metadata": {
    "colab_type": "raw",
    "id": "0RMGzXugk44_"
   },
   "source": [
    "OOP or Object-Orientated Programming IS centred on objects created from abstract data types that encapsulate data and functions together\n",
    "An OBJECT is a software entity which contains data and procedures. Conceptually, an object is a self-contained unit made of data attributes and methods (to operate on the data attributes)\n",
    "The data contained in an object is the object's data ATTRIBUTES - simply variables that reference data.\n",
    "The procedures that an object performs are called METHODS and they perform operations on the data's ATTRIBUTES."
   ]
  },
  {
   "cell_type": "markdown",
   "metadata": {
    "colab_type": "raw",
    "id": "UsZxcL2Sk45A"
   },
   "source": [
    "OOP addresses the problem of code and data seperation through ENCAPSULATION and DATA HIDING:-\n",
    "\n",
    "ENCAPSULATION = combining data and code into single OBJECT\n",
    "\n",
    "DATA HIDING = object's ability to hide its data attributes from code that is outside the object.\n",
    "Only the object's own methods can directly access and make changes to object's data attributes - making data safer."
   ]
  },
  {
   "cell_type": "markdown",
   "metadata": {
    "colab_type": "raw",
    "id": "5x05VbUNk45A"
   },
   "source": [
    "Benefits: Normally, an object does not hide it's data as it allows outside code to access its methods\n",
    "Data Hiding prevents accidental corruption and the code outside doesn't need to know about the format or internal structure of the object's data.\n",
    "A programmer can change internal data attrbutes - by modifying the methods to operate on it properly. This means that outside code interacts with the methods in the same way they did before."
   ]
  },
  {
   "cell_type": "markdown",
   "metadata": {
    "colab_type": "text",
    "id": "KdDtW9YZk45A"
   },
   "source": [
    "## **Object Reusability**"
   ]
  },
  {
   "cell_type": "markdown",
   "metadata": {
    "colab_type": "raw",
    "id": "ZneH1Bpdk45B"
   },
   "source": [
    "Trend of object reusability means OOP use encouraged.\n",
    "e.g. code for rendering 3d objects can be shared with someone who meeds it to display their own 3d images in another program.\n",
    "or machine learning library can be shared with others to use its algorithms"
   ]
  },
  {
   "cell_type": "markdown",
   "metadata": {
    "colab_type": "raw",
    "id": "nig2lMiAk45B"
   },
   "source": [
    "# An Everyday Example\n",
    "\n",
    "data attributes for an alarm clock:-\n",
    "\n",
    "{ current_second (0-59), current_minute (0-59), current_hour (1-12), alarm_time (valid hour & minute), alarmSetFlag (True/False)\n",
    "\n",
    "the above define a STATE the alrm clock is currently in. You cannot as a user directly manipulate the data attributes because they are PRIVATE.\n",
    "If you wish to change them, you need methods:\n",
    "\n",
    "some useful methods or PUBLIC METHODS a user can access:-\n",
    "\n",
    "{ set_time (valid hour and minute), set_alarm_time (True/False), set_alarm_on (True/False), set_alarm_off (True/False)  }\n",
    "\n",
    "The alarm clock has its own PRIVATE METHODS, which external entities/users cannot access - these are hidden and done automatically.\n",
    "\n",
    "some private methods:\n",
    "{ increment_current_second, increment_current_minute, sound_alarm   etc  }\n",
    "\n",
    "DETAIL of Method: 'increment_current_second' -- changes 'current_second' value data attribute, if 'current_second' ==59, then\n",
    "        'current_second' = 0 and run increment_current_minute' method (this will also check if alarm_time == current time and alarmSetFlag= True\n",
    "        etc etc"
   ]
  },
  {
   "cell_type": "markdown",
   "metadata": {
    "colab_type": "text",
    "id": "iC6Vr2o4k45D"
   },
   "source": [
    "## ***Classes***"
   ]
  },
  {
   "cell_type": "markdown",
   "metadata": {
    "colab_type": "raw",
    "id": "Q-WZDVlfk45D"
   },
   "source": [
    "Class = code specifying data's ATTRIBUTES and METHODS for particular OBJECT type - it is like a 'blueprint' for objects.\n",
    "The we can build an INSTANCE(S) of the object from the class in memory.\n",
    "\n",
    "Objects are created in software, designed by  programmer (determines the class' attributes and methods needed)\n",
    "\n",
    "ANALOGY: class = cookie cutter (describes a cookie but isn't an actual cookie). The objects created by the class are the cookies (objects)"
   ]
  },
  {
   "cell_type": "markdown",
   "metadata": {
    "colab_type": "text",
    "id": "4mLpfDYhk45E"
   },
   "source": [
    "## ***Class Definitions***"
   ]
  },
  {
   "cell_type": "markdown",
   "metadata": {
    "colab_type": "raw",
    "id": "EkhgupY8k45F"
   },
   "source": [
    "To create a class, you write a CLASS DEFINITION (ie A set of statements)\n",
    "see example below: Coin Flippin simulation - toss coin and determine if it is H or T.\n",
    "We need a class called Coin. which performs all the behaviours of the coin"
   ]
  },
  {
   "cell_type": "markdown",
   "metadata": {
    "colab_type": "raw",
    "id": "F6enzOnOk45F"
   },
   "source": [
    "'self' parameter must be present in every method of a class to tell it which object's data attributes to operate on.\n",
    "\n",
    "__init__  or the Initialiser Method initialises the object's data attributes."
   ]
  },
  {
   "cell_type": "code",
   "execution_count": 0,
   "metadata": {
    "colab": {},
    "colab_type": "code",
    "id": "QT4b_Iz5k45F"
   },
   "outputs": [],
   "source": [
    "'''import random\n",
    "\n",
    "class Coin:                            ## Use capital first letter to indicate a class, same rules as variable naming\n",
    "    def __init__(self):                ## This init method initialises sideup data attribute with 'Heads'\n",
    "        self.__sideup = 'Heads'        ## the double underscore means that attribute is PRIVATE\n",
    "        \n",
    "    def toss(self):                    ## random number to indicate Heads/Tails\n",
    "        if random.randint(0, 1) == 0:\n",
    "            self.__sideup = 'Heads'\n",
    "        else:\n",
    "            self.__sideup = 'Tails'\n",
    "            \n",
    "    def get_sideup(self):              ## get_sideup method returns the value referenced by sideup\n",
    "        return self.__sideup\n",
    "\n",
    "def main():\n",
    "\n",
    "    my_coin = coin.Coin()\n",
    "    print(f'It is currently in state: {my_coin.get_sideup()} ')\n",
    "    print('I will toss the coin 100 times ')\n",
    "    \n",
    "    for count in range(100):\n",
    "        my_coin.toss()\n",
    "        print(f'{my_coin.get_sideup()} ', end = '')\n",
    "    \n",
    "main()\n",
    "'''"
   ]
  },
  {
   "cell_type": "code",
   "execution_count": 0,
   "metadata": {
    "colab": {},
    "colab_type": "code",
    "id": "XbOql0nFk45J"
   },
   "outputs": [],
   "source": [
    "# we don't want the sideup attribute to be modified - we need to make it PRIVATE.\n",
    "# we do this by doing __methodName each time it is used"
   ]
  },
  {
   "cell_type": "markdown",
   "metadata": {
    "colab_type": "text",
    "id": "VrU_z0Xmk45K"
   },
   "source": [
    "## ***Storing Classes in Modules***"
   ]
  },
  {
   "cell_type": "markdown",
   "metadata": {
    "colab_type": "raw",
    "id": "YJDL3R9Xk45M"
   },
   "source": [
    "When we have several classes, we need to organise them in modules (separate from the 'main' code)\n",
    "These modules can then be imported into your own program that needs that class.\n",
    "e.g. save coin class as coin.py\n",
    "\n",
    "then in main program can do :\n",
    "\n",
    "import coin\n",
    "\n",
    "and use the class like this:\n",
    "\n",
    "my_coin1 = coin.Coin()  ## generate one instance of Coin()\n",
    "my_coin2 = coin.Coin()  ## generate 2nd instance of Coin()"
   ]
  },
  {
   "cell_type": "code",
   "execution_count": 0,
   "metadata": {
    "colab": {},
    "colab_type": "code",
    "id": "-EupOOeTk45M"
   },
   "outputs": [],
   "source": [
    "import sys\n",
    "sys.path.append('./My Modules/')\n",
    "\n",
    "from coin import *"
   ]
  },
  {
   "cell_type": "code",
   "execution_count": 0,
   "metadata": {
    "colab": {},
    "colab_type": "code",
    "id": "X2payiEpk45N"
   },
   "outputs": [],
   "source": [
    "def main():\n",
    "    \n",
    "    my_coin = Coin()                                            ## generate one instance of Coin()\n",
    "    \n",
    "    print(f'It is currently in state: {my_coin.get_sideup()} ') ## returns the private attribute of the get_sideup() method\n",
    "    print('I will toss the coin 10 times ')\n",
    "    \n",
    "    for count in range(10):\n",
    "        my_coin.toss()                                          ## runs the toss() method on attribute of coin\n",
    "        print(f'{my_coin.get_sideup()} ', end = '')             ## returns the private attribute of the get_sideup() method\n",
    "    \n",
    "main()"
   ]
  },
  {
   "cell_type": "markdown",
   "metadata": {
    "colab_type": "text",
    "id": "uV17RqHGk45Q"
   },
   "source": [
    "### The BankAccount Class"
   ]
  },
  {
   "cell_type": "code",
   "execution_count": 0,
   "metadata": {
    "colab": {},
    "colab_type": "code",
    "id": "EEnRxRXRk45S"
   },
   "outputs": [],
   "source": [
    "import sys\n",
    "sys.path.append('./My Modules/')\n",
    "\n",
    "from bankaccount import *\n",
    "\n",
    "def main():\n",
    "    startingBalance = float(input('Enter start balance: '))\n",
    "    \n",
    "    savingsObject = BankAccount(startingBalance)\n",
    "    \n",
    "    deposit = float(input('How much to deposit: £ '))\n",
    "    print(f'I will deposit £{deposit:.2f}')\n",
    "    newBalance = savingsObject.deposit(deposit)\n",
    "    print(f'The balance is now {savingsObject.get_balance() :.2f}')\n",
    "    \n",
    "    withdrawal =float(input('How much to withdraw: £ '))\n",
    "    print(f'I will withdraw £{withdrawal:.2f}')\n",
    "    newBalance = savingsObject.withdraw(withdrawal)\n",
    "    print(f'The balance is now {savingsObject.get_balance(): .2f}')\n",
    "    \n",
    "main()\n",
    "    "
   ]
  },
  {
   "cell_type": "raw",
   "metadata": {
    "colab_type": "raw",
    "id": "hOzDVGS5k45T"
   },
   "source": [
    " The '__str__' method ## used for displaying object's STATE\n",
    " STATE = object's attribute at any given moment - VERY COMMON method in practice\n",
    " e.g. above __balance is initially 100, then 120, then 110 finally"
   ]
  },
  {
   "cell_type": "markdown",
   "metadata": {
    "colab_type": "raw",
    "id": "2L-tQU5Lk45U"
   },
   "source": [
    "We may wish to always print attribute (in this case __balance) always in the format;\n",
    "£XXX-XX ( to 2 dp)"
   ]
  },
  {
   "cell_type": "markdown",
   "metadata": {
    "colab_type": "raw",
    "id": "ZuZuPGrBk45W"
   },
   "source": [
    "In Python, we use the __str__ method, See modified version:\n"
   ]
  },
  {
   "cell_type": "code",
   "execution_count": 4,
   "metadata": {
    "colab": {},
    "colab_type": "code",
    "id": "LihQB9-kk45X",
    "outputId": "3694c5a1-c21d-4997-b8dc-afdeb85b4698"
   },
   "outputs": [
    {
     "name": "stdout",
     "output_type": "stream",
     "text": [
      "Enter start balance: 100\n",
      "How much to deposit: £ 1\n",
      "The Balance is £ 101.00\n",
      "How much to withdraw: £ 2\n",
      "The Balance is £ 99.00\n"
     ]
    }
   ],
   "source": [
    "# Programe with __str__ method            \n",
    "class BankAccount:\n",
    "    def __init__(self, bal):\n",
    "        self.__balance = bal\n",
    "    \n",
    "    def deposit(self, amount):\n",
    "        self.__balance += amount\n",
    "    \n",
    "    def withdraw(self, amount):\n",
    "        if self.__balance >= amount:\n",
    "            self.__balance -= amount\n",
    "        else:\n",
    "            print('Error: Insufficient Funds')\n",
    "    \n",
    "    def get_balance(self):\n",
    "        return self.__balance\n",
    "    \n",
    "    def __str__(self):\n",
    "        return f'The Balance is £{self.__balance: .2f}'\n",
    "\n",
    "'''import sys\n",
    "\n",
    "sys.path.append('./My Modules/')\n",
    "\n",
    "import bankaccount2'''\n",
    "\n",
    "def main():\n",
    "    \n",
    "    startingBalance = float(input('Enter start balance: '))\n",
    "    \n",
    "    savingsObject = BankAccount(startingBalance)\n",
    "    \n",
    "    deposit = float(input('How much to deposit: £ '))\n",
    "    \n",
    "    newBalance = savingsObject.deposit(deposit)\n",
    "    print(savingsObject)\n",
    "    \n",
    "    withdrawal =float(input('How much to withdraw: £ '))\n",
    "    \n",
    "    newBalance = savingsObject.withdraw(withdrawal)\n",
    "    print(savingsObject)\n",
    "    \n",
    "main()"
   ]
  },
  {
   "cell_type": "markdown",
   "metadata": {
    "colab_type": "text",
    "id": "nmd93HjTk45b"
   },
   "source": [
    "## ***Working With Instances***"
   ]
  },
  {
   "cell_type": "markdown",
   "metadata": {
    "colab_type": "raw",
    "id": "R0v2MAdZk45c"
   },
   "source": [
    "Each class INSTANCE has its own data attributes. the self parameter creates an attribute which belongs specifically to that\n",
    "objects. You can create many instances of the same class and each will have its own attributes.\n",
    "e.g. coin1 = Coin(), coin2 = Coin() and coin3 = Coin() and each will have its OWN\n",
    "__sideup attribute\n",
    "we have 3 instances of 3 objects ie coin1,2,3 which reference a different __sideup attribute cointained in each object with its own value.\n",
    "When we run toss() method we will then be referencing 3 different objects with new __sideup attributes."
   ]
  },
  {
   "cell_type": "code",
   "execution_count": 5,
   "metadata": {
    "colab": {},
    "colab_type": "code",
    "id": "C3TDN5RPk45c",
    "outputId": "784d7932-5803-4057-a4c2-d34adf8d5d6b"
   },
   "outputs": [
    {
     "name": "stdout",
     "output_type": "stream",
     "text": [
      "Manufacturer: Sony\n",
      "Model: Xpera Xa1\n",
      "Retail Price:199.00\n",
      "You entered: Sony, Xpera Xa1, £ 199.00 \n"
     ]
    }
   ],
   "source": [
    "# Managing all cellphones in Inventory\n",
    "\n",
    "class CellPhone:\n",
    "    def __init__(self, manufact, model, price):\n",
    "        self.__manufact = manufact\n",
    "        self.__model = model\n",
    "        self.__retailPrice = price\n",
    "    \n",
    "    def set_manufact(self, manufact):\n",
    "        self.__manufact = manufact\n",
    "    \n",
    "    def set_model(self, model):\n",
    "        self.__model = model\n",
    "    \n",
    "    def set_retailPrice(self, price):\n",
    "        self.__retailPrice = price\n",
    "    \n",
    "    def get_manufact(self):\n",
    "        return self.__manufact\n",
    "    \n",
    "    def get_model(self):\n",
    "        return self.__model\n",
    "    \n",
    "    def get_retailPrice(self):\n",
    "        return self.__retailPrice\n",
    "\n",
    "def main():\n",
    "    manufacturer = input('Manufacturer: ')\n",
    "    model = input('Model: ')\n",
    "    retailPrice = float(input('Retail Price:'))\n",
    "    \n",
    "    phoneObject = CellPhone(manufacturer, model, retailPrice)\n",
    "    \n",
    "    print(f'You entered: {phoneObject.get_manufact()}, {phoneObject.get_model()}, £{phoneObject.get_retailPrice(): .2f} ')\n",
    "    \n",
    "main()  "
   ]
  },
  {
   "cell_type": "code",
   "execution_count": 7,
   "metadata": {
    "colab": {},
    "colab_type": "code",
    "id": "KsF--W6gk45g",
    "outputId": "114781b3-f35b-4366-edc5-b58d45ebf9a8"
   },
   "outputs": [
    {
     "name": "stdout",
     "output_type": "stream",
     "text": [
      "Manufacturer: Google\n",
      "Model: Pixel 3a\n",
      "Retail Price:379.99\n",
      "You entered: Google, Pixel 3a, £ 379.99 \n"
     ]
    }
   ],
   "source": [
    "# Managing all cellphones in Inventory\n",
    "import sys\n",
    "sys.path.append('./My Modules/')\n",
    "\n",
    "from cellphone import CellPhone\n",
    "\n",
    "def main():\n",
    "    manufacturer = input('Manufacturer: ')\n",
    "    model = input('Model: ')\n",
    "    retailPrice = float(input('Retail Price:'))\n",
    "    \n",
    "    phoneObject = CellPhone(manufacturer, model, retailPrice)\n",
    "    \n",
    "    print(f'You entered: {phoneObject.get_manufact()}, {phoneObject.get_model()}, £{phoneObject.get_retailPrice(): .2f} ')\n",
    "    \n",
    "main()  "
   ]
  },
  {
   "cell_type": "markdown",
   "metadata": {
    "colab_type": "text",
    "id": "DBhdfWwnk45i"
   },
   "source": [
    "## ***Accessor and Mutator Methods***"
   ]
  },
  {
   "cell_type": "markdown",
   "metadata": {
    "colab_type": "raw",
    "id": "9eoeF6Bfk45j"
   },
   "source": [
    "re: Best practice - make data attributes private and only allow public methods to change the objects attributes.\n",
    "ACCESSOR Method returns a value from a class's attributes but does not change it.\n",
    "Provides safe (ie prevents modification) retreival of attributes values for code outside the class.\n",
    "in CellPhone class above - the get_model() and get_manufact() etc are Accessor methods"
   ]
  },
  {
   "cell_type": "markdown",
   "metadata": {
    "colab_type": "raw",
    "id": "C24ONgmek45j"
   },
   "source": [
    "MUATOR Method stores a value in a data attribute OR changes a value of data atribute.\n",
    "If code outside needs to change an objects value - calls a mutator and passes the new value as an argument.\n",
    "It can also also validate the value before assigning it to the data attribute.\n",
    "In CellPhone above, we have set_manufact and set_model etc as Mutator Methods"
   ]
  },
  {
   "cell_type": "markdown",
   "metadata": {
    "colab_type": "raw",
    "id": "MGkz6gmdk45j"
   },
   "source": [
    "Mutators - called 'Setters'\n",
    "Accessors - called 'Getters"
   ]
  },
  {
   "cell_type": "code",
   "execution_count": 8,
   "metadata": {
    "colab": {
     "base_uri": "https://localhost:8080/",
     "height": 374
    },
    "colab_type": "code",
    "executionInfo": {
     "elapsed": 618,
     "status": "error",
     "timestamp": 1558344721587,
     "user": {
      "displayName": "Ziaur Rahman",
      "photoUrl": "https://lh5.googleusercontent.com/-7ubSrk1v8kc/AAAAAAAAAAI/AAAAAAAAD-Q/axPdZaf9zSY/s64/photo.jpg",
      "userId": "05666354565237826407"
     },
     "user_tz": -60
    },
    "id": "ANSYjP0Jk45k",
    "outputId": "0a49a7c1-5db9-49be-9f42-ec276db004b6"
   },
   "outputs": [
    {
     "name": "stdout",
     "output_type": "stream",
     "text": [
      "Enter phone #1: \n",
      "Manufacturer: Sony\n",
      "Model: XA1\n",
      "Retail Price: 199\n",
      "Enter phone #2: \n",
      "Manufacturer: Sony\n",
      "Model: XA2\n",
      "Retail Price: 250\n",
      "Here are the phones you had entered: \n",
      "Sony\n",
      "XA1\n",
      "199.0\n",
      "Sony\n",
      "XA2\n",
      "250.0\n"
     ]
    }
   ],
   "source": [
    "# Cellphones stored in Lists\n",
    "\n",
    "import sys\n",
    "sys.path.append('./My Modules/')\n",
    "\n",
    "from cellphone import CellPhone\n",
    "\n",
    "def main():\n",
    "    phones = make_phone_list()   # makes a list\n",
    "    \n",
    "    print('Here are the phones you had entered: ')\n",
    "    display_list(phones)\n",
    "    \n",
    "def make_phone_list():\n",
    "    \n",
    "    phone_list = []\n",
    "    \n",
    "    for count in range(1,3):\n",
    "        print(f'Enter phone #{count}: ')\n",
    "        man = input('Manufacturer: ')\n",
    "        mod = input('Model: ')\n",
    "        retail = float(input('Retail Price: '))\n",
    "        \n",
    "        phoneObject = CellPhone(man, mod, retail)\n",
    "        phone_list.append(phoneObject)\n",
    "        \n",
    "    return phone_list\n",
    "\n",
    "def display_list(phone_list):\n",
    "    for item in phone_list:\n",
    "        print(item.get_manufact() )\n",
    "        print(item.get_model() )\n",
    "        print(item.get_retailPrice() )\n",
    "        \n",
    "main()"
   ]
  },
  {
   "cell_type": "markdown",
   "metadata": {
    "colab_type": "text",
    "id": "-nXMimsBk45m"
   },
   "source": [
    "## ***Passing Objects as Arguments***"
   ]
  },
  {
   "cell_type": "markdown",
   "metadata": {
    "colab_type": "text",
    "id": "LG_SjRbclqAu"
   },
   "source": [
    "Often need to write functions and methods that accept objects. When you pass an object as an argument, you are only passing REFERENCE to the object - in effect ftn/method has access to actual object. "
   ]
  },
  {
   "cell_type": "code",
   "execution_count": 13,
   "metadata": {
    "colab": {
     "base_uri": "https://localhost:8080/",
     "height": 52
    },
    "colab_type": "code",
    "executionInfo": {
     "elapsed": 660,
     "status": "ok",
     "timestamp": 1558345559375,
     "user": {
      "displayName": "Ziaur Rahman",
      "photoUrl": "https://lh5.googleusercontent.com/-7ubSrk1v8kc/AAAAAAAAAAI/AAAAAAAAD-Q/axPdZaf9zSY/s64/photo.jpg",
      "userId": "05666354565237826407"
     },
     "user_tz": -60
    },
    "id": "2KXkZ9F0mXyD",
    "outputId": "3dd1d922-c3cf-4383-b47b-f745e957c027"
   },
   "outputs": [
    {
     "name": "stdout",
     "output_type": "stream",
     "text": [
      "Heads\n",
      "Tails\n"
     ]
    }
   ],
   "source": [
    "import random\n",
    "\n",
    "class Coin:                            ## Use capital first letter to indicate a class, same rules as variable naming\n",
    "    def __init__(self):                ## This init method initialises sideup data attribute with 'Heads'\n",
    "        self.__sideup = 'Heads'        ## the double underscore means that attribute is PRIVATE\n",
    "        \n",
    "    def toss(self):                    ## random number to indicate Heads/Tails\n",
    "        if random.randint(0, 1) == 0:\n",
    "            self.__sideup = 'Heads'\n",
    "        else:\n",
    "            self.__sideup = 'Tails'\n",
    "            \n",
    "    def get_sideup(self):              ## get_sideup method returns the value referenced by sideup\n",
    "        return self.__sideup\n",
    "    \n",
    "\n",
    "\n",
    "def main():\n",
    "    def flip(coin_object):\n",
    "        coin_object.toss()\n",
    "    \n",
    "    my_coin = Coin()\n",
    "    print(my_coin.get_sideup())\n",
    "    flip(my_coin)                #my_coin passed as argument tp flip() function to toss() method\n",
    "    print(my_coin.get_sideup())\n",
    "       \n",
    "main()"
   ]
  },
  {
   "cell_type": "markdown",
   "metadata": {
    "colab_type": "text",
    "id": "Gw9UuuaAoj2d"
   },
   "source": [
    "## Pickling Your Own Objects"
   ]
  },
  {
   "cell_type": "markdown",
   "metadata": {
    "colab_type": "text",
    "id": "svHPbvyzo2fD"
   },
   "source": [
    "We can use pickle module to serialize objects ie convert to a stream of bytes for saving, \n",
    "then write it to a file or in reverse: load an object and deserialse (unpickle) it.\n",
    "Before we pickled/unpickled lists, dictionaries etc, but you can do also own classes too."
   ]
  },
  {
   "cell_type": "markdown",
   "metadata": {
    "colab_type": "text",
    "id": "t7QUtKajpbTG"
   },
   "source": [
    "Process To PICKLE:\n",
    "\n",
    "1.   import pickle, class\n",
    "2.   reference filename as Global Constant\n",
    "3.   fileObject - open in wb mode\n",
    "4.   ask user for data, create object class\n",
    "5.   Pickle.dump(object, filename)\n",
    "6.   if no more data being added, then close() file object\n",
    "7.   print statement advising all copied\n",
    "\n",
    "\n",
    "\n",
    "\n"
   ]
  },
  {
   "cell_type": "markdown",
   "metadata": {
    "colab_type": "text",
    "id": "GwiYbe1dqzan"
   },
   "source": [
    "Process To UN - PICKLE:\n",
    "\n",
    "1.   import pickle, class\n",
    "2.   reference filename as Global Constant\n",
    "3.   endOfFile = False, then try:  pickle.load(inFile)\n",
    "4.  EOFError - change endOfFile to True\n",
    "5.   Close inFile\n",
    "6.  def function to print data using get_manufact,mode,price methods of the Class\n",
    "\n",
    "\n",
    "\n"
   ]
  },
  {
   "cell_type": "markdown",
   "metadata": {
    "colab_type": "text",
    "id": "Iwl2FHGpri3Q"
   },
   "source": [
    "## Storing Objects in a Dictionary"
   ]
  },
  {
   "cell_type": "markdown",
   "metadata": {
    "colab_type": "text",
    "id": "u3yZ8BR_rqOb"
   },
   "source": [
    "A program that will store contacts and retreive them"
   ]
  },
  {
   "cell_type": "code",
   "execution_count": 15,
   "metadata": {
    "colab": {
     "base_uri": "https://localhost:8080/",
     "height": 132
    },
    "colab_type": "code",
    "executionInfo": {
     "elapsed": 573,
     "status": "error",
     "timestamp": 1558347386617,
     "user": {
      "displayName": "Ziaur Rahman",
      "photoUrl": "https://lh5.googleusercontent.com/-7ubSrk1v8kc/AAAAAAAAAAI/AAAAAAAAD-Q/axPdZaf9zSY/s64/photo.jpg",
      "userId": "05666354565237826407"
     },
     "user_tz": -60
    },
    "id": "hv5mI1HOrhzf",
    "outputId": "b5c6474d-a796-4e00-be5b-a2c003b92f3f"
   },
   "outputs": [],
   "source": [
    "class Contact:\n",
    "    def __init__(self, name, phone, email):\n",
    "        self.__name = name\n",
    "        self.__phone = phone\n",
    "        self.__email = email\n",
    "        \n",
    "        def setName(self, name):\n",
    "            self.__name = name\n",
    "        def setPhone(self, phone):\n",
    "            self.__phone == phone\n",
    "        def setEmail(self, email):\n",
    "            self.__email = email\n",
    "        def get_name(self):\n",
    "            return self.__name\n",
    "        def get_phone(self):\n",
    "            return self.__phone\n",
    "        def get_email(self):\n",
    "            return self.__email\n",
    "        def __str__(self):\n",
    "            return ('Name: ' + self.__name + \\\n",
    "                    '\\nPhone: ' + self.__phone + \\\n",
    "                '\\nEmail: ' + self.__email)\n",
    "        \n",
    "        #import contact.py\n",
    "        import pickle\n",
    "        \n",
    "        LOOKUP = 1\n",
    "        ADD = 2\n",
    "        CHANGE = 3\n",
    "        DELETE = 4\n",
    "        QUIT = 5\n",
    "        \n",
    "        FILENAME = './data/contacts.dat'\n",
    "        \n",
    "        def main():\n",
    "            mycontactFile = load_contacts()  ## existing file load dictionary\n",
    "            \n",
    "            while choice != QUIT:\n",
    "                choice = get_menu_choice()\n",
    "                \n",
    "                if choice == LOOKUP:\n",
    "                    look_up(mycontactsFile)\n",
    "                elif choice == ADD:\n",
    "                    add(mycontactsFile)\n",
    "                elif choice == CHANGE:\n",
    "                    change(mycontactsFile)\n",
    "                elif choice == DELETE:\n",
    "                    delete(mycontactsFile)\n",
    "            \n",
    "            save_contacts(mycontactsFile)\n",
    "            \n",
    "            #load contacts() function\n",
    "            try:\n",
    "                pass\n",
    "            except:\n",
    "                pass\n"
   ]
  },
  {
   "cell_type": "code",
   "execution_count": null,
   "metadata": {},
   "outputs": [],
   "source": []
  }
 ],
 "metadata": {
  "colab": {
   "collapsed_sections": [],
   "name": "Chapter 10 - Classes&OOP - Part1.ipynb",
   "provenance": [],
   "version": "0.3.2"
  },
  "kernelspec": {
   "display_name": "Python 3",
   "language": "python",
   "name": "python3"
  },
  "language_info": {
   "codemirror_mode": {
    "name": "ipython",
    "version": 3
   },
   "file_extension": ".py",
   "mimetype": "text/x-python",
   "name": "python",
   "nbconvert_exporter": "python",
   "pygments_lexer": "ipython3",
   "version": "3.7.3"
  }
 },
 "nbformat": 4,
 "nbformat_minor": 1
}
