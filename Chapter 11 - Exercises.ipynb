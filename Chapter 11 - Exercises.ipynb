{
 "cells": [
  {
   "cell_type": "markdown",
   "metadata": {},
   "source": [
    "# Chapter 11 - Inheritance - Exercises"
   ]
  },
  {
   "cell_type": "raw",
   "metadata": {},
   "source": [
    "Write a program that alters the behavior of a Parent class using the concept of\n",
    "overriding."
   ]
  },
  {
   "cell_type": "code",
   "execution_count": 1,
   "metadata": {},
   "outputs": [],
   "source": [
    "class Parent:\n",
    "    def __init__(self, varParent1, varParent2):\n",
    "        self.__varParent1 = varParent1\n",
    "        self.__varParent2 = varParent2\n",
    "    \n",
    "    #def get_\n",
    "    #def set_\n",
    "    def __str__(self):\n",
    "        print('Hello Parent')\n",
    "\n",
    "class Child(Parent):\n",
    "    def __init__(self, varParent1, varParent2, varChild1):\n",
    "        Parent.__init__(self, varParent1, varParent2)\n",
    "        self.__varChild1 = varChild1\n",
    "        \n",
    "    #def get_\n",
    "    #def set_\n",
    "    \n",
    "    def __str__(self):\n",
    "        print('Goodbye Child')\n"
   ]
  },
  {
   "cell_type": "raw",
   "metadata": {},
   "source": [
    "2. Look at the following class definitions:\n",
    "class Plant:\n",
    "    def _ _init_ _(self, plant_type):\n",
    "        self._ _plant_type = plant_type\n",
    "\n",
    "    def message(self):\n",
    "        print(\"I'm a plant.\")\n",
    "\n",
    "class Tree(Plant):\n",
    "    def _ _init_ _(self):\n",
    "        Plant._ _init_ _(self, 'tree')\n",
    "\n",
    "    def message(self):\n",
    "        print(\"I'm a tree.\")\n",
    "\n",
    "Given these class definitions, what will the following statements display?\n",
    "p = Plant('sapling')\n",
    "t = Tree()\n",
    "p.message()\n",
    "t.message()"
   ]
  },
  {
   "cell_type": "raw",
   "metadata": {},
   "source": [
    "I'm a plant\n",
    "I'm a tree"
   ]
  },
  {
   "cell_type": "raw",
   "metadata": {},
   "source": [
    "3. Look at the following class definition:-\n",
    "\n",
    "class Beverage:\n",
    "    def _ _init_ _(self, bev_name):\n",
    "        self._ _bev_name = bev_name\n",
    "        \n",
    "Write the code for a class named Cola that is a subclass of the Beverage class.\n",
    "The Cola class’s _ _init_ _ method should call the Beverage class’s _ _init_ _ method,\n",
    "passing ‘cola’ as an argument."
   ]
  },
  {
   "cell_type": "code",
   "execution_count": 4,
   "metadata": {},
   "outputs": [],
   "source": [
    "class Beverage:\n",
    "    def __init__(self, bev_name):\n",
    "        self.__bev_name = bev_name\n",
    "        \n",
    "class Cola(Beverage):\n",
    "    def __init__(self):\n",
    "        Beverage.__init__(self, 'cola')  \n",
    "    "
   ]
  },
  {
   "cell_type": "markdown",
   "metadata": {},
   "source": [
    "# Programming Exercises"
   ]
  },
  {
   "cell_type": "raw",
   "metadata": {},
   "source": [
    "1. Employee and ProductionWorker Classes\n",
    "Write an Employee class that keeps data attributes for the following pieces of information:\n",
    "    \n",
    "• Employee name\n",
    "• Employee number\n",
    "\n",
    "Next, write a class named ProductionWorker that is a subclass of the Employee class. The\n",
    "ProductionWorker class should keep data attributes for the following information:\n",
    "    \n",
    "• Shift number (an integer, such as 1, 2, or 3)\n",
    "• Hourly pay rate\n",
    "\n",
    "The workday is divided into two shifts: day and night. The shift attribute will hold an\n",
    "integer value representing the shift that the employee works. The day shift is shift 1 and the\n",
    "night shift is shift 2. Write the appropriate accessor and mutator methods for each class.\n",
    "Once you have written the classes, write a program that creates an object of the\n",
    "ProductionWorker class and prompts the user to enter data for each of the object’s data\n",
    "attributes. Store the data in the object and then use the object’s accessor methods to retrieve\n",
    "it and display it on the screen."
   ]
  },
  {
   "cell_type": "code",
   "execution_count": 10,
   "metadata": {},
   "outputs": [],
   "source": [
    "class Employee:\n",
    "    def __init__(self, emp_name, emp_num):\n",
    "        self.__emp_name = emp_name\n",
    "        self.__emp_num = emp_num\n",
    "        \n",
    "    def get_emp_name(self):\n",
    "        return self.__emp_name\n",
    "        \n",
    "    def get_emp_num(self):\n",
    "        return self.__emp_num\n",
    "        \n",
    "    def set_emp_name(self, emp_name):\n",
    "        self.__emp_name = emp_name\n",
    "        \n",
    "    def set_emp_num(self, emp_num):\n",
    "        self.__emp_num = emp_num\n",
    "    \n",
    "class ProductionWorker(Employee):\n",
    "    def __init__(self, emp_name, emp_num, shift_num, hourly_rate):\n",
    "        Employee.__init__(self, emp_name, emp_num)\n",
    "        self.__shift_num = shift_num\n",
    "        self.__hourly_rate = hourly_rate\n",
    "        \n",
    "    def get_shift_num(self):\n",
    "        return self.__shift_num\n",
    "        \n",
    "    def get_hourly_rate(self):\n",
    "        return self.__hourly_rate\n",
    "        \n",
    "    def set_shift_num(self, shift_num):\n",
    "        self.__shift_num = shift_num\n",
    "        \n",
    "    def set_hourly_rate(self, hourly_rate):\n",
    "        self.__hourly_rate = hourly_rate\n"
   ]
  },
  {
   "cell_type": "code",
   "execution_count": 11,
   "metadata": {},
   "outputs": [
    {
     "name": "stdin",
     "output_type": "stream",
     "text": [
      "Employee Name:  Zia\n",
      "Employee No:  180\n",
      "Shift 1 or 2:  1\n",
      "Hr Pay Rate £xx.xx:  11.99\n"
     ]
    },
    {
     "name": "stdout",
     "output_type": "stream",
     "text": [
      "Zia\n",
      "180\n",
      "1\n",
      "£11.99\n"
     ]
    }
   ],
   "source": [
    "def main():\n",
    "    emp_name = input('Employee Name: ')\n",
    "    emp_num = input('Employee No: ')\n",
    "    shift_num = int(input('Shift 1 or 2: '))\n",
    "    hourly_rate = float(input('Hr Pay Rate £xx.xx: '))\n",
    "    \n",
    "    prodWorkerObject = ProductionWorker(emp_name, emp_num, shift_num, hourly_rate)\n",
    "    \n",
    "    print(f'{prodWorkerObject.get_emp_name()}')\n",
    "    print(f'{prodWorkerObject.get_emp_num()}')\n",
    "    print(f'{prodWorkerObject.get_shift_num()}')\n",
    "    print(f'£{prodWorkerObject.get_hourly_rate()}')\n",
    "    \n",
    "main()"
   ]
  },
  {
   "cell_type": "raw",
   "metadata": {},
   "source": [
    "2. ShiftSupervisor Class\n",
    "In a particular factory, a shift supervisor is a salaried employee who supervises a shift. In\n",
    "addition to a salary, the shift supervisor earns a yearly bonus when his or her shift meets\n",
    "production goals. Write a ShiftSupervisor class that is a subclass of the Employee class\n",
    "you created in Programming Exercise 1. The ShiftSupervisor class should keep a data\n",
    "attribute for the annual salary and a data attribute for the annual production bonus that\n",
    "a shift supervisor has earned. Demonstrate the class by writing a program that uses a\n",
    "ShiftSupervisor object."
   ]
  },
  {
   "cell_type": "code",
   "execution_count": 23,
   "metadata": {},
   "outputs": [],
   "source": [
    "class ShiftSupervisor(Employee):\n",
    "    def __init__(self, emp_name, emp_num, salary, bonus ):\n",
    "        Employee.__init__(self, emp_name, emp_num)\n",
    "        self.__salary = float(salary)\n",
    "        self.__bonus = float(bonus)\n",
    "        \n",
    "    def set_salary(self, salary):\n",
    "        self.__salary = salary\n",
    "    \n",
    "    def get_salary(self):\n",
    "        return self.__salary\n",
    "    \n",
    "    def set_bonus(self, bonus):\n",
    "        self.__bonus = bonus\n",
    "    \n",
    "    def get_bonus(self):\n",
    "        return self.__bonus"
   ]
  },
  {
   "cell_type": "code",
   "execution_count": 28,
   "metadata": {},
   "outputs": [
    {
     "name": "stdout",
     "output_type": "stream",
     "text": [
      "£1982.78\n"
     ]
    }
   ],
   "source": [
    "shiftSupervisor = ShiftSupervisor('Ziaur', '191', 20000, 1982.78)\n",
    "print(f'£{shiftSupervisor.get_bonus():.2f}')"
   ]
  },
  {
   "cell_type": "raw",
   "metadata": {},
   "source": [
    "3. Person and Customer Classes\n",
    "Write a class named Person with data attributes for a person’s name, address, and telephone\n",
    "number.\n",
    "Next, write a class named Customer that is a subclass of the Person class.\n",
    "The Customer class should have a data attribute for a customer number and a Boolean\n",
    "data attribute indicating whether the customer wishes to be on a mailing list.\n",
    "Demonstrate an instance of the Customer class in a simple program"
   ]
  },
  {
   "cell_type": "code",
   "execution_count": null,
   "metadata": {},
   "outputs": [],
   "source": []
  }
 ],
 "metadata": {
  "kernelspec": {
   "display_name": "Python 3",
   "language": "python",
   "name": "python3"
  },
  "language_info": {
   "codemirror_mode": {
    "name": "ipython",
    "version": 3
   },
   "file_extension": ".py",
   "mimetype": "text/x-python",
   "name": "python",
   "nbconvert_exporter": "python",
   "pygments_lexer": "ipython3",
   "version": "3.7.3"
  }
 },
 "nbformat": 4,
 "nbformat_minor": 2
}
