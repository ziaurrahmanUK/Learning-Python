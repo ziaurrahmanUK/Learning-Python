{
 "cells": [
  {
   "cell_type": "markdown",
   "metadata": {},
   "source": [
    "# Chapter 2 - BASICS"
   ]
  },
  {
   "cell_type": "code",
   "execution_count": 1,
   "metadata": {},
   "outputs": [
    {
     "name": "stdout",
     "output_type": "stream",
     "text": [
      "Ziaur Rahman\n"
     ]
    }
   ],
   "source": [
    "print('Ziaur Rahman')"
   ]
  },
  {
   "cell_type": "markdown",
   "metadata": {},
   "source": [
    "### If you use quotes then use a single quotes!!!"
   ]
  },
  {
   "cell_type": "code",
   "execution_count": 3,
   "metadata": {},
   "outputs": [
    {
     "name": "stdout",
     "output_type": "stream",
     "text": [
      "'Python's the best!'\n"
     ]
    }
   ],
   "source": [
    "print(\"'Python's the best!'\") # use single quotes to enclose a double quote"
   ]
  },
  {
   "cell_type": "code",
   "execution_count": 6,
   "metadata": {},
   "outputs": [
    {
     "name": "stdout",
     "output_type": "stream",
     "text": [
      "(20, 40, 60)\n"
     ]
    }
   ],
   "source": [
    "(x, y, z) = (20, 40, 60)\n",
    "print((x, y, z))"
   ]
  },
  {
   "cell_type": "raw",
   "metadata": {},
   "source": [
    "# assignment statement: variable = expression \n",
    "CANNOT DO:  25 = age"
   ]
  },
  {
   "cell_type": "raw",
   "metadata": {},
   "source": [
    "# This program demonstrates a variable assigment and then print"
   ]
  },
  {
   "cell_type": "code",
   "execution_count": 7,
   "metadata": {},
   "outputs": [
    {
     "name": "stdout",
     "output_type": "stream",
     "text": [
      "I am staying in room: 101\n",
      "Im staying in room: 101\n",
      "101\n"
     ]
    }
   ],
   "source": [
    "room = 101\n",
    "print('I am staying in room:', room)\n",
    "print(f'Im staying in room: {room}')   ## using f formats\n",
    "print(room)"
   ]
  },
  {
   "cell_type": "code",
   "execution_count": 8,
   "metadata": {},
   "outputs": [
    {
     "name": "stdout",
     "output_type": "stream",
     "text": [
      "age\n"
     ]
    }
   ],
   "source": [
    "print('age') # if you just want to print a word"
   ]
  },
  {
   "cell_type": "code",
   "execution_count": 12,
   "metadata": {},
   "outputs": [
    {
     "name": "stdout",
     "output_type": "stream",
     "text": [
      "The top speed is 160\n",
      "The distance travelled is 300 Km/hr\n"
     ]
    }
   ],
   "source": [
    "top_speed = 160 \n",
    "distance = 300 # creates two variables\n",
    "\n",
    "print('The top speed is', top_speed)\n",
    "print('The distance travelled is', distance, 'Km/hr') # note Python will insert a space!!!"
   ]
  },
  {
   "cell_type": "raw",
   "metadata": {},
   "source": [
    "# variables: no spaces, 1st char is a letter or _, NO special characters.\n",
    "\n",
    "# Case matters, use underscores between several words eg grosspay == gross_pay or use camelCase: grossPay"
   ]
  },
  {
   "cell_type": "code",
   "execution_count": 13,
   "metadata": {},
   "outputs": [
    {
     "name": "stdout",
     "output_type": "stream",
     "text": [
      "I have 2.75 dollars in my account.\n"
     ]
    }
   ],
   "source": [
    "dollars = 2.75\n",
    "print('I have', dollars, 'dollars in my account.' )"
   ]
  },
  {
   "cell_type": "code",
   "execution_count": 14,
   "metadata": {},
   "outputs": [
    {
     "name": "stdout",
     "output_type": "stream",
     "text": [
      "I have 100.99 dollars in my account.\n"
     ]
    }
   ],
   "source": [
    "dollars = 100.99\n",
    "print('I have', dollars, 'dollars in my account.' ) # variables can be reassigned different values"
   ]
  },
  {
   "cell_type": "code",
   "execution_count": 17,
   "metadata": {},
   "outputs": [
    {
     "data": {
      "text/plain": [
       "int"
      ]
     },
     "execution_count": 17,
     "metadata": {},
     "output_type": "execute_result"
    }
   ],
   "source": [
    "# numeric literal with NO decimal point considered as an int, eg age = 43\n",
    "age = 43\n",
    "type(age)\n",
    "\n"
   ]
  },
  {
   "cell_type": "code",
   "execution_count": 18,
   "metadata": {},
   "outputs": [
    {
     "data": {
      "text/plain": [
       "float"
      ]
     },
     "execution_count": 18,
     "metadata": {},
     "output_type": "execute_result"
    }
   ],
   "source": [
    "# numeric literal with a decimal point considered as an float, eg dollars = 10.99\n",
    "age = 43.0\n",
    "type(age)"
   ]
  },
  {
   "cell_type": "code",
   "execution_count": 19,
   "metadata": {},
   "outputs": [],
   "source": [
    "# Python uses data type str to assign storing strings in memory"
   ]
  },
  {
   "cell_type": "code",
   "execution_count": null,
   "metadata": {},
   "outputs": [],
   "source": [
    "fName = \"Ziaur\"\n",
    "sName = \"Rahman\""
   ]
  },
  {
   "cell_type": "code",
   "execution_count": null,
   "metadata": {},
   "outputs": [],
   "source": [
    "print(fName,sName)"
   ]
  },
  {
   "cell_type": "raw",
   "metadata": {},
   "source": [
    "# Reading input from a keyboard using the input() function \n",
    "variable = input(prompt)"
   ]
  },
  {
   "cell_type": "code",
   "execution_count": 22,
   "metadata": {},
   "outputs": [
    {
     "name": "stdout",
     "output_type": "stream",
     "text": [
      "Please enter you age: 43\n",
      "\n",
      "You had entered 43\n"
     ]
    }
   ],
   "source": [
    "# program to show input from a user\n",
    "\n",
    "age = input(\"Please enter you age: \") ## You DO need a space for the input command\n",
    "print()\n",
    "print(\"You had entered\", age)"
   ]
  },
  {
   "cell_type": "code",
   "execution_count": 26,
   "metadata": {},
   "outputs": [
    {
     "name": "stdout",
     "output_type": "stream",
     "text": [
      "Please enter the sales figures for the week 101\n",
      "Please enter the customer's last name: Rahman\n",
      "101 Rahman\n"
     ]
    }
   ],
   "source": [
    "salesFiguresWeek = input(\"Please enter the sales figures for the week \") # practicing\n",
    "last_name = input(\"Please enter the customer's last name: \")\n",
    "\n",
    "print(salesFiguresWeek, last_name)\n"
   ]
  },
  {
   "cell_type": "raw",
   "metadata": {},
   "source": [
    "# Python uses +, -, *, /, % ie Remainder, ** ie exponent\n",
    "# operator precedance follows PEMDAS = Parenth., exp, mult, div, add, subt."
   ]
  },
  {
   "cell_type": "code",
   "execution_count": 39,
   "metadata": {},
   "outputs": [
    {
     "name": "stdout",
     "output_type": "stream",
     "text": [
      "Your take-home pay is £2200.00\n",
      "Made up of salary £2000.00 and a 10% bonus of £200.00\n"
     ]
    }
   ],
   "source": [
    "salary = 2000.00\n",
    "bonus = 0.10 * salary\n",
    "pay = salary + bonus\n",
    "print(f'Your take-home pay is £{pay:.2f}')\n",
    "print(f'Made up of salary £{salary:.2f} and a 10% bonus of £{bonus:.2f}')"
   ]
  },
  {
   "cell_type": "markdown",
   "metadata": {},
   "source": [
    "# Prevent a new line by using the trailing comma technique"
   ]
  },
  {
   "cell_type": "code",
   "execution_count": 41,
   "metadata": {},
   "outputs": [
    {
     "name": "stdout",
     "output_type": "stream",
     "text": [
      "One-Two#Two,"
     ]
    }
   ],
   "source": [
    "print(\"One\", end='-' )\n",
    "print(\"Two\", end = '#')\n",
    "print(\"Two\", end = ',')"
   ]
  },
  {
   "cell_type": "code",
   "execution_count": 50,
   "metadata": {},
   "outputs": [
    {
     "name": "stdout",
     "output_type": "stream",
     "text": [
      "One-Two-Two\n",
      "One*Two*Two\n",
      "OneTwoTwo\n"
     ]
    }
   ],
   "source": [
    "print(\"One\", \"Two\",\"Two\", sep='-' )\n",
    "print(\"One\", \"Two\",\"Two\", sep='*' )\n",
    "print(\"One\", \"Two\",\"Two\", sep='' )"
   ]
  },
  {
   "cell_type": "code",
   "execution_count": 43,
   "metadata": {},
   "outputs": [
    {
     "name": "stdout",
     "output_type": "stream",
     "text": [
      "Help on built-in function print in module builtins:\n",
      "\n",
      "print(...)\n",
      "    print(value, ..., sep=' ', end='\\n', file=sys.stdout, flush=False)\n",
      "    \n",
      "    Prints the values to a stream, or to sys.stdout by default.\n",
      "    Optional keyword arguments:\n",
      "    file:  a file-like object (stream); defaults to the current sys.stdout.\n",
      "    sep:   string inserted between values, default a space.\n",
      "    end:   string appended after the last value, default a newline.\n",
      "    flush: whether to forcibly flush the stream.\n",
      "\n"
     ]
    }
   ],
   "source": [
    "help(print)"
   ]
  },
  {
   "cell_type": "raw",
   "metadata": {},
   "source": [
    "# Pythons escape characters\n",
    "# \\n == new line\n",
    "# \\t == tab\n",
    "# \\' == single quote\n",
    "# \\\" == double quote\n",
    "# \\\\ == backslash"
   ]
  },
  {
   "cell_type": "code",
   "execution_count": 53,
   "metadata": {},
   "outputs": [
    {
     "name": "stdout",
     "output_type": "stream",
     "text": [
      "One\n",
      "Two\n",
      "\n",
      "One\tTwo\n",
      "\n",
      "One'Two\n",
      "\n",
      "One\"Two\n",
      "\n",
      "One\\Two\n"
     ]
    }
   ],
   "source": [
    "print(\"One\\nTwo\")\n",
    "print()\n",
    "print(\"One\\tTwo\")\n",
    "print()\n",
    "print(\"One\\'Two\")\n",
    "print()\n",
    "print(\"One\\\"Two\")\n",
    "print()\n",
    "print(\"One\\\\Two\")"
   ]
  },
  {
   "cell_type": "raw",
   "metadata": {},
   "source": [
    "# String concatenation with + Operator"
   ]
  },
  {
   "cell_type": "code",
   "execution_count": 54,
   "metadata": {},
   "outputs": [
    {
     "name": "stdout",
     "output_type": "stream",
     "text": [
      "Your name is Ziaur Rahman\n"
     ]
    }
   ],
   "source": [
    "print(\"Your name is \" + \"Ziaur Rahman\")"
   ]
  },
  {
   "cell_type": "raw",
   "metadata": {},
   "source": [
    "# Formatting numbers\n",
    "# .2f is equivalent to 2dp\n",
    "# .3f is equivalent to 3dp\n",
    "\n",
    "ie X.nB  --> x = number digits in mantissa? n= #sig digits, B = type of formatting e.g. f = sig figures "
   ]
  },
  {
   "cell_type": "code",
   "execution_count": 59,
   "metadata": {},
   "outputs": [
    {
     "name": "stdout",
     "output_type": "stream",
     "text": [
      "Pi to 2 & 3 decimal places respectively are 3.15 and 3.148\n"
     ]
    }
   ],
   "source": [
    "pi = 3.14762736378463767236736\n",
    "print(f\"Pi to 2 & 3 decimal places respectively are {pi:.2f} and {pi:.3f}\" )"
   ]
  },
  {
   "cell_type": "markdown",
   "metadata": {},
   "source": [
    "## Formatting numbers for fixed width\n",
    "1. f-strings or Formatted String Literals"
   ]
  },
  {
   "cell_type": "code",
   "execution_count": 66,
   "metadata": {},
   "outputs": [
    {
     "name": "stdout",
     "output_type": "stream",
     "text": [
      "Value to 2 & 3 decimal places is 3147627363.78 and 3147627363.785\n"
     ]
    }
   ],
   "source": [
    "value = 3147627363.78463767236736\n",
    "\n",
    "print(f\"Value to 2 & 3 decimal places is {value:3.2f} and {value:3.3f}\")"
   ]
  },
  {
   "cell_type": "code",
   "execution_count": 68,
   "metadata": {},
   "outputs": [
    {
     "name": "stdout",
     "output_type": "stream",
     "text": [
      "You are  43 years old\n"
     ]
    }
   ],
   "source": [
    "value = 43\n",
    "print(f\"You are {value: d} years old\" )   # Decimals"
   ]
  },
  {
   "cell_type": "code",
   "execution_count": 72,
   "metadata": {},
   "outputs": [
    {
     "name": "stdout",
     "output_type": "stream",
     "text": [
      "Your name is Ziaur Rahman\n"
     ]
    }
   ],
   "source": [
    "name = \"Ziaur Rahman\"\n",
    "print(f'Your name is {name}')"
   ]
  },
  {
   "cell_type": "markdown",
   "metadata": {},
   "source": [
    "# Practice Section"
   ]
  },
  {
   "cell_type": "code",
   "execution_count": 73,
   "metadata": {},
   "outputs": [
    {
     "name": "stdout",
     "output_type": "stream",
     "text": [
      "Ziaur\tRahman\n",
      "54 Cradock Road\n",
      "Saltley\n",
      "Birmingham\n",
      "B8 1RY\n",
      "0121 - 327 - 3318 \t MSc Business Analytics\n"
     ]
    }
   ],
   "source": [
    "print(\"Ziaur\\tRahman\\n54 Cradock Road\\nSaltley\\nBirmingham\\nB8 1RY\")\n",
    "print(\"0121 - 327 - 3318 \\t MSc Business Analytics\")"
   ]
  },
  {
   "cell_type": "code",
   "execution_count": 74,
   "metadata": {},
   "outputs": [
    {
     "name": "stdout",
     "output_type": "stream",
     "text": [
      "Please enter the projected total sales 122\n",
      "Profit is 28.06\n"
     ]
    }
   ],
   "source": [
    "sales = 0\n",
    "profit = 0\n",
    "sales = float(input(\"Please enter the projected total sales \"))\n",
    "profit = sales * 0.23\n",
    "print(f\"Profit is {profit:.2f}\")"
   ]
  },
  {
   "cell_type": "code",
   "execution_count": 75,
   "metadata": {},
   "outputs": [
    {
     "name": "stdout",
     "output_type": "stream",
     "text": [
      "please enter the cost of item 1: 100\n",
      "please enter the cost of item 2: 200\n",
      "The subtotal is: £300.00 with a sales tax of £60.00. You owe in total £360.00\n"
     ]
    }
   ],
   "source": [
    "subtotal = 0\n",
    "sales_tax = 0\n",
    "item_one = float(input(\"please enter the cost of item 1: \"))\n",
    "item_two = float(input(\"please enter the cost of item 2: \"))\n",
    "subtotal = item_one + item_two\n",
    "sales_tax = 0.20 * subtotal\n",
    "grand_total = subtotal + sales_tax\n",
    "print(f\"The subtotal is: £{subtotal:.2f} with a sales tax of £{sales_tax:.2f}. You owe in total £{grand_total:.2f}\")"
   ]
  },
  {
   "cell_type": "code",
   "execution_count": 77,
   "metadata": {},
   "outputs": [
    {
     "name": "stdout",
     "output_type": "stream",
     "text": [
      "Joe paid £33527.40 inc. commission of £657.40\n",
      "Joe Sold for £32563.20 inc. commission of £1356.80\n",
      "Joe made profit of £964.20\n"
     ]
    }
   ],
   "source": [
    "number_shares_start = 1000\n",
    "shares_start_price = 32.87\n",
    "buy_commission_rate = 0.02\n",
    "buy_commission = 0\n",
    "buy_commission = (number_shares_start * shares_start_price) * buy_commission_rate\n",
    "joe_Bought = (number_shares_start * shares_start_price) + buy_commission\n",
    "\n",
    "number_shares_end = 1000\n",
    "shares_end_price = 33.92\n",
    "sell_commission_rate = 0.04\n",
    "sell_commission = 0\n",
    "sell_commission = (number_shares_end * shares_end_price) * sell_commission_rate\n",
    "joe_Sold = (number_shares_end*shares_end_price) - sell_commission\n",
    "profit = joe_Bought - joe_Sold\n",
    "print(f\"Joe paid £{joe_Bought:.2f} inc. commission of £{buy_commission:.2f}\")\n",
    "print(f\"Joe Sold for £{joe_Sold:.2f} inc. commission of £{sell_commission:.2f}\")\n",
    "print(f\"Joe made profit of £{profit:.2f}\")"
   ]
  },
  {
   "cell_type": "code",
   "execution_count": 79,
   "metadata": {},
   "outputs": [
    {
     "name": "stdout",
     "output_type": "stream",
     "text": [
      "One Two Three"
     ]
    }
   ],
   "source": [
    "print(\"One\",\"Two\",\"Three\", end=\"\")"
   ]
  },
  {
   "cell_type": "code",
   "execution_count": 81,
   "metadata": {},
   "outputs": [
    {
     "name": "stdout",
     "output_type": "stream",
     "text": [
      "OneTwoThree\n",
      "One---Two---Three\n",
      "One*Two*Three\n",
      "One\n",
      "Two\n",
      "Three\n",
      "This is a single string\n",
      "\n",
      "This is a single string on multiple lines\n"
     ]
    }
   ],
   "source": [
    "print(\"One\", \"Two\", \"Three\", sep=\"\")\n",
    "print(\"One\", \"Two\", \"Three\", sep=\"---\")\n",
    "print(\"One\", \"Two\", \"Three\", sep=\"*\")\n",
    "print(\"One\\nTwo\\nThree\")\n",
    "print(\"This is \" +\n",
    "     \"a single string\")\n",
    "print()\n",
    "print('This is '+ \\\n",
    "     'a single string' + \\\n",
    "     ' on multiple lines') ## multi-line code"
   ]
  },
  {
   "cell_type": "code",
   "execution_count": 85,
   "metadata": {},
   "outputs": [
    {
     "name": "stdout",
     "output_type": "stream",
     "text": [
      "12345.68\n",
      "12345.7\n",
      "1.23e+04\n",
      "1.234568e+04\n",
      "1,234,567,890.00\n"
     ]
    }
   ],
   "source": [
    "number = 12345.6789\n",
    "number2 = 1234567890\n",
    "print(format(number, '.2f')) # 2 decimal places type float\n",
    "print(format(number, '.1f')) # 1 decimal places type float\n",
    "print(format(number, '.2e')) # 2 deciaml places -scientififc notation\n",
    "print(format(number, 'e'))\n",
    "print(format(number2, ',.2f')) # uses comma instead of period"
   ]
  },
  {
   "cell_type": "code",
   "execution_count": 87,
   "metadata": {},
   "outputs": [],
   "source": [
    "#help('FORMATTING')"
   ]
  },
  {
   "cell_type": "code",
   "execution_count": 88,
   "metadata": {},
   "outputs": [
    {
     "name": "stdout",
     "output_type": "stream",
     "text": [
      "50.000000%\n",
      "50%\n"
     ]
    }
   ],
   "source": [
    "print(format(0.5, '%'))\n",
    "print(format(0.5, '.0%'))"
   ]
  },
  {
   "cell_type": "markdown",
   "metadata": {},
   "source": [
    "# Exercises"
   ]
  },
  {
   "cell_type": "raw",
   "metadata": {},
   "source": [
    "1. Distance traveled\n",
    "Assuming there are no accidents or delays, the distance that a car travels\n",
    "down the inter-state can be calculated with the following formula:\n",
    "\n",
    "Distance  = Speed * Time\n",
    "\n",
    "A car is traveling at 70 miles per hour. \n",
    "Write a program that displays the following:\n",
    "• The distance the car will travel in 6 hours\n",
    "• The distance the car will travel in 10 hours\n",
    "• The distance the car will travel in 15 hours"
   ]
  },
  {
   "cell_type": "code",
   "execution_count": 91,
   "metadata": {},
   "outputs": [
    {
     "name": "stdout",
     "output_type": "stream",
     "text": [
      "The distance travelled in  6.0 hours is 420.00 miles\n",
      "The distance travelled in  10.0 hours is 700.00 miles\n",
      "The distance travelled in  15.0 hours is 1050.00 miles\n"
     ]
    }
   ],
   "source": [
    "SPEED = 70.0\n",
    "\n",
    "def main():\n",
    "    #time = float(input(\"Please enter time travelled in hours: \"))\n",
    "    distanceTravelled(SPEED,6)\n",
    "    distanceTravelled(SPEED,10)\n",
    "    distanceTravelled(SPEED,15)\n",
    "    \n",
    "def distanceTravelled(speed,time):\n",
    "    distanceTravelled = speed * time\n",
    "    print(f\"The distance travelled in {time: .1f} hours is {distanceTravelled:.2f} miles\" )\n",
    "\n",
    "main()"
   ]
  },
  {
   "cell_type": "raw",
   "metadata": {},
   "source": [
    "2. Write a program that asks the user for the number of males and the number of females regis-\n",
    "tered in a class. \n",
    "The program should display the percentage of males and females in the class.\n",
    "Hint: Suppose there are 8 males and 12 females in a class. There are 20 students in the class."
   ]
  },
  {
   "cell_type": "code",
   "execution_count": 124,
   "metadata": {},
   "outputs": [
    {
     "name": "stdout",
     "output_type": "stream",
     "text": [
      "Enter number of males: 1\n",
      "Enter number of females: 2\n",
      "The total classs size is 3 and there are 33.33% males and  66.67% females\n"
     ]
    }
   ],
   "source": [
    "def main():\n",
    "    numberMales = int(input(\"Enter number of males: \"))\n",
    "    numberFemales = int(input(\"Enter number of females: \"))\n",
    "    totalClass = numberMales + numberFemales\n",
    "    percentMale = (numberMales/totalClass)*100\n",
    "    percentFemale = (numberFemales/totalClass)*100\n",
    "    print(f'The total classs size is {totalClass} and' ,\n",
    "          f'there are {percentMale:.2f}% males and' ,\n",
    "          f'{percentFemale: .2f}% females')\n",
    "\n",
    "main()\n"
   ]
  },
  {
   "cell_type": "raw",
   "metadata": {},
   "source": [
    "Ingredient Adjuster\n",
    "A cookie recipe calls for the following ingredients:\n",
    "•\t1.5\tcups of sugar \n",
    "•\t1 cup of\tbutter \n",
    "•\t2.75 cups of flour \n",
    "The recipe produces 48 cookies with this amount of the ingredients.\n",
    "Write a program that asks the user how many cookies he or she wants to make,\n",
    "and then displays the number of cups of each ingredient needed for the\n",
    "specified number of cookies."
   ]
  },
  {
   "cell_type": "code",
   "execution_count": 23,
   "metadata": {},
   "outputs": [
    {
     "name": "stdout",
     "output_type": "stream",
     "text": [
      "How many cookies do you wish to make? 12\n",
      "You will need 0.38 of Sugar\n",
      "You will need 0.25 of Butter\n",
      "You will need 0.69 of Flour\n"
     ]
    }
   ],
   "source": [
    "# Ingredient Adjuster Program\n",
    "def main():\n",
    "    quantityCookies = int(input('How many cookies do you wish to make? '))\n",
    "    multiplicationFactor = quantityCookies/48.0\n",
    "    \n",
    "    print(f'You will need {1.5*multiplicationFactor:.2f} of Sugar')\n",
    "    print(f'You will need {1*multiplicationFactor:.2f} of Butter')\n",
    "    print(f'You will need {2.75*multiplicationFactor:.2f} of Flour')\n",
    "    \n",
    "main()"
   ]
  },
  {
   "cell_type": "raw",
   "metadata": {},
   "source": [
    "Celsius to Fahrenheit temperature Converter\n",
    "Write a program that converts Celsius temperatures to Fahrenheit temperatures.\n",
    "The formula is as follows: F =(9/5)*C + 32.\n",
    "The program should ask the user to enter a temperature in Celsius,\n",
    "and then display the temperature converted to Fahrenheit."
   ]
  },
  {
   "cell_type": "code",
   "execution_count": null,
   "metadata": {},
   "outputs": [],
   "source": []
  }
 ],
 "metadata": {
  "kernelspec": {
   "display_name": "Python 3",
   "language": "python",
   "name": "python3"
  },
  "language_info": {
   "codemirror_mode": {
    "name": "ipython",
    "version": 3
   },
   "file_extension": ".py",
   "mimetype": "text/x-python",
   "name": "python",
   "nbconvert_exporter": "python",
   "pygments_lexer": "ipython3",
   "version": "3.7.3"
  }
 },
 "nbformat": 4,
 "nbformat_minor": 2
}
