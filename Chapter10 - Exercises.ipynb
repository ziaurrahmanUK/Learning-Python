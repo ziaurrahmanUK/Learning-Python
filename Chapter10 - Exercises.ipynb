{
 "cells": [
  {
   "cell_type": "raw",
   "metadata": {},
   "source": [
    "Exercises"
   ]
  },
  {
   "cell_type": "raw",
   "metadata": {},
   "source": [
    "Suppose my_car is the name of a variable that references an object, and go is the name\n",
    "of a method. Write a statement that uses the my_car variable to call the go method.\n",
    "(You do not have to pass any arguments to the go method.)"
   ]
  },
  {
   "cell_type": "code",
   "execution_count": null,
   "metadata": {},
   "outputs": [],
   "source": [
    "# my_car.go()"
   ]
  },
  {
   "cell_type": "raw",
   "metadata": {},
   "source": [
    "2. Write a class definition named Book. The Book class should have data attributes for a\n",
    "book’s title, the author’s name, and the publisher’s name. The class should also have the\n",
    "following:\n",
    "a. An _ _init_ _ method for the class. The method should accept an argument for each\n",
    "of the data attributes.\n",
    "b. Accessor and mutator methods for each data attribute.\n",
    "c. An _ _str_ _ method that returns a string indicating the state of the object."
   ]
  },
  {
   "cell_type": "code",
   "execution_count": null,
   "metadata": {},
   "outputs": [],
   "source": [
    "class Book:\n",
    "    def __init__(self, title, author, publisher):\n",
    "                    self.__title = title\n",
    "                    self.__author = author\n",
    "                    self.__publisher = publisher\n",
    "                    \n",
    "    def get_title(self, title):\n",
    "        return self.__title\n",
    "    \n",
    "    def get_author(self, author):\n",
    "        return self.__author\n",
    "    \n",
    "    def get_publisher(self, publisher):\n",
    "        return self.__publisher\n",
    "    \n",
    "    def set_title(self, title):\n",
    "        self.__title = title\n",
    "    \n",
    "    def set_author(self, author):\n",
    "        self.__author = author\n",
    "    \n",
    "    def set_publisher(self, publisher):\n",
    "        self.__publisher  = publisher\n",
    "    \n",
    "    def __str__(self):\n",
    "        return f('{self.__title} {self.__author} {self.__publisher}')\n"
   ]
  },
  {
   "cell_type": "raw",
   "metadata": {},
   "source": [
    "Look at the following description of a problem domain:\n",
    "\n",
    "The bank offers the following types of accounts to its customers: savings accounts,\n",
    "checking accounts, and money market accounts. Customers are allowed to deposit\n",
    "money into an account (thereby increasing its balance), withdraw money from an\n",
    "account (thereby decreasing its balance), and earn interest on the account. Each\n",
    "account has an interest rate.\n",
    "Assume that you are writing a program that will calculate the amount of interest earned\n",
    "for a bank account.\n",
    "a. Identify the potential classes in this problem domain.\n",
    "b. Refine the list to include only the necessary class or classes for this problem.\n",
    "c. Identify the responsibilities of the class or classes."
   ]
  },
  {
   "cell_type": "code",
   "execution_count": null,
   "metadata": {},
   "outputs": [],
   "source": [
    "class Accounts:\n",
    "    def __init__(self, balance, deposit, withdraw, interest):\n",
    "        self.__balance = balance\n",
    "        self.__deposit = deposit\n",
    "        self.__withdraw = withdraw\n",
    "        self.__interest = interest\n",
    "    \n",
    "    #def get_\n",
    "    #def set_\n",
    "    \n",
    "    def deposit(self, deposit):\n",
    "        self.__balance += deposit\n",
    "        return self.__balance\n",
    "    \n",
    "    def withdraw(self, withdraw):\n",
    "        self.__balance -= withdraw\n",
    "        return self.__balance\n",
    "    \n",
    "    def calculate_interest(self, interest):\n",
    "        self.__balance *= (1 + interest)\n",
    "    \n",
    "    def __str__(self):\n",
    "        return f'Your Balance is £{self.__balance: .2f}'\n",
    "    \n",
    "def main():\n",
    "    my_savings_account = Accounts(100, 0, 0, 0.05)\n",
    "    my_savings_account.deposit(200)\n",
    "    print(my_savings_account)   \n",
    "    \n",
    "    \n",
    "main()"
   ]
  },
  {
   "cell_type": "markdown",
   "metadata": {},
   "source": [
    "# Programming Exercises"
   ]
  },
  {
   "cell_type": "raw",
   "metadata": {},
   "source": [
    "1. Pet Class\n",
    "Write a class named Pet, which should have the following data attributes:-\n",
    "• _ _name (for the name of a pet)\n",
    "• _ _animal_type (for the type of animal that a pet is. Example values are ‘Dog’, ‘Cat’, and ‘Bird’)\n",
    "• _ _age (for the pet’s age)\n",
    "\n",
    "The Pet class should have an _ _init_ _ method that creates these attributes.\n",
    "It should also have the following methods:\n",
    "\n",
    "• set_name - This method assigns a value to the _ _name field.\n",
    "• set_animal_type - This method assigns a value to the _ _animal_type field.\n",
    "• set_age - This method assigns a value to the _ _age field.\n",
    "• get_name - This method returns the value of the _ _ name field.\n",
    "• get_animal_type - This method returns the value of the _ _animal_type field.\n",
    "• get_age - This method returns the value of the _ _age field.\n",
    "\n",
    "Once you have written the class, write a program that creates an object of the class and\n",
    "prompts the user to enter the name, type, and age of his or her pet. This data should be\n",
    "stored as the object’s attributes. Use the object’s accessor methods to retrieve the pet’s name,\n",
    "type, and age and display this data on the screen."
   ]
  },
  {
   "cell_type": "code",
   "execution_count": 15,
   "metadata": {},
   "outputs": [
    {
     "data": {
      "text/plain": [
       "\"def main():\\n    petname = input('animal name: ')\\n    pettype = input('animal type: ')\\n    petsage = (input('animal type: ')\\n    \\n    myPet = Pet()\\n    \\n    #print(f'Your pet is called {my_pet.get_name()}, it is of type {my_pet.get_animal_type()} and it is {my_pet.get_age()}  years old')\\n        \\nmain() \""
      ]
     },
     "execution_count": 15,
     "metadata": {},
     "output_type": "execute_result"
    }
   ],
   "source": [
    "class Pets:\n",
    "    def __init__(self, name, animal_type, age):\n",
    "        self.__name = name\n",
    "        self.__animal_type = animal_type\n",
    "        self.__age = age\n",
    "    \n",
    "    def set_name(self,name):\n",
    "        self.__name = name\n",
    "        \n",
    "    def set_animal_type(self, animal_type):\n",
    "        self.__animal_type = animal_type\n",
    "        \n",
    "    def set_age(self, age):\n",
    "        self.__age = age\n",
    "    \n",
    "    def get_name(self):\n",
    "        return self.__name\n",
    "    \n",
    "    def get_animal_type(self):\n",
    "        return self.__animal_type\n",
    "    \n",
    "    def get_age(self):\n",
    "        return self.__age\n",
    "\n",
    "    '''def __str__(self):\n",
    "        return f'Your pet is called {get_name()}' '''\n",
    "    \n",
    "'''def main():\n",
    "    petname = input('animal name: ')\n",
    "    pettype = input('animal type: ')\n",
    "    petsage = (input('animal type: ')\n",
    "    \n",
    "    myPet = Pet()\n",
    "    \n",
    "    #print(f'Your pet is called {my_pet.get_name()}, it is of type {my_pet.get_animal_type()} and it is {my_pet.get_age()}  years old')\n",
    "        \n",
    "main() '''"
   ]
  },
  {
   "cell_type": "code",
   "execution_count": 1,
   "metadata": {},
   "outputs": [
    {
     "data": {
      "text/plain": [
       "'class Pets:\\n    def __init__(self, name, animal_type, age):\\n        self.__name = name\\n        self.__animal_type = animal_type\\n        self.__age = age\\n    \\n    def set_name(self, name):\\n        self.__name = name\\n        \\n    def set_animal_type(self, animal_type):\\n        self.__animal_type = animal_type\\n        \\n    def set_age(self, age):\\n        self.__age = age\\n    \\n    def get_name(self):\\n        return self.__name\\n    \\n    def get_animal_type(self):\\n        return self.__animal_type\\n    \\n    def get_age(self):\\n        return self.__age\\n'"
      ]
     },
     "execution_count": 1,
     "metadata": {},
     "output_type": "execute_result"
    }
   ],
   "source": [
    "'''class Pets:\n",
    "    def __init__(self, name, animal_type, age):\n",
    "        self.__name = name\n",
    "        self.__animal_type = animal_type\n",
    "        self.__age = age\n",
    "    \n",
    "    def set_name(self, name):\n",
    "        self.__name = name\n",
    "        \n",
    "    def set_animal_type(self, animal_type):\n",
    "        self.__animal_type = animal_type\n",
    "        \n",
    "    def set_age(self, age):\n",
    "        self.__age = age\n",
    "    \n",
    "    def get_name(self):\n",
    "        return self.__name\n",
    "    \n",
    "    def get_animal_type(self):\n",
    "        return self.__animal_type\n",
    "    \n",
    "    def get_age(self):\n",
    "        return self.__age\n",
    "'''"
   ]
  },
  {
   "cell_type": "code",
   "execution_count": 33,
   "metadata": {},
   "outputs": [
    {
     "name": "stdout",
     "output_type": "stream",
     "text": [
      "Your pet is called Sally, it is of type Cat and it is 5 years old\n"
     ]
    }
   ],
   "source": [
    "import sys\n",
    "sys.path.append('./My Modules/')\n",
    "\n",
    "import pet\n",
    "def main():\n",
    "    my_pet = Pets('Sally', 'Cat', 5)\n",
    "    \n",
    "    print(f'Your pet is called {my_pet.get_name()}, it is of type {my_pet.get_animal_type()} and it is {my_pet.get_age()} years old')\n",
    "        \n",
    "main()"
   ]
  },
  {
   "cell_type": "raw",
   "metadata": {},
   "source": [
    "2. Car Class\n",
    "Write a class named Car that has the following data attributes:\n",
    "• _ _year_model (for the car’s year model)\n",
    "• _ _make (for the make of the car)\n",
    "• _ _speed (for the car’s current speed)\n",
    "The Car class should have an _ _init_ _ method that accepts the car’s year model and make\n",
    "as arguments. These values should be assigned to the object’s _ _year_model and _ _make\n",
    "data attributes. It should also assign 0 to the _ _speed data attribute.\n",
    "The class should also have the following methods:-\n",
    "\n",
    "• accelerate - The accelerate method should add 5 to the speed data attribute each time it is called.\n",
    "• brake - The brake method should subtract 5 from the speed data attribute each time it is called.\n",
    "• get_speed - The get_speed method should return the current speed.\n",
    "\n",
    "Next, design a program that creates a Car object and then calls the accelerate method\n",
    "five times. After each call to the accelerate method, get the current speed of the car and\n",
    "display it. Then call the brake method five times. After each call to the brake method, get\n",
    "the current speed of the car and display it."
   ]
  },
  {
   "cell_type": "code",
   "execution_count": 21,
   "metadata": {},
   "outputs": [
    {
     "name": "stdout",
     "output_type": "stream",
     "text": [
      "0\n",
      "5\n",
      "10\n",
      "15\n",
      "20\n",
      "25\n",
      "20\n",
      "15\n",
      "10\n",
      "5\n",
      "0\n"
     ]
    }
   ],
   "source": [
    "'''class Car:\n",
    "    def __init__(self, year_model, make):\n",
    "        self.__year_model = year_model\n",
    "        self.__make = make\n",
    "        self.__speed = 0\n",
    "    \n",
    "    def accelerate(self):\n",
    "        self.__speed += 5\n",
    "        return self.__speed\n",
    "    \n",
    "    def brake(self):\n",
    "        self.__speed -= 5\n",
    "        return self.__speed\n",
    "    def get_speed(self):\n",
    "        return self.__speed '''\n",
    "import sys\n",
    "sys.path.append('./My Modules/')\n",
    "\n",
    "import vehicles\n",
    "    \n",
    "def main():\n",
    "    my_car = vehicles.Car('2018', 'BMW')\n",
    "    print(my_car.get_speed())\n",
    "    \n",
    "    for i in range(1,6):\n",
    "        my_car.accelerate()\n",
    "        print(my_car.get_speed())\n",
    "    for j in range(1,6):\n",
    "        my_car.brake()\n",
    "        print(my_car.get_speed())\n",
    "    \n",
    "main()\n",
    "    \n",
    "    "
   ]
  },
  {
   "cell_type": "raw",
   "metadata": {},
   "source": [
    "3. Personal Information Class\n",
    "Design a class that holds the following personal data: name, address, age, and phone number.\n",
    "Write appropriate accessor and mutator methods. Also, write a program that creates\n",
    "three instances of the class. One instance should hold your information, and the other two\n",
    "should hold your friends’ or family members’ information."
   ]
  },
  {
   "cell_type": "code",
   "execution_count": 35,
   "metadata": {},
   "outputs": [
    {
     "data": {
      "text/plain": [
       "'class Personal:\\n    def __init__(self, name, address,  age,  phone):\\n        \\n        self.__name = name\\n        self.__address = address\\n        self.__age = age\\n        self.__phone = phone '"
      ]
     },
     "execution_count": 35,
     "metadata": {},
     "output_type": "execute_result"
    }
   ],
   "source": [
    "'''class Personal:\n",
    "    def __init__(self, name, address,  age,  phone):\n",
    "        \n",
    "        self.__name = name\n",
    "        self.__address = address\n",
    "        self.__age = age\n",
    "        self.__phone = phone '''\n"
   ]
  },
  {
   "cell_type": "code",
   "execution_count": 11,
   "metadata": {},
   "outputs": [
    {
     "ename": "AttributeError",
     "evalue": "'Personal' object has no attribute 'get_name'",
     "output_type": "error",
     "traceback": [
      "\u001b[1;31m---------------------------------------------------------------------------\u001b[0m",
      "\u001b[1;31mAttributeError\u001b[0m                            Traceback (most recent call last)",
      "\u001b[1;32m<ipython-input-11-f0a0f1356cdb>\u001b[0m in \u001b[0;36m<module>\u001b[1;34m\u001b[0m\n\u001b[0;32m      8\u001b[0m     \u001b[0mprint\u001b[0m\u001b[1;33m(\u001b[0m\u001b[1;34mf'{aPerson.get_name()}'\u001b[0m \u001b[1;33m)\u001b[0m\u001b[1;33m\u001b[0m\u001b[1;33m\u001b[0m\u001b[0m\n\u001b[0;32m      9\u001b[0m \u001b[1;33m\u001b[0m\u001b[0m\n\u001b[1;32m---> 10\u001b[1;33m \u001b[0mmain\u001b[0m\u001b[1;33m(\u001b[0m\u001b[1;33m)\u001b[0m\u001b[1;33m\u001b[0m\u001b[1;33m\u001b[0m\u001b[0m\n\u001b[0m",
      "\u001b[1;32m<ipython-input-11-f0a0f1356cdb>\u001b[0m in \u001b[0;36mmain\u001b[1;34m()\u001b[0m\n\u001b[0;32m      6\u001b[0m \u001b[1;32mdef\u001b[0m \u001b[0mmain\u001b[0m\u001b[1;33m(\u001b[0m\u001b[1;33m)\u001b[0m\u001b[1;33m:\u001b[0m\u001b[1;33m\u001b[0m\u001b[1;33m\u001b[0m\u001b[0m\n\u001b[0;32m      7\u001b[0m     \u001b[0maPerson\u001b[0m \u001b[1;33m=\u001b[0m \u001b[0mpersonal\u001b[0m\u001b[1;33m.\u001b[0m\u001b[0mPersonal\u001b[0m\u001b[1;33m(\u001b[0m\u001b[1;34m'Ziaur Rahman'\u001b[0m\u001b[1;33m,\u001b[0m\u001b[1;34m'B8 1RY'\u001b[0m\u001b[1;33m,\u001b[0m \u001b[1;34m'43'\u001b[0m\u001b[1;33m,\u001b[0m \u001b[1;34m'0121323318'\u001b[0m\u001b[1;33m)\u001b[0m\u001b[1;33m\u001b[0m\u001b[1;33m\u001b[0m\u001b[0m\n\u001b[1;32m----> 8\u001b[1;33m     \u001b[0mprint\u001b[0m\u001b[1;33m(\u001b[0m\u001b[1;34mf'{aPerson.get_name()}'\u001b[0m \u001b[1;33m)\u001b[0m\u001b[1;33m\u001b[0m\u001b[1;33m\u001b[0m\u001b[0m\n\u001b[0m\u001b[0;32m      9\u001b[0m \u001b[1;33m\u001b[0m\u001b[0m\n\u001b[0;32m     10\u001b[0m \u001b[0mmain\u001b[0m\u001b[1;33m(\u001b[0m\u001b[1;33m)\u001b[0m\u001b[1;33m\u001b[0m\u001b[1;33m\u001b[0m\u001b[0m\n",
      "\u001b[1;31mAttributeError\u001b[0m: 'Personal' object has no attribute 'get_name'"
     ]
    }
   ],
   "source": [
    "import sys\n",
    "sys.path.append('./My Modules/')\n",
    "\n",
    "import personal\n",
    "\n",
    "def main():\n",
    "    aPerson = personal.Personal('Ziaur Rahman','B8 1RY', '43', '0121323318')\n",
    "    print(f'{aPerson.get_name()}' )\n",
    "                              \n",
    "main()"
   ]
  },
  {
   "cell_type": "code",
   "execution_count": null,
   "metadata": {},
   "outputs": [],
   "source": []
  },
  {
   "cell_type": "code",
   "execution_count": null,
   "metadata": {},
   "outputs": [],
   "source": []
  }
 ],
 "metadata": {
  "kernelspec": {
   "display_name": "Python 3",
   "language": "python",
   "name": "python3"
  },
  "language_info": {
   "codemirror_mode": {
    "name": "ipython",
    "version": 3
   },
   "file_extension": ".py",
   "mimetype": "text/x-python",
   "name": "python",
   "nbconvert_exporter": "python",
   "pygments_lexer": "ipython3",
   "version": "3.7.3"
  }
 },
 "nbformat": 4,
 "nbformat_minor": 2
}
